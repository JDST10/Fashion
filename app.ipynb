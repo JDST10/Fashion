{
 "cells": [
  {
   "cell_type": "code",
   "execution_count": 1,
   "metadata": {},
   "outputs": [],
   "source": [
    "#import streamlit as st\n",
    "import pandas as pd"
   ]
  },
  {
   "cell_type": "code",
   "execution_count": 2,
   "metadata": {},
   "outputs": [],
   "source": [
    "from Features import world_constructions as WCf"
   ]
  },
  {
   "cell_type": "code",
   "execution_count": 3,
   "metadata": {},
   "outputs": [],
   "source": [
    "from Features import search_from_luxury_brands as Sf"
   ]
  },
  {
   "cell_type": "markdown",
   "metadata": {},
   "source": [
    "### Loading Postgress"
   ]
  },
  {
   "cell_type": "code",
   "execution_count": 4,
   "metadata": {},
   "outputs": [
    {
     "data": {
      "text/html": [
       "<div>\n",
       "<style scoped>\n",
       "    .dataframe tbody tr th:only-of-type {\n",
       "        vertical-align: middle;\n",
       "    }\n",
       "\n",
       "    .dataframe tbody tr th {\n",
       "        vertical-align: top;\n",
       "    }\n",
       "\n",
       "    .dataframe thead th {\n",
       "        text-align: right;\n",
       "    }\n",
       "</style>\n",
       "<table border=\"1\" class=\"dataframe\">\n",
       "  <thead>\n",
       "    <tr style=\"text-align: right;\">\n",
       "      <th></th>\n",
       "      <th>id</th>\n",
       "      <th>prod_id</th>\n",
       "      <th>Detail</th>\n",
       "      <th>Summary</th>\n",
       "      <th>Brand</th>\n",
       "      <th>Price</th>\n",
       "      <th>base64</th>\n",
       "    </tr>\n",
       "  </thead>\n",
       "  <tbody>\n",
       "    <tr>\n",
       "      <th>0</th>\n",
       "      <td>161</td>\n",
       "      <td>1</td>\n",
       "      <td>Type: Shirt /      Fit: Regular fit /    ...</td>\n",
       "      <td>The item is a Gucci silk shirt featuring an op...</td>\n",
       "      <td>Gucci</td>\n",
       "      <td>1500.0</td>\n",
       "      <td>[data:image/jpeg;base64, /9j/4AAQSkZJRgABAQAAA...</td>\n",
       "    </tr>\n",
       "    <tr>\n",
       "      <th>1</th>\n",
       "      <td>162</td>\n",
       "      <td>2</td>\n",
       "      <td>Type: Shirt   /  Fit: Regular fit   /  Sleeve...</td>\n",
       "      <td>The Gucci cotton Oxford GG shirt with an optic...</td>\n",
       "      <td>Gucci</td>\n",
       "      <td>650.0</td>\n",
       "      <td>[data:image/jpeg;base64, /9j/4AAQSkZJRgABAQAAA...</td>\n",
       "    </tr>\n",
       "  </tbody>\n",
       "</table>\n",
       "</div>"
      ],
      "text/plain": [
       "    id  prod_id                                             Detail  \\\n",
       "0  161        1       Type: Shirt /      Fit: Regular fit /    ...   \n",
       "1  162        2   Type: Shirt   /  Fit: Regular fit   /  Sleeve...   \n",
       "\n",
       "                                             Summary  Brand   Price  \\\n",
       "0  The item is a Gucci silk shirt featuring an op...  Gucci  1500.0   \n",
       "1  The Gucci cotton Oxford GG shirt with an optic...  Gucci   650.0   \n",
       "\n",
       "                                              base64  \n",
       "0  [data:image/jpeg;base64, /9j/4AAQSkZJRgABAQAAA...  \n",
       "1  [data:image/jpeg;base64, /9j/4AAQSkZJRgABAQAAA...  "
      ]
     },
     "execution_count": 4,
     "metadata": {},
     "output_type": "execute_result"
    }
   ],
   "source": [
    "df = WCf.world_construction.init_luxury_gallery()\n",
    "df.head(2)"
   ]
  },
  {
   "cell_type": "code",
   "execution_count": 5,
   "metadata": {},
   "outputs": [],
   "source": [
    "description = df.iloc[0].Summary"
   ]
  },
  {
   "cell_type": "code",
   "execution_count": 6,
   "metadata": {},
   "outputs": [
    {
     "data": {
      "text/plain": [
       "'The item is a Gucci silk shirt featuring an optical GG monogram print. It is designed with a regular fit and features long sleeves with buttoned cuffs. The neckline is a classic pointed collar, adding a touch of formality. The material used is high-quality silk, which gives the shirt a luxurious feel and fluid drape, suitable for all seasons due to its breathability and lightweight nature. The primary colors used are a deep lavender (5467) and white, which are intricately interwoven to create a striking visual effect. The pattern placement is consistent throughout the shirt, ensuring a cohesive look. The texture is smooth and slightly glossy, typical of silk fabric, with no transparency, making it appropriate for both formal and semi-formal occasions. There are no pockets, embellishments, or lapels, which maintains a sleek and streamlined silhouette. The shirt’s length is standard, typically falling just below the waistline, and it is finished with concealed buttons for a minimalist aesthetic.'"
      ]
     },
     "execution_count": 6,
     "metadata": {},
     "output_type": "execute_result"
    }
   ],
   "source": [
    "description"
   ]
  },
  {
   "cell_type": "code",
   "execution_count": 7,
   "metadata": {},
   "outputs": [
    {
     "data": {
      "text/html": [
       "<div>\n",
       "<style scoped>\n",
       "    .dataframe tbody tr th:only-of-type {\n",
       "        vertical-align: middle;\n",
       "    }\n",
       "\n",
       "    .dataframe tbody tr th {\n",
       "        vertical-align: top;\n",
       "    }\n",
       "\n",
       "    .dataframe thead th {\n",
       "        text-align: right;\n",
       "    }\n",
       "</style>\n",
       "<table border=\"1\" class=\"dataframe\">\n",
       "  <thead>\n",
       "    <tr style=\"text-align: right;\">\n",
       "      <th></th>\n",
       "      <th>id</th>\n",
       "      <th>Brand_id</th>\n",
       "      <th>Detail</th>\n",
       "      <th>Summary</th>\n",
       "      <th>Brand</th>\n",
       "      <th>Price</th>\n",
       "    </tr>\n",
       "  </thead>\n",
       "  <tbody>\n",
       "    <tr>\n",
       "      <th>0</th>\n",
       "      <td>174</td>\n",
       "      <td>14</td>\n",
       "      <td>Type: Shirt   /  Fit: Regular fit   /  Sleeve...</td>\n",
       "      <td>The shirt in the images is a contemporary, cas...</td>\n",
       "      <td>HM</td>\n",
       "      <td>9.99</td>\n",
       "    </tr>\n",
       "    <tr>\n",
       "      <th>1</th>\n",
       "      <td>175</td>\n",
       "      <td>15</td>\n",
       "      <td>Type: Shirt   /  Fit: Regular fit   /  Sleeve...</td>\n",
       "      <td>The shirt featured in the images is a casual, ...</td>\n",
       "      <td>HM</td>\n",
       "      <td>9.99</td>\n",
       "    </tr>\n",
       "    <tr>\n",
       "      <th>2</th>\n",
       "      <td>176</td>\n",
       "      <td>16</td>\n",
       "      <td>Type: Shirt   /  Fit: Regular fit   /  Sleeve...</td>\n",
       "      <td>The shirt depicted in the images is a casual y...</td>\n",
       "      <td>HM</td>\n",
       "      <td>9.99</td>\n",
       "    </tr>\n",
       "    <tr>\n",
       "      <th>3</th>\n",
       "      <td>177</td>\n",
       "      <td>17</td>\n",
       "      <td>Type: Top, Blouse /  Fit: Regular fit /  Slee...</td>\n",
       "      <td>The garment depicted in the images is a women'...</td>\n",
       "      <td>HM</td>\n",
       "      <td>9.99</td>\n",
       "    </tr>\n",
       "    <tr>\n",
       "      <th>4</th>\n",
       "      <td>178</td>\n",
       "      <td>18</td>\n",
       "      <td>Type: Long-sleeve top /  Fit: Regular fit /  ...</td>\n",
       "      <td>The garment is a casual women's long-sleeve sh...</td>\n",
       "      <td>HM</td>\n",
       "      <td>9.99</td>\n",
       "    </tr>\n",
       "  </tbody>\n",
       "</table>\n",
       "</div>"
      ],
      "text/plain": [
       "    id  Brand_id                                             Detail  \\\n",
       "0  174        14   Type: Shirt   /  Fit: Regular fit   /  Sleeve...   \n",
       "1  175        15   Type: Shirt   /  Fit: Regular fit   /  Sleeve...   \n",
       "2  176        16   Type: Shirt   /  Fit: Regular fit   /  Sleeve...   \n",
       "3  177        17   Type: Top, Blouse /  Fit: Regular fit /  Slee...   \n",
       "4  178        18   Type: Long-sleeve top /  Fit: Regular fit /  ...   \n",
       "\n",
       "                                             Summary Brand  Price  \n",
       "0  The shirt in the images is a contemporary, cas...    HM   9.99  \n",
       "1  The shirt featured in the images is a casual, ...    HM   9.99  \n",
       "2  The shirt depicted in the images is a casual y...    HM   9.99  \n",
       "3  The garment depicted in the images is a women'...    HM   9.99  \n",
       "4  The garment is a casual women's long-sleeve sh...    HM   9.99  "
      ]
     },
     "execution_count": 7,
     "metadata": {},
     "output_type": "execute_result"
    }
   ],
   "source": [
    "df_retail = WCf.world_construction.init_retail_gallery()\n",
    "df_retail.head()"
   ]
  },
  {
   "cell_type": "code",
   "execution_count": 8,
   "metadata": {},
   "outputs": [],
   "source": [
    "df_retail"
   ]
  },
  {
   "cell_type": "markdown",
   "metadata": {},
   "source": [
    "### Loading Chroma"
   ]
  },
  {
   "cell_type": "code",
   "execution_count": 8,
   "metadata": {},
   "outputs": [
    {
     "name": "stderr",
     "output_type": "stream",
     "text": [
      "c:\\Users\\juand\\anaconda3\\Lib\\site-packages\\langchain_core\\_api\\deprecation.py:139: LangChainDeprecationWarning: The class `HuggingFaceEmbeddings` was deprecated in LangChain 0.2.2 and will be removed in 0.3.0. An updated version of the class exists in the langchain-huggingface package and should be used instead. To use it run `pip install -U langchain-huggingface` and import as `from langchain_huggingface import HuggingFaceEmbeddings`.\n",
      "  warn_deprecated(\n",
      "c:\\Users\\juand\\anaconda3\\Lib\\site-packages\\sentence_transformers\\cross_encoder\\CrossEncoder.py:11: TqdmExperimentalWarning: Using `tqdm.autonotebook.tqdm` in notebook mode. Use `tqdm.tqdm` instead to force console mode (e.g. in jupyter console)\n",
      "  from tqdm.autonotebook import tqdm, trange\n",
      "c:\\Users\\juand\\anaconda3\\Lib\\site-packages\\transformers\\utils\\generic.py:482: UserWarning: torch.utils._pytree._register_pytree_node is deprecated. Please use torch.utils._pytree.register_pytree_node instead.\n",
      "  _torch_pytree._register_pytree_node(\n",
      "c:\\Users\\juand\\anaconda3\\Lib\\site-packages\\transformers\\utils\\generic.py:339: UserWarning: torch.utils._pytree._register_pytree_node is deprecated. Please use torch.utils._pytree.register_pytree_node instead.\n",
      "  _torch_pytree._register_pytree_node(\n"
     ]
    }
   ],
   "source": [
    "vectorestore = WCf.world_construction.init_chroma_db()"
   ]
  },
  {
   "cell_type": "code",
   "execution_count": 9,
   "metadata": {},
   "outputs": [],
   "source": [
    "query = \"Summer\"\n",
    "docs = vectorestore.similarity_search(query)"
   ]
  },
  {
   "cell_type": "code",
   "execution_count": 10,
   "metadata": {},
   "outputs": [
    {
     "data": {
      "text/plain": [
       "'The garment in the images is a crochet top made from a cotton-blend fabric, showcasing a relaxed and breathable fit suitable for warm seasons such as spring and summer. It features a sleeveless design with wide straps and a round neckline, providing a casual and comfortable aesthetic. The top has a distinct crochet texture that adds a touch of bohemian charm and handcrafted appeal. The material appears to have medium weight, offering moderate fluidity and drape, enhancing its laid-back, breezy style. It comes in a solid, warm beige color, which is versatile and neutral, making it easy to pair with various outfits. The transparency of the crochet pattern adds a subtle, airy feel, perfect for hot weather while still maintaining coverage. There are no visible pockets, lapels, or embellishments, keeping the design simple and unembellished. This top is ideal for casual, daytime occasions, such as beach outings, picnics, or casual meet-ups.'"
      ]
     },
     "execution_count": 10,
     "metadata": {},
     "output_type": "execute_result"
    }
   ],
   "source": [
    "docs[0].page_content"
   ]
  },
  {
   "cell_type": "markdown",
   "metadata": {},
   "source": [
    "## Feature 1: Find similar pieces from luxury brands in retail brands "
   ]
  },
  {
   "cell_type": "code",
   "execution_count": 11,
   "metadata": {},
   "outputs": [],
   "source": [
    "entity = Sf.seacrh_from_luxury_brands(description=description, vectorstore=vectorestore)"
   ]
  },
  {
   "cell_type": "code",
   "execution_count": 12,
   "metadata": {},
   "outputs": [],
   "source": [
    "answer = entity.search_similarity_from_description()"
   ]
  },
  {
   "cell_type": "markdown",
   "metadata": {},
   "source": [
    "### Organize in daframe for display"
   ]
  },
  {
   "cell_type": "code",
   "execution_count": 15,
   "metadata": {},
   "outputs": [
    {
     "data": {
      "text/plain": [
       "\"I'm sorry, I couldn't find a match for the specific silk shirt with an optical monogram print as described.\""
      ]
     },
     "execution_count": 15,
     "metadata": {},
     "output_type": "execute_result"
    }
   ],
   "source": [
    "answer['answer']"
   ]
  },
  {
   "cell_type": "code",
   "execution_count": 16,
   "metadata": {},
   "outputs": [
    {
     "data": {
      "text/plain": [
       "\"This shirt is a straight-fit, long-sleeve top made from 100% linen, ensuring breathability and comfort, making it ideal for warmer seasons like spring and summer. The shirt features a classic shirt collar and a button-down front, contributing to its versatile and semi-formal style. The neckline is a standard collar style, and the sleeves are long with buttoned cuffs, allowing for a tailored look. The material is lightweight and has a natural, slightly textured finish typical of linen, enhancing its casual yet polished appearance. The shirt is primarily a soft, muted beige (often referred to as ecru), which gives it a neutral and sophisticated look, suitable for various occasions including casual outings and semi-formal events. There are no visible pockets, embellishments, or patterns, emphasizing a clean and minimalist design. The fabric's fluidity is moderate, providing structure while still allowing ease of movement. Overall, this shirt is a versatile and stylish piece that can be dressed up or down depending on the occasion.\""
      ]
     },
     "execution_count": 16,
     "metadata": {},
     "output_type": "execute_result"
    }
   ],
   "source": [
    "answer['context'][0].page_content"
   ]
  },
  {
   "cell_type": "code",
   "execution_count": 17,
   "metadata": {},
   "outputs": [
    {
     "data": {
      "text/plain": [
       "'38'"
      ]
     },
     "execution_count": 17,
     "metadata": {},
     "output_type": "execute_result"
    }
   ],
   "source": [
    "answer['context'][0].metadata['doc_id']"
   ]
  },
  {
   "cell_type": "code",
   "execution_count": 18,
   "metadata": {},
   "outputs": [
    {
     "data": {
      "text/plain": [
       "5"
      ]
     },
     "execution_count": 18,
     "metadata": {},
     "output_type": "execute_result"
    }
   ],
   "source": [
    "len(answer['context'])"
   ]
  },
  {
   "cell_type": "code",
   "execution_count": 19,
   "metadata": {},
   "outputs": [],
   "source": [
    "def organize_data(answer):\n",
    "\n",
    "    page_content = []\n",
    "    metadata_1 = []\n",
    "    metadata_2 = []\n",
    "    doc_id =[]\n",
    "\n",
    "\n",
    "    for i in range(0,4):\n",
    "\n",
    "        doc_id.append(answer['context'][i].metadata['doc_id'])\n",
    "        page_content.append(answer['context'][i].page_content)\n",
    "        metadata_1.append(answer['context'][i].metadata['img_1'])\n",
    "        metadata_2.append(answer['context'][i].metadata['img_2'])\n",
    "\n",
    "    df_init = pd.DataFrame([doc_id,page_content,metadata_1,metadata_2]).T\n",
    "\n",
    "    df_init = pd.DataFrame(df_init)\n",
    "\n",
    "    df_init.rename(columns={0:\"Id\",1:\"Summary\",2:\"Img_1\",3:\"Img_2\"},inplace=True)\n",
    "\n",
    "\n",
    "    return df_init\n",
    "\n",
    "    "
   ]
  },
  {
   "cell_type": "code",
   "execution_count": 20,
   "metadata": {},
   "outputs": [
    {
     "data": {
      "text/html": [
       "<div>\n",
       "<style scoped>\n",
       "    .dataframe tbody tr th:only-of-type {\n",
       "        vertical-align: middle;\n",
       "    }\n",
       "\n",
       "    .dataframe tbody tr th {\n",
       "        vertical-align: top;\n",
       "    }\n",
       "\n",
       "    .dataframe thead th {\n",
       "        text-align: right;\n",
       "    }\n",
       "</style>\n",
       "<table border=\"1\" class=\"dataframe\">\n",
       "  <thead>\n",
       "    <tr style=\"text-align: right;\">\n",
       "      <th></th>\n",
       "      <th>Id</th>\n",
       "      <th>Summary</th>\n",
       "      <th>Img_1</th>\n",
       "      <th>Img_2</th>\n",
       "    </tr>\n",
       "  </thead>\n",
       "  <tbody>\n",
       "    <tr>\n",
       "      <th>0</th>\n",
       "      <td>38</td>\n",
       "      <td>This shirt is a straight-fit, long-sleeve top ...</td>\n",
       "      <td>data:image/jpeg;base64, /9j/4AAQSkZJRgABAQAAAQ...</td>\n",
       "      <td>data:image/jpeg;base64, /9j/4AAQSkZJRgABAQAAAQ...</td>\n",
       "    </tr>\n",
       "    <tr>\n",
       "      <th>1</th>\n",
       "      <td>36</td>\n",
       "      <td>The item is a women's casual shirt with a rela...</td>\n",
       "      <td>data:image/jpeg;base64, /9j/4AAQSkZJRgABAQAAAQ...</td>\n",
       "      <td>data:image/jpeg;base64, /9j/4AAQSkZJRgABAQAAAQ...</td>\n",
       "    </tr>\n",
       "    <tr>\n",
       "      <th>2</th>\n",
       "      <td>20</td>\n",
       "      <td>The shirt depicted in the images is a casual, ...</td>\n",
       "      <td>data:image/jpeg;base64, /9j/4AAQSkZJRgABAQAAAQ...</td>\n",
       "      <td>data:image/jpeg;base64, /9j/4AAQSkZJRgABAQAAAQ...</td>\n",
       "    </tr>\n",
       "    <tr>\n",
       "      <th>3</th>\n",
       "      <td>27</td>\n",
       "      <td>The shirt depicted in the images is a casual, ...</td>\n",
       "      <td>data:image/jpeg;base64, /9j/4AAQSkZJRgABAQAAAQ...</td>\n",
       "      <td>data:image/jpeg;base64, /9j/4AAQSkZJRgABAQAAAQ...</td>\n",
       "    </tr>\n",
       "  </tbody>\n",
       "</table>\n",
       "</div>"
      ],
      "text/plain": [
       "   Id                                            Summary  \\\n",
       "0  38  This shirt is a straight-fit, long-sleeve top ...   \n",
       "1  36  The item is a women's casual shirt with a rela...   \n",
       "2  20  The shirt depicted in the images is a casual, ...   \n",
       "3  27  The shirt depicted in the images is a casual, ...   \n",
       "\n",
       "                                               Img_1  \\\n",
       "0  data:image/jpeg;base64, /9j/4AAQSkZJRgABAQAAAQ...   \n",
       "1  data:image/jpeg;base64, /9j/4AAQSkZJRgABAQAAAQ...   \n",
       "2  data:image/jpeg;base64, /9j/4AAQSkZJRgABAQAAAQ...   \n",
       "3  data:image/jpeg;base64, /9j/4AAQSkZJRgABAQAAAQ...   \n",
       "\n",
       "                                               Img_2  \n",
       "0  data:image/jpeg;base64, /9j/4AAQSkZJRgABAQAAAQ...  \n",
       "1  data:image/jpeg;base64, /9j/4AAQSkZJRgABAQAAAQ...  \n",
       "2  data:image/jpeg;base64, /9j/4AAQSkZJRgABAQAAAQ...  \n",
       "3  data:image/jpeg;base64, /9j/4AAQSkZJRgABAQAAAQ...  "
      ]
     },
     "execution_count": 20,
     "metadata": {},
     "output_type": "execute_result"
    }
   ],
   "source": [
    "df_recommendations = organize_data(answer=answer)\n",
    "df_recommendations"
   ]
  },
  {
   "cell_type": "code",
   "execution_count": 21,
   "metadata": {},
   "outputs": [
    {
     "name": "stdout",
     "output_type": "stream",
     "text": [
      "38\n",
      "36\n",
      "20\n",
      "27\n"
     ]
    }
   ],
   "source": [
    "for index, row in df_recommendations.iterrows():\n",
    "    print(row['Id'])"
   ]
  },
  {
   "cell_type": "markdown",
   "metadata": {},
   "source": [
    "## Feature 2: Find pieces from user prompt description ( Text prompt to suggestions)"
   ]
  },
  {
   "cell_type": "code",
   "execution_count": null,
   "metadata": {},
   "outputs": [],
   "source": []
  },
  {
   "cell_type": "code",
   "execution_count": null,
   "metadata": {},
   "outputs": [],
   "source": []
  },
  {
   "cell_type": "markdown",
   "metadata": {},
   "source": [
    "### Feature 3: Find pieces similar to user provided piece ( Image to suggestions)"
   ]
  },
  {
   "cell_type": "code",
   "execution_count": null,
   "metadata": {},
   "outputs": [],
   "source": []
  }
 ],
 "metadata": {
  "kernelspec": {
   "display_name": "Python 3",
   "language": "python",
   "name": "python3"
  },
  "language_info": {
   "codemirror_mode": {
    "name": "ipython",
    "version": 3
   },
   "file_extension": ".py",
   "mimetype": "text/x-python",
   "name": "python",
   "nbconvert_exporter": "python",
   "pygments_lexer": "ipython3",
   "version": "3.11.8"
  }
 },
 "nbformat": 4,
 "nbformat_minor": 2
}
