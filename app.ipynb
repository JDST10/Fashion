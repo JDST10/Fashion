{
 "cells": [
  {
   "cell_type": "code",
   "execution_count": 1,
   "metadata": {},
   "outputs": [],
   "source": [
    "import streamlit as st\n",
    "import pandas as pd"
   ]
  },
  {
   "cell_type": "code",
   "execution_count": 2,
   "metadata": {},
   "outputs": [],
   "source": [
    "from Features import world_constructions as WCf"
   ]
  },
  {
   "cell_type": "code",
   "execution_count": 3,
   "metadata": {},
   "outputs": [],
   "source": [
    "from Features import search_from_luxury_brands as Sf"
   ]
  },
  {
   "cell_type": "markdown",
   "metadata": {},
   "source": [
    "### Loading data"
   ]
  },
  {
   "cell_type": "code",
   "execution_count": 4,
   "metadata": {},
   "outputs": [],
   "source": [
    "df = WCf.world_construction.init_luxury_gallery()"
   ]
  },
  {
   "cell_type": "code",
   "execution_count": 5,
   "metadata": {},
   "outputs": [
    {
     "name": "stderr",
     "output_type": "stream",
     "text": [
      "c:\\Users\\juand\\anaconda3\\Lib\\site-packages\\langchain_core\\_api\\deprecation.py:139: LangChainDeprecationWarning: The class `HuggingFaceEmbeddings` was deprecated in LangChain 0.2.2 and will be removed in 0.3.0. An updated version of the class exists in the langchain-huggingface package and should be used instead. To use it run `pip install -U langchain-huggingface` and import as `from langchain_huggingface import HuggingFaceEmbeddings`.\n",
      "  warn_deprecated(\n",
      "c:\\Users\\juand\\anaconda3\\Lib\\site-packages\\sentence_transformers\\cross_encoder\\CrossEncoder.py:11: TqdmExperimentalWarning: Using `tqdm.autonotebook.tqdm` in notebook mode. Use `tqdm.tqdm` instead to force console mode (e.g. in jupyter console)\n",
      "  from tqdm.autonotebook import tqdm, trange\n",
      "c:\\Users\\juand\\anaconda3\\Lib\\site-packages\\transformers\\utils\\generic.py:482: UserWarning: torch.utils._pytree._register_pytree_node is deprecated. Please use torch.utils._pytree.register_pytree_node instead.\n",
      "  _torch_pytree._register_pytree_node(\n",
      "c:\\Users\\juand\\anaconda3\\Lib\\site-packages\\transformers\\utils\\generic.py:339: UserWarning: torch.utils._pytree._register_pytree_node is deprecated. Please use torch.utils._pytree.register_pytree_node instead.\n",
      "  _torch_pytree._register_pytree_node(\n"
     ]
    }
   ],
   "source": [
    "vectorestore = WCf.world_construction.init_chroma_db()"
   ]
  },
  {
   "cell_type": "code",
   "execution_count": 6,
   "metadata": {},
   "outputs": [],
   "source": [
    "description = df.iloc[0].Summary"
   ]
  },
  {
   "cell_type": "code",
   "execution_count": 7,
   "metadata": {},
   "outputs": [
    {
     "data": {
      "text/plain": [
       "'The item is a Gucci silk shirt featuring an optical GG monogram print. It is designed with a regular fit and features long sleeves with buttoned cuffs. The neckline is a classic pointed collar, adding a touch of formality. The material used is high-quality silk, which gives the shirt a luxurious feel and fluid drape, suitable for all seasons due to its breathability and lightweight nature. The primary colors used are a deep lavender (5467) and white, which are intricately interwoven to create a striking visual effect. The pattern placement is consistent throughout the shirt, ensuring a cohesive look. The texture is smooth and slightly glossy, typical of silk fabric, with no transparency, making it appropriate for both formal and semi-formal occasions. There are no pockets, embellishments, or lapels, which maintains a sleek and streamlined silhouette. The shirt’s length is standard, typically falling just below the waistline, and it is finished with concealed buttons for a minimalist aesthetic.'"
      ]
     },
     "execution_count": 7,
     "metadata": {},
     "output_type": "execute_result"
    }
   ],
   "source": [
    "description"
   ]
  },
  {
   "cell_type": "markdown",
   "metadata": {},
   "source": [
    "### Feature 1: Find similar pieces from luxury brands in retail brands "
   ]
  },
  {
   "cell_type": "code",
   "execution_count": 8,
   "metadata": {},
   "outputs": [],
   "source": [
    "entity = Sf.seacrh_from_luxury_brands(description=description, vectorstore=vectorestore)"
   ]
  },
  {
   "cell_type": "code",
   "execution_count": 9,
   "metadata": {},
   "outputs": [],
   "source": [
    "answer = entity.search_similarity_from_description()"
   ]
  },
  {
   "cell_type": "code",
   "execution_count": 10,
   "metadata": {},
   "outputs": [
    {
     "data": {
      "text/plain": [
       "\"Based on the description provided, here are the best options that closely match the elegant silk shirt with an optical monogram print:\\n\\n1. **Option 1:** The item is a Gucci silk shirt featuring an optical GG monogram print. It is designed with a regular fit and features long sleeves with buttoned cuffs. The neckline is a classic pointed collar, adding a touch of formality. The material used is high-quality silk, which gives the shirt a luxurious feel and fluid drape, suitable for all seasons due to its breathability and lightweight nature. The primary colors used are a deep lavender (5467) and white, which are intricately interwoven to create a striking visual effect. The pattern placement is consistent throughout the shirt, ensuring a cohesive look. The texture is smooth and slightly glossy, typical of silk fabric, with no transparency, making it appropriate for both formal and semi-formal occasions. There are no pockets, embellishments, or lapels, which maintains a sleek and streamlined silhouette. The shirt’s length is standard, typically falling just below the waistline, and it is finished with concealed buttons for a minimalist aesthetic.\\n\\n2. **Option 4:** The refined silk twill shirt from Prada showcases a sophisticated and elegant design, ideal for both formal and semi-formal occasions. It features a relaxed fit with long sleeves that culminate in buttoned cuffs, and a classic pointed collar that adds a touch of timeless style. Made from high-quality silk twill, the fabric is smooth, lightweight, and exhibits a fluid drape, ensuring comfort and breathability, making it suitable for all seasons. The shirt is primarily a rich caramel brown (F0594), adorned with an intricate geometric pattern in contrasting white, giving it a luxurious texture and visual interest. This pattern is evenly distributed across the entire shirt, adding to its refined appearance. The shirt's hem falls at the hip, providing a standard length that can be easily tucked into trousers or left out for a more relaxed look. It does not feature any pockets or additional embellishments, keeping the design clean and sophisticated.\\n\\n3. **Option 5:** The showcased shirt by Prada is a refined silk twill piece, exuding a sense of luxury and elegance. It features a relaxed fit with long sleeves and a classic pointed collar, adding a touch of sophistication. The neckline is a traditional button-down style, which enhances its formal appeal, making it suitable for business or upscale casual occasions. The primary material is high-quality silk, known for its smooth texture and fluidity, offering a lightweight and breathable feel, ideal for multi-season wear. The shirt displays a vibrant pattern composed of intricate geometric shapes in various shades of blue, including navy and sky blue, contrasted by white accents, creating a visually striking effect. The fabric has a subtle sheen, typical of silk, and is opaque, ensuring full coverage. There are no visible pockets, maintaining a sleek and streamlined silhouette. The shirt's length is standard, falling just below the hips, and it does not feature any lapels. The overall design is minimalist yet chic, with the rich texture and pattern placement lending it a timeless and versatile quality.\""
      ]
     },
     "execution_count": 10,
     "metadata": {},
     "output_type": "execute_result"
    }
   ],
   "source": [
    "answer['answer']"
   ]
  },
  {
   "cell_type": "markdown",
   "metadata": {},
   "source": [
    "### Feature 2: Find pieces from user prompt description ( Text prompt to suggestions)"
   ]
  },
  {
   "cell_type": "code",
   "execution_count": 15,
   "metadata": {},
   "outputs": [],
   "source": []
  },
  {
   "cell_type": "code",
   "execution_count": null,
   "metadata": {},
   "outputs": [],
   "source": []
  },
  {
   "cell_type": "markdown",
   "metadata": {},
   "source": [
    "### Feature 3: Find pieces similar to user provided piece ( Image to suggestions)"
   ]
  },
  {
   "cell_type": "markdown",
   "metadata": {},
   "source": []
  }
 ],
 "metadata": {
  "kernelspec": {
   "display_name": "Python 3",
   "language": "python",
   "name": "python3"
  },
  "language_info": {
   "codemirror_mode": {
    "name": "ipython",
    "version": 3
   },
   "file_extension": ".py",
   "mimetype": "text/x-python",
   "name": "python",
   "nbconvert_exporter": "python",
   "pygments_lexer": "ipython3",
   "version": "3.11.8"
  }
 },
 "nbformat": 4,
 "nbformat_minor": 2
}
