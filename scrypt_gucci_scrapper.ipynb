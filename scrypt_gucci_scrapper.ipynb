{
 "cells": [
  {
   "cell_type": "markdown",
   "metadata": {},
   "source": [
    "## define functions\n",
    "\n",
    "- contains requered number -> ensure only specific images are pull\n",
    "- get image -> "
   ]
  },
  {
   "cell_type": "code",
   "execution_count": 16,
   "metadata": {},
   "outputs": [],
   "source": [
    "import requests\n",
    "import os\n",
    "from PIL import Image\n",
    "from fake_useragent import UserAgent\n",
    "from bs4 import BeautifulSoup\n",
    "from io import BytesIO\n",
    "\n",
    "def contains_required_number(line):\n",
    "    \n",
    "    keeping = ['001_100','004_100','005_100']\n",
    "    # 001: Prod\n",
    "    # 004: back\n",
    "    # 005: 3/4 image\n",
    "    return any(num in line for num in keeping)\n",
    "\n",
    "\n",
    "def get_image(prod_number,list,output_dir, header):\n",
    "    i = 0\n",
    "    for item in list:\n",
    "        i+=1 \n",
    "        if (i == len(list)) | (i == 1):\n",
    "            continue\n",
    "        elif not(contains_required_number(item['srcset'])) :\n",
    "            continue\n",
    "        else:\n",
    "            print(item['srcset'] ) \n",
    "            url = \"https:\" + item['srcset']\n",
    "\n",
    "            # Download the image\n",
    "            response = requests.get(url, headers = header)\n",
    "            img = Image.open(BytesIO(response.content))\n",
    "\n",
    "            # Resize the image to 600\n",
    "            img_resized = img.resize((500, 500))\n",
    "            # Save the image\n",
    "            img_name = os.path.join(output_dir, f\"Gucci{prod_number}_{i}.jpg\") \n",
    "            img_resized.save(img_name)\n",
    "            print(f\"Saved {img_name}\")\n",
    "\n",
    "\n",
    "def scrapp_image(product_n, link, header):\n",
    "    # Send an HTTP request to the URL\n",
    "    response_1 = requests.get(link, headers = header)\n",
    "    soup_1 = BeautifulSoup(response_1.content, 'html.parser')\n",
    "\n",
    "    list_1 = soup_1.find_all(attrs={\"data-image-size\": \"small-retina\"})\n",
    "    \n",
    "    output_dir = \"Img\"\n",
    "    os.makedirs(output_dir, exist_ok=True)\n",
    "    \n",
    "    get_image(product_n,list_1,output_dir, header)\n",
    "\n",
    "\n",
    "def gucci(category_url):\n",
    "    \n",
    "\n",
    "    ua = UserAgent()\n",
    "    header = {'User-Agent':str(ua.chrome)}\n",
    "\n",
    "    url = category_url\n",
    "\n",
    "    # Send an HTTP request to the URL\n",
    "    response = requests.get(url, headers = header)\n",
    "    soup = BeautifulSoup(response.content, 'html.parser')\n",
    "\n",
    "    item_list = soup.select('article a')\n",
    "\n",
    "    br = 0\n",
    "    for item in item_list: \n",
    "        \n",
    "        if br == 1:\n",
    "            break\n",
    "        else:\n",
    "            link = 'https://www.gucci.com' + item['href']\n",
    "            scrapp_image(product_n=br,link=link, header=header)\n",
    "\n",
    "        br += 1"
   ]
  },
  {
   "cell_type": "code",
   "execution_count": 17,
   "metadata": {},
   "outputs": [
    {
     "name": "stdout",
     "output_type": "stream",
     "text": [
      "//media.gucci.com/style/DarkGray_Center_0_0_980x980/1710264633/786401_XKD2R_9288_001_100_0000_Light-Abito-corto-a-pieghe-in-viscosa-stretch.jpg\n",
      "Saved Img\\Gucci0_2.jpg\n",
      "//media.gucci.com/style/DarkGray_Center_0_0_980x980/1710264635/786401_XKD2R_9288_004_100_0000_Light-Abito-corto-a-pieghe-in-viscosa-stretch.jpg\n",
      "Saved Img\\Gucci0_5.jpg\n",
      "//media.gucci.com/style/DarkGray_Center_0_0_980x980/1710264635/786401_XKD2R_9288_005_100_0000_Light-Abito-corto-a-pieghe-in-viscosa-stretch.jpg\n",
      "Saved Img\\Gucci0_6.jpg\n"
     ]
    }
   ],
   "source": [
    "# Define the URL you want to scrape\n",
    "url = 'https://www.gucci.com/it/it/ca/women/ready-to-wear-for-women-c-women-readytowear'\n",
    "\n",
    "gucci(url)"
   ]
  }
 ],
 "metadata": {
  "kernelspec": {
   "display_name": "Python 3",
   "language": "python",
   "name": "python3"
  },
  "language_info": {
   "codemirror_mode": {
    "name": "ipython",
    "version": 3
   },
   "file_extension": ".py",
   "mimetype": "text/x-python",
   "name": "python",
   "nbconvert_exporter": "python",
   "pygments_lexer": "ipython3",
   "version": "3.12.3"
  }
 },
 "nbformat": 4,
 "nbformat_minor": 2
}
