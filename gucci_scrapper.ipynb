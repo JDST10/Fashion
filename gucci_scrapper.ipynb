{
 "cells": [
  {
   "cell_type": "code",
   "execution_count": 1,
   "metadata": {},
   "outputs": [],
   "source": [
    "import requests\n",
    "from fake_useragent import UserAgent\n",
    "from bs4 import BeautifulSoup"
   ]
  },
  {
   "cell_type": "markdown",
   "metadata": {},
   "source": [
    "# Get all links from Catalog page:"
   ]
  },
  {
   "cell_type": "code",
   "execution_count": 68,
   "metadata": {},
   "outputs": [],
   "source": [
    "ua = UserAgent()\n",
    "header = {'User-Agent':str(ua.chrome)}"
   ]
  },
  {
   "cell_type": "code",
   "execution_count": 69,
   "metadata": {},
   "outputs": [],
   "source": [
    "# Define the URL you want to scrape\n",
    "url = 'https://www.gucci.com/it/it/ca/women/ready-to-wear-for-women-c-women-readytowear'"
   ]
  },
  {
   "cell_type": "code",
   "execution_count": 70,
   "metadata": {},
   "outputs": [],
   "source": [
    "# Send an HTTP request to the URL\n",
    "response = requests.get(url, headers = header)\n",
    "soup = BeautifulSoup(response.content, 'html.parser')"
   ]
  },
  {
   "cell_type": "code",
   "execution_count": 71,
   "metadata": {},
   "outputs": [],
   "source": [
    "item_list = soup.select('article a')"
   ]
  },
  {
   "cell_type": "code",
   "execution_count": 11,
   "metadata": {},
   "outputs": [
    {
     "name": "stdout",
     "output_type": "stream",
     "text": [
      "https://www.gucci.com/it/it/pr/women/ready-to-wear-for-women/knitwear-for-women/knitted-dresses-for-women/short-stretch-viscose-pleated-dress-p-786401XKD2R9288\n",
      "https://www.gucci.com/it/it/pr/women/ready-to-wear-for-women/knitwear-for-women/knitted-dresses-for-women/stretch-viscose-polo-dress-p-788864XKD269791\n",
      "https://www.gucci.com/it/it/pr/women/ready-to-wear-for-women/outerwear-for-women/gg-nylon-jacket-with-web-p-801106Z40399692\n",
      "https://www.gucci.com/it/it/pr/whats-new/new-in/this-week-women/ready-to-wear-for-women/short-stretch-viscose-pleated-skirt-p-691712XKD279288\n",
      "https://www.gucci.com/it/it/pr/women/ready-to-wear-for-women/activewear-for-women/technical-jersey-short-with-web-p-785500XJGK69039\n",
      "https://www.gucci.com/it/it/pr/women/ready-to-wear-for-women/activewear-for-women/short-technical-jersey-dress-with-web-p-785490XJGK69039\n",
      "https://www.gucci.com/it/it/pr/women/ready-to-wear-for-women/activewear-for-women/jersey-drill-jacket-with-web-p-785483XJGK39799\n",
      "https://www.gucci.com/it/it/pr/women/ready-to-wear-for-women/activewear-for-women/technical-jersey-skort-with-web-p-789188XJGK69039\n",
      "https://www.gucci.com/it/it/pr/women/ready-to-wear-for-women/knitwear-for-women/knitted-polo-for-women/stretch-viscose-polo-top-p-691713XKD269288\n",
      "https://www.gucci.com/it/it/pr/women/ready-to-wear-for-women/activewear-for-women/jersey-drill-jogging-pants-with-web-p-785485XJGK39799\n",
      "https://www.gucci.com-p-786035FADGE8544\n",
      "https://www.gucci.com-p-786035FADGE8544\n",
      "https://www.gucci.com-p-786035FADGE8544\n",
      "https://www.gucci.com-p-786035FADGE8544\n",
      "https://www.gucci.com/it/it/pr/women/ready-to-wear-for-women/tops-and-shirts-for-women/shirts-for-women/cotton-poplin-shirt-p-788840ZAJP19692\n",
      "https://www.gucci.com/it/it/pr/women/ready-to-wear-for-women/denim-for-women/denim-bottoms-for-women/denim-pant-with-gucci-label-p-788822XDCXM4011\n",
      "https://www.gucci.com/it/it/pr/women/ready-to-wear-for-women/skirts-for-women/midi-long-skirts-for-women/gucci-horsebit-stripe-print-silk-skirt-p-784906ZAQR15419\n",
      "https://www.gucci.com/it/it/pr/women/ready-to-wear-for-women/tops-and-shirts-for-women/tops-for-women/gucci-horsebit-stripe-print-silk-shirt-p-788928ZAQRY5419\n",
      "https://www.gucci.com/it/it/pr/women/ready-to-wear-for-women/knitwear-for-women/cardigans-for-women/cotton-cardigan-with-gg-intarsia-p-788767XKD1R5841\n",
      "https://www.gucci.com/it/it/pr/women/ready-to-wear-for-women/knitwear-for-women/sweaters-for-women/cotton-crewneck-top-with-gg-intarsia-p-788766XKD1R9487\n",
      "https://www.gucci.com/it/it/pr/women/ready-to-wear-for-women/knitwear-for-women/knitted-dresses-for-women/gg-cotton-jacquard-dress-p-786403XKD285447\n",
      "https://www.gucci.com/it/it/pr/women/ready-to-wear-for-women/knitwear-for-women/cardigans-for-women/gg-cotton-jacquard-cardigan-p-743319XKD285447\n",
      "https://www.gucci.com/it/it/pr/women/ready-to-wear-for-women/tops-and-shirts-for-women/shirts-for-women/gg-supreme-oxford-cotton-shirt-p-788903ZAM9M5267\n",
      "https://www.gucci.com/it/it/pr/women/ready-to-wear-for-women/skirts-for-women/midi-long-skirts-for-women/gg-supreme-oxford-cotton-skirt-p-788904ZAM9M5307\n",
      "https://www.gucci.com/it/it/pr/women/ready-to-wear-for-women/dresses-jumpsuits-for-women/mini-dresses-for-women/crochet-effect-cotton-dress-with-web-p-786422XKD2N5152\n",
      "https://www.gucci.com/it/it/pr/women/ready-to-wear-for-women/activewear-for-women/technical-jersey-dress-with-web-p-785490XJGK69799\n",
      "https://www.gucci.com/it/it/pr/women/ready-to-wear-for-women/t-shirts-sweatshirts-for-women/t-shirts-for-women/rib-cotton-tank-top-with-gucci-print-p-790344XJGL49669\n",
      "https://www.gucci.com/it/it/pr/women/ready-to-wear-for-women/outerwear-for-women/gg-boucle-cotton-jacket-with-horsebit-p-784817Z8BSQ3439\n",
      "https://www.gucci.com/it/it/pr/women/ready-to-wear-for-women/pants-shorts-for-women/shorts-bermuda-for-women/gg-boucle-cotton-short-p-788837ZAQH43439\n",
      "https://www.gucci.com/it/it/pr/women/ready-to-wear-for-women/tops-and-shirts-for-women/tops-for-women/gucci-floral-cotton-lace-top-with-print-p-788990ZAQP79799\n",
      "https://www.gucci.com/it/it/pr/women/ready-to-wear-for-women/t-shirts-sweatshirts-for-women/t-shirts-for-women/rib-cotton-tank-top-with-gucci-print-p-790344XJGL49474\n",
      "https://www.gucci.com/it/it/pr/women/ready-to-wear-for-women/denim-for-women/denim-bottoms-for-women/gg-jacquard-denim-shorts-p-788737XDC0S9692\n",
      "https://www.gucci.com/it/it/pr/women/ready-to-wear-for-women/t-shirts-sweatshirts-for-women/t-shirts-for-women/cotton-stretch-piquet-polo-shirt-p-789266XJGLZ7738\n",
      "https://www.gucci.com/it/it/pr/women/ready-to-wear-for-women/activewear-for-women/gg-technical-jersey-skort-p-789188XJGLE7361\n",
      "https://www.gucci.com-p-795113KHNKG8534\n",
      "https://www.gucci.com-p-795113KHNKG8534\n",
      "https://www.gucci.com-p-795113KHNKG8534\n",
      "https://www.gucci.com/it/it/pr/women/ready-to-wear-for-women/dresses-jumpsuits-for-women/mini-dresses-for-women/cotton-poplin-dress-with-horsebit-p-784903Z8BSW9692\n",
      "https://www.gucci.com/it/it/pr/women/ready-to-wear-for-women/denim-for-women/denim-dresses-for-women/gg-jacquard-denim-dress-p-788736XDC0S9692\n",
      "https://www.gucci.com/it/it/pr/women/ready-to-wear-for-women/tops-and-shirts-for-women/shirts-for-women/pinstripe-cotton-jacquard-shirt-p-784900ZAQII4421\n",
      "https://www.gucci.com/it/it/pr/women/ready-to-wear-for-women/knitwear-for-women/cardigans-for-women/crochet-knit-cotton-button-up-top-p-743221XKD3L9200\n",
      "https://www.gucci.com/it/it/pr/women/ready-to-wear-for-women/knitwear-for-women/crochet-knit-cotton-top-p-747824XKD3L9200\n",
      "https://www.gucci.com/it/it/pr/women/ready-to-wear-for-women/denim-for-women/denim-bottoms-for-women/denim-cropped-pant-p-788823XDCXM4011\n"
     ]
    }
   ],
   "source": [
    "for item in item_list: \n",
    "    link = 'https://www.gucci.com' + item['href']\n",
    "    print(link)"
   ]
  },
  {
   "cell_type": "markdown",
   "metadata": {},
   "source": [
    "# Get from specific product page:\n",
    "- Relevant pictures\n",
    "- item description"
   ]
  },
  {
   "cell_type": "code",
   "execution_count": 176,
   "metadata": {},
   "outputs": [],
   "source": [
    "# New Link\n",
    "link = 'https://www.gucci.com/it/it/pr/women/ready-to-wear-for-women/skirts-for-women/midi-long-skirts-for-women/gg-supreme-oxford-cotton-skirt-p-788904ZAM9M5307'"
   ]
  },
  {
   "cell_type": "code",
   "execution_count": 177,
   "metadata": {},
   "outputs": [],
   "source": [
    "# Send an HTTP request to the URL\n",
    "response_1 = requests.get(link, headers = header)\n",
    "soup_1 = BeautifulSoup(response_1.content, 'html.parser')"
   ]
  },
  {
   "cell_type": "code",
   "execution_count": 178,
   "metadata": {},
   "outputs": [],
   "source": [
    "list = soup_1.find_all('picture' )\n"
   ]
  },
  {
   "cell_type": "code",
   "execution_count": 186,
   "metadata": {},
   "outputs": [],
   "source": [
    "list = soup_1.find_all(attrs={\"data-image-size\": \"small-retina\"})"
   ]
  },
  {
   "cell_type": "code",
   "execution_count": 188,
   "metadata": {},
   "outputs": [],
   "source": [
    "keeping = ['001','002','004','005','012']\n",
    "# 001: Prod\n",
    "# 002: Model\n",
    "# 004: back\n",
    "# 005: Closeup 1\n",
    "# 0012: closeup 2"
   ]
  },
  {
   "cell_type": "code",
   "execution_count": 209,
   "metadata": {},
   "outputs": [],
   "source": [
    "keeping = ['001', '002', '004', '005', '012']\n",
    "\n",
    "def contains_required_number(line):\n",
    "    return any(num in line for num in keeping)"
   ]
  },
  {
   "cell_type": "code",
   "execution_count": 187,
   "metadata": {},
   "outputs": [
    {
     "name": "stdout",
     "output_type": "stream",
     "text": [
      "//media.gucci.com/style/DarkGray_Center_0_0_980x980/1713891716/788904_ZAM9M_5307_002_100_0000_Light-Gonna-in-cotone-Oxford-GG-Supreme.jpg\n",
      "//media.gucci.com/style/DarkGray_Center_0_0_980x980/1713805269/788904_ZAM9M_5307_001_100_0000_Light-Gonna-in-cotone-Oxford-GG-Supreme.jpg\n",
      "//media.gucci.com/style/DarkGray_Center_0_0_980x980/1713891716/788904_ZAM9M_5307_002_100_0000_Light-Gonna-in-cotone-Oxford-GG-Supreme.jpg\n",
      "//media.gucci.com/style/DarkGray_Center_0_0_980x980/1713805271/788904_ZAM9M_5307_003_100_0000_Light-Gonna-in-cotone-Oxford-GG-Supreme.jpg\n",
      "//media.gucci.com/style/DarkGray_Center_0_0_980x980/1713805271/788904_ZAM9M_5307_004_100_0000_Light-Gonna-in-cotone-Oxford-GG-Supreme.jpg\n",
      "//media.gucci.com/style/DarkGray_Center_0_0_980x980/1713805272/788904_ZAM9M_5307_005_100_0000_Light-Gonna-in-cotone-Oxford-GG-Supreme.jpg\n",
      "//media.gucci.com/style/DarkGray_Center_0_0_980x980/1713805273/788904_ZAM9M_5307_007_100_0000_Light-Gonna-in-cotone-Oxford-GG-Supreme.jpg\n",
      "//media.gucci.com/style/DarkGray_Center_0_0_980x980/1713805274/788904_ZAM9M_5307_012_100_0000_Light-Gonna-in-cotone-Oxford-GG-Supreme.jpg\n",
      "//media.gucci.com/style/White_Center_0_0_730x490/1713805269/788904_ZAM9M_5307_001_100_0000_Light-Gonna-in-cotone-Oxford-GG-Supreme.jpg\n"
     ]
    }
   ],
   "source": [
    "i = 0\n",
    "for item in list:\n",
    "    i+=1 \n",
    "    if i == len(list) | contains_required_number(item['srcset']) :\n",
    "        continue\n",
    "    else:\n",
    "        print(item['srcset'] ) "
   ]
  },
  {
   "cell_type": "code",
   "execution_count": null,
   "metadata": {},
   "outputs": [],
   "source": []
  }
 ],
 "metadata": {
  "kernelspec": {
   "display_name": "Python 3",
   "language": "python",
   "name": "python3"
  },
  "language_info": {
   "codemirror_mode": {
    "name": "ipython",
    "version": 3
   },
   "file_extension": ".py",
   "mimetype": "text/x-python",
   "name": "python",
   "nbconvert_exporter": "python",
   "pygments_lexer": "ipython3",
   "version": "3.12.3"
  }
 },
 "nbformat": 4,
 "nbformat_minor": 2
}
