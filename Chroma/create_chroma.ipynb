{
 "cells": [
  {
   "cell_type": "code",
   "execution_count": 1,
   "metadata": {},
   "outputs": [],
   "source": [
    "import sys, os\n",
    "sys.path.append(os.path.join(os.path.dirname('__file__'), '..', 'DB_and_Azure'))\n",
    "import sql_db_functions as SQLf\n"
   ]
  },
  {
   "cell_type": "markdown",
   "metadata": {},
   "source": [
    "### get data from server"
   ]
  },
  {
   "cell_type": "code",
   "execution_count": 2,
   "metadata": {},
   "outputs": [],
   "source": [
    "conn, cursor = SQLf.sql_db_functions.connect_sql()"
   ]
  },
  {
   "cell_type": "code",
   "execution_count": 3,
   "metadata": {},
   "outputs": [
    {
     "data": {
      "text/plain": [
       "[(2,\n",
       "  1,\n",
       "  '*Type: Shirt\\n*Fit: Regular fit\\n*Sleeve style: Long sleeve\\n*Neckline: Collared\\n*Material: Silk\\n*Formality: Business Casual, Formal\\n*Season: Spring, Summer\\n*Colors: Beige (60%), Brown (40%)\\n*Texture: Smooth\\n*Transparency: Opaque\\n*Details and Embellishments: Buttons\\n*Shape: Fitted\\n*Length: Hip-length\\n*Collar Style: Button-down\\n*Sleeve Style: Long\\n*Patterns: Geometric\\n*Patterns placement: All over\\n*Fluidity of fabric: High\\n*Fabric weight: Light\\n*Pocket Presence: No\\n*Pocket placement: Not applicable\\n*Pocket size: Not applicable\\n*Breathability: High\\n*Occasion Suitability: Business casual, formal\\n*Lapel: Not applicable',\n",
       "  'Gucci'),\n",
       " (3,\n",
       "  2,\n",
       "  '*Type: Shirt\\n*Fit: Regular fit\\n*Sleeve style: Long sleeve\\n*Neckline: Button-down\\n*Material: Cotton\\n*Formality: Business Casual, Casual\\n*Seasson: Spring, Summer, Autumn\\n*Colors: Light blue 90%, White 10%\\n*Texture: Smooth\\n*Transparency: Opaque\\n*Details and Embellishments: Buttons, Monogram GG pattern\\n*Shape: Fitted\\n*Length: Hip-length\\n*Collar Style: Button-down\\n*Sleeve Style: Long\\n*Patterns: Geometric, Monogram\\n*Patterns placement: All-over\\n*Fluidity of fabric: Medium\\n*Fabric weight: Light\\n*Pocket Presence: No\\n*Pocket placement: Not applicable\\n*Pocket size: Not applicable\\n*Breathability: High\\n*Occasion Suitability: Business casual, Casual\\n*Lapel: Not applicable',\n",
       "  'Gucci'),\n",
       " (4,\n",
       "  3,\n",
       "  '*Type: Top  \\n*Fit: Regular fit  \\n*Sleeve style: Sleeveless  \\n*Neckline: Crew neck  \\n*Material: Silk  \\n*Formality: Casual  \\n*Season: Summer  \\n*Colors: Red (70%), White (20%), Green (10%)  \\n*Texture: Smooth  \\n*Transparency: Opaque  \\n*Details and Embellishments: None  \\n*Shape: Fitted  \\n*Length: Cropped  \\n*Collar Style: Crew neck  \\n*Sleeve Style: Sleeveless  \\n*Patterns: Stripes  \\n*Patterns placement: All over  \\n*Fluidity of fabric: High  \\n*Fabric weight: Light  \\n*Pocket Presence: No  \\n*Pocket placement: Not applicable  \\n*Pocket size: Not applicable  \\n*Breathability: High  \\n*Occasion Suitability: Casual  \\n*Lapel: Not applicable',\n",
       "  'Gucci'),\n",
       " (5,\n",
       "  4,\n",
       "  '*Type: Shirt  \\n*Fit: Regular fit  \\n*Sleeve style: Long sleeve  \\n*Neckline: Button-down collar  \\n*Material: Cotton  \\n*Formality: Casual  \\n*Seasson: Summer  \\n*Colors: Light blue 90%, White 10%  \\n*Texture: Smooth  \\n*Transparency: Opaque  \\n*Details and Embellishments: Buttons, GG Supreme print  \\n*Shape: Fitted  \\n*Length: Hip-length  \\n*Collar Style: Button-down  \\n*Sleeve Style: Long  \\n*Patterns: Geometric  \\n*Patterns placement: All over  \\n*Fluidity of fabric: Medium  \\n*Fabric weight: Light  \\n*Pocket Presence: No  \\n*Pocket placement: Not applicable  \\n*Pocket size: Not applicable  \\n*Breathability: High  \\n*Occasion Suitability: Casual  \\n*Lapel: Not applicable',\n",
       "  'Gucci'),\n",
       " (6,\n",
       "  5,\n",
       "  '*Type: Shirt  \\n*Fit: Regular fit  \\n*Sleeve style: Long sleeve  \\n*Neckline: Button-down  \\n*Material: Cotton  \\n*Formality: Casual  \\n*Seasson: Summer  \\n*Colors: White 100%  \\n*Texture: Smooth  \\n*Transparency: Opaque  \\n*Details and Embellishments: Buttons  \\n*Shape: Fitted  \\n*Length: Hip-length  \\n*Collar Style: Button-down  \\n*Sleeve Style: Long  \\n*Patterns: Not applicable  \\n*Patterns placement: Not applicable  \\n*Fluidity of fabric: Fluid  \\n*Fabric weight: Light  \\n*Pocket Presence: No  \\n*Pocket placement: Not applicable  \\n*Pocket size: Not applicable  \\n*Breathability: High  \\n*Occasion Suitability: Casual  \\n*Lapel: Not applicable',\n",
       "  'Gucci'),\n",
       " (7,\n",
       "  6,\n",
       "  '*Type: Shirt  \\n*Fit: Regular fit  \\n*Sleeve style: Long sleeve  \\n*Neckline: Button-down collar  \\n*Material: Silk  \\n*Formality: Casual  \\n*Season: Summer  \\n*Colors: Red (main), White (print)  \\n*Texture: Smooth  \\n*Transparency: Opaque  \\n*Details and Embellishments: Buttons  \\n*Shape: Fitted  \\n*Length: Hip-length  \\n*Collar Style: Button-down  \\n*Sleeve Style: Long  \\n*Patterns: Geometric  \\n*Patterns placement: All-over  \\n*Fluidity of fabric: High  \\n*Fabric weight: Light  \\n*Pocket Presence: No  \\n*Pocket placement: Not applicable  \\n*Pocket size: Not applicable  \\n*Breathability: High  \\n*Occasion Suitability: Casual  \\n*Lapel: Not applicable',\n",
       "  'Gucci'),\n",
       " (8,\n",
       "  7,\n",
       "  '*Type: Top\\n*Fit: Regular fit\\n*Sleeve style: Sleeveless\\n*Neckline: Crew neck\\n*Material: Lace\\n*Formality: Casual\\n*Season: Summer\\n*Colors: Blue (100%)\\n*Texture: Smooth\\n*Transparency: Semi-transparent\\n*Details and Embellishments: Embroidery, Double-G detail\\n*Shape: Fitted\\n*Length: Hip-length\\n*Collar Style: Crew neck\\n*Sleeve Style: Sleeveless\\n*Patterns: Floral\\n*Patterns placement: All-over\\n*Fluidity of fabric: High\\n*Fabric weight: Light\\n*Pocket Presence: No\\n*Pocket placement: Not applicable\\n*Pocket size: Not applicable\\n*Breathability: High\\n*Occasion Suitability: Casual\\n*Lapel: Not applicable',\n",
       "  'Gucci'),\n",
       " (9,\n",
       "  8,\n",
       "  '*Type: Pullover\\n*Fit: Regular fit\\n*Sleeve style: Long sleeve\\n*Neckline: Crew neck\\n*Material: Cotton\\n*Formality: Casual\\n*Seasson: Summer\\n*Colors: Light Blue (70%), White (30%)\\n*Texture: Smooth\\n*Transparency: Semi-transparent\\n*Details and Embellishments: Floral lace, Printed design\\n*Shape: Fitted\\n*Length: Hip-length\\n*Collar Style: Crew neck\\n*Sleeve Style: Long\\n*Patterns: Floral\\n*Patterns placement: Overall\\n*Fluidity of fabric: Medium\\n*Fabric weight: Light\\n*Pocket Presence: No\\n*Pocket placement: Not applicable\\n*Pocket size: Not applicable\\n*Breathability: High\\n*Occasion Suitability: Casual\\n*Lapel: Not applicable',\n",
       "  'Gucci'),\n",
       " (10,\n",
       "  9,\n",
       "  '*Type: Shirt  \\n*Fit: Regular fit  \\n*Sleeve style: Long sleeve  \\n*Neckline: Button-down  \\n*Material: Cotton  \\n*Formality: Casual  \\n*Seasson: Summer  \\n*Colors: White 100%  \\n*Texture: Smooth  \\n*Transparency: Opaque  \\n*Details and Embellishments: Embroidery, Buttons  \\n*Shape: Fitted  \\n*Length: Hip-length  \\n*Collar Style: Button-down  \\n*Sleeve Style: Long  \\n*Patterns: Not applicable  \\n*Patterns placement: Not applicable  \\n*Fluidity of fabric: Medium  \\n*Fabric weight: Light  \\n*Pocket Presence: No  \\n*Pocket placement: Not applicable  \\n*Pocket size: Not applicable  \\n*Breathability: High  \\n*Occasion Suitability: Casual  \\n*Lapel: Not applicable  ',\n",
       "  'Gucci'),\n",
       " (11,\n",
       "  10,\n",
       "  '*Type: Shirt  \\n*Fit: Regular fit  \\n*Sleeve style: Long sleeve  \\n*Neckline: Button-down  \\n*Material: Silk  \\n*Formality: Casual  \\n*Seasson: Summer  \\n*Colors: Blue 80%, Yellow 20%  \\n*Texture: Smooth  \\n*Transparency: Opaque  \\n*Details and Embellishments: Buttons, Front pocket  \\n*Shape: Fitted  \\n*Length: Hip-length  \\n*Collar Style: Button-down  \\n*Sleeve Style: Long  \\n*Patterns: Stripe  \\n*Patterns placement: Across the entire shirt  \\n*Fluidity of fabric: High  \\n*Fabric weight: Light  \\n*Pocket Presence: Yes  \\n*Pocket placement: Left chest  \\n*Pocket size: Medium  \\n*Breathability: High  \\n*Occasion Suitability: Casual  \\n*Lapel: Not applicable',\n",
       "  'Gucci'),\n",
       " (12,\n",
       "  11,\n",
       "  '*Type: Top\\n*Fit: Regular fit\\n*Sleeve style: Sleeveless\\n*Neckline: Crew neck\\n*Material: Cotton gabardine\\n*Formality: Casual\\n*Season: Summer\\n*Colors: Beige (100%)\\n*Texture: Smooth\\n*Transparency: Opaque\\n*Details and Embellishments: GG pattern\\n*Shape: Fitted\\n*Length: Hip-length\\n*Collar Style: Crew neck\\n*Sleeve Style: Sleeveless\\n*Patterns: Geometric (GG pattern)\\n*Patterns placement: All-over\\n*Fluidity of fabric: Moderate\\n*Fabric weight: Light\\n*Pocket Presence: No\\n*Pocket placement: Not applicable\\n*Pocket size: Not applicable\\n*Breathability: High\\n*Occasion Suitability: Casual\\n*Lapel: Not applicable',\n",
       "  'Gucci'),\n",
       " (13,\n",
       "  12,\n",
       "  '*Type: Shirt\\n*Fit: Regular fit\\n*Sleeve style: Long sleeve\\n*Neckline: Button-down\\n*Material: Cotton\\n*Formality: Casual\\n*Season: Summer\\n*Colors: Beige 90%, Brown 10%\\n*Texture: Smooth\\n*Transparency: Opaque\\n*Details and Embellishments: Buttons, Embroidered logo\\n*Shape: Boxy\\n*Length: Hip-length\\n*Collar Style: Button-down\\n*Sleeve Style: Long\\n*Patterns: Geometric\\n*Patterns placement: All over\\n*Fluidity of fabric: Medium\\n*Fabric weight: Light\\n*Pocket Presence: No\\n*Pocket placement: Not applicable\\n*Pocket size: Not applicable\\n*Breathability: High\\n*Occasion Suitability: Casual\\n*Lapel: Not applicable',\n",
       "  'Gucci'),\n",
       " (14,\n",
       "  13,\n",
       "  '*Type: Shirt\\n*Fit: Regular fit\\n*Sleeve style: Long sleeve\\n*Neckline: Button-down\\n*Material: Cotton\\n*Formality: Casual, Business Casual\\n*Season: Summer\\n*Colors: Blue 80%, White 20%\\n*Texture: Smooth\\n*Transparency: Opaque\\n*Details and Embellishments: Buttons\\n*Shape: Fitted\\n*Length: Hip-length\\n*Collar Style: Button-down\\n*Sleeve Style: Long sleeve\\n*Patterns: Stripes\\n*Patterns placement: Not applicable\\n*Fluidity of fabric: Medium\\n*Fabric weight: Light\\n*Pocket Presence: No\\n*Pocket placement: Not applicable\\n*Pocket size: Not applicable\\n*Breathability: High\\n*Occasion Suitability: Casual, Business Casual\\n*Lapel: Not applicable',\n",
       "  'Gucci'),\n",
       " (15,\n",
       "  14,\n",
       "  '*Type: Shirt\\n*Fit: Regular fit\\n*Sleeve style: Short sleeve\\n*Neckline: Crew neck\\n*Material: Cotton\\n*Formality: Casual\\n*Season: Summer\\n*Colors: White: 90%, Black: 10%\\n*Texture: Smooth\\n*Transparency: Opaque\\n*Details and Embellishments: None\\n*Shape: Fitted\\n*Length: Hip-length\\n*Collar Style: Crew neck\\n*Sleeve Style: Short\\n*Patterns: Not applicable\\n*Patterns placement: Not applicable\\n*Fluidity of fabric: Medium\\n*Fabric weight: Light\\n*Pocket Presence: No\\n*Pocket placement: Not applicable\\n*Pocket size: Not applicable\\n*Breathability: High\\n*Occasion Suitability: Casual\\n*Lapel: Not applicable',\n",
       "  'HM'),\n",
       " (16,\n",
       "  15,\n",
       "  '*Type: Dress\\n*Fit: Regular fit\\n*Sleeve style: Long sleeve\\n*Neckline: Crew neck\\n*Material: Cotton\\n*Formality: Casual\\n*Seasson: Autumn, Spring\\n*Colors: Beige (80%), Black (20%)\\n*Texture: Smooth\\n*Transparency: Opaque\\n*Details and Embellishments: Buttons\\n*Shape: Fitted\\n*Length: Knee-length\\n*Collar Style: Crew neck\\n*Sleeve Style: Long sleeve\\n*Patterns: Not applicable\\n*Patterns placement: Not applicable\\n*Fluidity of fabric: Medium\\n*Fabric weight: Light\\n*Pocket Presence: No\\n*Pocket placement: Not applicable\\n*Pocket size: Not applicable\\n*Breathability: Medium\\n*Occasion Suitability: Casual\\n*Lapel: Not applicable',\n",
       "  'HM'),\n",
       " (17,\n",
       "  16,\n",
       "  '*Type: Dress\\n*Fit: Regular fit\\n*Sleeve style: Long sleeve\\n*Neckline: V-neck\\n*Material: Likely polyester or a blend\\n*Formality: Casual, Business Casual\\n*Season: Autumn, Spring\\n*Colors: Black (80%), White (20%)\\n*Texture: Smooth\\n*Transparency: Opaque\\n*Details and Embellishments: Buttons\\n*Shape: Fitted\\n*Length: Midi\\n*Collar Style: Not applicable\\n*Sleeve Style: Long\\n*Patterns: Polka dots\\n*Patterns placement: Throughout\\n*Fluidity of fabric: Medium\\n*Fabric weight: Medium\\n*Pocket Presence: No\\n*Pocket placement: Not applicable\\n*Pocket size: Not applicable\\n*Breathability: Medium\\n*Occasion Suitability: Casual, business casual\\n*Lapel: Not applicable',\n",
       "  'HM'),\n",
       " (18,\n",
       "  17,\n",
       "  '*Type: Dress  \\n*Fit: Regular fit  \\n*Sleeve style: Sleeveless  \\n*Neckline: Crew neck  \\n*Material: Cotton  \\n*Formality: Casual  \\n*Seasson: Summer  \\n*Colors: Light blue (100%)  \\n*Texture: Smooth  \\n*Transparency: Opaque  \\n*Details and Embellishments: None  \\n*Shape: Fitted  \\n*Length: Above knee  \\n*Collar Style: Crew neck  \\n*Sleeve Style: Sleeveless  \\n*Patterns: Not applicable  \\n*Patterns placement: Not applicable  \\n*Fluidity of fabric: Medium  \\n*Fabric weight: Light  \\n*Pocket Presence: No  \\n*Pocket placement: Not applicable  \\n*Pocket size: Not applicable  \\n*Breathability: High  \\n*Occasion Suitability: Casual  \\n*Lapel: Not applicable',\n",
       "  'HM'),\n",
       " (19,\n",
       "  18,\n",
       "  '*Type: Dress  \\n*Fit: Regular fit  \\n*Sleeve style: Long sleeve  \\n*Neckline: V-neck  \\n*Material: Cotton  \\n*Formality: Casual  \\n*Seasson: Autumn  \\n*Colors: 100% Black  \\n*Texture: Smooth  \\n*Transparency: Opaque  \\n*Details and Embellishments: Buttons  \\n*Shape: Fitted  \\n*Length: Midi  \\n*Collar Style: Not applicable  \\n*Sleeve Style: Long  \\n*Patterns: Not applicable  \\n*Patterns placement: Not applicable  \\n*Fluidity of fabric: Moderate  \\n*Fabric weight: Medium  \\n*Pocket Presence: No  \\n*Pocket placement: Not applicable  \\n*Pocket size: Not applicable  \\n*Breathability: Medium  \\n*Occasion Suitability: Casual  \\n*Lapel: Not applicable',\n",
       "  'HM'),\n",
       " (20,\n",
       "  19,\n",
       "  '*Type: Dress  \\n*Fit: Regular fit  \\n*Sleeve style: Long sleeve  \\n*Neckline: V-neck  \\n*Material: Polyester  \\n*Formality: Casual  \\n*Season: Autumn, Winter  \\n*Colors: Black (90%), White (10%)  \\n*Texture: Smooth  \\n*Transparency: Opaque  \\n*Details and Embellishments: Buttons  \\n*Shape: Fitted  \\n*Length: Midi  \\n*Collar Style: V-neck  \\n*Sleeve Style: Long  \\n*Patterns: Floral  \\n*Patterns placement: All over  \\n*Fluidity of fabric: Medium  \\n*Fabric weight: Medium  \\n*Pocket Presence: No  \\n*Pocket placement: Not applicable  \\n*Pocket size: Not applicable  \\n*Breathability: Medium  \\n*Occasion Suitability: Casual  \\n*Lapel: Not applicable',\n",
       "  'HM'),\n",
       " (21,\n",
       "  20,\n",
       "  '*Type: Dress\\n*Fit: Regular fit\\n*Sleeve style: Long sleeve\\n*Neckline: Crew neck\\n*Material: Cotton\\n*Formality: Casual\\n*Seasson: Spring, Summer\\n*Colors: Black 100%\\n*Texture: Smooth\\n*Transparency: Opaque\\n*Details and Embellishments: Buttons\\n*Shape: Fitted\\n*Length: Knee-length\\n*Collar Style: Crew neck\\n*Sleeve Style: Long\\n*Patterns: Not applicable\\n*Patterns placement: Not applicable\\n*Fluidity of fabric: Medium\\n*Fabric weight: Light\\n*Pocket Presence: No\\n*Pocket placement: Not applicable\\n*Pocket size: Not applicable\\n*Breathability: High\\n*Occasion Suitability: Casual\\n*Lapel: Not applicable',\n",
       "  'HM'),\n",
       " (22,\n",
       "  21,\n",
       "  '*Type: Dress\\n*Fit: Regular fit\\n*Sleeve style: Long sleeve\\n*Neckline: V-neck\\n*Material: Polyester\\n*Formality: Casual\\n*Season: Autumn, Spring\\n*Colors: Black 90%, White 10%\\n*Texture: Smooth\\n*Transparency: Opaque\\n*Details and Embellishments: Buttons\\n*Shape: Fitted\\n*Length: Midi\\n*Collar Style: V-neck\\n*Sleeve Style: Long\\n*Patterns: Floral\\n*Patterns placement: Not applicable\\n*Fluidity of fabric: Medium\\n*Fabric weight: Light\\n*Pocket Presence: No\\n*Pocket placement: Not applicable\\n*Pocket size: Not applicable\\n*Breathability: Medium\\n*Occasion Suitability: Casual\\n*Lapel: Not applicable',\n",
       "  'HM'),\n",
       " (23,\n",
       "  22,\n",
       "  '*Type:  \\n*Fit: Regular fit\\n*Sleeve style: Long sleeve\\n*Neckline: Crew neck\\n*Material: Cotton\\n*Formality: Casual\\n*Seasson: Autumn, Winter\\n*Colors: Black (100%)\\n*Texture: Smooth\\n*Transparency: Opaque\\n*Details and Embellishments: None\\n*Shape: Fitted\\n*Length: Hip-length\\n*Collar Style: Crew neck\\n*Sleeve Style: Long sleeve\\n*Patterns: Not applicable\\n*Patterns placement: Not applicable\\n*Fluidity of fabric: Medium fluidity\\n*Fabric weight: Medium\\n*Pocket Presence: No\\n*Pocket placement: Not applicable\\n*Pocket size: Not applicable\\n*Breathability: Medium\\n*Occasion Suitability: Casual\\n*Lapel: Not applicable',\n",
       "  'HM'),\n",
       " (24,\n",
       "  23,\n",
       "  '*Type: Top, Sweater\\n*Fit: Regular fit\\n*Sleeve style: Long sleeve\\n*Neckline: Crew neck\\n*Material: Cotton\\n*Formality: Casual\\n*Season: Autumn, Winter\\n*Colors: Beige (100%)\\n*Texture: Smooth\\n*Transparency: Opaque\\n*Details and Embellishments: None\\n*Shape: Fitted\\n*Length: Hip-length\\n*Collar Style: Crew neck\\n*Sleeve Style: Long sleeve\\n*Patterns: Not applicable\\n*Patterns placement: Not applicable\\n*Fluidity of fabric: Low\\n*Fabric weight: Medium\\n*Pocket Presence: No\\n*Pocket placement: Not applicable\\n*Pocket size: Not applicable\\n*Breathability: Medium\\n*Occasion Suitability: Casual\\n*Lapel: Not applicable',\n",
       "  'HM'),\n",
       " (25,\n",
       "  24,\n",
       "  '*Type: Dress  \\n*Fit: Regular fit  \\n*Sleeve style: Sleeveless     \\n*Neckline: V-neck   \\n*Material: Likely polyester (based on common materials used for similar garments)  \\n*Formality: Casual  \\n*Seasson: Summer  \\n*Colors: White (80%), Black (20%)   \\n*Texture: Smooth  \\n*Transparency: Opaque  \\n*Details and Embellishments: None noticeable  \\n*Shape: Fitted  \\n*Length: Knee-length  \\n*Collar Style: V-neck  \\n*Sleeve Style: Sleeveless  \\n*Patterns: Abstract  \\n*Patterns placement: All over  \\n*Fluidity of fabric: Medium  \\n*Fabric weight: Light  \\n*Pocket Presence: No  \\n*Pocket placement: Not applicable  \\n*Pocket size: Not applicable  \\n*Breathability: High  \\n*Occasion Suitability: Casual  \\n*Lapel: Not applicable',\n",
       "  'HM'),\n",
       " (26,\n",
       "  25,\n",
       "  '*Type: Top, Blouse  \\n*Fit: Regular fit  \\n*Sleeve style: Long sleeve  \\n*Neckline: V-neck  \\n*Material: Likely polyester (based on common fabric types for this style)  \\n*Formality: Casual, Business Casual  \\n*Season: Spring, Summer, Autumn  \\n*Colors: White (100%)  \\n*Texture: Smooth  \\n*Transparency: Opaque  \\n*Details and Embellishments: Buttons down the front  \\n*Shape: Slightly fitted  \\n*Length: Hip-length  \\n*Collar Style: V-neck  \\n*Sleeve Style: Long  \\n*Patterns: Not applicable  \\n*Patterns placement: Not applicable  \\n*Fluidity of fabric: Medium  \\n*Fabric weight: Light  \\n*Pocket Presence: No  \\n*Pocket placement: Not applicable  \\n*Pocket size: Not applicable  \\n*Breathability: High  \\n*Occasion Suitability: Casual, business casual  \\n*Lapel: Not applicable',\n",
       "  'HM'),\n",
       " (27,\n",
       "  26,\n",
       "  '*Type: Blouse  \\n*Fit: Regular fit  \\n*Sleeve style: Long sleeve  \\n*Neckline: Crew neck  \\n*Material: Cotton  \\n*Formality: Casual  \\n*Season: Autumn  \\n*Colors: White 100%  \\n*Texture: Smooth  \\n*Transparency: Opaque  \\n*Details and Embellishments: Buttons  \\n*Shape: Fitted  \\n*Length: Hip-length  \\n*Collar Style: Crew neck  \\n*Sleeve Style: Long  \\n*Patterns: Not applicable  \\n*Patterns placement: Not applicable  \\n*Fluidity of fabric: Medium  \\n*Fabric weight: Light  \\n*Pocket Presence: No  \\n*Pocket placement: Not applicable  \\n*Pocket size: Not applicable  \\n*Breathability: High  \\n*Occasion Suitability: Casual  \\n*Lapel: Not applicable',\n",
       "  'HM'),\n",
       " (28,\n",
       "  27,\n",
       "  '*Type: Dress\\n*Fit: Regular fit\\n*Sleeve style: Long sleeve\\n*Neckline: V-neck\\n*Material: Cotton\\n*Formality: Casual\\n*Seasson: Spring, Summer\\n*Colors: Black (80%), White (20%)\\n*Texture: Smooth\\n*Transparency: Opaque\\n*Details and Embellishments: Not applicable\\n*Shape: Fitted\\n*Length: Midi\\n*Collar Style: V-neck\\n*Sleeve Style: Long\\n*Patterns: Dotted\\n*Patterns placement: Overall\\n*Fluidity of fabric: Medium\\n*Fabric weight: Light\\n*Pocket Presence: No\\n*Pocket placement: Not applicable\\n*Pocket size: Not applicable\\n*Breathability: High\\n*Occasion Suitability: Casual\\n*Lapel: Not applicable',\n",
       "  'HM'),\n",
       " (29,\n",
       "  28,\n",
       "  '*Type: Dress\\n*Fit: Regular fit\\n*Sleeve style: Sleeveless\\n*Neckline: V-neck\\n*Material: Polyester\\n*Formality: Casual\\n*Seasson: Summer\\n*Colors: Light blue (100%)\\n*Texture: Smooth\\n*Transparency: Opaque\\n*Details and Embellishments: Not applicable\\n*Shape: Fitted\\n*Length: Knee-length\\n*Collar Style: Not applicable\\n*Sleeve Style: Sleeveless\\n*Patterns: Floral\\n*Patterns placement: All over\\n*Fluidity of fabric: Medium\\n*Fabric weight: Light\\n*Pocket Presence: No\\n*Pocket placement: Not applicable\\n*Pocket size: Not applicable\\n*Breathability: High\\n*Occasion Suitability: Casual\\n*Lapel: Not applicable',\n",
       "  'HM'),\n",
       " (30,\n",
       "  29,\n",
       "  '*Type: Dress  \\n*Fit: Regular fit  \\n*Sleeve style: Short sleeve  \\n*Neckline: V-neck  \\n*Material: Cotton  \\n*Formality: Casual  \\n*Season: Summer  \\n*Colors: White (100%)  \\n*Texture: Smooth  \\n*Transparency: Opaque  \\n*Details and Embellishments: Buttons  \\n*Shape: Fitted  \\n*Length: Knee-length  \\n*Collar Style: V-neck  \\n*Sleeve Style: Short sleeve  \\n*Patterns: Not applicable  \\n*Patterns placement: Not applicable  \\n*Fluidity of fabric: Medium  \\n*Fabric weight: Light  \\n*Pocket Presence: Yes  \\n*Pocket placement: Side pockets  \\n*Pocket size: Medium  \\n*Breathability: High  \\n*Occasion Suitability: Casual  \\n*Lapel: Not applicable',\n",
       "  'HM'),\n",
       " (31,\n",
       "  30,\n",
       "  '*Type: Shirt\\n*Fit: Regular fit\\n*Sleeve style: Long sleeve\\n*Neckline: Crew neck\\n*Material: Cotton\\n*Formality: Casual\\n*Season: Autumn\\n*Colors: Beige 100%\\n*Texture: Smooth\\n*Transparency: Opaque\\n*Details and Embellishments: Buttons\\n*Shape: Fitted\\n*Length: Hip-length\\n*Collar Style: Crew neck\\n*Sleeve Style: Long\\n*Patterns: Not applicable\\n*Patterns placement: Not applicable\\n*Fluidity of fabric: Medium\\n*Fabric weight: Medium\\n*Pocket Presence: Yes\\n*Pocket placement: Left chest\\n*Pocket size: Medium\\n*Breathability: Medium\\n*Occasion Suitability: Casual\\n*Lapel: Not applicable',\n",
       "  'HM'),\n",
       " (32,\n",
       "  31,\n",
       "  '*Type: Dress  \\n*Fit: Regular fit  \\n*Sleeve style: Sleeveless  \\n*Neckline: V-neck  \\n*Material: Polyester  \\n*Formality: Casual  \\n*Seasson: Summer  \\n*Colors: White (80%), Black (20%)  \\n*Texture: Smooth  \\n*Transparency: Opaque  \\n*Details and Embellishments: Belt  \\n*Shape: Fitted  \\n*Length: Knee-length  \\n*Collar Style: Not applicable  \\n*Sleeve Style: Sleeveless  \\n*Patterns: Not applicable  \\n*Patterns placement: Not applicable  \\n*Fluidity of fabric: Medium  \\n*Fabric weight: Light  \\n*Pocket Presence: No  \\n*Pocket placement: Not applicable  \\n*Pocket size: Not applicable  \\n*Breathability: High  \\n*Occasion Suitability: Casual  \\n*Lapel: Not applicable',\n",
       "  'HM'),\n",
       " (33,\n",
       "  32,\n",
       "  '*Type: Long coat  \\n*Fit: Regular fit  \\n*Sleeve style: Long sleeve  \\n*Neckline: Crew neck  \\n*Material: Polyester  \\n*Formality: Casual  \\n*Season: Autumn, Winter  \\n*Colors: Black (100%)  \\n*Texture: Smooth  \\n*Transparency: Opaque  \\n*Details and Embellishments: Buttons  \\n*Shape: Fitted  \\n*Length: Hip-length  \\n*Collar Style: Crew neck  \\n*Sleeve Style: Long  \\n*Patterns: Not applicable  \\n*Patterns placement: Not applicable  \\n*Fluidity of fabric: Medium  \\n*Fabric weight: Medium  \\n*Pocket Presence: Yes  \\n*Pocket placement: Front sides  \\n*Pocket size: Medium  \\n*Breathability: Medium  \\n*Occasion Suitability: Casual  \\n*Lapel: Not applicable  ',\n",
       "  'HM'),\n",
       " (34,\n",
       "  33,\n",
       "  '*Type: T-shirt\\n*Fit: Regular fit\\n*Sleeve style: Short sleeve\\n*Neckline: Crew neck\\n*Material: Cotton\\n*Formality: Casual\\n*Seasson: Summer\\n*Colors: White (100%)\\n*Texture: Smooth\\n*Transparency: Opaque\\n*Details and Embellishments: Not applicable\\n*Shape: Fitted\\n*Length: Hip-length\\n*Collar Style: Crew neck\\n*Sleeve Style: Short\\n*Patterns: Not applicable\\n*Patterns placement: Not applicable\\n*Fluidity of fabric: Medium\\n*Fabric weight: Light\\n*Pocket Presence: No\\n*Pocket placement: Not applicable\\n*Pocket size: Not applicable\\n*Breathability: High\\n*Occasion Suitability: Casual\\n*Lapel: Not applicable',\n",
       "  'HM'),\n",
       " (35,\n",
       "  34,\n",
       "  '*Type: T-Shirt  \\n*Fit: Regular fit  \\n*Sleeve style: Short sleeve  \\n*Neckline: Crew neck  \\n*Material: Cotton  \\n*Formality: Casual  \\n*Seasson: Summer  \\n*Colors: Black: 90%, White: 10%  \\n*Texture: Smooth  \\n*Transparency: Opaque  \\n*Details and Embellishments: Not applicable  \\n*Shape: Fitted  \\n*Length: Hip-length  \\n*Collar Style: Crew neck  \\n*Sleeve Style: Short  \\n*Patterns: Not applicable  \\n*Patterns placement: Not applicable  \\n*Fluidity of fabric: Medium  \\n*Fabric weight: Light  \\n*Pocket Presence: No  \\n*Pocket placement: Not applicable  \\n*Pocket size: Not applicable  \\n*Breathability: High  \\n*Occasion Suitability: Casual  \\n*Lapel: Not applicable',\n",
       "  'HM'),\n",
       " (36,\n",
       "  35,\n",
       "  '*Type: Dress\\n*Fit: Regular fit, Loose\\n*Sleeve style: Long sleeve\\n*Neckline: V-neck\\n*Material: Polyester\\n*Formality: Casual, Business Casual\\n*Season: Autumn, Spring\\n*Colors: Black (90%), White (10%)\\n*Texture: Smooth\\n*Transparency: Opaque\\n*Details and Embellishments: Buttons\\n*Shape: Flared\\n*Length: Midi\\n*Collar Style: V-neck\\n*Sleeve Style: Long\\n*Patterns: Floral\\n*Patterns placement: All over\\n*Fluidity of fabric: High\\n*Fabric weight: Light\\n*Pocket Presence: No\\n*Pocket placement: Not applicable\\n*Pocket size: Not applicable\\n*Breathability: Medium\\n*Occasion Suitability: Casual, Business Casual\\n*Lapel: Not applicable',\n",
       "  'HM'),\n",
       " (37,\n",
       "  36,\n",
       "  '*Type: Dress\\n*Fit: Regular fit\\n*Sleeve style: Sleeveless\\n*Neckline: Round neck\\n*Material: Cotton\\n*Formality: Casual\\n*Season: Summer\\n*Colors: White 80%, Black 20%\\n*Texture: Smooth\\n*Transparency: Opaque\\n*Details and Embellishments: None\\n*Shape: Fitted\\n*Length: Above knee\\n*Collar Style: Round neck\\n*Sleeve Style: Sleeveless\\n*Patterns: Floral\\n*Patterns placement: All over\\n*Fluidity of fabric: Medium\\n*Fabric weight: Light\\n*Pocket Presence: No\\n*Pocket placement: Not applicable\\n*Pocket size: Not applicable\\n*Breathability: High\\n*Occasion Suitability: Casual\\n*Lapel: Not applicable',\n",
       "  'HM'),\n",
       " (38,\n",
       "  37,\n",
       "  '*Type: Dress  \\n*Fit: Regular fit  \\n*Sleeve style: Long sleeve  \\n*Neckline: Crew neck  \\n*Material: Cotton  \\n*Formality: Casual  \\n*Season: Autumn, Winter  \\n*Colors: Beige (100%)  \\n*Texture: Smooth  \\n*Transparency: Opaque  \\n*Details and Embellishments: None  \\n*Shape: Fitted  \\n*Length: Midi  \\n*Collar Style: Crew neck  \\n*Sleeve Style: Long  \\n*Patterns: Not applicable  \\n*Patterns placement: Not applicable  \\n*Fluidity of fabric: Medium  \\n*Fabric weight: Medium  \\n*Pocket Presence: No  \\n*Pocket placement: Not applicable  \\n*Pocket size: Not applicable  \\n*Breathability: Medium  \\n*Occasion Suitability: Casual  \\n*Lapel: Not applicable',\n",
       "  'HM'),\n",
       " (39,\n",
       "  38,\n",
       "  '*Type: Shirt  \\n*Fit: Regular fit  \\n*Sleeve style: Long sleeve  \\n*Neckline: Button-down  \\n*Material: 100% linen  \\n*Formality: Casual  \\n*Season: Summer  \\n*Colors: White (100%)  \\n*Texture: Smooth  \\n*Transparency: Opaque  \\n*Details and Embellishments: Buttons  \\n*Shape: Straight  \\n*Length: Hip-length  \\n*Collar Style: Button-down  \\n*Sleeve Style: Long  \\n*Patterns: Not applicable  \\n*Patterns placement: Not applicable  \\n*Fluidity of fabric: Medium  \\n*Fabric weight: Light  \\n*Pocket Presence: Yes  \\n*Pocket placement: Left chest  \\n*Pocket size: Medium  \\n*Breathability: High  \\n*Occasion Suitability: Casual  \\n*Lapel: Not applicable  ',\n",
       "  'Mango'),\n",
       " (40,\n",
       "  39,\n",
       "  '*Type: Dress\\n*Fit: Regular fit\\n*Sleeve style: Sleeveless\\n*Neckline: V-neck\\n*Material: 100% cotton\\n*Formality: Casual\\n*Season: Summer\\n*Colors: Blue 100%\\n*Texture: Smooth\\n*Transparency: Opaque\\n*Details and Embellishments: None\\n*Shape: Straight\\n*Length: Knee-length\\n*Collar Style: V-neck\\n*Sleeve Style: Sleeveless\\n*Patterns: Not applicable\\n*Patterns placement: Not applicable\\n*Fluidity of fabric: Medium\\n*Fabric weight: Light\\n*Pocket Presence: No\\n*Pocket placement: Not applicable\\n*Pocket size: Not applicable\\n*Breathability: High\\n*Occasion Suitability: Casual\\n*Lapel: Not applicable',\n",
       "  'Mango'),\n",
       " (41,\n",
       "  40,\n",
       "  '*Type: Shirt  \\n*Fit: Regular fit  \\n*Sleeve style: Long sleeve  \\n*Neckline: Button-down collar  \\n*Material: 100% lyocell  \\n*Formality: Casual, Business Casual  \\n*Seasson: Spring, Autumn  \\n*Colors: 100% Blue  \\n*Texture: Smooth  \\n*Transparency: Opaque  \\n*Details and Embellishments: Buttons  \\n*Shape: Straight  \\n*Length: Hip-length  \\n*Collar Style: Button-down  \\n*Sleeve Style: Long  \\n*Patterns: Not applicable  \\n*Patterns placement: Not applicable  \\n*Fluidity of fabric: High  \\n*Fabric weight: Light  \\n*Pocket Presence: No  \\n*Pocket placement: Not applicable  \\n*Pocket size: Not applicable  \\n*Breathability: High  \\n*Occasion Suitability: Casual, Business Casual  \\n*Lapel: Not applicable',\n",
       "  'Mango'),\n",
       " (42,\n",
       "  41,\n",
       "  '*Type: Shirt\\n*Fit: Regular fit\\n*Sleeve style: Long sleeve\\n*Neckline: Crew neck\\n*Material: Ramie, Cotton\\n*Formality: Casual\\n*Seasson: Spring, Summer\\n*Colors: White 100%\\n*Texture: Smooth\\n*Transparency: Semi-transparent\\n*Details and Embellishments: Buttons\\n*Shape: Boxy\\n*Length: Hip-length\\n*Collar Style: Crew neck\\n*Sleeve Style: Long\\n*Patterns: Not applicable\\n*Patterns placement: Not applicable\\n*Fluidity of fabric: Moderate\\n*Fabric weight: Light\\n*Pocket Presence: No\\n*Pocket placement: Not applicable\\n*Pocket size: Not applicable\\n*Breathability: High\\n*Occasion Suitability: Casual\\n*Lapel: Not applicable',\n",
       "  'Mango'),\n",
       " (43,\n",
       "  42,\n",
       "  '*Type: Shirt  \\n*Fit: Regular fit  \\n*Sleeve style: Long sleeve  \\n*Neckline: Button-down  \\n*Material: Lyocell  \\n*Formality: Casual  \\n*Seasson: Spring, Summer, Autumn  \\n*Colors: Light Blue 100%  \\n*Texture: Smooth  \\n*Transparency: Opaque  \\n*Details and Embellishments: Buttons  \\n*Shape: Fitted  \\n*Length: Hip-length  \\n*Collar Style: Button-down  \\n*Sleeve Style: Long  \\n*Patterns: Not applicable  \\n*Patterns placement: Not applicable  \\n*Fluidity of fabric: Medium  \\n*Fabric weight: Light  \\n*Pocket Presence: Yes  \\n*Pocket placement: Chest  \\n*Pocket size: Medium  \\n*Breathability: High  \\n*Occasion Suitability: Casual  \\n*Lapel: Not applicable',\n",
       "  'Mango'),\n",
       " (44,\n",
       "  43,\n",
       "  '    *Type: Dress\\n    *Fit: Regular fit\\n    *Sleeve style: Long sleeve\\n    *Neckline: Button-down\\n    *Material: Lyocell\\n    *Formality: Casual\\n    *Season: Spring, Summer\\n    *Colors: Light blue 100%\\n    *Texture: Smooth\\n    *Transparency: Opaque\\n    *Details and Embellishments: Buttons, chest pockets\\n    *Shape: Straight\\n    *Length: Knee-length\\n    *Collar Style: Button-down collar\\n    *Sleeve Style: Long\\n    *Patterns: Not applicable\\n    *Patterns placement: Not applicable\\n    *Fluidity of fabric: Medium\\n    *Fabric weight: Light\\n    *Pocket Presence: Yes\\n    *Pocket placement: Chest\\n    *Pocket size: Medium\\n    *Breathability: High\\n    *Occasion Suitability: Casual\\n    *Lapel: Not applicable',\n",
       "  'Mango'),\n",
       " (45,\n",
       "  44,\n",
       "  '*Type: Top  \\n*Fit: Regular fit  \\n*Sleeve style: Long sleeve  \\n*Neckline: V-neck  \\n*Material: Assumed Polyester (based on \"Tessuto fluido\")  \\n*Formality: Casual  \\n*Seasson: Spring, Summer  \\n*Colors: White (100%)  \\n*Texture: Crinkled  \\n*Transparency: Semi-transparent  \\n*Details and Embellishments: Not applicable  \\n*Shape: Relaxed  \\n*Length: Hip-length  \\n*Collar Style: V-neck  \\n*Sleeve Style: Long  \\n*Patterns: Not applicable  \\n*Patterns placement: Not applicable  \\n*Fluidity of fabric: High  \\n*Fabric weight: Light  \\n*Pocket Presence: No  \\n*Pocket placement: Not applicable  \\n*Pocket size: Not applicable  \\n*Breathability: High  \\n*Occasion Suitability: Casual  \\n*Lapel: Not applicable',\n",
       "  'Mango'),\n",
       " (46,\n",
       "  45,\n",
       "  '*Type: Long dress\\n*Fit: Regular fit\\n*Sleeve style: Sleeveless\\n*Neckline: V-neck\\n*Material: 100% Cotton\\n*Formality: Casual\\n*Season: Summer\\n*Colors: Black 100%\\n*Texture: Smooth\\n*Transparency: Opaque\\n*Details and Embellishments: None\\n*Shape: Fitted\\n*Length: Full-length\\n*Collar Style: V-neck\\n*Sleeve Style: Sleeveless\\n*Patterns: Not applicable\\n*Patterns placement: Not applicable\\n*Fluidity of fabric: High\\n*Fabric weight: Light\\n*Pocket Presence: No\\n*Pocket placement: Not applicable\\n*Pocket size: Not applicable\\n*Breathability: High\\n*Occasion Suitability: Casual\\n*Lapel: Not applicable',\n",
       "  'Mango'),\n",
       " (47,\n",
       "  46,\n",
       "  '*Type: Jacket  \\n*Fit: Regular fit  \\n*Sleeve style: Long sleeve  \\n*Neckline: Not applicable  \\n*Material: Cotton mix  \\n*Formality: Casual  \\n*Seasson: Autumn, Winter  \\n*Colors: Black 100%  \\n*Texture: Smooth  \\n*Transparency: Opaque  \\n*Details and Embellishments: Buttons, Pockets  \\n*Shape: Fitted  \\n*Length: Hip-length  \\n*Collar Style: Button-down  \\n*Sleeve Style: Long  \\n*Patterns: Solid  \\n*Patterns placement: Not applicable  \\n*Fluidity of fabric: Medium  \\n*Fabric weight: Medium  \\n*Pocket Presence: Yes  \\n*Pocket placement: Front  \\n*Pocket size: Medium  \\n*Breathability: Medium  \\n*Occasion Suitability: Casual  \\n*Lapel: Notch',\n",
       "  'Mango'),\n",
       " (48,\n",
       "  47,\n",
       "  '*Type: Dress  \\n*Fit: Regular fit  \\n*Sleeve style: Sleeveless  \\n*Neckline: V-neck  \\n*Material: Tulle, Satin  \\n*Formality: Formal  \\n*Season: Spring, Summer  \\n*Colors: Black (100%)  \\n*Texture: Smooth  \\n*Transparency: Semi-transparent  \\n*Details and Embellishments: None  \\n*Shape: Fitted  \\n*Length: Midi  \\n*Collar Style: V-neck  \\n*Sleeve Style: Sleeveless  \\n*Patterns: Not applicable  \\n*Patterns placement: Not applicable  \\n*Fluidity of fabric: High  \\n*Fabric weight: Light  \\n*Pocket Presence: No  \\n*Pocket placement: Not applicable  \\n*Pocket size: Not applicable  \\n*Breathability: High  \\n*Occasion Suitability: Formal  \\n*Lapel: Not applicable',\n",
       "  'Mango'),\n",
       " (49,\n",
       "  48,\n",
       "  '*Type: Blouse  \\n*Fit: Loose  \\n*Sleeve style: Long sleeve  \\n*Neckline: V-neck  \\n*Material: Fluid fabric, Polyester  \\n*Formality: Casual  \\n*Season: Spring, Summer  \\n*Colors: White 90%, Blue 10%  \\n*Texture: Smooth  \\n*Transparency: Semi-transparent  \\n*Details and Embellishments: Buttons  \\n*Shape: Relaxed  \\n*Length: Hip-length  \\n*Collar Style: V-neck  \\n*Sleeve Style: Long  \\n*Patterns: Floral  \\n*Patterns placement: Not applicable  \\n*Fluidity of fabric: High  \\n*Fabric weight: Light  \\n*Pocket Presence: No  \\n*Pocket placement: Not applicable  \\n*Pocket size: Not applicable  \\n*Breathability: High  \\n*Occasion Suitability: Casual  \\n*Lapel: Not applicable',\n",
       "  'Mango'),\n",
       " (50,\n",
       "  49,\n",
       "  '*Type: Dress\\n*Fit: Regular fit\\n*Sleeve style: Sleeveless\\n*Neckline: V-neck\\n*Material: Flowy fabric\\n*Formality: Casual\\n*Season: Summer\\n*Colors: Black 100%\\n*Texture: Textured\\n*Transparency: Opaque\\n*Details and Embellishments: None\\n*Shape: Fitted\\n*Length: Knee-length\\n*Collar Style: V-neck\\n*Sleeve Style: Sleeveless\\n*Patterns: Not applicable\\n*Patterns placement: Not applicable\\n*Fluidity of fabric: High\\n*Fabric weight: Light\\n*Pocket Presence: No\\n*Pocket placement: Not applicable\\n*Pocket size: Not applicable\\n*Breathability: High\\n*Occasion Suitability: Casual\\n*Lapel: Not applicable',\n",
       "  'Mango'),\n",
       " (51,\n",
       "  50,\n",
       "  '*Type: Dress\\n*Fit: Regular fit\\n*Sleeve style: Long sleeve\\n*Neckline: Crew neck\\n*Material: Likely polyester (based on \"Tessuto fluido\")\\n*Formality: Casual\\n*Season: Spring, Summer\\n*Colors: Beige (100%)\\n*Texture: Smooth\\n*Transparency: Opaque\\n*Details and Embellishments: Not applicable\\n*Shape: Fitted\\n*Length: Hip-length\\n*Collar Style: Crew neck\\n*Sleeve Style: Long\\n*Patterns: Floral\\n*Patterns placement: All over\\n*Fluidity of fabric: High\\n*Fabric weight: Light\\n*Pocket Presence: No\\n*Pocket placement: Not applicable\\n*Pocket size: Not applicable\\n*Breathability: High\\n*Occasion Suitability: Casual\\n*Lapel: Not applicable',\n",
       "  'Mango'),\n",
       " (52,\n",
       "  51,\n",
       "  '*Type:  \\nDress\\n\\n*Fit: \\nRegular fit\\n\\n*Sleeve style: \\nSleeveless\\n\\n*Neckline: \\nCrew neck\\n\\n*Material: \\nPolyester\\n\\n*Formality: \\nCasual\\n\\n*Seasson: \\nSummer\\n\\n*Colors:  \\nBlack 100%\\n\\n*Texture: \\nSmooth\\n\\n*Transparency: \\nOpaque\\n\\n*Details and Embellishments: \\nPleats\\n\\n*Shape: \\nFlared\\n\\n*Length: \\nLong\\n\\n*Collar Style: \\nCrew neck\\n\\n*Sleeve Style: \\nSleeveless\\n\\n*Patterns: \\nNot applicable\\n\\n*Patterns placement: \\nNot applicable\\n\\n*Fluidity of fabric:\\nFluid\\n\\n*Fabric weight: \\nLight\\n\\n*Pocket Presence:\\nNo\\n\\n*Pocket placement:\\nNot applicable\\n\\n*Pocket size:\\nNot applicable\\n\\n*Breathability: \\nHigh\\n\\n*Occasion Suitability: \\nCasual\\n\\n*Lapel:\\nNot applicable',\n",
       "  'Mango'),\n",
       " (53,\n",
       "  52,\n",
       "  '*Type: Sweater, Top\\n*Fit: Regular fit\\n*Sleeve style: Long sleeve\\n*Neckline: Crew neck\\n*Material: Cotton blend\\n*Formality: Casual\\n*Seasson: Spring, Summer\\n*Colors: White (100%)\\n*Texture: Crochet\\n*Transparency: Semi-transparent\\n*Details and Embellishments: Crochet pattern\\n*Shape: Fitted\\n*Length: Hip-length\\n*Collar Style: Crew neck\\n*Sleeve Style: Long sleeve\\n*Patterns: Not applicable\\n*Patterns placement: Not applicable\\n*Fluidity of fabric: Medium\\n*Fabric weight: Light\\n*Pocket Presence: No\\n*Pocket placement: Not applicable\\n*Pocket size: Not applicable\\n*Breathability: High\\n*Occasion Suitability: Casual\\n*Lapel: Not applicable',\n",
       "  'Mango'),\n",
       " (54,\n",
       "  53,\n",
       "  '*Type: Shirt  \\n*Fit: Regular fit  \\n*Sleeve style: Long sleeve  \\n*Neckline: Button-down collar  \\n*Material: 100% Cotton  \\n*Formality: Casual  \\n*Season: Spring, Summer  \\n*Colors: White 100%  \\n*Texture: Smooth  \\n*Transparency: Opaque  \\n*Details and Embellishments: Buttons  \\n*Shape: Straight  \\n*Length: Hip-length  \\n*Collar Style: Button-down  \\n*Sleeve Style: Long  \\n*Patterns: Not applicable  \\n*Patterns placement: Not applicable  \\n*Fluidity of fabric: Medium  \\n*Fabric weight: Light  \\n*Pocket Presence: No  \\n*Pocket placement: Not applicable  \\n*Pocket size: Not applicable  \\n*Breathability: High  \\n*Occasion Suitability: Casual  \\n*Lapel: Not applicable',\n",
       "  'Mango'),\n",
       " (55,\n",
       "  54,\n",
       "  '*Type: blouse  \\n*Fit: loose  \\n*Sleeve style: long sleeve  \\n*Neckline: V-neck  \\n*Material: cotton  \\n*Formality: casual  \\n*Season: spring, summer  \\n*Colors: white (100%)  \\n*Texture: smooth  \\n*Transparency: semi-transparent  \\n*Details and Embellishments: buttons, lace trim  \\n*Shape: relaxed  \\n*Length: hip-length  \\n*Collar Style: V-neck  \\n*Sleeve Style: long  \\n*Patterns: not applicable  \\n*Patterns placement: not applicable  \\n*Fluidity of fabric: high  \\n*Fabric weight: light  \\n*Pocket Presence: no  \\n*Pocket placement: not applicable  \\n*Pocket size: not applicable  \\n*Breathability: high  \\n*Occasion Suitability: casual  \\n*Lapel: not applicable  ',\n",
       "  'Mango'),\n",
       " (56,\n",
       "  55,\n",
       "  '*Type: Dress  \\n*Fit: Regular fit  \\n*Sleeve style: Sleeveless  \\n*Neckline: V-neck  \\n*Material: Likely polyester (based on description \"Tessuto fluido\")  \\n*Formality: Casual  \\n*Seasson: Summer  \\n*Colors: Black (90%), White (10%)  \\n*Texture: Smooth  \\n*Transparency: Opaque  \\n*Details and Embellishments: None  \\n*Shape: Straight  \\n*Length: Midi  \\n*Collar Style: V-neck  \\n*Sleeve Style: Sleeveless  \\n*Patterns: Not applicable  \\n*Patterns placement: Not applicable  \\n*Fluidity of fabric: High  \\n*Fabric weight: Light  \\n*Pocket Presence: No  \\n*Pocket placement: Not applicable  \\n*Pocket size: Not applicable  \\n*Breathability: High  \\n*Occasion Suitability: Casual  \\n*Lapel: Not applicable',\n",
       "  'Mango'),\n",
       " (57,\n",
       "  56,\n",
       "  '*Type: shirt  \\n*Fit: oversized  \\n*Sleeve style: long sleeve  \\n*Neckline: crew neck  \\n*Material: 100% cotton  \\n*Formality: casual  \\n*Seasson: spring, summer  \\n*Colors: black (100%)  \\n*Texture: smooth  \\n*Transparency: opaque  \\n*Details and Embellishments: not applicable  \\n*Shape: boxy  \\n*Length: hip-length  \\n*Collar Style: crew neck  \\n*Sleeve Style: long  \\n*Patterns: not applicable  \\n*Patterns placement: not applicable  \\n*Fluidity of fabric: medium  \\n*Fabric weight: light  \\n*Pocket Presence: no  \\n*Pocket placement: not applicable  \\n*Pocket size: not applicable  \\n*Breathability: high  \\n*Occasion Suitability: casual  \\n*Lapel: not applicable',\n",
       "  'Mango'),\n",
       " (58,\n",
       "  57,\n",
       "  '*Type: Shirt\\n*Fit: Regular fit\\n*Sleeve style: Long sleeve\\n*Neckline: Button-down\\n*Material: Tessuto fluido\\n*Formality: Business Casual\\n*Seasson: Spring, Autumn\\n*Colors: White (90%), Black (10%)\\n*Texture: Smooth\\n*Transparency: Opaque\\n*Details and Embellishments: Buttons, Front Pocket\\n*Shape: Straight\\n*Length: Hip-length\\n*Collar Style: Button-down\\n*Sleeve Style: Long\\n*Patterns: Striped\\n*Patterns placement: Throughout\\n*Fluidity of fabric: High\\n*Fabric weight: Light\\n*Pocket Presence: Yes\\n*Pocket placement: Left Chest\\n*Pocket size: Medium\\n*Breathability: High\\n*Occasion Suitability: Business casual, Casual\\n*Lapel: Not applicable',\n",
       "  'Mango')]"
      ]
     },
     "execution_count": 3,
     "metadata": {},
     "output_type": "execute_result"
    }
   ],
   "source": [
    "query = \"SELECT id, Brand_id , Detail, Brand FROM product_characteristics INNER JOIN Products ON product_characteristics.Brand_id = Products.Brand_Prod_id WHERE product_characteristics.encoded = false ;\"\n",
    "cursor.execute(query)\n",
    "\n",
    "# Fetch the rows\n",
    "rows = cursor.fetchall()\n",
    "rows"
   ]
  },
  {
   "cell_type": "code",
   "execution_count": 4,
   "metadata": {},
   "outputs": [],
   "source": [
    "SQLf.sql_db_functions.close_connection_db(conn=conn,cursor=cursor)"
   ]
  },
  {
   "cell_type": "code",
   "execution_count": 5,
   "metadata": {},
   "outputs": [],
   "source": [
    "import pandas as pd"
   ]
  },
  {
   "cell_type": "code",
   "execution_count": 6,
   "metadata": {},
   "outputs": [],
   "source": [
    "df = pd.DataFrame(rows ,columns= ['Id','prod_id','descripcion','Brand'])"
   ]
  },
  {
   "cell_type": "code",
   "execution_count": 7,
   "metadata": {},
   "outputs": [
    {
     "data": {
      "text/html": [
       "<div>\n",
       "<style scoped>\n",
       "    .dataframe tbody tr th:only-of-type {\n",
       "        vertical-align: middle;\n",
       "    }\n",
       "\n",
       "    .dataframe tbody tr th {\n",
       "        vertical-align: top;\n",
       "    }\n",
       "\n",
       "    .dataframe thead th {\n",
       "        text-align: right;\n",
       "    }\n",
       "</style>\n",
       "<table border=\"1\" class=\"dataframe\">\n",
       "  <thead>\n",
       "    <tr style=\"text-align: right;\">\n",
       "      <th></th>\n",
       "      <th>Id</th>\n",
       "      <th>prod_id</th>\n",
       "      <th>descripcion</th>\n",
       "      <th>Brand</th>\n",
       "    </tr>\n",
       "  </thead>\n",
       "  <tbody>\n",
       "    <tr>\n",
       "      <th>0</th>\n",
       "      <td>2</td>\n",
       "      <td>1</td>\n",
       "      <td>*Type: Shirt\\n*Fit: Regular fit\\n*Sleeve style...</td>\n",
       "      <td>Gucci</td>\n",
       "    </tr>\n",
       "    <tr>\n",
       "      <th>1</th>\n",
       "      <td>3</td>\n",
       "      <td>2</td>\n",
       "      <td>*Type: Shirt\\n*Fit: Regular fit\\n*Sleeve style...</td>\n",
       "      <td>Gucci</td>\n",
       "    </tr>\n",
       "    <tr>\n",
       "      <th>2</th>\n",
       "      <td>4</td>\n",
       "      <td>3</td>\n",
       "      <td>*Type: Top  \\n*Fit: Regular fit  \\n*Sleeve sty...</td>\n",
       "      <td>Gucci</td>\n",
       "    </tr>\n",
       "    <tr>\n",
       "      <th>3</th>\n",
       "      <td>5</td>\n",
       "      <td>4</td>\n",
       "      <td>*Type: Shirt  \\n*Fit: Regular fit  \\n*Sleeve s...</td>\n",
       "      <td>Gucci</td>\n",
       "    </tr>\n",
       "    <tr>\n",
       "      <th>4</th>\n",
       "      <td>6</td>\n",
       "      <td>5</td>\n",
       "      <td>*Type: Shirt  \\n*Fit: Regular fit  \\n*Sleeve s...</td>\n",
       "      <td>Gucci</td>\n",
       "    </tr>\n",
       "  </tbody>\n",
       "</table>\n",
       "</div>"
      ],
      "text/plain": [
       "   Id  prod_id                                        descripcion  Brand\n",
       "0   2        1  *Type: Shirt\\n*Fit: Regular fit\\n*Sleeve style...  Gucci\n",
       "1   3        2  *Type: Shirt\\n*Fit: Regular fit\\n*Sleeve style...  Gucci\n",
       "2   4        3  *Type: Top  \\n*Fit: Regular fit  \\n*Sleeve sty...  Gucci\n",
       "3   5        4  *Type: Shirt  \\n*Fit: Regular fit  \\n*Sleeve s...  Gucci\n",
       "4   6        5  *Type: Shirt  \\n*Fit: Regular fit  \\n*Sleeve s...  Gucci"
      ]
     },
     "execution_count": 7,
     "metadata": {},
     "output_type": "execute_result"
    }
   ],
   "source": [
    "df.head()"
   ]
  },
  {
   "cell_type": "code",
   "execution_count": 8,
   "metadata": {},
   "outputs": [
    {
     "data": {
      "text/html": [
       "<div>\n",
       "<style scoped>\n",
       "    .dataframe tbody tr th:only-of-type {\n",
       "        vertical-align: middle;\n",
       "    }\n",
       "\n",
       "    .dataframe tbody tr th {\n",
       "        vertical-align: top;\n",
       "    }\n",
       "\n",
       "    .dataframe thead th {\n",
       "        text-align: right;\n",
       "    }\n",
       "</style>\n",
       "<table border=\"1\" class=\"dataframe\">\n",
       "  <thead>\n",
       "    <tr style=\"text-align: right;\">\n",
       "      <th></th>\n",
       "      <th>Id</th>\n",
       "      <th>prod_id</th>\n",
       "      <th>descripcion</th>\n",
       "      <th>Brand</th>\n",
       "    </tr>\n",
       "  </thead>\n",
       "  <tbody>\n",
       "    <tr>\n",
       "      <th>0</th>\n",
       "      <td>2</td>\n",
       "      <td>1</td>\n",
       "      <td>Type: Shirt / Fit: Regular fit / Sleeve style...</td>\n",
       "      <td>Gucci</td>\n",
       "    </tr>\n",
       "    <tr>\n",
       "      <th>1</th>\n",
       "      <td>3</td>\n",
       "      <td>2</td>\n",
       "      <td>Type: Shirt / Fit: Regular fit / Sleeve style...</td>\n",
       "      <td>Gucci</td>\n",
       "    </tr>\n",
       "    <tr>\n",
       "      <th>2</th>\n",
       "      <td>4</td>\n",
       "      <td>3</td>\n",
       "      <td>Type: Top   / Fit: Regular fit   / Sleeve sty...</td>\n",
       "      <td>Gucci</td>\n",
       "    </tr>\n",
       "    <tr>\n",
       "      <th>3</th>\n",
       "      <td>5</td>\n",
       "      <td>4</td>\n",
       "      <td>Type: Shirt   / Fit: Regular fit   / Sleeve s...</td>\n",
       "      <td>Gucci</td>\n",
       "    </tr>\n",
       "    <tr>\n",
       "      <th>4</th>\n",
       "      <td>6</td>\n",
       "      <td>5</td>\n",
       "      <td>Type: Shirt   / Fit: Regular fit   / Sleeve s...</td>\n",
       "      <td>Gucci</td>\n",
       "    </tr>\n",
       "  </tbody>\n",
       "</table>\n",
       "</div>"
      ],
      "text/plain": [
       "   Id  prod_id                                        descripcion  Brand\n",
       "0   2        1   Type: Shirt / Fit: Regular fit / Sleeve style...  Gucci\n",
       "1   3        2   Type: Shirt / Fit: Regular fit / Sleeve style...  Gucci\n",
       "2   4        3   Type: Top   / Fit: Regular fit   / Sleeve sty...  Gucci\n",
       "3   5        4   Type: Shirt   / Fit: Regular fit   / Sleeve s...  Gucci\n",
       "4   6        5   Type: Shirt   / Fit: Regular fit   / Sleeve s...  Gucci"
      ]
     },
     "execution_count": 8,
     "metadata": {},
     "output_type": "execute_result"
    }
   ],
   "source": [
    "df['descripcion'] = df['descripcion'].str.replace('\\n*', ' / ')\n",
    "df['descripcion'] = df['descripcion'].str.replace(r'\\s+', ' ')\n",
    "df['descripcion'] = df['descripcion'].str.replace('*', ' ')\n",
    "\n",
    "df.head(5)"
   ]
  },
  {
   "cell_type": "code",
   "execution_count": 9,
   "metadata": {},
   "outputs": [
    {
     "data": {
      "text/html": [
       "<div>\n",
       "<style scoped>\n",
       "    .dataframe tbody tr th:only-of-type {\n",
       "        vertical-align: middle;\n",
       "    }\n",
       "\n",
       "    .dataframe tbody tr th {\n",
       "        vertical-align: top;\n",
       "    }\n",
       "\n",
       "    .dataframe thead th {\n",
       "        text-align: right;\n",
       "    }\n",
       "</style>\n",
       "<table border=\"1\" class=\"dataframe\">\n",
       "  <thead>\n",
       "    <tr style=\"text-align: right;\">\n",
       "      <th></th>\n",
       "      <th>Id</th>\n",
       "      <th>prod_id</th>\n",
       "      <th>descripcion</th>\n",
       "      <th>Brand</th>\n",
       "    </tr>\n",
       "  </thead>\n",
       "  <tbody>\n",
       "    <tr>\n",
       "      <th>0</th>\n",
       "      <td>2</td>\n",
       "      <td>1</td>\n",
       "      <td>Brand: Gucci / Type: Shirt / Fit: Regular fit ...</td>\n",
       "      <td>Gucci</td>\n",
       "    </tr>\n",
       "    <tr>\n",
       "      <th>1</th>\n",
       "      <td>3</td>\n",
       "      <td>2</td>\n",
       "      <td>Brand: Gucci / Type: Shirt / Fit: Regular fit ...</td>\n",
       "      <td>Gucci</td>\n",
       "    </tr>\n",
       "    <tr>\n",
       "      <th>2</th>\n",
       "      <td>4</td>\n",
       "      <td>3</td>\n",
       "      <td>Brand: Gucci / Type: Top   / Fit: Regular fit ...</td>\n",
       "      <td>Gucci</td>\n",
       "    </tr>\n",
       "    <tr>\n",
       "      <th>3</th>\n",
       "      <td>5</td>\n",
       "      <td>4</td>\n",
       "      <td>Brand: Gucci / Type: Shirt   / Fit: Regular fi...</td>\n",
       "      <td>Gucci</td>\n",
       "    </tr>\n",
       "    <tr>\n",
       "      <th>4</th>\n",
       "      <td>6</td>\n",
       "      <td>5</td>\n",
       "      <td>Brand: Gucci / Type: Shirt   / Fit: Regular fi...</td>\n",
       "      <td>Gucci</td>\n",
       "    </tr>\n",
       "  </tbody>\n",
       "</table>\n",
       "</div>"
      ],
      "text/plain": [
       "   Id  prod_id                                        descripcion  Brand\n",
       "0   2        1  Brand: Gucci / Type: Shirt / Fit: Regular fit ...  Gucci\n",
       "1   3        2  Brand: Gucci / Type: Shirt / Fit: Regular fit ...  Gucci\n",
       "2   4        3  Brand: Gucci / Type: Top   / Fit: Regular fit ...  Gucci\n",
       "3   5        4  Brand: Gucci / Type: Shirt   / Fit: Regular fi...  Gucci\n",
       "4   6        5  Brand: Gucci / Type: Shirt   / Fit: Regular fi...  Gucci"
      ]
     },
     "execution_count": 9,
     "metadata": {},
     "output_type": "execute_result"
    }
   ],
   "source": [
    "df['descripcion'] = \"Brand: \" + df['Brand'] + \" /\" + df['descripcion']\n",
    "df.head()"
   ]
  },
  {
   "cell_type": "code",
   "execution_count": 10,
   "metadata": {},
   "outputs": [],
   "source": [
    "df.drop(columns=['Brand'], axis=1, inplace=True)"
   ]
  },
  {
   "cell_type": "code",
   "execution_count": 11,
   "metadata": {},
   "outputs": [],
   "source": [
    "documents = df['descripcion'].tolist()\n",
    "id = df['Id'].astype('str').tolist()\n",
    "metadata = [{\"source\": id} for id in df['Id'].astype('str').tolist()]"
   ]
  },
  {
   "cell_type": "markdown",
   "metadata": {},
   "source": [
    "### Embeddings"
   ]
  },
  {
   "cell_type": "code",
   "execution_count": 12,
   "metadata": {},
   "outputs": [],
   "source": [
    "#from langchain_chroma import Chroma\n",
    "\n",
    "from langchain.vectorstores import Chroma\n",
    "\n",
    "from langchain_community.embeddings.sentence_transformer import (\n",
    "    SentenceTransformerEmbeddings,\n",
    ")"
   ]
  },
  {
   "cell_type": "code",
   "execution_count": 13,
   "metadata": {},
   "outputs": [
    {
     "name": "stderr",
     "output_type": "stream",
     "text": [
      "c:\\Users\\juand\\anaconda3\\Lib\\site-packages\\langchain_core\\_api\\deprecation.py:139: LangChainDeprecationWarning: The class `HuggingFaceEmbeddings` was deprecated in LangChain 0.2.2 and will be removed in 0.3.0. An updated version of the class exists in the langchain-huggingface package and should be used instead. To use it run `pip install -U langchain-huggingface` and import as `from langchain_huggingface import HuggingFaceEmbeddings`.\n",
      "  warn_deprecated(\n",
      "c:\\Users\\juand\\anaconda3\\Lib\\site-packages\\sentence_transformers\\cross_encoder\\CrossEncoder.py:11: TqdmExperimentalWarning: Using `tqdm.autonotebook.tqdm` in notebook mode. Use `tqdm.tqdm` instead to force console mode (e.g. in jupyter console)\n",
      "  from tqdm.autonotebook import tqdm, trange\n",
      "c:\\Users\\juand\\anaconda3\\Lib\\site-packages\\transformers\\utils\\generic.py:482: UserWarning: torch.utils._pytree._register_pytree_node is deprecated. Please use torch.utils._pytree.register_pytree_node instead.\n",
      "  _torch_pytree._register_pytree_node(\n",
      "c:\\Users\\juand\\anaconda3\\Lib\\site-packages\\transformers\\utils\\generic.py:339: UserWarning: torch.utils._pytree._register_pytree_node is deprecated. Please use torch.utils._pytree.register_pytree_node instead.\n",
      "  _torch_pytree._register_pytree_node(\n"
     ]
    }
   ],
   "source": [
    "embedding_function = SentenceTransformerEmbeddings(model_name='all-mpnet-base-v2')"
   ]
  },
  {
   "cell_type": "code",
   "execution_count": 14,
   "metadata": {},
   "outputs": [],
   "source": [
    "persist_directory = 'chroma-db'"
   ]
  },
  {
   "cell_type": "code",
   "execution_count": 28,
   "metadata": {},
   "outputs": [],
   "source": [
    "db = Chroma.from_texts(texts=documents,\n",
    "                  ids=id,\n",
    "                  embedding=embedding_function,\n",
    "                  collection_name='encodings',\n",
    "                  metadatas=metadata,\n",
    "                  persist_directory=persist_directory\n",
    "                  )"
   ]
  },
  {
   "cell_type": "code",
   "execution_count": 29,
   "metadata": {},
   "outputs": [
    {
     "data": {
      "text/plain": [
       "[Document(page_content='Brand: HM / Type: Dress   / Fit: Regular fit   / Sleeve style: Long sleeve   / Neckline: V-neck   / Material: Cotton   / Formality: Casual   / Seasson: Autumn   / Colors: 100% Black   / Texture: Smooth   / Transparency: Opaque   / Details and Embellishments: Buttons   / Shape: Fitted   / Length: Midi   / Collar Style: Not applicable   / Sleeve Style: Long   / Patterns: Not applicable   / Patterns placement: Not applicable   / Fluidity of fabric: Moderate   / Fabric weight: Medium   / Pocket Presence: No   / Pocket placement: Not applicable   / Pocket size: Not applicable   / Breathability: Medium   / Occasion Suitability: Casual   / Lapel: Not applicable', metadata={'source': '19'}),\n",
       " Document(page_content='Brand: HM / Type: Dress / Fit: Regular fit / Sleeve style: Long sleeve / Neckline: V-neck / Material: Polyester / Formality: Casual / Season: Autumn, Spring / Colors: Black 90%, White 10% / Texture: Smooth / Transparency: Opaque / Details and Embellishments: Buttons / Shape: Fitted / Length: Midi / Collar Style: V-neck / Sleeve Style: Long / Patterns: Floral / Patterns placement: Not applicable / Fluidity of fabric: Medium / Fabric weight: Light / Pocket Presence: No / Pocket placement: Not applicable / Pocket size: Not applicable / Breathability: Medium / Occasion Suitability: Casual / Lapel: Not applicable', metadata={'source': '22'}),\n",
       " Document(page_content='Brand: HM / Type: Dress / Fit: Regular fit / Sleeve style: Sleeveless / Neckline: Round neck / Material: Cotton / Formality: Casual / Season: Summer / Colors: White 80%, Black 20% / Texture: Smooth / Transparency: Opaque / Details and Embellishments: None / Shape: Fitted / Length: Above knee / Collar Style: Round neck / Sleeve Style: Sleeveless / Patterns: Floral / Patterns placement: All over / Fluidity of fabric: Medium / Fabric weight: Light / Pocket Presence: No / Pocket placement: Not applicable / Pocket size: Not applicable / Breathability: High / Occasion Suitability: Casual / Lapel: Not applicable', metadata={'source': '37'}),\n",
       " Document(page_content='Brand: HM / Type: Dress / Fit: Regular fit / Sleeve style: Sleeveless / Neckline: V-neck / Material: Polyester / Formality: Casual / Seasson: Summer / Colors: Light blue (100%) / Texture: Smooth / Transparency: Opaque / Details and Embellishments: Not applicable / Shape: Fitted / Length: Knee-length / Collar Style: Not applicable / Sleeve Style: Sleeveless / Patterns: Floral / Patterns placement: All over / Fluidity of fabric: Medium / Fabric weight: Light / Pocket Presence: No / Pocket placement: Not applicable / Pocket size: Not applicable / Breathability: High / Occasion Suitability: Casual / Lapel: Not applicable', metadata={'source': '29'})]"
      ]
     },
     "execution_count": 29,
     "metadata": {},
     "output_type": "execute_result"
    }
   ],
   "source": [
    "db.similarity_search(query='hello')"
   ]
  },
  {
   "cell_type": "code",
   "execution_count": 30,
   "metadata": {},
   "outputs": [],
   "source": [
    "db.persist()"
   ]
  },
  {
   "cell_type": "markdown",
   "metadata": {},
   "source": [
    "### Flag sql that was loaded to chroma"
   ]
  },
  {
   "cell_type": "code",
   "execution_count": 41,
   "metadata": {},
   "outputs": [],
   "source": [
    "import psycopg2\n",
    "from psycopg2.extras import execute_batch"
   ]
  },
  {
   "cell_type": "code",
   "execution_count": 42,
   "metadata": {},
   "outputs": [],
   "source": [
    "ids_to_update = df.prod_id.to_list()"
   ]
  },
  {
   "cell_type": "code",
   "execution_count": 47,
   "metadata": {},
   "outputs": [],
   "source": [
    "conn, cursor = SQLf.sql_db_functions.connect_sql()"
   ]
  },
  {
   "cell_type": "code",
   "execution_count": 48,
   "metadata": {},
   "outputs": [],
   "source": [
    "query = \"\"\"\n",
    "    UPDATE product_characteristics\n",
    "    SET encoded = TRUE\n",
    "    WHERE id IN %s\n",
    "\"\"\"\n",
    "cursor.execute(query,(tuple(ids_to_update),)) "
   ]
  },
  {
   "cell_type": "code",
   "execution_count": 49,
   "metadata": {},
   "outputs": [],
   "source": [
    "conn.commit()"
   ]
  },
  {
   "cell_type": "code",
   "execution_count": 50,
   "metadata": {},
   "outputs": [],
   "source": [
    "conn, cursor = SQLf.sql_db_functions.connect_sql()"
   ]
  },
  {
   "cell_type": "code",
   "execution_count": 52,
   "metadata": {},
   "outputs": [],
   "source": [
    "SQLf.sql_db_functions.close_connection_db(conn=conn,cursor=cursor)"
   ]
  }
 ],
 "metadata": {
  "kernelspec": {
   "display_name": "Python 3",
   "language": "python",
   "name": "python3"
  },
  "language_info": {
   "codemirror_mode": {
    "name": "ipython",
    "version": 3
   },
   "file_extension": ".py",
   "mimetype": "text/x-python",
   "name": "python",
   "nbconvert_exporter": "python",
   "pygments_lexer": "ipython3",
   "version": "3.11.8"
  }
 },
 "nbformat": 4,
 "nbformat_minor": 2
}
