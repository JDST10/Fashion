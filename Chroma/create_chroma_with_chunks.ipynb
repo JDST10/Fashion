{
 "cells": [
  {
   "cell_type": "code",
   "execution_count": 1,
   "metadata": {},
   "outputs": [],
   "source": [
    "import sys, os\n",
    "sys.path.append(os.path.join(os.path.dirname('__file__'), '..', 'DB_and_Azure'))\n",
    "import sql_db_functions as SQLf"
   ]
  },
  {
   "cell_type": "markdown",
   "metadata": {},
   "source": [
    "### get data from server"
   ]
  },
  {
   "cell_type": "code",
   "execution_count": 2,
   "metadata": {},
   "outputs": [],
   "source": [
    "conn, cursor = SQLf.sql_db_functions.connect_sql()"
   ]
  },
  {
   "cell_type": "code",
   "execution_count": 3,
   "metadata": {},
   "outputs": [
    {
     "data": {
      "text/plain": [
       "(1,\n",
       " 1,\n",
       " '*Type: Shirt  \\n*Fit: Regular fit  \\n*Sleeve style: Long sleeve  \\n*Neckline: Not applicable  \\n*Material: Silk  \\n*Formality: Formal  \\n*Season: Spring, Summer  \\n*Colors: 80% Pink, 20% Light Pink  \\n*Texture: Smooth  \\n*Transparency: Semi-transparent  \\n*Details and Embellishments: Buttons  \\n*Shape: Fitted  \\n*Length: Hip-length  \\n*Collar Style: Button-down  \\n*Sleeve Style: Long  \\n*Patterns: Geometric  \\n*Patterns placement: Not applicable  \\n*Fluidity of fabric: High  \\n*Fabric weight: Light  \\n*Pocket Presence: No  \\n*Pocket placement: Not applicable  \\n*Pocket size: Not applicable  \\n*Breathability: High  \\n*Occasion Suitability: Formal  \\n*Lapel: Not applicable',\n",
       " 'The Gucci silk shirt features the iconic GG monogram in a shadowed pattern, creating a subtle yet sophisticated texture. The shirt is crafted from high-quality silk, ensuring a fluid drape and lightweight feel, which enhances its breathability and comfort. The fit appears to be relaxed, offering a modern and versatile silhouette suitable for various occasions, from formal to semi-formal events. It has long sleeves with buttoned cuffs, adding a touch of classic elegance, and a traditional pointed collar that complements its refined style. The shirt\\'s primary color is a rich, deep burgundy, referred to as \"Wine Red,\" which is accentuated by the shadowed GG pattern in a slightly darker shade, creating a monochromatic yet dynamic visual effect. The material\\'s natural sheen adds a luxurious finish to the overall look. This shirt is ideal for cooler seasons due to its long sleeves and silk\\'s insulating properties. There are no visible pockets, maintaining a sleek and uninterrupted design.',\n",
       " 'Gucci')"
      ]
     },
     "execution_count": 3,
     "metadata": {},
     "output_type": "execute_result"
    }
   ],
   "source": [
    "query = \"SELECT product_characteristics.id, Brand_id , Detail, Summary, Brand FROM product_characteristics INNER JOIN Products ON product_characteristics.Brand_id = Products.Brand_Prod_id ;\"\n",
    "cursor.execute(query)\n",
    "\n",
    "# Fetch the rows\n",
    "rows = cursor.fetchall()\n",
    "rows[0]"
   ]
  },
  {
   "cell_type": "code",
   "execution_count": 4,
   "metadata": {},
   "outputs": [],
   "source": [
    "conn, cursor = SQLf.sql_db_functions.connect_sql()"
   ]
  },
  {
   "cell_type": "code",
   "execution_count": 5,
   "metadata": {},
   "outputs": [],
   "source": [
    "query = \"SELECT Brand_id, base64 FROM product_img ;\"\n",
    "cursor.execute(query)\n",
    "\n",
    "# Fetch the rows\n",
    "rows_img = cursor.fetchall()\n",
    "#rows_img"
   ]
  },
  {
   "cell_type": "code",
   "execution_count": 6,
   "metadata": {},
   "outputs": [
    {
     "data": {
      "text/plain": [
       "629"
      ]
     },
     "execution_count": 6,
     "metadata": {},
     "output_type": "execute_result"
    }
   ],
   "source": [
    "len(rows_img)"
   ]
  },
  {
   "cell_type": "code",
   "execution_count": 7,
   "metadata": {},
   "outputs": [],
   "source": [
    "SQLf.sql_db_functions.close_connection_db(conn=conn,cursor=cursor)"
   ]
  },
  {
   "cell_type": "markdown",
   "metadata": {},
   "source": [
    "### organize data"
   ]
  },
  {
   "cell_type": "code",
   "execution_count": 8,
   "metadata": {},
   "outputs": [],
   "source": [
    "import pandas as pd"
   ]
  },
  {
   "cell_type": "code",
   "execution_count": 9,
   "metadata": {},
   "outputs": [],
   "source": [
    "df = pd.DataFrame(rows ,columns= ['Id','prod_id','descripcion', 'Summary','Brand'])"
   ]
  },
  {
   "cell_type": "code",
   "execution_count": 10,
   "metadata": {},
   "outputs": [
    {
     "data": {
      "text/html": [
       "<div>\n",
       "<style scoped>\n",
       "    .dataframe tbody tr th:only-of-type {\n",
       "        vertical-align: middle;\n",
       "    }\n",
       "\n",
       "    .dataframe tbody tr th {\n",
       "        vertical-align: top;\n",
       "    }\n",
       "\n",
       "    .dataframe thead th {\n",
       "        text-align: right;\n",
       "    }\n",
       "</style>\n",
       "<table border=\"1\" class=\"dataframe\">\n",
       "  <thead>\n",
       "    <tr style=\"text-align: right;\">\n",
       "      <th></th>\n",
       "      <th>Id</th>\n",
       "      <th>prod_id</th>\n",
       "      <th>descripcion</th>\n",
       "      <th>Summary</th>\n",
       "      <th>Brand</th>\n",
       "    </tr>\n",
       "  </thead>\n",
       "  <tbody>\n",
       "    <tr>\n",
       "      <th>0</th>\n",
       "      <td>1</td>\n",
       "      <td>1</td>\n",
       "      <td>*Type: Shirt  \\n*Fit: Regular fit  \\n*Sleeve s...</td>\n",
       "      <td>The Gucci silk shirt features the iconic GG mo...</td>\n",
       "      <td>Gucci</td>\n",
       "    </tr>\n",
       "    <tr>\n",
       "      <th>1</th>\n",
       "      <td>2</td>\n",
       "      <td>2</td>\n",
       "      <td>*Type: Shirt\\n*Fit: Regular fit\\n*Sleeve style...</td>\n",
       "      <td>The Gucci Oxford cotton shirt with GG Shadow f...</td>\n",
       "      <td>Gucci</td>\n",
       "    </tr>\n",
       "    <tr>\n",
       "      <th>2</th>\n",
       "      <td>3</td>\n",
       "      <td>3</td>\n",
       "      <td>*Type: Top, Shirt\\n*Fit: Regular fit\\n*Sleeve ...</td>\n",
       "      <td>The Gucci top depicted in the images is a crop...</td>\n",
       "      <td>Gucci</td>\n",
       "    </tr>\n",
       "    <tr>\n",
       "      <th>3</th>\n",
       "      <td>4</td>\n",
       "      <td>4</td>\n",
       "      <td>*Type: Shirt  \\n*Fit: Regular fit  \\n*Sleeve s...</td>\n",
       "      <td>The Gucci silk shirt with the Morsetto and str...</td>\n",
       "      <td>Gucci</td>\n",
       "    </tr>\n",
       "    <tr>\n",
       "      <th>4</th>\n",
       "      <td>5</td>\n",
       "      <td>5</td>\n",
       "      <td>*Type: Shirt  \\n*Fit: Regular fit  \\n*Sleeve s...</td>\n",
       "      <td>The shirt in the images is a Gucci cotton Oxfo...</td>\n",
       "      <td>Gucci</td>\n",
       "    </tr>\n",
       "  </tbody>\n",
       "</table>\n",
       "</div>"
      ],
      "text/plain": [
       "   Id  prod_id                                        descripcion  \\\n",
       "0   1        1  *Type: Shirt  \\n*Fit: Regular fit  \\n*Sleeve s...   \n",
       "1   2        2  *Type: Shirt\\n*Fit: Regular fit\\n*Sleeve style...   \n",
       "2   3        3  *Type: Top, Shirt\\n*Fit: Regular fit\\n*Sleeve ...   \n",
       "3   4        4  *Type: Shirt  \\n*Fit: Regular fit  \\n*Sleeve s...   \n",
       "4   5        5  *Type: Shirt  \\n*Fit: Regular fit  \\n*Sleeve s...   \n",
       "\n",
       "                                             Summary  Brand  \n",
       "0  The Gucci silk shirt features the iconic GG mo...  Gucci  \n",
       "1  The Gucci Oxford cotton shirt with GG Shadow f...  Gucci  \n",
       "2  The Gucci top depicted in the images is a crop...  Gucci  \n",
       "3  The Gucci silk shirt with the Morsetto and str...  Gucci  \n",
       "4  The shirt in the images is a Gucci cotton Oxfo...  Gucci  "
      ]
     },
     "execution_count": 10,
     "metadata": {},
     "output_type": "execute_result"
    }
   ],
   "source": [
    "df.head()"
   ]
  },
  {
   "cell_type": "code",
   "execution_count": 11,
   "metadata": {},
   "outputs": [
    {
     "data": {
      "text/html": [
       "<div>\n",
       "<style scoped>\n",
       "    .dataframe tbody tr th:only-of-type {\n",
       "        vertical-align: middle;\n",
       "    }\n",
       "\n",
       "    .dataframe tbody tr th {\n",
       "        vertical-align: top;\n",
       "    }\n",
       "\n",
       "    .dataframe thead th {\n",
       "        text-align: right;\n",
       "    }\n",
       "</style>\n",
       "<table border=\"1\" class=\"dataframe\">\n",
       "  <thead>\n",
       "    <tr style=\"text-align: right;\">\n",
       "      <th></th>\n",
       "      <th>Id</th>\n",
       "      <th>prod_id</th>\n",
       "      <th>descripcion</th>\n",
       "      <th>Summary</th>\n",
       "      <th>Brand</th>\n",
       "    </tr>\n",
       "  </thead>\n",
       "  <tbody>\n",
       "    <tr>\n",
       "      <th>0</th>\n",
       "      <td>1</td>\n",
       "      <td>1</td>\n",
       "      <td>Type: Shirt   / Fit: Regular fit   / Sleeve s...</td>\n",
       "      <td>The Gucci silk shirt features the iconic GG mo...</td>\n",
       "      <td>Gucci</td>\n",
       "    </tr>\n",
       "    <tr>\n",
       "      <th>1</th>\n",
       "      <td>2</td>\n",
       "      <td>2</td>\n",
       "      <td>Type: Shirt / Fit: Regular fit / Sleeve style...</td>\n",
       "      <td>The Gucci Oxford cotton shirt with GG Shadow f...</td>\n",
       "      <td>Gucci</td>\n",
       "    </tr>\n",
       "    <tr>\n",
       "      <th>2</th>\n",
       "      <td>3</td>\n",
       "      <td>3</td>\n",
       "      <td>Type: Top, Shirt / Fit: Regular fit / Sleeve ...</td>\n",
       "      <td>The Gucci top depicted in the images is a crop...</td>\n",
       "      <td>Gucci</td>\n",
       "    </tr>\n",
       "    <tr>\n",
       "      <th>3</th>\n",
       "      <td>4</td>\n",
       "      <td>4</td>\n",
       "      <td>Type: Shirt   / Fit: Regular fit   / Sleeve s...</td>\n",
       "      <td>The Gucci silk shirt with the Morsetto and str...</td>\n",
       "      <td>Gucci</td>\n",
       "    </tr>\n",
       "    <tr>\n",
       "      <th>4</th>\n",
       "      <td>5</td>\n",
       "      <td>5</td>\n",
       "      <td>Type: Shirt   / Fit: Regular fit   / Sleeve s...</td>\n",
       "      <td>The shirt in the images is a Gucci cotton Oxfo...</td>\n",
       "      <td>Gucci</td>\n",
       "    </tr>\n",
       "  </tbody>\n",
       "</table>\n",
       "</div>"
      ],
      "text/plain": [
       "   Id  prod_id                                        descripcion  \\\n",
       "0   1        1   Type: Shirt   / Fit: Regular fit   / Sleeve s...   \n",
       "1   2        2   Type: Shirt / Fit: Regular fit / Sleeve style...   \n",
       "2   3        3   Type: Top, Shirt / Fit: Regular fit / Sleeve ...   \n",
       "3   4        4   Type: Shirt   / Fit: Regular fit   / Sleeve s...   \n",
       "4   5        5   Type: Shirt   / Fit: Regular fit   / Sleeve s...   \n",
       "\n",
       "                                             Summary  Brand  \n",
       "0  The Gucci silk shirt features the iconic GG mo...  Gucci  \n",
       "1  The Gucci Oxford cotton shirt with GG Shadow f...  Gucci  \n",
       "2  The Gucci top depicted in the images is a crop...  Gucci  \n",
       "3  The Gucci silk shirt with the Morsetto and str...  Gucci  \n",
       "4  The shirt in the images is a Gucci cotton Oxfo...  Gucci  "
      ]
     },
     "execution_count": 11,
     "metadata": {},
     "output_type": "execute_result"
    }
   ],
   "source": [
    "df['descripcion'] = df['descripcion'].str.replace('\\n*', ' / ')\n",
    "df['descripcion'] = df['descripcion'].str.replace(r'\\s+', ' ')\n",
    "df['descripcion'] = df['descripcion'].str.replace('*', ' ')\n",
    "\n",
    "df.head(5)"
   ]
  },
  {
   "cell_type": "code",
   "execution_count": 12,
   "metadata": {},
   "outputs": [
    {
     "data": {
      "text/html": [
       "<div>\n",
       "<style scoped>\n",
       "    .dataframe tbody tr th:only-of-type {\n",
       "        vertical-align: middle;\n",
       "    }\n",
       "\n",
       "    .dataframe tbody tr th {\n",
       "        vertical-align: top;\n",
       "    }\n",
       "\n",
       "    .dataframe thead th {\n",
       "        text-align: right;\n",
       "    }\n",
       "</style>\n",
       "<table border=\"1\" class=\"dataframe\">\n",
       "  <thead>\n",
       "    <tr style=\"text-align: right;\">\n",
       "      <th></th>\n",
       "      <th>Id</th>\n",
       "      <th>prod_id</th>\n",
       "      <th>descripcion</th>\n",
       "      <th>Summary</th>\n",
       "      <th>Brand</th>\n",
       "      <th>Complete_description</th>\n",
       "    </tr>\n",
       "  </thead>\n",
       "  <tbody>\n",
       "    <tr>\n",
       "      <th>0</th>\n",
       "      <td>1</td>\n",
       "      <td>1</td>\n",
       "      <td>Type: Shirt   / Fit: Regular fit   / Sleeve s...</td>\n",
       "      <td>The Gucci silk shirt features the iconic GG mo...</td>\n",
       "      <td>Gucci</td>\n",
       "      <td>The Gucci silk shirt features the iconic GG mo...</td>\n",
       "    </tr>\n",
       "    <tr>\n",
       "      <th>1</th>\n",
       "      <td>2</td>\n",
       "      <td>2</td>\n",
       "      <td>Type: Shirt / Fit: Regular fit / Sleeve style...</td>\n",
       "      <td>The Gucci Oxford cotton shirt with GG Shadow f...</td>\n",
       "      <td>Gucci</td>\n",
       "      <td>The Gucci Oxford cotton shirt with GG Shadow f...</td>\n",
       "    </tr>\n",
       "    <tr>\n",
       "      <th>2</th>\n",
       "      <td>3</td>\n",
       "      <td>3</td>\n",
       "      <td>Type: Top, Shirt / Fit: Regular fit / Sleeve ...</td>\n",
       "      <td>The Gucci top depicted in the images is a crop...</td>\n",
       "      <td>Gucci</td>\n",
       "      <td>The Gucci top depicted in the images is a crop...</td>\n",
       "    </tr>\n",
       "    <tr>\n",
       "      <th>3</th>\n",
       "      <td>4</td>\n",
       "      <td>4</td>\n",
       "      <td>Type: Shirt   / Fit: Regular fit   / Sleeve s...</td>\n",
       "      <td>The Gucci silk shirt with the Morsetto and str...</td>\n",
       "      <td>Gucci</td>\n",
       "      <td>The Gucci silk shirt with the Morsetto and str...</td>\n",
       "    </tr>\n",
       "    <tr>\n",
       "      <th>4</th>\n",
       "      <td>5</td>\n",
       "      <td>5</td>\n",
       "      <td>Type: Shirt   / Fit: Regular fit   / Sleeve s...</td>\n",
       "      <td>The shirt in the images is a Gucci cotton Oxfo...</td>\n",
       "      <td>Gucci</td>\n",
       "      <td>The shirt in the images is a Gucci cotton Oxfo...</td>\n",
       "    </tr>\n",
       "  </tbody>\n",
       "</table>\n",
       "</div>"
      ],
      "text/plain": [
       "   Id  prod_id                                        descripcion  \\\n",
       "0   1        1   Type: Shirt   / Fit: Regular fit   / Sleeve s...   \n",
       "1   2        2   Type: Shirt / Fit: Regular fit / Sleeve style...   \n",
       "2   3        3   Type: Top, Shirt / Fit: Regular fit / Sleeve ...   \n",
       "3   4        4   Type: Shirt   / Fit: Regular fit   / Sleeve s...   \n",
       "4   5        5   Type: Shirt   / Fit: Regular fit   / Sleeve s...   \n",
       "\n",
       "                                             Summary  Brand  \\\n",
       "0  The Gucci silk shirt features the iconic GG mo...  Gucci   \n",
       "1  The Gucci Oxford cotton shirt with GG Shadow f...  Gucci   \n",
       "2  The Gucci top depicted in the images is a crop...  Gucci   \n",
       "3  The Gucci silk shirt with the Morsetto and str...  Gucci   \n",
       "4  The shirt in the images is a Gucci cotton Oxfo...  Gucci   \n",
       "\n",
       "                                Complete_description  \n",
       "0  The Gucci silk shirt features the iconic GG mo...  \n",
       "1  The Gucci Oxford cotton shirt with GG Shadow f...  \n",
       "2  The Gucci top depicted in the images is a crop...  \n",
       "3  The Gucci silk shirt with the Morsetto and str...  \n",
       "4  The shirt in the images is a Gucci cotton Oxfo...  "
      ]
     },
     "execution_count": 12,
     "metadata": {},
     "output_type": "execute_result"
    }
   ],
   "source": [
    "df['Complete_description'] = df['Summary'] + ' /' + \"Brand: \" + df['Brand'] + \" /\" + df['descripcion']\n",
    "df.head()"
   ]
  },
  {
   "cell_type": "code",
   "execution_count": 13,
   "metadata": {},
   "outputs": [],
   "source": [
    "documents = df['Complete_description'].tolist()\n",
    "id = df['Id'].astype('str').tolist()\n",
    "metadata = [{\"source\": id} for id in df['Id'].astype('str').tolist()]"
   ]
  },
  {
   "cell_type": "code",
   "execution_count": 14,
   "metadata": {},
   "outputs": [],
   "source": [
    "df_image = pd.DataFrame(rows_img, columns=['prod_id', 'base64'])"
   ]
  },
  {
   "cell_type": "code",
   "execution_count": 15,
   "metadata": {},
   "outputs": [
    {
     "data": {
      "text/html": [
       "<div>\n",
       "<style scoped>\n",
       "    .dataframe tbody tr th:only-of-type {\n",
       "        vertical-align: middle;\n",
       "    }\n",
       "\n",
       "    .dataframe tbody tr th {\n",
       "        vertical-align: top;\n",
       "    }\n",
       "\n",
       "    .dataframe thead th {\n",
       "        text-align: right;\n",
       "    }\n",
       "</style>\n",
       "<table border=\"1\" class=\"dataframe\">\n",
       "  <thead>\n",
       "    <tr style=\"text-align: right;\">\n",
       "      <th></th>\n",
       "      <th>prod_id</th>\n",
       "      <th>base64</th>\n",
       "    </tr>\n",
       "  </thead>\n",
       "  <tbody>\n",
       "    <tr>\n",
       "      <th>0</th>\n",
       "      <td>1</td>\n",
       "      <td>data:image/jpeg;base64, /9j/4AAQSkZJRgABAQAAAQ...</td>\n",
       "    </tr>\n",
       "    <tr>\n",
       "      <th>1</th>\n",
       "      <td>1</td>\n",
       "      <td>data:image/jpeg;base64, /9j/4AAQSkZJRgABAQAAAQ...</td>\n",
       "    </tr>\n",
       "  </tbody>\n",
       "</table>\n",
       "</div>"
      ],
      "text/plain": [
       "   prod_id                                             base64\n",
       "0        1  data:image/jpeg;base64, /9j/4AAQSkZJRgABAQAAAQ...\n",
       "1        1  data:image/jpeg;base64, /9j/4AAQSkZJRgABAQAAAQ..."
      ]
     },
     "execution_count": 15,
     "metadata": {},
     "output_type": "execute_result"
    }
   ],
   "source": [
    "df_image.head(2)"
   ]
  },
  {
   "cell_type": "code",
   "execution_count": 16,
   "metadata": {},
   "outputs": [
    {
     "data": {
      "text/plain": [
       "(629, 2)"
      ]
     },
     "execution_count": 16,
     "metadata": {},
     "output_type": "execute_result"
    }
   ],
   "source": [
    "df_image.shape"
   ]
  },
  {
   "cell_type": "code",
   "execution_count": 17,
   "metadata": {},
   "outputs": [],
   "source": [
    "del rows, rows_img"
   ]
  },
  {
   "cell_type": "markdown",
   "metadata": {},
   "source": [
    "### Get images "
   ]
  },
  {
   "cell_type": "code",
   "execution_count": 18,
   "metadata": {},
   "outputs": [],
   "source": [
    "import base64\n",
    "from io import BytesIO\n",
    "from PIL import Image"
   ]
  },
  {
   "cell_type": "code",
   "execution_count": 19,
   "metadata": {},
   "outputs": [],
   "source": [
    "def base64_to_image(base64_string):\n",
    "    # Remove the data URI prefix if present\n",
    "    if \"data:image\" in base64_string:\n",
    "        base64_string = base64_string.split(\",\")[1]\n",
    "\n",
    "    # Decode the Base64 string into bytes\n",
    "    image_bytes = base64.b64decode(base64_string)\n",
    "    return image_bytes"
   ]
  },
  {
   "cell_type": "code",
   "execution_count": 20,
   "metadata": {},
   "outputs": [],
   "source": [
    "def create_image_from_bytes(image_bytes):\n",
    "    # Create a BytesIO object to handle the image data\n",
    "    image_stream = BytesIO(image_bytes)\n",
    "\n",
    "    # Open the image using Pillow (PIL)\n",
    "    image = Image.open(image_stream)\n",
    "    return image"
   ]
  },
  {
   "cell_type": "code",
   "execution_count": 21,
   "metadata": {},
   "outputs": [],
   "source": [
    "def resize_image(image, new_width):\n",
    "    # Open the image\n",
    "\n",
    "    # Calculate the new height while maintaining the aspect ratio\n",
    "    original_width, original_height = image.size\n",
    "    aspect_ratio = original_height / original_width\n",
    "    new_height = int(new_width * aspect_ratio)\n",
    "\n",
    "    # Resize the image\n",
    "    resized_image = image.resize((new_width, new_height), Image.ANTIALIAS)\n",
    "\n",
    "    return resized_image\n"
   ]
  },
  {
   "cell_type": "code",
   "execution_count": 23,
   "metadata": {},
   "outputs": [
    {
     "data": {
      "text/html": [
       "<div>\n",
       "<style scoped>\n",
       "    .dataframe tbody tr th:only-of-type {\n",
       "        vertical-align: middle;\n",
       "    }\n",
       "\n",
       "    .dataframe tbody tr th {\n",
       "        vertical-align: top;\n",
       "    }\n",
       "\n",
       "    .dataframe thead th {\n",
       "        text-align: right;\n",
       "    }\n",
       "</style>\n",
       "<table border=\"1\" class=\"dataframe\">\n",
       "  <thead>\n",
       "    <tr style=\"text-align: right;\">\n",
       "      <th></th>\n",
       "      <th>prod_id</th>\n",
       "      <th>base64</th>\n",
       "    </tr>\n",
       "  </thead>\n",
       "  <tbody>\n",
       "    <tr>\n",
       "      <th>0</th>\n",
       "      <td>1</td>\n",
       "      <td>data:image/jpeg;base64, /9j/4AAQSkZJRgABAQAAAQ...</td>\n",
       "    </tr>\n",
       "    <tr>\n",
       "      <th>1</th>\n",
       "      <td>1</td>\n",
       "      <td>data:image/jpeg;base64, /9j/4AAQSkZJRgABAQAAAQ...</td>\n",
       "    </tr>\n",
       "    <tr>\n",
       "      <th>2</th>\n",
       "      <td>1</td>\n",
       "      <td>data:image/jpeg;base64, /9j/4AAQSkZJRgABAQAAAQ...</td>\n",
       "    </tr>\n",
       "    <tr>\n",
       "      <th>3</th>\n",
       "      <td>1</td>\n",
       "      <td>data:image/jpeg;base64, /9j/4AAQSkZJRgABAQAAAQ...</td>\n",
       "    </tr>\n",
       "    <tr>\n",
       "      <th>4</th>\n",
       "      <td>2</td>\n",
       "      <td>data:image/jpeg;base64, /9j/4AAQSkZJRgABAQAAAQ...</td>\n",
       "    </tr>\n",
       "  </tbody>\n",
       "</table>\n",
       "</div>"
      ],
      "text/plain": [
       "   prod_id                                             base64\n",
       "0        1  data:image/jpeg;base64, /9j/4AAQSkZJRgABAQAAAQ...\n",
       "1        1  data:image/jpeg;base64, /9j/4AAQSkZJRgABAQAAAQ...\n",
       "2        1  data:image/jpeg;base64, /9j/4AAQSkZJRgABAQAAAQ...\n",
       "3        1  data:image/jpeg;base64, /9j/4AAQSkZJRgABAQAAAQ...\n",
       "4        2  data:image/jpeg;base64, /9j/4AAQSkZJRgABAQAAAQ..."
      ]
     },
     "execution_count": 23,
     "metadata": {},
     "output_type": "execute_result"
    }
   ],
   "source": [
    "df_image.head()"
   ]
  },
  {
   "cell_type": "code",
   "execution_count": 24,
   "metadata": {},
   "outputs": [
    {
     "data": {
      "text/plain": [
       "prod_id                                                   11\n",
       "base64     data:image/jpeg;base64, /9j/4AAQSkZJRgABAQAAAQ...\n",
       "Name: 42, dtype: object"
      ]
     },
     "execution_count": 24,
     "metadata": {},
     "output_type": "execute_result"
    }
   ],
   "source": [
    "df_image.iloc[42]"
   ]
  },
  {
   "cell_type": "markdown",
   "metadata": {},
   "source": [
    "### Testing embeddings"
   ]
  },
  {
   "cell_type": "code",
   "execution_count": 25,
   "metadata": {},
   "outputs": [],
   "source": [
    "import uuid\n",
    "from langchain.vectorstores import Chroma\n",
    "from langchain.storage import InMemoryStore\n",
    "from langchain.schema.document import Document\n",
    "from langchain.retrievers.multi_vector import MultiVectorRetriever"
   ]
  },
  {
   "cell_type": "code",
   "execution_count": 26,
   "metadata": {},
   "outputs": [],
   "source": [
    "from langchain_community.embeddings.sentence_transformer import (\n",
    "    SentenceTransformerEmbeddings,\n",
    ")"
   ]
  },
  {
   "cell_type": "code",
   "execution_count": 27,
   "metadata": {},
   "outputs": [
    {
     "name": "stderr",
     "output_type": "stream",
     "text": [
      "c:\\Users\\juand\\anaconda3\\Lib\\site-packages\\langchain_core\\_api\\deprecation.py:139: LangChainDeprecationWarning: The class `HuggingFaceEmbeddings` was deprecated in LangChain 0.2.2 and will be removed in 0.3.0. An updated version of the class exists in the langchain-huggingface package and should be used instead. To use it run `pip install -U langchain-huggingface` and import as `from langchain_huggingface import HuggingFaceEmbeddings`.\n",
      "  warn_deprecated(\n",
      "c:\\Users\\juand\\anaconda3\\Lib\\site-packages\\sentence_transformers\\cross_encoder\\CrossEncoder.py:11: TqdmExperimentalWarning: Using `tqdm.autonotebook.tqdm` in notebook mode. Use `tqdm.tqdm` instead to force console mode (e.g. in jupyter console)\n",
      "  from tqdm.autonotebook import tqdm, trange\n",
      "c:\\Users\\juand\\anaconda3\\Lib\\site-packages\\transformers\\utils\\generic.py:482: UserWarning: torch.utils._pytree._register_pytree_node is deprecated. Please use torch.utils._pytree.register_pytree_node instead.\n",
      "  _torch_pytree._register_pytree_node(\n",
      "c:\\Users\\juand\\anaconda3\\Lib\\site-packages\\transformers\\utils\\generic.py:339: UserWarning: torch.utils._pytree._register_pytree_node is deprecated. Please use torch.utils._pytree.register_pytree_node instead.\n",
      "  _torch_pytree._register_pytree_node(\n"
     ]
    }
   ],
   "source": [
    "embedding_function = SentenceTransformerEmbeddings(model_name='all-mpnet-base-v2')"
   ]
  },
  {
   "cell_type": "markdown",
   "metadata": {},
   "source": [
    "### organized text "
   ]
  },
  {
   "cell_type": "code",
   "execution_count": 28,
   "metadata": {},
   "outputs": [],
   "source": [
    "df = pd.merge(\n",
    "            df,\n",
    "            df_image.groupby('prod_id')['base64'].apply(list).reset_index(),\n",
    "            on='prod_id'\n",
    "        )"
   ]
  },
  {
   "cell_type": "code",
   "execution_count": 29,
   "metadata": {},
   "outputs": [
    {
     "data": {
      "text/html": [
       "<div>\n",
       "<style scoped>\n",
       "    .dataframe tbody tr th:only-of-type {\n",
       "        vertical-align: middle;\n",
       "    }\n",
       "\n",
       "    .dataframe tbody tr th {\n",
       "        vertical-align: top;\n",
       "    }\n",
       "\n",
       "    .dataframe thead th {\n",
       "        text-align: right;\n",
       "    }\n",
       "</style>\n",
       "<table border=\"1\" class=\"dataframe\">\n",
       "  <thead>\n",
       "    <tr style=\"text-align: right;\">\n",
       "      <th></th>\n",
       "      <th>Id</th>\n",
       "      <th>prod_id</th>\n",
       "      <th>descripcion</th>\n",
       "      <th>Summary</th>\n",
       "      <th>Brand</th>\n",
       "      <th>Complete_description</th>\n",
       "      <th>base64</th>\n",
       "    </tr>\n",
       "  </thead>\n",
       "  <tbody>\n",
       "    <tr>\n",
       "      <th>0</th>\n",
       "      <td>1</td>\n",
       "      <td>1</td>\n",
       "      <td>Type: Shirt   / Fit: Regular fit   / Sleeve s...</td>\n",
       "      <td>The Gucci silk shirt features the iconic GG mo...</td>\n",
       "      <td>Gucci</td>\n",
       "      <td>The Gucci silk shirt features the iconic GG mo...</td>\n",
       "      <td>[data:image/jpeg;base64, /9j/4AAQSkZJRgABAQAAA...</td>\n",
       "    </tr>\n",
       "    <tr>\n",
       "      <th>1</th>\n",
       "      <td>2</td>\n",
       "      <td>2</td>\n",
       "      <td>Type: Shirt / Fit: Regular fit / Sleeve style...</td>\n",
       "      <td>The Gucci Oxford cotton shirt with GG Shadow f...</td>\n",
       "      <td>Gucci</td>\n",
       "      <td>The Gucci Oxford cotton shirt with GG Shadow f...</td>\n",
       "      <td>[data:image/jpeg;base64, /9j/4AAQSkZJRgABAQAAA...</td>\n",
       "    </tr>\n",
       "    <tr>\n",
       "      <th>2</th>\n",
       "      <td>3</td>\n",
       "      <td>3</td>\n",
       "      <td>Type: Top, Shirt / Fit: Regular fit / Sleeve ...</td>\n",
       "      <td>The Gucci top depicted in the images is a crop...</td>\n",
       "      <td>Gucci</td>\n",
       "      <td>The Gucci top depicted in the images is a crop...</td>\n",
       "      <td>[data:image/jpeg;base64, /9j/4AAQSkZJRgABAQAAA...</td>\n",
       "    </tr>\n",
       "    <tr>\n",
       "      <th>3</th>\n",
       "      <td>4</td>\n",
       "      <td>4</td>\n",
       "      <td>Type: Shirt   / Fit: Regular fit   / Sleeve s...</td>\n",
       "      <td>The Gucci silk shirt with the Morsetto and str...</td>\n",
       "      <td>Gucci</td>\n",
       "      <td>The Gucci silk shirt with the Morsetto and str...</td>\n",
       "      <td>[data:image/jpeg;base64, /9j/4AAQSkZJRgABAQAAA...</td>\n",
       "    </tr>\n",
       "    <tr>\n",
       "      <th>4</th>\n",
       "      <td>5</td>\n",
       "      <td>5</td>\n",
       "      <td>Type: Shirt   / Fit: Regular fit   / Sleeve s...</td>\n",
       "      <td>The shirt in the images is a Gucci cotton Oxfo...</td>\n",
       "      <td>Gucci</td>\n",
       "      <td>The shirt in the images is a Gucci cotton Oxfo...</td>\n",
       "      <td>[data:image/jpeg;base64, /9j/4AAQSkZJRgABAQAAA...</td>\n",
       "    </tr>\n",
       "  </tbody>\n",
       "</table>\n",
       "</div>"
      ],
      "text/plain": [
       "   Id prod_id                                        descripcion  \\\n",
       "0   1       1   Type: Shirt   / Fit: Regular fit   / Sleeve s...   \n",
       "1   2       2   Type: Shirt / Fit: Regular fit / Sleeve style...   \n",
       "2   3       3   Type: Top, Shirt / Fit: Regular fit / Sleeve ...   \n",
       "3   4       4   Type: Shirt   / Fit: Regular fit   / Sleeve s...   \n",
       "4   5       5   Type: Shirt   / Fit: Regular fit   / Sleeve s...   \n",
       "\n",
       "                                             Summary  Brand  \\\n",
       "0  The Gucci silk shirt features the iconic GG mo...  Gucci   \n",
       "1  The Gucci Oxford cotton shirt with GG Shadow f...  Gucci   \n",
       "2  The Gucci top depicted in the images is a crop...  Gucci   \n",
       "3  The Gucci silk shirt with the Morsetto and str...  Gucci   \n",
       "4  The shirt in the images is a Gucci cotton Oxfo...  Gucci   \n",
       "\n",
       "                                Complete_description  \\\n",
       "0  The Gucci silk shirt features the iconic GG mo...   \n",
       "1  The Gucci Oxford cotton shirt with GG Shadow f...   \n",
       "2  The Gucci top depicted in the images is a crop...   \n",
       "3  The Gucci silk shirt with the Morsetto and str...   \n",
       "4  The shirt in the images is a Gucci cotton Oxfo...   \n",
       "\n",
       "                                              base64  \n",
       "0  [data:image/jpeg;base64, /9j/4AAQSkZJRgABAQAAA...  \n",
       "1  [data:image/jpeg;base64, /9j/4AAQSkZJRgABAQAAA...  \n",
       "2  [data:image/jpeg;base64, /9j/4AAQSkZJRgABAQAAA...  \n",
       "3  [data:image/jpeg;base64, /9j/4AAQSkZJRgABAQAAA...  \n",
       "4  [data:image/jpeg;base64, /9j/4AAQSkZJRgABAQAAA...  "
      ]
     },
     "execution_count": 29,
     "metadata": {},
     "output_type": "execute_result"
    }
   ],
   "source": [
    "df.prod_id = df.prod_id.astype(int)\n",
    "df.sort_values('prod_id',ascending=True,inplace=True)\n",
    "df.reset_index(drop=True, inplace= True)\n",
    "df.prod_id = df.prod_id.astype('string')\n",
    "df.head(5)"
   ]
  },
  {
   "cell_type": "markdown",
   "metadata": {},
   "source": [
    "### chunks"
   ]
  },
  {
   "cell_type": "code",
   "execution_count": 30,
   "metadata": {},
   "outputs": [],
   "source": [
    "df = df[['prod_id', 'Summary','Brand','base64']]._append(df[['prod_id', 'descripcion','Brand','base64']].rename(columns = {'descripcion':'Summary'}),ignore_index=True)"
   ]
  },
  {
   "cell_type": "code",
   "execution_count": 31,
   "metadata": {},
   "outputs": [
    {
     "data": {
      "text/plain": [
       "array(['Gucci', 'HM', 'Prada', 'Mango'], dtype=object)"
      ]
     },
     "execution_count": 31,
     "metadata": {},
     "output_type": "execute_result"
    }
   ],
   "source": [
    "df.Brand.unique()"
   ]
  },
  {
   "cell_type": "code",
   "execution_count": 65,
   "metadata": {},
   "outputs": [],
   "source": [
    "df['Type'] = df['Brand'].apply(lambda x: 'Luxury' if (x == 'Gucci') or (x == 'Prada') else 'Retail')"
   ]
  },
  {
   "cell_type": "code",
   "execution_count": 66,
   "metadata": {},
   "outputs": [
    {
     "data": {
      "text/html": [
       "<div>\n",
       "<style scoped>\n",
       "    .dataframe tbody tr th:only-of-type {\n",
       "        vertical-align: middle;\n",
       "    }\n",
       "\n",
       "    .dataframe tbody tr th {\n",
       "        vertical-align: top;\n",
       "    }\n",
       "\n",
       "    .dataframe thead th {\n",
       "        text-align: right;\n",
       "    }\n",
       "</style>\n",
       "<table border=\"1\" class=\"dataframe\">\n",
       "  <thead>\n",
       "    <tr style=\"text-align: right;\">\n",
       "      <th></th>\n",
       "      <th>prod_id</th>\n",
       "      <th>Summary</th>\n",
       "      <th>Brand</th>\n",
       "      <th>base64</th>\n",
       "      <th>Type</th>\n",
       "    </tr>\n",
       "  </thead>\n",
       "  <tbody>\n",
       "    <tr>\n",
       "      <th>0</th>\n",
       "      <td>1</td>\n",
       "      <td>The Gucci silk shirt features the iconic GG mo...</td>\n",
       "      <td>Gucci</td>\n",
       "      <td>[data:image/jpeg;base64, /9j/4AAQSkZJRgABAQAAA...</td>\n",
       "      <td>Luxury</td>\n",
       "    </tr>\n",
       "    <tr>\n",
       "      <th>1</th>\n",
       "      <td>2</td>\n",
       "      <td>The Gucci Oxford cotton shirt with GG Shadow f...</td>\n",
       "      <td>Gucci</td>\n",
       "      <td>[data:image/jpeg;base64, /9j/4AAQSkZJRgABAQAAA...</td>\n",
       "      <td>Luxury</td>\n",
       "    </tr>\n",
       "    <tr>\n",
       "      <th>2</th>\n",
       "      <td>3</td>\n",
       "      <td>The Gucci top depicted in the images is a crop...</td>\n",
       "      <td>Gucci</td>\n",
       "      <td>[data:image/jpeg;base64, /9j/4AAQSkZJRgABAQAAA...</td>\n",
       "      <td>Luxury</td>\n",
       "    </tr>\n",
       "    <tr>\n",
       "      <th>3</th>\n",
       "      <td>4</td>\n",
       "      <td>The Gucci silk shirt with the Morsetto and str...</td>\n",
       "      <td>Gucci</td>\n",
       "      <td>[data:image/jpeg;base64, /9j/4AAQSkZJRgABAQAAA...</td>\n",
       "      <td>Luxury</td>\n",
       "    </tr>\n",
       "    <tr>\n",
       "      <th>4</th>\n",
       "      <td>5</td>\n",
       "      <td>The shirt in the images is a Gucci cotton Oxfo...</td>\n",
       "      <td>Gucci</td>\n",
       "      <td>[data:image/jpeg;base64, /9j/4AAQSkZJRgABAQAAA...</td>\n",
       "      <td>Luxury</td>\n",
       "    </tr>\n",
       "  </tbody>\n",
       "</table>\n",
       "</div>"
      ],
      "text/plain": [
       "  prod_id                                            Summary  Brand  \\\n",
       "0       1  The Gucci silk shirt features the iconic GG mo...  Gucci   \n",
       "1       2  The Gucci Oxford cotton shirt with GG Shadow f...  Gucci   \n",
       "2       3  The Gucci top depicted in the images is a crop...  Gucci   \n",
       "3       4  The Gucci silk shirt with the Morsetto and str...  Gucci   \n",
       "4       5  The shirt in the images is a Gucci cotton Oxfo...  Gucci   \n",
       "\n",
       "                                              base64    Type  \n",
       "0  [data:image/jpeg;base64, /9j/4AAQSkZJRgABAQAAA...  Luxury  \n",
       "1  [data:image/jpeg;base64, /9j/4AAQSkZJRgABAQAAA...  Luxury  \n",
       "2  [data:image/jpeg;base64, /9j/4AAQSkZJRgABAQAAA...  Luxury  \n",
       "3  [data:image/jpeg;base64, /9j/4AAQSkZJRgABAQAAA...  Luxury  \n",
       "4  [data:image/jpeg;base64, /9j/4AAQSkZJRgABAQAAA...  Luxury  "
      ]
     },
     "execution_count": 66,
     "metadata": {},
     "output_type": "execute_result"
    }
   ],
   "source": [
    "df.head()"
   ]
  },
  {
   "cell_type": "code",
   "execution_count": 67,
   "metadata": {},
   "outputs": [],
   "source": [
    "persist_directory = '../../../Chromadb/chroma-retail'"
   ]
  },
  {
   "cell_type": "code",
   "execution_count": 68,
   "metadata": {},
   "outputs": [],
   "source": [
    "store = InMemoryStore()\n",
    "id_key = 'doc_id'"
   ]
  },
  {
   "cell_type": "code",
   "execution_count": 69,
   "metadata": {},
   "outputs": [
    {
     "data": {
      "text/plain": [
       "1"
      ]
     },
     "execution_count": 69,
     "metadata": {},
     "output_type": "execute_result"
    }
   ],
   "source": [
    "min(df['base64'].apply(lambda x: len(x)))"
   ]
  },
  {
   "cell_type": "code",
   "execution_count": 70,
   "metadata": {},
   "outputs": [
    {
     "data": {
      "text/html": [
       "<div>\n",
       "<style scoped>\n",
       "    .dataframe tbody tr th:only-of-type {\n",
       "        vertical-align: middle;\n",
       "    }\n",
       "\n",
       "    .dataframe tbody tr th {\n",
       "        vertical-align: top;\n",
       "    }\n",
       "\n",
       "    .dataframe thead th {\n",
       "        text-align: right;\n",
       "    }\n",
       "</style>\n",
       "<table border=\"1\" class=\"dataframe\">\n",
       "  <thead>\n",
       "    <tr style=\"text-align: right;\">\n",
       "      <th></th>\n",
       "      <th>prod_id</th>\n",
       "      <th>Summary</th>\n",
       "      <th>Brand</th>\n",
       "      <th>base64</th>\n",
       "      <th>Type</th>\n",
       "    </tr>\n",
       "  </thead>\n",
       "  <tbody>\n",
       "    <tr>\n",
       "      <th>130</th>\n",
       "      <td>131</td>\n",
       "      <td>The shirt is a fluid fabric top with a straigh...</td>\n",
       "      <td>Mango</td>\n",
       "      <td>[data:image/jpeg;base64, /9j/4AAQSkZJRgABAQAAA...</td>\n",
       "      <td>Retail</td>\n",
       "    </tr>\n",
       "    <tr>\n",
       "      <th>284</th>\n",
       "      <td>131</td>\n",
       "      <td>Type: Top, Shirt   / Fit: Regular fit   / Sle...</td>\n",
       "      <td>Mango</td>\n",
       "      <td>[data:image/jpeg;base64, /9j/4AAQSkZJRgABAQAAA...</td>\n",
       "      <td>Retail</td>\n",
       "    </tr>\n",
       "  </tbody>\n",
       "</table>\n",
       "</div>"
      ],
      "text/plain": [
       "    prod_id                                            Summary  Brand  \\\n",
       "130     131  The shirt is a fluid fabric top with a straigh...  Mango   \n",
       "284     131   Type: Top, Shirt   / Fit: Regular fit   / Sle...  Mango   \n",
       "\n",
       "                                                base64    Type  \n",
       "130  [data:image/jpeg;base64, /9j/4AAQSkZJRgABAQAAA...  Retail  \n",
       "284  [data:image/jpeg;base64, /9j/4AAQSkZJRgABAQAAA...  Retail  "
      ]
     },
     "execution_count": 70,
     "metadata": {},
     "output_type": "execute_result"
    }
   ],
   "source": [
    "df[ df['base64'].apply(lambda x: len(x)) == 1 ]"
   ]
  },
  {
   "cell_type": "code",
   "execution_count": 71,
   "metadata": {},
   "outputs": [],
   "source": [
    "doc_ids = df.prod_id\n",
    "\n",
    "\n",
    "texts = [\n",
    "    Document(\n",
    "        page_content= df.iloc[i].Summary, \n",
    "        metadata={\n",
    "            id_key:df.iloc[i].prod_id,\n",
    "            'Type': df.iloc[i].Type\n",
    "            }\n",
    "    )\n",
    "    for i in df.index\n",
    "]\n"
   ]
  },
  {
   "cell_type": "code",
   "execution_count": 111,
   "metadata": {},
   "outputs": [
    {
     "data": {
      "text/plain": [
       "Document(page_content='The Gucci silk shirt features the iconic GG monogram in a shadowed pattern, creating a subtle yet sophisticated texture. The shirt is crafted from high-quality silk, ensuring a fluid drape and lightweight feel, which enhances its breathability and comfort. The fit appears to be relaxed, offering a modern and versatile silhouette suitable for various occasions, from formal to semi-formal events. It has long sleeves with buttoned cuffs, adding a touch of classic elegance, and a traditional pointed collar that complements its refined style. The shirt\\'s primary color is a rich, deep burgundy, referred to as \"Wine Red,\" which is accentuated by the shadowed GG pattern in a slightly darker shade, creating a monochromatic yet dynamic visual effect. The material\\'s natural sheen adds a luxurious finish to the overall look. This shirt is ideal for cooler seasons due to its long sleeves and silk\\'s insulating properties. There are no visible pockets, maintaining a sleek and uninterrupted design.', metadata={'doc_id': '1', 'Type': 'Luxury'})"
      ]
     },
     "execution_count": 111,
     "metadata": {},
     "output_type": "execute_result"
    }
   ],
   "source": [
    "texts[0]"
   ]
  },
  {
   "cell_type": "code",
   "execution_count": 73,
   "metadata": {},
   "outputs": [
    {
     "data": {
      "text/plain": [
       "'1'"
      ]
     },
     "execution_count": 73,
     "metadata": {},
     "output_type": "execute_result"
    }
   ],
   "source": [
    "texts[0].metadata['doc_id']"
   ]
  },
  {
   "cell_type": "code",
   "execution_count": 61,
   "metadata": {},
   "outputs": [],
   "source": [
    "from langchain_text_splitters import RecursiveCharacterTextSplitter\n",
    "child_splitter = RecursiveCharacterTextSplitter(chunk_size=400, chunk_overlap=20,)"
   ]
  },
  {
   "cell_type": "code",
   "execution_count": 120,
   "metadata": {},
   "outputs": [],
   "source": [
    "text_child = []\n",
    "\n",
    "for i in df.index:\n",
    "\n",
    "    child_docs=child_splitter.create_documents(\n",
    "            [texts[i].page_content],\n",
    "            metadatas= \n",
    "                [{\n",
    "                    'doc_id':texts[i].metadata['doc_id'],\n",
    "                    'Type': df.iloc[i].Type\n",
    "                }]\n",
    "        )\n",
    "    \n",
    "    for _doc in child_docs:\n",
    "        text_child.append(_doc)\n",
    "    "
   ]
  },
  {
   "cell_type": "code",
   "execution_count": 75,
   "metadata": {},
   "outputs": [],
   "source": [
    "vectorstore = Chroma.from_documents(\n",
    "                documents=texts,\n",
    "                #ids=doc_ids,\n",
    "                embedding=embedding_function,\n",
    "                collection_name='RAG-Parent',\n",
    "                #metadatas=metadata,\n",
    "                persist_directory=persist_directory\n",
    "            )"
   ]
  },
  {
   "cell_type": "code",
   "execution_count": 118,
   "metadata": {},
   "outputs": [
    {
     "data": {
      "text/plain": [
       "\"The shirt is a fluid, semi-transparent black top with a straight fit, providing a relaxed yet elegant silhouette. It features long sleeves with buttoned cuffs, adding a touch of sophistication suitable for both formal and semi-formal occasions. The neckline is a classic round neck, complementing the simplicity of the design. The material appears lightweight and breathable, making it ideal for transitional seasons like spring and fall. The fabric's fluidity enhances the garment's drape, ensuring a flattering fit on various body types. The shirt is primarily black, a versatile and timeless color that can be easily paired with various bottoms and accessories. There are no visible pockets, patterns, or embellishments, maintaining a clean and minimalist aesthetic.\""
      ]
     },
     "execution_count": 118,
     "metadata": {},
     "output_type": "execute_result"
    }
   ],
   "source": [
    "vectorstore.similarity_search('HM')[0].page_content"
   ]
  },
  {
   "cell_type": "code",
   "execution_count": 122,
   "metadata": {},
   "outputs": [],
   "source": [
    "vectorstore = Chroma.from_documents(\n",
    "                documents=text_child,\n",
    "                #ids=doc_ids,\n",
    "                embedding=embedding_function,\n",
    "                collection_name='RAG-Child',\n",
    "                #metadatas=metadata,\n",
    "                persist_directory=persist_directory\n",
    "            )"
   ]
  },
  {
   "cell_type": "code",
   "execution_count": 130,
   "metadata": {},
   "outputs": [
    {
     "data": {
      "text/plain": [
       "[(Document(page_content='occasions, making it a stylish addition to any wardrobe.', metadata={'Type': 'Retail', 'doc_id': '103'}),\n",
       "  1.2316887378692627),\n",
       " (Document(page_content='sense of luxury and is versatile for various occasions. The fabric appears lightweight and breathable, making it suitable for both formal and semi-formal events, especially in transitional seasons like spring and fall. There are no visible pockets, patterns, or embellishments, keeping the design clean and minimalist. The overall style is chic and understated, perfect for pairing with tailored', metadata={'Type': 'Retail', 'doc_id': '121'}),\n",
       "  1.2735806703567505),\n",
       " (Document(page_content='or additional embellishments, maintaining a simple yet refined aesthetic. Its fluid fabric drapes elegantly, making it suitable for casual daytime outings or relaxed social gatherings.', metadata={'Type': 'Luxury', 'doc_id': '9'}),\n",
       "  1.288376808166504),\n",
       " (Document(page_content='The garment in the images is a fluid, satin-like shirt featuring a draped design. It has a relaxed fit, providing a comfortable yet elegant silhouette. The shirt has long sleeves with a subtle puff at the cuffs, adding a touch of sophistication. The neckline is a classic V-neck, which enhances its formal appeal. Made from a lightweight, breathable fabric, it is suitable for both spring and summer', metadata={'Type': 'Retail', 'doc_id': '132'}),\n",
       "  1.2987643480300903)]"
      ]
     },
     "execution_count": 130,
     "metadata": {},
     "output_type": "execute_result"
    }
   ],
   "source": [
    "vectorstore.similarity_search_with_score('Luxury')"
   ]
  },
  {
   "cell_type": "markdown",
   "metadata": {},
   "source": [
    "### Already loaded !!!"
   ]
  },
  {
   "cell_type": "code",
   "execution_count": null,
   "metadata": {},
   "outputs": [],
   "source": [
    "retriever = MultiVectorRetriever(\n",
    "    vectorstore=vectorstore,\n",
    "    docstore=store,\n",
    "    id_key=id_key,\n",
    "    search_kwargs={\"k\":5}\n",
    ")"
   ]
  },
  {
   "cell_type": "code",
   "execution_count": null,
   "metadata": {},
   "outputs": [],
   "source": [
    "docs = retriever.invoke(\n",
    "    \"HM\"\n",
    ")"
   ]
  },
  {
   "cell_type": "code",
   "execution_count": null,
   "metadata": {},
   "outputs": [],
   "source": [
    "docs"
   ]
  },
  {
   "cell_type": "code",
   "execution_count": null,
   "metadata": {},
   "outputs": [],
   "source": [
    "retriever.vectorstore.add_documents(texts)\n",
    "#retriever.docstore.mset(list(zip(doc_ids, texts)))"
   ]
  },
  {
   "cell_type": "code",
   "execution_count": null,
   "metadata": {},
   "outputs": [],
   "source": [
    "docs = retriever.invoke(\n",
    "    \"HM\"\n",
    ")"
   ]
  },
  {
   "cell_type": "code",
   "execution_count": null,
   "metadata": {},
   "outputs": [],
   "source": [
    "docs"
   ]
  },
  {
   "cell_type": "code",
   "execution_count": null,
   "metadata": {},
   "outputs": [],
   "source": [
    "df.iloc[1].Complete_description"
   ]
  },
  {
   "cell_type": "markdown",
   "metadata": {},
   "source": [
    "### Talk to Chroma"
   ]
  },
  {
   "cell_type": "code",
   "execution_count": null,
   "metadata": {},
   "outputs": [],
   "source": [
    "from apikey import apikey \n",
    "from langchain.chat_models import ChatOpenAI"
   ]
  },
  {
   "cell_type": "code",
   "execution_count": null,
   "metadata": {},
   "outputs": [],
   "source": [
    "os.environ['OPENAI_API_KEY'] = apikey"
   ]
  },
  {
   "cell_type": "code",
   "execution_count": null,
   "metadata": {},
   "outputs": [],
   "source": [
    "turbo_llm = ChatOpenAI(\n",
    "    temperature=0,\n",
    "    model_name='gpt-3.5-turbo'\n",
    ")"
   ]
  },
  {
   "cell_type": "code",
   "execution_count": null,
   "metadata": {},
   "outputs": [],
   "source": [
    "from langchain_core.runnables import RunnablePassthrough\n",
    "from langchain_core.output_parsers import StrOutputParser\n",
    "\n",
    "### lets set up the system\n",
    "\n",
    "from langchain.chains import create_retrieval_chain\n",
    "from langchain.chains.combine_documents import create_stuff_documents_chain\n",
    "from langchain_core.prompts import ChatPromptTemplate"
   ]
  },
  {
   "cell_type": "code",
   "execution_count": null,
   "metadata": {},
   "outputs": [],
   "source": [
    "def format_docs(docs):\n",
    "    return \"\\n\\n\".join(doc.page_content for doc in docs)"
   ]
  },
  {
   "cell_type": "code",
   "execution_count": null,
   "metadata": {},
   "outputs": [],
   "source": [
    "system_prompt = (\n",
    "    \"You are a Fashion specialist engine to sugest clothing pieces from context. \"\n",
    "    \"If you don't know the answer to the question, say that you dont know \"\n",
    "    \"answer concise.\"\n",
    "    #\"Explain why the selected options of the context are the best ones\"\n",
    "    \"\\n\\n\"\n",
    "    \"{context}\"\n",
    ")"
   ]
  },
  {
   "cell_type": "code",
   "execution_count": null,
   "metadata": {},
   "outputs": [],
   "source": [
    "prompt = ChatPromptTemplate.from_messages(\n",
    "    [\n",
    "        (\"system\", system_prompt),\n",
    "        (\"human\", \"{input}\"),\n",
    "    ]\n",
    ")"
   ]
  },
  {
   "cell_type": "code",
   "execution_count": null,
   "metadata": {},
   "outputs": [],
   "source": [
    "rag_chain = (\n",
    "    {\"context\": retriever | format_docs, \"question\": RunnablePassthrough()}\n",
    "    | prompt\n",
    "    | turbo_llm\n",
    "    | StrOutputParser()\n",
    ")"
   ]
  },
  {
   "cell_type": "code",
   "execution_count": null,
   "metadata": {},
   "outputs": [],
   "source": [
    "question_answer_chain = create_stuff_documents_chain(turbo_llm, prompt)\n",
    "rag_chain = create_retrieval_chain(retriever, question_answer_chain)"
   ]
  },
  {
   "cell_type": "code",
   "execution_count": null,
   "metadata": {},
   "outputs": [],
   "source": [
    "query = \"Im looking for clothing peaces from Mango that could be similar to Gucci clothing\""
   ]
  },
  {
   "cell_type": "code",
   "execution_count": null,
   "metadata": {},
   "outputs": [],
   "source": [
    "response = rag_chain.invoke({\"input\": query})\n",
    "print(response[\"answer\"])"
   ]
  },
  {
   "cell_type": "code",
   "execution_count": null,
   "metadata": {},
   "outputs": [],
   "source": [
    "for document in response[\"context\"]:\n",
    "    print(document)\n",
    "    print()"
   ]
  },
  {
   "cell_type": "code",
   "execution_count": null,
   "metadata": {},
   "outputs": [],
   "source": [
    "df_image[df_image.prod_id == 41]"
   ]
  },
  {
   "cell_type": "code",
   "execution_count": null,
   "metadata": {},
   "outputs": [],
   "source": [
    "image_bytes = base64_to_image(df_image.iloc[113].base64)\n",
    "img = create_image_from_bytes(image_bytes=image_bytes)\n",
    "img.resize((400,500))"
   ]
  }
 ],
 "metadata": {
  "kernelspec": {
   "display_name": "Python 3",
   "language": "python",
   "name": "python3"
  },
  "language_info": {
   "codemirror_mode": {
    "name": "ipython",
    "version": 3
   },
   "file_extension": ".py",
   "mimetype": "text/x-python",
   "name": "python",
   "nbconvert_exporter": "python",
   "pygments_lexer": "ipython3",
   "version": "3.11.8"
  }
 },
 "nbformat": 4,
 "nbformat_minor": 2
}
