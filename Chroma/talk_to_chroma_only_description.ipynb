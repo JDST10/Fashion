{
 "cells": [
  {
   "cell_type": "code",
   "execution_count": 16,
   "metadata": {},
   "outputs": [],
   "source": [
    "import sys, os\n",
    "sys.path.append(os.path.join(os.path.dirname('__file__'), '..', 'DB_and_Azure'))\n",
    "import sql_db_functions as SQLf\n",
    "import Chroma_db_functions as Cf\n",
    "\n",
    "from apikey import apikey \n",
    "\n",
    "from langchain.vectorstores import Chroma\n",
    "from langchain_community.embeddings.sentence_transformer import (\n",
    "    SentenceTransformerEmbeddings,\n",
    ")\n",
    "\n",
    "from langchain.chains import RetrievalQA\n",
    "from langchain.chat_models import ChatOpenAI\n",
    "\n",
    "from chromadb.config import Settings\n",
    "import uuid"
   ]
  },
  {
   "cell_type": "code",
   "execution_count": 17,
   "metadata": {},
   "outputs": [],
   "source": [
    "persist_directory = 'chroma-db'\n",
    "embedding = Cf.get_embeddings()"
   ]
  },
  {
   "cell_type": "code",
   "execution_count": 18,
   "metadata": {},
   "outputs": [],
   "source": [
    "db = Chroma(persist_directory= persist_directory, embedding_function=embedding,collection_name='encodings', )\n"
   ]
  },
  {
   "cell_type": "code",
   "execution_count": 54,
   "metadata": {},
   "outputs": [
    {
     "data": {
      "text/plain": [
       "[Document(page_content='Brand: HM / Type: Dress   / Fit: Regular fit   / Sleeve style: Long sleeve   / Neckline: V-neck   / Material: Cotton   / Formality: Casual   / Seasson: Autumn   / Colors: 100% Black   / Texture: Smooth   / Transparency: Opaque   / Details and Embellishments: Buttons   / Shape: Fitted   / Length: Midi   / Collar Style: Not applicable   / Sleeve Style: Long   / Patterns: Not applicable   / Patterns placement: Not applicable   / Fluidity of fabric: Moderate   / Fabric weight: Medium   / Pocket Presence: No   / Pocket placement: Not applicable   / Pocket size: Not applicable   / Breathability: Medium   / Occasion Suitability: Casual   / Lapel: Not applicable', metadata={'source': '19'}),\n",
       " Document(page_content='Brand: HM / Type: Dress / Fit: Regular fit / Sleeve style: Long sleeve / Neckline: V-neck / Material: Polyester / Formality: Casual / Season: Autumn, Spring / Colors: Black 90%, White 10% / Texture: Smooth / Transparency: Opaque / Details and Embellishments: Buttons / Shape: Fitted / Length: Midi / Collar Style: V-neck / Sleeve Style: Long / Patterns: Floral / Patterns placement: Not applicable / Fluidity of fabric: Medium / Fabric weight: Light / Pocket Presence: No / Pocket placement: Not applicable / Pocket size: Not applicable / Breathability: Medium / Occasion Suitability: Casual / Lapel: Not applicable', metadata={'source': '22'}),\n",
       " Document(page_content='Brand: HM / Type: Dress / Fit: Regular fit / Sleeve style: Sleeveless / Neckline: Round neck / Material: Cotton / Formality: Casual / Season: Summer / Colors: White 80%, Black 20% / Texture: Smooth / Transparency: Opaque / Details and Embellishments: None / Shape: Fitted / Length: Above knee / Collar Style: Round neck / Sleeve Style: Sleeveless / Patterns: Floral / Patterns placement: All over / Fluidity of fabric: Medium / Fabric weight: Light / Pocket Presence: No / Pocket placement: Not applicable / Pocket size: Not applicable / Breathability: High / Occasion Suitability: Casual / Lapel: Not applicable', metadata={'source': '37'}),\n",
       " Document(page_content='Brand: HM / Type: Dress / Fit: Regular fit / Sleeve style: Sleeveless / Neckline: V-neck / Material: Polyester / Formality: Casual / Seasson: Summer / Colors: Light blue (100%) / Texture: Smooth / Transparency: Opaque / Details and Embellishments: Not applicable / Shape: Fitted / Length: Knee-length / Collar Style: Not applicable / Sleeve Style: Sleeveless / Patterns: Floral / Patterns placement: All over / Fluidity of fabric: Medium / Fabric weight: Light / Pocket Presence: No / Pocket placement: Not applicable / Pocket size: Not applicable / Breathability: High / Occasion Suitability: Casual / Lapel: Not applicable', metadata={'source': '29'})]"
      ]
     },
     "execution_count": 54,
     "metadata": {},
     "output_type": "execute_result"
    }
   ],
   "source": [
    "#Ensure we are pulling data correctly\n",
    "db.similarity_search(query='hello')"
   ]
  },
  {
   "cell_type": "code",
   "execution_count": 20,
   "metadata": {},
   "outputs": [],
   "source": [
    "retriever = db.as_retriever(search_kwargs={\"k\": 5})"
   ]
  },
  {
   "cell_type": "code",
   "execution_count": 21,
   "metadata": {},
   "outputs": [],
   "source": [
    "os.environ['OPENAI_API_KEY'] = apikey"
   ]
  },
  {
   "cell_type": "code",
   "execution_count": 22,
   "metadata": {},
   "outputs": [
    {
     "name": "stderr",
     "output_type": "stream",
     "text": [
      "c:\\Users\\juand\\anaconda3\\Lib\\site-packages\\langchain_core\\_api\\deprecation.py:139: LangChainDeprecationWarning: The class `ChatOpenAI` was deprecated in LangChain 0.0.10 and will be removed in 0.3.0. An updated version of the class exists in the langchain-openai package and should be used instead. To use it run `pip install -U langchain-openai` and import as `from langchain_openai import ChatOpenAI`.\n",
      "  warn_deprecated(\n"
     ]
    }
   ],
   "source": [
    "turbo_llm = ChatOpenAI(\n",
    "    temperature=0,\n",
    "    model_name='gpt-3.5-turbo'\n",
    ")"
   ]
  },
  {
   "cell_type": "markdown",
   "metadata": {},
   "source": [
    "### Test chain \n",
    "Setting up -> https://python.langchain.com/v0.2/docs/tutorials/rag/"
   ]
  },
  {
   "cell_type": "code",
   "execution_count": 23,
   "metadata": {},
   "outputs": [],
   "source": [
    "from langchain_core.runnables import RunnablePassthrough\n",
    "from langchain_core.output_parsers import StrOutputParser"
   ]
  },
  {
   "cell_type": "code",
   "execution_count": 32,
   "metadata": {},
   "outputs": [],
   "source": [
    "from langchain import hub\n",
    "\n",
    "prompt_hub = hub.pull(\"rlm/rag-prompt\")"
   ]
  },
  {
   "cell_type": "code",
   "execution_count": 33,
   "metadata": {},
   "outputs": [],
   "source": [
    "def format_docs(docs):\n",
    "    return \"\\n\\n\".join(doc.page_content for doc in docs)"
   ]
  },
  {
   "cell_type": "code",
   "execution_count": 34,
   "metadata": {},
   "outputs": [],
   "source": [
    "rag_chain = (\n",
    "    {\"context\": retriever | format_docs, \"question\": RunnablePassthrough()}\n",
    "    | prompt_hub\n",
    "    | turbo_llm\n",
    "    | StrOutputParser()\n",
    ")"
   ]
  },
  {
   "cell_type": "code",
   "execution_count": 29,
   "metadata": {},
   "outputs": [],
   "source": [
    "### lets set up the system\n",
    "\n",
    "from langchain.chains import create_retrieval_chain\n",
    "from langchain.chains.combine_documents import create_stuff_documents_chain\n",
    "from langchain_core.prompts import ChatPromptTemplate"
   ]
  },
  {
   "cell_type": "code",
   "execution_count": 48,
   "metadata": {},
   "outputs": [],
   "source": [
    "system_prompt = (\n",
    "    \"You are a search engine for clothing. \"\n",
    "    \"Use the following pieces of retrieved context to suggest the best peace of clothing \"\n",
    "    \"the question. If you don't know the answer, say that you \"\n",
    "    \"answer concise.\"\n",
    "    \"Explain why the 5 selected options of the context are the best ones\"\n",
    "    \"\\n\\n\"\n",
    "    \"{context}\"\n",
    ")"
   ]
  },
  {
   "cell_type": "code",
   "execution_count": 49,
   "metadata": {},
   "outputs": [],
   "source": [
    "prompt = ChatPromptTemplate.from_messages(\n",
    "    [\n",
    "        (\"system\", system_prompt),\n",
    "        (\"human\", \"{input}\"),\n",
    "    ]\n",
    ")"
   ]
  },
  {
   "cell_type": "code",
   "execution_count": 50,
   "metadata": {},
   "outputs": [],
   "source": [
    "question_answer_chain = create_stuff_documents_chain(turbo_llm, prompt)\n",
    "rag_chain = create_retrieval_chain(retriever, question_answer_chain)"
   ]
  },
  {
   "cell_type": "code",
   "execution_count": 42,
   "metadata": {},
   "outputs": [],
   "source": [
    "query = \"Brand: HM / Type: Dress   / Fit: Regular fit   / Sleeve style: Long sleeve   / Neckline: V-neck   / Material: Cotton   / Formality: Casual   / Seasson: Autumn   / Colors: 100% Black   / Texture: Smooth   / Transparency: Opaque   / Details and Embellishments: Buttons   / Shape: Fitted   / Length: Midi   / Collar Style: Not applicable   / Sleeve Style: Long   / Patterns: Not applicable   / Patterns placement: Not applicable   / Fluidity of fabric: Moderate   / Fabric weight: Medium   / Pocket Presence: No   / Pocket placement: Not applicable   / Pocket size: Not applicable   / Breathability: Medium   / Occasion Suitability: Casual   / Lapel: Not applicable'\""
   ]
  },
  {
   "cell_type": "code",
   "execution_count": 51,
   "metadata": {},
   "outputs": [],
   "source": [
    "query = \"/ Material: Cotton   / Formality: Casual   / Seasson: Autumn   / Colors: 100% Black   / Texture: Smooth   / Transparency: Opaque   / Details and Embellishments: Buttons / Sleeve Style: Long / Patterns placement: Not applicable   / Fluidity of fabric: Moderate   / Fabric weight: Medium   / Pocket Presence: No   / Pocket placement: Not applicable   / Pocket size: Not applicable   / Breathability: Medium   / Occasion Suitability: Casual   / Lapel: Not applicable'\""
   ]
  },
  {
   "cell_type": "code",
   "execution_count": 52,
   "metadata": {},
   "outputs": [
    {
     "name": "stdout",
     "output_type": "stream",
     "text": [
      "Based on the provided context, the best option for you would be the dress described as follows:\n",
      "\n",
      "- Brand: HM\n",
      "- Type: Dress\n",
      "- Fit: Regular fit\n",
      "- Sleeve style: Long sleeve\n",
      "- Neckline: V-neck\n",
      "- Material: Cotton\n",
      "- Formality: Casual\n",
      "- Season: Autumn\n",
      "- Color: Black\n",
      "- Texture: Smooth\n",
      "- Transparency: Opaque\n",
      "- Details and Embellishments: Buttons\n",
      "- Shape: Fitted\n",
      "- Length: Midi\n",
      "- Sleeve Style: Long\n",
      "- Patterns: Not applicable\n",
      "- Fluidity of fabric: Moderate\n",
      "- Fabric weight: Medium\n",
      "- Pocket Presence: No\n",
      "- Pocket placement: Not applicable\n",
      "- Pocket size: Not applicable\n",
      "- Breathability: Medium\n",
      "- Occasion Suitability: Casual\n",
      "- Lapel: Not applicable\n",
      "\n",
      "This dress is a great choice for autumn due to its cotton material, which provides moderate breathability and medium fabric weight, making it suitable for the season. The black color, smooth texture, and fitted shape add to its casual formality, while the V-neck and long sleeves make it versatile for various occasions. The absence of patterns and pockets keeps the design simple and classic, perfect for a casual yet stylish look.\n"
     ]
    }
   ],
   "source": [
    "response = rag_chain.invoke({\"input\": query})\n",
    "print(response[\"answer\"])"
   ]
  },
  {
   "cell_type": "code",
   "execution_count": 53,
   "metadata": {},
   "outputs": [
    {
     "name": "stdout",
     "output_type": "stream",
     "text": [
      "page_content='Brand: HM / Type: Dress / Fit: Regular fit / Sleeve style: Long sleeve / Neckline: V-neck / Material: Likely polyester or a blend / Formality: Casual, Business Casual / Season: Autumn, Spring / Colors: Black (80%), White (20%) / Texture: Smooth / Transparency: Opaque / Details and Embellishments: Buttons / Shape: Fitted / Length: Midi / Collar Style: Not applicable / Sleeve Style: Long / Patterns: Polka dots / Patterns placement: Throughout / Fluidity of fabric: Medium / Fabric weight: Medium / Pocket Presence: No / Pocket placement: Not applicable / Pocket size: Not applicable / Breathability: Medium / Occasion Suitability: Casual, business casual / Lapel: Not applicable' metadata={'source': '17'}\n",
      "\n",
      "page_content='Brand: HM / Type: Dress / Fit: Regular fit, Loose / Sleeve style: Long sleeve / Neckline: V-neck / Material: Polyester / Formality: Casual, Business Casual / Season: Autumn, Spring / Colors: Black (90%), White (10%) / Texture: Smooth / Transparency: Opaque / Details and Embellishments: Buttons / Shape: Flared / Length: Midi / Collar Style: V-neck / Sleeve Style: Long / Patterns: Floral / Patterns placement: All over / Fluidity of fabric: High / Fabric weight: Light / Pocket Presence: No / Pocket placement: Not applicable / Pocket size: Not applicable / Breathability: Medium / Occasion Suitability: Casual, Business Casual / Lapel: Not applicable' metadata={'source': '36'}\n",
      "\n",
      "page_content='Brand: HM / Type: Dress   / Fit: Regular fit   / Sleeve style: Long sleeve   / Neckline: V-neck   / Material: Cotton   / Formality: Casual   / Seasson: Autumn   / Colors: 100% Black   / Texture: Smooth   / Transparency: Opaque   / Details and Embellishments: Buttons   / Shape: Fitted   / Length: Midi   / Collar Style: Not applicable   / Sleeve Style: Long   / Patterns: Not applicable   / Patterns placement: Not applicable   / Fluidity of fabric: Moderate   / Fabric weight: Medium   / Pocket Presence: No   / Pocket placement: Not applicable   / Pocket size: Not applicable   / Breathability: Medium   / Occasion Suitability: Casual   / Lapel: Not applicable' metadata={'source': '19'}\n",
      "\n",
      "page_content='Brand: HM / Type: Dress   / Fit: Regular fit   / Sleeve style: Long sleeve   / Neckline: V-neck   / Material: Polyester   / Formality: Casual   / Season: Autumn, Winter   / Colors: Black (90%), White (10%)   / Texture: Smooth   / Transparency: Opaque   / Details and Embellishments: Buttons   / Shape: Fitted   / Length: Midi   / Collar Style: V-neck   / Sleeve Style: Long   / Patterns: Floral   / Patterns placement: All over   / Fluidity of fabric: Medium   / Fabric weight: Medium   / Pocket Presence: No   / Pocket placement: Not applicable   / Pocket size: Not applicable   / Breathability: Medium   / Occasion Suitability: Casual   / Lapel: Not applicable' metadata={'source': '20'}\n",
      "\n",
      "page_content='Brand: HM / Type: Dress / Fit: Regular fit / Sleeve style: Long sleeve / Neckline: V-neck / Material: Cotton / Formality: Casual / Seasson: Spring, Summer / Colors: Black (80%), White (20%) / Texture: Smooth / Transparency: Opaque / Details and Embellishments: Not applicable / Shape: Fitted / Length: Midi / Collar Style: V-neck / Sleeve Style: Long / Patterns: Dotted / Patterns placement: Overall / Fluidity of fabric: Medium / Fabric weight: Light / Pocket Presence: No / Pocket placement: Not applicable / Pocket size: Not applicable / Breathability: High / Occasion Suitability: Casual / Lapel: Not applicable' metadata={'source': '28'}\n",
      "\n"
     ]
    }
   ],
   "source": [
    "for document in response[\"context\"]:\n",
    "    print(document)\n",
    "    print()"
   ]
  }
 ],
 "metadata": {
  "kernelspec": {
   "display_name": "Python 3",
   "language": "python",
   "name": "python3"
  },
  "language_info": {
   "codemirror_mode": {
    "name": "ipython",
    "version": 3
   },
   "file_extension": ".py",
   "mimetype": "text/x-python",
   "name": "python",
   "nbconvert_exporter": "python",
   "pygments_lexer": "ipython3",
   "version": "3.11.8"
  }
 },
 "nbformat": 4,
 "nbformat_minor": 2
}
