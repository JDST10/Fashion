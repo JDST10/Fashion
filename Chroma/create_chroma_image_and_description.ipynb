{
 "cells": [
  {
   "cell_type": "code",
   "execution_count": 2,
   "metadata": {},
   "outputs": [],
   "source": [
    "import sys, os\n",
    "sys.path.append(os.path.join(os.path.dirname('__file__'), '..', 'DB_and_Azure'))\n",
    "import sql_db_functions as SQLf"
   ]
  },
  {
   "cell_type": "markdown",
   "metadata": {},
   "source": [
    "### get data from server"
   ]
  },
  {
   "cell_type": "code",
   "execution_count": 3,
   "metadata": {},
   "outputs": [],
   "source": [
    "conn, cursor = SQLf.sql_db_functions.connect_sql()"
   ]
  },
  {
   "cell_type": "code",
   "execution_count": 4,
   "metadata": {},
   "outputs": [
    {
     "data": {
      "text/plain": [
       "(161,\n",
       " 1,\n",
       " '    *Type: Shirt\\n    *Fit: Regular fit\\n    *Sleeve style: Long sleeve\\n    *Neckline: Collared\\n    *Material: Silk\\n    *Formality: Business Casual\\n    *Season: Autumn, Spring, Summer\\n    *Colors: Navy (70%), White (30%)\\n    *Texture: Smooth\\n    *Transparency: Opaque\\n    *Details and Embellishments: Buttons\\n    *Shape: Fitted\\n    *Length: Hip-length\\n    *Collar Style: Button-down\\n    *Sleeve Style: Long\\n    *Patterns: Geometric\\n    *Patterns placement: All-over\\n    *Fluidity of fabric: High\\n    *Fabric weight: Light\\n    *Pocket Presence: No\\n    *Pocket placement: Not applicable\\n    *Pocket size: Not applicable\\n    *Breathability: High\\n    *Occasion Suitability: Business Casual, Formal\\n    *Lapel: Not applicable',\n",
       " 'The item is a Gucci silk shirt featuring an optical GG monogram print. It is designed with a regular fit and features long sleeves with buttoned cuffs. The neckline is a classic pointed collar, adding a touch of formality. The material used is high-quality silk, which gives the shirt a luxurious feel and fluid drape, suitable for all seasons due to its breathability and lightweight nature. The primary colors used are a deep lavender (5467) and white, which are intricately interwoven to create a striking visual effect. The pattern placement is consistent throughout the shirt, ensuring a cohesive look. The texture is smooth and slightly glossy, typical of silk fabric, with no transparency, making it appropriate for both formal and semi-formal occasions. There are no pockets, embellishments, or lapels, which maintains a sleek and streamlined silhouette. The shirt’s length is standard, typically falling just below the waistline, and it is finished with concealed buttons for a minimalist aesthetic.',\n",
       " 'Gucci')"
      ]
     },
     "execution_count": 4,
     "metadata": {},
     "output_type": "execute_result"
    }
   ],
   "source": [
    "query = \"SELECT product_characteristics.id, Brand_id , Detail, Summary, Brand FROM product_characteristics INNER JOIN Products ON product_characteristics.Brand_id = Products.Brand_Prod_id ;\"\n",
    "cursor.execute(query)\n",
    "\n",
    "# Fetch the rows\n",
    "rows = cursor.fetchall()\n",
    "rows[0]"
   ]
  },
  {
   "cell_type": "code",
   "execution_count": 5,
   "metadata": {},
   "outputs": [],
   "source": [
    "conn, cursor = SQLf.sql_db_functions.connect_sql()"
   ]
  },
  {
   "cell_type": "code",
   "execution_count": 6,
   "metadata": {},
   "outputs": [],
   "source": [
    "query = \"SELECT Brand_id, base64 FROM product_img ;\"\n",
    "cursor.execute(query)\n",
    "\n",
    "# Fetch the rows\n",
    "rows_img = cursor.fetchall()\n",
    "#rows_img"
   ]
  },
  {
   "cell_type": "code",
   "execution_count": 7,
   "metadata": {},
   "outputs": [
    {
     "data": {
      "text/plain": [
       "212"
      ]
     },
     "execution_count": 7,
     "metadata": {},
     "output_type": "execute_result"
    }
   ],
   "source": [
    "len(rows_img)"
   ]
  },
  {
   "cell_type": "code",
   "execution_count": 8,
   "metadata": {},
   "outputs": [],
   "source": [
    "SQLf.sql_db_functions.close_connection_db(conn=conn,cursor=cursor)"
   ]
  },
  {
   "cell_type": "markdown",
   "metadata": {},
   "source": [
    "### organize data"
   ]
  },
  {
   "cell_type": "code",
   "execution_count": 9,
   "metadata": {},
   "outputs": [],
   "source": [
    "import pandas as pd"
   ]
  },
  {
   "cell_type": "code",
   "execution_count": 10,
   "metadata": {},
   "outputs": [],
   "source": [
    "df = pd.DataFrame(rows ,columns= ['Id','prod_id','descripcion', 'Summary','Brand'])"
   ]
  },
  {
   "cell_type": "code",
   "execution_count": 11,
   "metadata": {},
   "outputs": [
    {
     "data": {
      "text/html": [
       "<div>\n",
       "<style scoped>\n",
       "    .dataframe tbody tr th:only-of-type {\n",
       "        vertical-align: middle;\n",
       "    }\n",
       "\n",
       "    .dataframe tbody tr th {\n",
       "        vertical-align: top;\n",
       "    }\n",
       "\n",
       "    .dataframe thead th {\n",
       "        text-align: right;\n",
       "    }\n",
       "</style>\n",
       "<table border=\"1\" class=\"dataframe\">\n",
       "  <thead>\n",
       "    <tr style=\"text-align: right;\">\n",
       "      <th></th>\n",
       "      <th>Id</th>\n",
       "      <th>prod_id</th>\n",
       "      <th>descripcion</th>\n",
       "      <th>Summary</th>\n",
       "      <th>Brand</th>\n",
       "    </tr>\n",
       "  </thead>\n",
       "  <tbody>\n",
       "    <tr>\n",
       "      <th>0</th>\n",
       "      <td>161</td>\n",
       "      <td>1</td>\n",
       "      <td>*Type: Shirt\\n    *Fit: Regular fit\\n    *...</td>\n",
       "      <td>The item is a Gucci silk shirt featuring an op...</td>\n",
       "      <td>Gucci</td>\n",
       "    </tr>\n",
       "    <tr>\n",
       "      <th>1</th>\n",
       "      <td>162</td>\n",
       "      <td>2</td>\n",
       "      <td>*Type: Shirt  \\n*Fit: Regular fit  \\n*Sleeve s...</td>\n",
       "      <td>The Gucci cotton Oxford GG shirt with an optic...</td>\n",
       "      <td>Gucci</td>\n",
       "    </tr>\n",
       "    <tr>\n",
       "      <th>2</th>\n",
       "      <td>163</td>\n",
       "      <td>3</td>\n",
       "      <td>*Type: Cropped blouse  \\n*Fit: Regular fit  \\n...</td>\n",
       "      <td>The Gucci top is a cropped blouse made of luxu...</td>\n",
       "      <td>Gucci</td>\n",
       "    </tr>\n",
       "    <tr>\n",
       "      <th>3</th>\n",
       "      <td>164</td>\n",
       "      <td>4</td>\n",
       "      <td>*Type: Shirt  \\n*Fit: Regular fit  \\n*Sleeve s...</td>\n",
       "      <td>The garment in question is a Gucci Camicia in ...</td>\n",
       "      <td>Gucci</td>\n",
       "    </tr>\n",
       "    <tr>\n",
       "      <th>4</th>\n",
       "      <td>165</td>\n",
       "      <td>5</td>\n",
       "      <td>*Type: Shirt  \\n*Fit: Regular fit  \\n*Sleeve s...</td>\n",
       "      <td>The garment in question is a Gucci cotton popl...</td>\n",
       "      <td>Gucci</td>\n",
       "    </tr>\n",
       "  </tbody>\n",
       "</table>\n",
       "</div>"
      ],
      "text/plain": [
       "    Id  prod_id                                        descripcion  \\\n",
       "0  161        1      *Type: Shirt\\n    *Fit: Regular fit\\n    *...   \n",
       "1  162        2  *Type: Shirt  \\n*Fit: Regular fit  \\n*Sleeve s...   \n",
       "2  163        3  *Type: Cropped blouse  \\n*Fit: Regular fit  \\n...   \n",
       "3  164        4  *Type: Shirt  \\n*Fit: Regular fit  \\n*Sleeve s...   \n",
       "4  165        5  *Type: Shirt  \\n*Fit: Regular fit  \\n*Sleeve s...   \n",
       "\n",
       "                                             Summary  Brand  \n",
       "0  The item is a Gucci silk shirt featuring an op...  Gucci  \n",
       "1  The Gucci cotton Oxford GG shirt with an optic...  Gucci  \n",
       "2  The Gucci top is a cropped blouse made of luxu...  Gucci  \n",
       "3  The garment in question is a Gucci Camicia in ...  Gucci  \n",
       "4  The garment in question is a Gucci cotton popl...  Gucci  "
      ]
     },
     "execution_count": 11,
     "metadata": {},
     "output_type": "execute_result"
    }
   ],
   "source": [
    "df.head()"
   ]
  },
  {
   "cell_type": "code",
   "execution_count": 12,
   "metadata": {},
   "outputs": [
    {
     "data": {
      "text/html": [
       "<div>\n",
       "<style scoped>\n",
       "    .dataframe tbody tr th:only-of-type {\n",
       "        vertical-align: middle;\n",
       "    }\n",
       "\n",
       "    .dataframe tbody tr th {\n",
       "        vertical-align: top;\n",
       "    }\n",
       "\n",
       "    .dataframe thead th {\n",
       "        text-align: right;\n",
       "    }\n",
       "</style>\n",
       "<table border=\"1\" class=\"dataframe\">\n",
       "  <thead>\n",
       "    <tr style=\"text-align: right;\">\n",
       "      <th></th>\n",
       "      <th>Id</th>\n",
       "      <th>prod_id</th>\n",
       "      <th>descripcion</th>\n",
       "      <th>Summary</th>\n",
       "      <th>Brand</th>\n",
       "    </tr>\n",
       "  </thead>\n",
       "  <tbody>\n",
       "    <tr>\n",
       "      <th>0</th>\n",
       "      <td>161</td>\n",
       "      <td>1</td>\n",
       "      <td>Type: Shirt\\n     Fit: Regular fit\\n     ...</td>\n",
       "      <td>The item is a Gucci silk shirt featuring an op...</td>\n",
       "      <td>Gucci</td>\n",
       "    </tr>\n",
       "    <tr>\n",
       "      <th>1</th>\n",
       "      <td>162</td>\n",
       "      <td>2</td>\n",
       "      <td>Type: Shirt   / Fit: Regular fit   / Sleeve s...</td>\n",
       "      <td>The Gucci cotton Oxford GG shirt with an optic...</td>\n",
       "      <td>Gucci</td>\n",
       "    </tr>\n",
       "    <tr>\n",
       "      <th>2</th>\n",
       "      <td>163</td>\n",
       "      <td>3</td>\n",
       "      <td>Type: Cropped blouse   / Fit: Regular fit   /...</td>\n",
       "      <td>The Gucci top is a cropped blouse made of luxu...</td>\n",
       "      <td>Gucci</td>\n",
       "    </tr>\n",
       "    <tr>\n",
       "      <th>3</th>\n",
       "      <td>164</td>\n",
       "      <td>4</td>\n",
       "      <td>Type: Shirt   / Fit: Regular fit   / Sleeve s...</td>\n",
       "      <td>The garment in question is a Gucci Camicia in ...</td>\n",
       "      <td>Gucci</td>\n",
       "    </tr>\n",
       "    <tr>\n",
       "      <th>4</th>\n",
       "      <td>165</td>\n",
       "      <td>5</td>\n",
       "      <td>Type: Shirt   / Fit: Regular fit   / Sleeve s...</td>\n",
       "      <td>The garment in question is a Gucci cotton popl...</td>\n",
       "      <td>Gucci</td>\n",
       "    </tr>\n",
       "  </tbody>\n",
       "</table>\n",
       "</div>"
      ],
      "text/plain": [
       "    Id  prod_id                                        descripcion  \\\n",
       "0  161        1       Type: Shirt\\n     Fit: Regular fit\\n     ...   \n",
       "1  162        2   Type: Shirt   / Fit: Regular fit   / Sleeve s...   \n",
       "2  163        3   Type: Cropped blouse   / Fit: Regular fit   /...   \n",
       "3  164        4   Type: Shirt   / Fit: Regular fit   / Sleeve s...   \n",
       "4  165        5   Type: Shirt   / Fit: Regular fit   / Sleeve s...   \n",
       "\n",
       "                                             Summary  Brand  \n",
       "0  The item is a Gucci silk shirt featuring an op...  Gucci  \n",
       "1  The Gucci cotton Oxford GG shirt with an optic...  Gucci  \n",
       "2  The Gucci top is a cropped blouse made of luxu...  Gucci  \n",
       "3  The garment in question is a Gucci Camicia in ...  Gucci  \n",
       "4  The garment in question is a Gucci cotton popl...  Gucci  "
      ]
     },
     "execution_count": 12,
     "metadata": {},
     "output_type": "execute_result"
    }
   ],
   "source": [
    "df['descripcion'] = df['descripcion'].str.replace('\\n*', ' / ')\n",
    "df['descripcion'] = df['descripcion'].str.replace(r'\\s+', ' ')\n",
    "df['descripcion'] = df['descripcion'].str.replace('*', ' ')\n",
    "\n",
    "df.head(5)"
   ]
  },
  {
   "cell_type": "code",
   "execution_count": 13,
   "metadata": {},
   "outputs": [
    {
     "data": {
      "text/html": [
       "<div>\n",
       "<style scoped>\n",
       "    .dataframe tbody tr th:only-of-type {\n",
       "        vertical-align: middle;\n",
       "    }\n",
       "\n",
       "    .dataframe tbody tr th {\n",
       "        vertical-align: top;\n",
       "    }\n",
       "\n",
       "    .dataframe thead th {\n",
       "        text-align: right;\n",
       "    }\n",
       "</style>\n",
       "<table border=\"1\" class=\"dataframe\">\n",
       "  <thead>\n",
       "    <tr style=\"text-align: right;\">\n",
       "      <th></th>\n",
       "      <th>Id</th>\n",
       "      <th>prod_id</th>\n",
       "      <th>descripcion</th>\n",
       "      <th>Summary</th>\n",
       "      <th>Brand</th>\n",
       "      <th>Complete_description</th>\n",
       "    </tr>\n",
       "  </thead>\n",
       "  <tbody>\n",
       "    <tr>\n",
       "      <th>0</th>\n",
       "      <td>161</td>\n",
       "      <td>1</td>\n",
       "      <td>Type: Shirt\\n     Fit: Regular fit\\n     ...</td>\n",
       "      <td>The item is a Gucci silk shirt featuring an op...</td>\n",
       "      <td>Gucci</td>\n",
       "      <td>The item is a Gucci silk shirt featuring an op...</td>\n",
       "    </tr>\n",
       "    <tr>\n",
       "      <th>1</th>\n",
       "      <td>162</td>\n",
       "      <td>2</td>\n",
       "      <td>Type: Shirt   / Fit: Regular fit   / Sleeve s...</td>\n",
       "      <td>The Gucci cotton Oxford GG shirt with an optic...</td>\n",
       "      <td>Gucci</td>\n",
       "      <td>The Gucci cotton Oxford GG shirt with an optic...</td>\n",
       "    </tr>\n",
       "    <tr>\n",
       "      <th>2</th>\n",
       "      <td>163</td>\n",
       "      <td>3</td>\n",
       "      <td>Type: Cropped blouse   / Fit: Regular fit   /...</td>\n",
       "      <td>The Gucci top is a cropped blouse made of luxu...</td>\n",
       "      <td>Gucci</td>\n",
       "      <td>The Gucci top is a cropped blouse made of luxu...</td>\n",
       "    </tr>\n",
       "    <tr>\n",
       "      <th>3</th>\n",
       "      <td>164</td>\n",
       "      <td>4</td>\n",
       "      <td>Type: Shirt   / Fit: Regular fit   / Sleeve s...</td>\n",
       "      <td>The garment in question is a Gucci Camicia in ...</td>\n",
       "      <td>Gucci</td>\n",
       "      <td>The garment in question is a Gucci Camicia in ...</td>\n",
       "    </tr>\n",
       "    <tr>\n",
       "      <th>4</th>\n",
       "      <td>165</td>\n",
       "      <td>5</td>\n",
       "      <td>Type: Shirt   / Fit: Regular fit   / Sleeve s...</td>\n",
       "      <td>The garment in question is a Gucci cotton popl...</td>\n",
       "      <td>Gucci</td>\n",
       "      <td>The garment in question is a Gucci cotton popl...</td>\n",
       "    </tr>\n",
       "  </tbody>\n",
       "</table>\n",
       "</div>"
      ],
      "text/plain": [
       "    Id  prod_id                                        descripcion  \\\n",
       "0  161        1       Type: Shirt\\n     Fit: Regular fit\\n     ...   \n",
       "1  162        2   Type: Shirt   / Fit: Regular fit   / Sleeve s...   \n",
       "2  163        3   Type: Cropped blouse   / Fit: Regular fit   /...   \n",
       "3  164        4   Type: Shirt   / Fit: Regular fit   / Sleeve s...   \n",
       "4  165        5   Type: Shirt   / Fit: Regular fit   / Sleeve s...   \n",
       "\n",
       "                                             Summary  Brand  \\\n",
       "0  The item is a Gucci silk shirt featuring an op...  Gucci   \n",
       "1  The Gucci cotton Oxford GG shirt with an optic...  Gucci   \n",
       "2  The Gucci top is a cropped blouse made of luxu...  Gucci   \n",
       "3  The garment in question is a Gucci Camicia in ...  Gucci   \n",
       "4  The garment in question is a Gucci cotton popl...  Gucci   \n",
       "\n",
       "                                Complete_description  \n",
       "0  The item is a Gucci silk shirt featuring an op...  \n",
       "1  The Gucci cotton Oxford GG shirt with an optic...  \n",
       "2  The Gucci top is a cropped blouse made of luxu...  \n",
       "3  The garment in question is a Gucci Camicia in ...  \n",
       "4  The garment in question is a Gucci cotton popl...  "
      ]
     },
     "execution_count": 13,
     "metadata": {},
     "output_type": "execute_result"
    }
   ],
   "source": [
    "df['Complete_description'] = df['Summary'] + ' /' + \"Brand: \" + df['Brand'] + \" /\" + df['descripcion']\n",
    "df.head()"
   ]
  },
  {
   "cell_type": "code",
   "execution_count": 14,
   "metadata": {},
   "outputs": [],
   "source": [
    "documents = df['Complete_description'].tolist()\n",
    "id = df['Id'].astype('str').tolist()\n",
    "metadata = [{\"source\": id} for id in df['Id'].astype('str').tolist()]"
   ]
  },
  {
   "cell_type": "code",
   "execution_count": 15,
   "metadata": {},
   "outputs": [],
   "source": [
    "df_image = pd.DataFrame(rows_img, columns=['prod_id', 'base64'])"
   ]
  },
  {
   "cell_type": "code",
   "execution_count": 16,
   "metadata": {},
   "outputs": [
    {
     "data": {
      "text/html": [
       "<div>\n",
       "<style scoped>\n",
       "    .dataframe tbody tr th:only-of-type {\n",
       "        vertical-align: middle;\n",
       "    }\n",
       "\n",
       "    .dataframe tbody tr th {\n",
       "        vertical-align: top;\n",
       "    }\n",
       "\n",
       "    .dataframe thead th {\n",
       "        text-align: right;\n",
       "    }\n",
       "</style>\n",
       "<table border=\"1\" class=\"dataframe\">\n",
       "  <thead>\n",
       "    <tr style=\"text-align: right;\">\n",
       "      <th></th>\n",
       "      <th>prod_id</th>\n",
       "      <th>base64</th>\n",
       "    </tr>\n",
       "  </thead>\n",
       "  <tbody>\n",
       "    <tr>\n",
       "      <th>0</th>\n",
       "      <td>1</td>\n",
       "      <td>data:image/jpeg;base64, /9j/4AAQSkZJRgABAQAAAQ...</td>\n",
       "    </tr>\n",
       "    <tr>\n",
       "      <th>1</th>\n",
       "      <td>1</td>\n",
       "      <td>data:image/jpeg;base64, /9j/4AAQSkZJRgABAQAAAQ...</td>\n",
       "    </tr>\n",
       "    <tr>\n",
       "      <th>2</th>\n",
       "      <td>55</td>\n",
       "      <td>data:image/jpeg;base64, /9j/4AAQSkZJRgABAQAAAQ...</td>\n",
       "    </tr>\n",
       "    <tr>\n",
       "      <th>3</th>\n",
       "      <td>82</td>\n",
       "      <td>None</td>\n",
       "    </tr>\n",
       "    <tr>\n",
       "      <th>4</th>\n",
       "      <td>83</td>\n",
       "      <td>None</td>\n",
       "    </tr>\n",
       "    <tr>\n",
       "      <th>5</th>\n",
       "      <td>83</td>\n",
       "      <td>None</td>\n",
       "    </tr>\n",
       "    <tr>\n",
       "      <th>6</th>\n",
       "      <td>1</td>\n",
       "      <td>data:image/jpeg;base64, /9j/4AAQSkZJRgABAQAAAQ...</td>\n",
       "    </tr>\n",
       "    <tr>\n",
       "      <th>7</th>\n",
       "      <td>1</td>\n",
       "      <td>data:image/jpeg;base64, /9j/4AAQSkZJRgABAQAAAQ...</td>\n",
       "    </tr>\n",
       "    <tr>\n",
       "      <th>8</th>\n",
       "      <td>2</td>\n",
       "      <td>data:image/jpeg;base64, /9j/4AAQSkZJRgABAQAAAQ...</td>\n",
       "    </tr>\n",
       "    <tr>\n",
       "      <th>9</th>\n",
       "      <td>2</td>\n",
       "      <td>data:image/jpeg;base64, /9j/4AAQSkZJRgABAQAAAQ...</td>\n",
       "    </tr>\n",
       "  </tbody>\n",
       "</table>\n",
       "</div>"
      ],
      "text/plain": [
       "   prod_id                                             base64\n",
       "0        1  data:image/jpeg;base64, /9j/4AAQSkZJRgABAQAAAQ...\n",
       "1        1  data:image/jpeg;base64, /9j/4AAQSkZJRgABAQAAAQ...\n",
       "2       55  data:image/jpeg;base64, /9j/4AAQSkZJRgABAQAAAQ...\n",
       "3       82                                               None\n",
       "4       83                                               None\n",
       "5       83                                               None\n",
       "6        1  data:image/jpeg;base64, /9j/4AAQSkZJRgABAQAAAQ...\n",
       "7        1  data:image/jpeg;base64, /9j/4AAQSkZJRgABAQAAAQ...\n",
       "8        2  data:image/jpeg;base64, /9j/4AAQSkZJRgABAQAAAQ...\n",
       "9        2  data:image/jpeg;base64, /9j/4AAQSkZJRgABAQAAAQ..."
      ]
     },
     "execution_count": 16,
     "metadata": {},
     "output_type": "execute_result"
    }
   ],
   "source": [
    "df_image.head(10)"
   ]
  },
  {
   "cell_type": "code",
   "execution_count": 17,
   "metadata": {},
   "outputs": [],
   "source": [
    "del rows, rows_img"
   ]
  },
  {
   "cell_type": "markdown",
   "metadata": {},
   "source": [
    "### Get images "
   ]
  },
  {
   "cell_type": "code",
   "execution_count": 18,
   "metadata": {},
   "outputs": [],
   "source": [
    "import base64\n",
    "from io import BytesIO\n",
    "from PIL import Image"
   ]
  },
  {
   "cell_type": "code",
   "execution_count": 19,
   "metadata": {},
   "outputs": [],
   "source": [
    "def base64_to_image(base64_string):\n",
    "    # Remove the data URI prefix if present\n",
    "    if \"data:image\" in base64_string:\n",
    "        base64_string = base64_string.split(\",\")[1]\n",
    "\n",
    "    # Decode the Base64 string into bytes\n",
    "    image_bytes = base64.b64decode(base64_string)\n",
    "    return image_bytes"
   ]
  },
  {
   "cell_type": "code",
   "execution_count": 20,
   "metadata": {},
   "outputs": [],
   "source": [
    "def create_image_from_bytes(image_bytes):\n",
    "    # Create a BytesIO object to handle the image data\n",
    "    image_stream = BytesIO(image_bytes)\n",
    "\n",
    "    # Open the image using Pillow (PIL)\n",
    "    image = Image.open(image_stream)\n",
    "    return image"
   ]
  },
  {
   "cell_type": "code",
   "execution_count": 121,
   "metadata": {},
   "outputs": [],
   "source": [
    "def resize_image(image, new_width):\n",
    "    # Open the image\n",
    "\n",
    "    # Calculate the new height while maintaining the aspect ratio\n",
    "    original_width, original_height = image.size\n",
    "    aspect_ratio = original_height / original_width\n",
    "    new_height = int(new_width * aspect_ratio)\n",
    "\n",
    "    # Resize the image\n",
    "    resized_image = image.resize((new_width, new_height), Image.ANTIALIAS)\n",
    "\n",
    "    return resized_image\n"
   ]
  },
  {
   "cell_type": "code",
   "execution_count": 21,
   "metadata": {},
   "outputs": [
    {
     "data": {
      "text/plain": [
       "'data:image/jpeg;base64, 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'"
      ]
     },
     "execution_count": 21,
     "metadata": {},
     "output_type": "execute_result"
    }
   ],
   "source": [
    "df_image.iloc[200].base64"
   ]
  },
  {
   "cell_type": "code",
   "execution_count": 22,
   "metadata": {},
   "outputs": [],
   "source": [
    "image_bytes = base64_to_image(df_image.iloc[200].base64)\n",
    "create_image_from_bytes(image_bytes=image_bytes)"
   ]
  },
  {
   "cell_type": "code",
   "execution_count": null,
   "metadata": {},
   "outputs": [],
   "source": []
  },
  {
   "cell_type": "markdown",
   "metadata": {},
   "source": [
    "### Testing embeddings"
   ]
  },
  {
   "cell_type": "code",
   "execution_count": 24,
   "metadata": {},
   "outputs": [],
   "source": [
    "import uuid\n",
    "from langchain.vectorstores import Chroma\n",
    "from langchain.storage import InMemoryStore\n",
    "from langchain.schema.document import Document\n",
    "from langchain.retrievers.multi_vector import MultiVectorRetriever"
   ]
  },
  {
   "cell_type": "code",
   "execution_count": 25,
   "metadata": {},
   "outputs": [],
   "source": [
    "from langchain_community.embeddings.sentence_transformer import (\n",
    "    SentenceTransformerEmbeddings,\n",
    ")"
   ]
  },
  {
   "cell_type": "code",
   "execution_count": 26,
   "metadata": {},
   "outputs": [
    {
     "name": "stderr",
     "output_type": "stream",
     "text": [
      "c:\\Users\\juand\\anaconda3\\Lib\\site-packages\\langchain_core\\_api\\deprecation.py:139: LangChainDeprecationWarning: The class `HuggingFaceEmbeddings` was deprecated in LangChain 0.2.2 and will be removed in 0.3.0. An updated version of the class exists in the langchain-huggingface package and should be used instead. To use it run `pip install -U langchain-huggingface` and import as `from langchain_huggingface import HuggingFaceEmbeddings`.\n",
      "  warn_deprecated(\n",
      "c:\\Users\\juand\\anaconda3\\Lib\\site-packages\\sentence_transformers\\cross_encoder\\CrossEncoder.py:11: TqdmExperimentalWarning: Using `tqdm.autonotebook.tqdm` in notebook mode. Use `tqdm.tqdm` instead to force console mode (e.g. in jupyter console)\n",
      "  from tqdm.autonotebook import tqdm, trange\n",
      "c:\\Users\\juand\\anaconda3\\Lib\\site-packages\\transformers\\utils\\generic.py:482: UserWarning: torch.utils._pytree._register_pytree_node is deprecated. Please use torch.utils._pytree.register_pytree_node instead.\n",
      "  _torch_pytree._register_pytree_node(\n",
      "c:\\Users\\juand\\anaconda3\\Lib\\site-packages\\transformers\\utils\\generic.py:339: UserWarning: torch.utils._pytree._register_pytree_node is deprecated. Please use torch.utils._pytree.register_pytree_node instead.\n",
      "  _torch_pytree._register_pytree_node(\n"
     ]
    }
   ],
   "source": [
    "embedding_function = SentenceTransformerEmbeddings(model_name='all-mpnet-base-v2')"
   ]
  },
  {
   "cell_type": "code",
   "execution_count": 27,
   "metadata": {},
   "outputs": [],
   "source": [
    "persist_directory = 'chroma-db-full-description'"
   ]
  },
  {
   "cell_type": "code",
   "execution_count": 28,
   "metadata": {},
   "outputs": [],
   "source": [
    "store = InMemoryStore()\n",
    "id_key = 'doc_id'"
   ]
  },
  {
   "cell_type": "markdown",
   "metadata": {},
   "source": [
    "### load text "
   ]
  },
  {
   "cell_type": "code",
   "execution_count": 29,
   "metadata": {},
   "outputs": [
    {
     "data": {
      "text/html": [
       "<div>\n",
       "<style scoped>\n",
       "    .dataframe tbody tr th:only-of-type {\n",
       "        vertical-align: middle;\n",
       "    }\n",
       "\n",
       "    .dataframe tbody tr th {\n",
       "        vertical-align: top;\n",
       "    }\n",
       "\n",
       "    .dataframe thead th {\n",
       "        text-align: right;\n",
       "    }\n",
       "</style>\n",
       "<table border=\"1\" class=\"dataframe\">\n",
       "  <thead>\n",
       "    <tr style=\"text-align: right;\">\n",
       "      <th></th>\n",
       "      <th>prod_id</th>\n",
       "      <th>base64</th>\n",
       "    </tr>\n",
       "  </thead>\n",
       "  <tbody>\n",
       "    <tr>\n",
       "      <th>0</th>\n",
       "      <td>1</td>\n",
       "      <td>data:image/jpeg;base64, /9j/4AAQSkZJRgABAQAAAQ...</td>\n",
       "    </tr>\n",
       "    <tr>\n",
       "      <th>1</th>\n",
       "      <td>1</td>\n",
       "      <td>data:image/jpeg;base64, /9j/4AAQSkZJRgABAQAAAQ...</td>\n",
       "    </tr>\n",
       "    <tr>\n",
       "      <th>2</th>\n",
       "      <td>55</td>\n",
       "      <td>data:image/jpeg;base64, /9j/4AAQSkZJRgABAQAAAQ...</td>\n",
       "    </tr>\n",
       "  </tbody>\n",
       "</table>\n",
       "</div>"
      ],
      "text/plain": [
       "   prod_id                                             base64\n",
       "0        1  data:image/jpeg;base64, /9j/4AAQSkZJRgABAQAAAQ...\n",
       "1        1  data:image/jpeg;base64, /9j/4AAQSkZJRgABAQAAAQ...\n",
       "2       55  data:image/jpeg;base64, /9j/4AAQSkZJRgABAQAAAQ..."
      ]
     },
     "execution_count": 29,
     "metadata": {},
     "output_type": "execute_result"
    }
   ],
   "source": [
    "df_image.head(3)"
   ]
  },
  {
   "cell_type": "code",
   "execution_count": 30,
   "metadata": {},
   "outputs": [],
   "source": [
    "df = pd.merge(\n",
    "            df,\n",
    "            df_image.groupby('prod_id')['base64'].apply(list).reset_index(),\n",
    "            on='prod_id'\n",
    "        )"
   ]
  },
  {
   "cell_type": "code",
   "execution_count": 31,
   "metadata": {},
   "outputs": [
    {
     "data": {
      "text/html": [
       "<div>\n",
       "<style scoped>\n",
       "    .dataframe tbody tr th:only-of-type {\n",
       "        vertical-align: middle;\n",
       "    }\n",
       "\n",
       "    .dataframe tbody tr th {\n",
       "        vertical-align: top;\n",
       "    }\n",
       "\n",
       "    .dataframe thead th {\n",
       "        text-align: right;\n",
       "    }\n",
       "</style>\n",
       "<table border=\"1\" class=\"dataframe\">\n",
       "  <thead>\n",
       "    <tr style=\"text-align: right;\">\n",
       "      <th></th>\n",
       "      <th>Id</th>\n",
       "      <th>prod_id</th>\n",
       "      <th>descripcion</th>\n",
       "      <th>Summary</th>\n",
       "      <th>Brand</th>\n",
       "      <th>Complete_description</th>\n",
       "      <th>base64</th>\n",
       "    </tr>\n",
       "  </thead>\n",
       "  <tbody>\n",
       "    <tr>\n",
       "      <th>0</th>\n",
       "      <td>161</td>\n",
       "      <td>1</td>\n",
       "      <td>Type: Shirt\\n     Fit: Regular fit\\n     ...</td>\n",
       "      <td>The item is a Gucci silk shirt featuring an op...</td>\n",
       "      <td>Gucci</td>\n",
       "      <td>The item is a Gucci silk shirt featuring an op...</td>\n",
       "      <td>[data:image/jpeg;base64, /9j/4AAQSkZJRgABAQAAA...</td>\n",
       "    </tr>\n",
       "    <tr>\n",
       "      <th>1</th>\n",
       "      <td>162</td>\n",
       "      <td>2</td>\n",
       "      <td>Type: Shirt   / Fit: Regular fit   / Sleeve s...</td>\n",
       "      <td>The Gucci cotton Oxford GG shirt with an optic...</td>\n",
       "      <td>Gucci</td>\n",
       "      <td>The Gucci cotton Oxford GG shirt with an optic...</td>\n",
       "      <td>[data:image/jpeg;base64, /9j/4AAQSkZJRgABAQAAA...</td>\n",
       "    </tr>\n",
       "  </tbody>\n",
       "</table>\n",
       "</div>"
      ],
      "text/plain": [
       "    Id  prod_id                                        descripcion  \\\n",
       "0  161        1       Type: Shirt\\n     Fit: Regular fit\\n     ...   \n",
       "1  162        2   Type: Shirt   / Fit: Regular fit   / Sleeve s...   \n",
       "\n",
       "                                             Summary  Brand  \\\n",
       "0  The item is a Gucci silk shirt featuring an op...  Gucci   \n",
       "1  The Gucci cotton Oxford GG shirt with an optic...  Gucci   \n",
       "\n",
       "                                Complete_description  \\\n",
       "0  The item is a Gucci silk shirt featuring an op...   \n",
       "1  The Gucci cotton Oxford GG shirt with an optic...   \n",
       "\n",
       "                                              base64  \n",
       "0  [data:image/jpeg;base64, /9j/4AAQSkZJRgABAQAAA...  \n",
       "1  [data:image/jpeg;base64, /9j/4AAQSkZJRgABAQAAA...  "
      ]
     },
     "execution_count": 31,
     "metadata": {},
     "output_type": "execute_result"
    }
   ],
   "source": [
    "df.head(2)"
   ]
  },
  {
   "cell_type": "code",
   "execution_count": 32,
   "metadata": {},
   "outputs": [
    {
     "data": {
      "text/html": [
       "<div>\n",
       "<style scoped>\n",
       "    .dataframe tbody tr th:only-of-type {\n",
       "        vertical-align: middle;\n",
       "    }\n",
       "\n",
       "    .dataframe tbody tr th {\n",
       "        vertical-align: top;\n",
       "    }\n",
       "\n",
       "    .dataframe thead th {\n",
       "        text-align: right;\n",
       "    }\n",
       "</style>\n",
       "<table border=\"1\" class=\"dataframe\">\n",
       "  <thead>\n",
       "    <tr style=\"text-align: right;\">\n",
       "      <th></th>\n",
       "      <th>Id</th>\n",
       "      <th>prod_id</th>\n",
       "      <th>descripcion</th>\n",
       "      <th>Summary</th>\n",
       "      <th>Brand</th>\n",
       "      <th>Complete_description</th>\n",
       "      <th>base64</th>\n",
       "    </tr>\n",
       "  </thead>\n",
       "  <tbody>\n",
       "    <tr>\n",
       "      <th>0</th>\n",
       "      <td>161</td>\n",
       "      <td>1</td>\n",
       "      <td>Type: Shirt\\n     Fit: Regular fit\\n     ...</td>\n",
       "      <td>The item is a Gucci silk shirt featuring an op...</td>\n",
       "      <td>Gucci</td>\n",
       "      <td>The item is a Gucci silk shirt featuring an op...</td>\n",
       "      <td>[data:image/jpeg;base64, /9j/4AAQSkZJRgABAQAAA...</td>\n",
       "    </tr>\n",
       "    <tr>\n",
       "      <th>1</th>\n",
       "      <td>162</td>\n",
       "      <td>2</td>\n",
       "      <td>Type: Shirt   / Fit: Regular fit   / Sleeve s...</td>\n",
       "      <td>The Gucci cotton Oxford GG shirt with an optic...</td>\n",
       "      <td>Gucci</td>\n",
       "      <td>The Gucci cotton Oxford GG shirt with an optic...</td>\n",
       "      <td>[data:image/jpeg;base64, /9j/4AAQSkZJRgABAQAAA...</td>\n",
       "    </tr>\n",
       "    <tr>\n",
       "      <th>2</th>\n",
       "      <td>163</td>\n",
       "      <td>3</td>\n",
       "      <td>Type: Cropped blouse   / Fit: Regular fit   /...</td>\n",
       "      <td>The Gucci top is a cropped blouse made of luxu...</td>\n",
       "      <td>Gucci</td>\n",
       "      <td>The Gucci top is a cropped blouse made of luxu...</td>\n",
       "      <td>[data:image/jpeg;base64, /9j/4AAQSkZJRgABAQAAA...</td>\n",
       "    </tr>\n",
       "    <tr>\n",
       "      <th>3</th>\n",
       "      <td>164</td>\n",
       "      <td>4</td>\n",
       "      <td>Type: Shirt   / Fit: Regular fit   / Sleeve s...</td>\n",
       "      <td>The garment in question is a Gucci Camicia in ...</td>\n",
       "      <td>Gucci</td>\n",
       "      <td>The garment in question is a Gucci Camicia in ...</td>\n",
       "      <td>[data:image/jpeg;base64, /9j/4AAQSkZJRgABAQAAA...</td>\n",
       "    </tr>\n",
       "    <tr>\n",
       "      <th>4</th>\n",
       "      <td>165</td>\n",
       "      <td>5</td>\n",
       "      <td>Type: Shirt   / Fit: Regular fit   / Sleeve s...</td>\n",
       "      <td>The garment in question is a Gucci cotton popl...</td>\n",
       "      <td>Gucci</td>\n",
       "      <td>The garment in question is a Gucci cotton popl...</td>\n",
       "      <td>[data:image/jpeg;base64, /9j/4AAQSkZJRgABAQAAA...</td>\n",
       "    </tr>\n",
       "  </tbody>\n",
       "</table>\n",
       "</div>"
      ],
      "text/plain": [
       "    Id prod_id                                        descripcion  \\\n",
       "0  161       1       Type: Shirt\\n     Fit: Regular fit\\n     ...   \n",
       "1  162       2   Type: Shirt   / Fit: Regular fit   / Sleeve s...   \n",
       "2  163       3   Type: Cropped blouse   / Fit: Regular fit   /...   \n",
       "3  164       4   Type: Shirt   / Fit: Regular fit   / Sleeve s...   \n",
       "4  165       5   Type: Shirt   / Fit: Regular fit   / Sleeve s...   \n",
       "\n",
       "                                             Summary  Brand  \\\n",
       "0  The item is a Gucci silk shirt featuring an op...  Gucci   \n",
       "1  The Gucci cotton Oxford GG shirt with an optic...  Gucci   \n",
       "2  The Gucci top is a cropped blouse made of luxu...  Gucci   \n",
       "3  The garment in question is a Gucci Camicia in ...  Gucci   \n",
       "4  The garment in question is a Gucci cotton popl...  Gucci   \n",
       "\n",
       "                                Complete_description  \\\n",
       "0  The item is a Gucci silk shirt featuring an op...   \n",
       "1  The Gucci cotton Oxford GG shirt with an optic...   \n",
       "2  The Gucci top is a cropped blouse made of luxu...   \n",
       "3  The garment in question is a Gucci Camicia in ...   \n",
       "4  The garment in question is a Gucci cotton popl...   \n",
       "\n",
       "                                              base64  \n",
       "0  [data:image/jpeg;base64, /9j/4AAQSkZJRgABAQAAA...  \n",
       "1  [data:image/jpeg;base64, /9j/4AAQSkZJRgABAQAAA...  \n",
       "2  [data:image/jpeg;base64, /9j/4AAQSkZJRgABAQAAA...  \n",
       "3  [data:image/jpeg;base64, /9j/4AAQSkZJRgABAQAAA...  \n",
       "4  [data:image/jpeg;base64, /9j/4AAQSkZJRgABAQAAA...  "
      ]
     },
     "execution_count": 32,
     "metadata": {},
     "output_type": "execute_result"
    }
   ],
   "source": [
    "df.prod_id = df.prod_id.astype(int)\n",
    "df.sort_values('prod_id',ascending=True,inplace=True)\n",
    "df.reset_index(drop=True, inplace= True)\n",
    "df.prod_id = df.prod_id.astype('string')\n",
    "df.head(5)"
   ]
  },
  {
   "cell_type": "code",
   "execution_count": 33,
   "metadata": {},
   "outputs": [],
   "source": [
    "vectorstore = Chroma(\n",
    "    collection_name=\"multi_modal_rag\", embedding_function=embedding_function\n",
    ")"
   ]
  },
  {
   "cell_type": "code",
   "execution_count": 34,
   "metadata": {},
   "outputs": [],
   "source": [
    "retriever = MultiVectorRetriever(\n",
    "    vectorstore=vectorstore,\n",
    "    docstore=store,\n",
    "    id_key=id_key,\n",
    "    search_kwargs={\"k\":5}\n",
    ")"
   ]
  },
  {
   "cell_type": "code",
   "execution_count": 35,
   "metadata": {},
   "outputs": [],
   "source": [
    "doc_ids = df.prod_id\n",
    "\n",
    "texts = [\n",
    "    Document(\n",
    "        page_content= df.iloc[i].Complete_description, metadata={id_key:df.iloc[i].prod_id}\n",
    "    )\n",
    "    for i in df.index\n",
    "]"
   ]
  },
  {
   "cell_type": "code",
   "execution_count": 36,
   "metadata": {},
   "outputs": [],
   "source": [
    "retriever.vectorstore.add_documents(texts)\n",
    "retriever.docstore.mset(list(zip(doc_ids, texts)))"
   ]
  },
  {
   "cell_type": "code",
   "execution_count": 37,
   "metadata": {},
   "outputs": [],
   "source": [
    "docs = retriever.invoke(\n",
    "    \"Gucci\"\n",
    ")"
   ]
  },
  {
   "cell_type": "code",
   "execution_count": 38,
   "metadata": {},
   "outputs": [
    {
     "data": {
      "text/plain": [
       "[Document(page_content=\"The Gucci top is a cropped blouse made of luxurious silk, designed with a fluid and lightweight fabric that enhances breathability, making it ideal for summer and beach club settings. It features a relaxed fit with short sleeves, and a round neckline that complements its casual elegance. The shirt showcases a bold and intricate pattern, with the signature Gucci horsebit print interspersed with vertical stripes. The color palette includes a deep crimson red, complemented by off-white and black stripe details, creating a striking visual contrast. The texture is smooth and silky, lending a sophisticated sheen to the fabric. The top's length is cropped, hitting above the waist, which adds to its breezy and informal vibe. There are no pockets, collars, or lapels, maintaining a streamlined and sleek silhouette. Overall, this top embodies a chic yet relaxed style, perfect for casual summer gatherings or upscale beach events. /Brand: Gucci / Type: Cropped blouse   / Fit: Regular fit   / Sleeve style: Short sleeve   / Neckline: Crew neck   / Material: Silk   / Formality: Casual   / Season: Spring, Summer   / Colors: 60% Red, 30% White, 10% Green   / Texture: Smooth   / Transparency: Opaque   / Details and Embellishments: Buttons   / Shape: Fitted   / Length: Cropped   / Collar Style: Crew neck   / Sleeve Style: Short   / Patterns: Stripes, Equestrian print   / Patterns placement: All over   / Fluidity of fabric: High   / Fabric weight: Light   / Pocket Presence: No   / Pocket placement: Not applicable   / Pocket size: Not applicable   / Breathability: High   / Occasion Suitability: Casual   / Lapel: Not applicable\", metadata={'doc_id': '3'}),\n",
       " Document(page_content='The top from Gucci, as shown in the images, is a sophisticated piece designed with a contemporary yet timeless aesthetic. This top features a slim fit, ideal for a sleek and tailored look. The material is high-quality cotton gabardine, known for its durability and smooth texture, making it suitable for warmer seasons. The neckline is a classic crew style, providing a clean and simple finish to the garment. The top is sleeveless, adding to its summer-ready appeal and enhancing its breathability. The color palette includes a predominant light beige (referred to as Light Beige) with the iconic GG monogram pattern in a contrasting dark brown (referred to as Dark Brown), which is meticulously placed all over the fabric, giving it a luxurious and instantly recognizable Gucci signature. The texture is smooth with a slight sheen, reflecting the premium quality of the fabric. There is no transparency, ensuring a modest and elegant look. The top has a straight hemline, and its overall shape is slightly boxy, adding to its modern chic. There are no additional embellishments, keeping the design clean and versatile. This top does not feature pockets, maintaining a streamlined silhouette. Given its stylish yet understated design, it is suitable for both casual and semi-formal occasions, perfect for a day at the beach club or a casual summer outing. /Brand: Gucci / Type: Top / Fit: Regular fit / Sleeve style: Sleeveless / Neckline: Crew neck / Material: Cotton / Formality: Casual / Seasson: Spring, Summer / Colors: Beige (90%), Brown (10%) / Texture: Smooth / Transparency: Opaque / Details and Embellishments: GG logo pattern, button closure / Shape: Boxy / Length: Hip-length / Collar Style: Crew neck / Sleeve Style: Sleeveless / Patterns: Geometric, GG logo / Patterns placement: Overall / Fluidity of fabric: Medium / Fabric weight: Light / Pocket Presence: No / Pocket placement: Not applicable / Pocket size: Not applicable / Breathability: High / Occasion Suitability: Casual / Lapel: Not applicable', metadata={'doc_id': '11'}),\n",
       " Document(page_content=\"The Gucci shirt showcased in the images is an elegant piece inspired by the summer spirit and beach club aesthetics. This shirt features a relaxed fit, long sleeves with buttoned cuffs, and a classic point collar, making it suitable for both casual and semi-formal occasions. The material is cotton jacquard, providing a lightweight and breathable texture perfect for warm seasons. The fabric has a soft, slightly textured feel with subtle transparency, adding to its airy and comfortable nature. The shirt displays a sophisticated striped pattern in deep navy blue and white, running vertically across the garment, enhancing its elongated shape and providing a classic yet contemporary look. The navy blue stripes are delicately woven into the jacquard fabric, ensuring durability and a high-quality finish. There are no pockets, contributing to the shirt's smooth and seamless appearance. The overall design is minimalistic yet refined, making it a versatile addition to any summer wardrobe. /Brand: Gucci / Type: Shirt / Fit: Regular fit / Sleeve style: Long sleeve / Neckline: Collared / Material: Cotton / Formality: Business Casual, Formal / Seasson: Spring, Summer / Colors: Blue (90%), White (10%) / Texture: Smooth / Transparency: Opaque / Details and Embellishments: Buttons / Shape: Fitted / Length: Hip-length / Collar Style: Button-down / Sleeve Style: Long / Patterns: Stripes / Patterns placement: Not applicable / Fluidity of fabric: Medium / Fabric weight: Light / Pocket Presence: No / Pocket placement: Not applicable / Pocket size: Not applicable / Breathability: High / Occasion Suitability: Business casual, formal / Lapel: Not applicable\", metadata={'doc_id': '13'}),\n",
       " Document(page_content='The Gucci cotton Oxford GG shirt with an optical effect features a tailored fit that accentuates a modern silhouette, making it suitable for both formal and semi-formal occasions. This long-sleeve shirt showcases a classic button-down front and a standard collar, contributing to its timeless appeal. Crafted from high-quality Oxford cotton, the material offers a medium weight, providing comfort and breathability suitable for all seasons. The shirt prominently displays the iconic GG monogram in a repeated pattern, creating an optical illusion effect that adds a contemporary twist to the classic fabric. The primary color of the shirt is a rich navy blue, which serves as the base for the intricate light blue GG pattern. This pattern is consistently placed across the entire garment, ensuring a cohesive and polished look. Additional details include a single chest pocket, perfectly sized and positioned for both functionality and style. The fabric has a smooth texture with minimal transparency, maintaining a professional appearance. Overall, this shirt combines classic elements with modern design, making it a versatile piece for various occasions, from business meetings to upscale casual events. /Brand: Gucci / Type: Shirt   / Fit: Regular fit   / Sleeve style: Long sleeve   / Neckline: Button-down   / Material: Cotton   / Formality: Business Casual   / Season: Spring, Summer   / Colors: Blue 90%, White 10%   / Texture: Smooth   / Transparency: Opaque   / Details and Embellishments: Buttons, GG pattern   / Shape: Fitted   / Length: Hip-length   / Collar Style: Button-down   / Sleeve Style: Long   / Patterns: Geometric   / Patterns placement: All-over   / Fluidity of fabric: Medium   / Fabric weight: Medium   / Pocket Presence: No   / Pocket placement: Not applicable   / Pocket size: Not applicable   / Breathability: High   / Occasion Suitability: Business casual   / Lapel: Not applicable  ', metadata={'doc_id': '2'}),\n",
       " Document(page_content=\"The Gucci shirt in question is a finely crafted piece made from lightweight cotton poplin, perfect for summer and beach club settings. It features a regular fit that provides comfortable wear without being overly tight or loose, making it suitable for casual and semi-formal occasions. The shirt has long sleeves with buttoned cuffs, and a classic pointed collar that adds a touch of formality. The neckline is a standard button-down, which complements the overall clean and crisp design. The predominant color of the shirt is white, providing a fresh and versatile base. Adding a touch of sophistication, the shirt is embellished with intricate floral embroidery in a soft pastel blue hue, strategically placed on the chest area. The embroidery enhances the shirt's texture and visual appeal without overwhelming the simplicity of the design. The fabric is breathable and lightweight, ensuring comfort in warmer weather. The shirt does not feature any pockets, maintaining a sleek and streamlined look. Overall, this Gucci shirt combines elegant details with practical features, making it an ideal choice for stylish summer outings. /Brand: Gucci /     Type: Shirt\\n     Fit: Regular fit\\n     Sleeve style: Long sleeve\\n     Neckline: V-neck\\n     Material: Cotton\\n     Formality: Formal\\n     Seasson: Spring, Summer\\n     Colors: White 95%, Black 5%\\n     Texture: Smooth\\n     Transparency: Opaque\\n     Details and Embellishments: Embroidery, Buttons\\n     Shape: Fitted\\n     Length: Hip-length\\n     Collar Style: Button-down\\n     Sleeve Style: Long\\n     Patterns: Not applicable\\n     Patterns placement: Not applicable\\n     Fluidity of fabric: Medium\\n     Fabric weight: Light\\n     Pocket Presence: No\\n     Pocket placement: Not applicable\\n     Pocket size: Not applicable\\n     Breathability: High\\n     Occasion Suitability: Formal, Business Casual\\n     Lapel: Not applicable\", metadata={'doc_id': '9'})]"
      ]
     },
     "execution_count": 38,
     "metadata": {},
     "output_type": "execute_result"
    }
   ],
   "source": [
    "docs"
   ]
  },
  {
   "cell_type": "code",
   "execution_count": 39,
   "metadata": {},
   "outputs": [
    {
     "data": {
      "text/plain": [
       "'The Gucci cotton Oxford GG shirt with an optical effect features a tailored fit that accentuates a modern silhouette, making it suitable for both formal and semi-formal occasions. This long-sleeve shirt showcases a classic button-down front and a standard collar, contributing to its timeless appeal. Crafted from high-quality Oxford cotton, the material offers a medium weight, providing comfort and breathability suitable for all seasons. The shirt prominently displays the iconic GG monogram in a repeated pattern, creating an optical illusion effect that adds a contemporary twist to the classic fabric. The primary color of the shirt is a rich navy blue, which serves as the base for the intricate light blue GG pattern. This pattern is consistently placed across the entire garment, ensuring a cohesive and polished look. Additional details include a single chest pocket, perfectly sized and positioned for both functionality and style. The fabric has a smooth texture with minimal transparency, maintaining a professional appearance. Overall, this shirt combines classic elements with modern design, making it a versatile piece for various occasions, from business meetings to upscale casual events. /Brand: Gucci / Type: Shirt   / Fit: Regular fit   / Sleeve style: Long sleeve   / Neckline: Button-down   / Material: Cotton   / Formality: Business Casual   / Season: Spring, Summer   / Colors: Blue 90%, White 10%   / Texture: Smooth   / Transparency: Opaque   / Details and Embellishments: Buttons, GG pattern   / Shape: Fitted   / Length: Hip-length   / Collar Style: Button-down   / Sleeve Style: Long   / Patterns: Geometric   / Patterns placement: All-over   / Fluidity of fabric: Medium   / Fabric weight: Medium   / Pocket Presence: No   / Pocket placement: Not applicable   / Pocket size: Not applicable   / Breathability: High   / Occasion Suitability: Business casual   / Lapel: Not applicable  '"
      ]
     },
     "execution_count": 39,
     "metadata": {},
     "output_type": "execute_result"
    }
   ],
   "source": [
    "df.iloc[1].Complete_description"
   ]
  },
  {
   "cell_type": "markdown",
   "metadata": {},
   "source": [
    "### Talk to Chroma"
   ]
  },
  {
   "cell_type": "code",
   "execution_count": 40,
   "metadata": {},
   "outputs": [],
   "source": [
    "from apikey import apikey \n",
    "from langchain.chat_models import ChatOpenAI"
   ]
  },
  {
   "cell_type": "code",
   "execution_count": 41,
   "metadata": {},
   "outputs": [],
   "source": [
    "os.environ['OPENAI_API_KEY'] = apikey"
   ]
  },
  {
   "cell_type": "code",
   "execution_count": 42,
   "metadata": {},
   "outputs": [
    {
     "name": "stderr",
     "output_type": "stream",
     "text": [
      "c:\\Users\\juand\\anaconda3\\Lib\\site-packages\\langchain_core\\_api\\deprecation.py:139: LangChainDeprecationWarning: The class `ChatOpenAI` was deprecated in LangChain 0.0.10 and will be removed in 0.3.0. An updated version of the class exists in the langchain-openai package and should be used instead. To use it run `pip install -U langchain-openai` and import as `from langchain_openai import ChatOpenAI`.\n",
      "  warn_deprecated(\n"
     ]
    }
   ],
   "source": [
    "turbo_llm = ChatOpenAI(\n",
    "    temperature=0,\n",
    "    model_name='gpt-3.5-turbo'\n",
    ")"
   ]
  },
  {
   "cell_type": "code",
   "execution_count": 80,
   "metadata": {},
   "outputs": [],
   "source": [
    "from langchain_core.runnables import RunnablePassthrough\n",
    "from langchain_core.output_parsers import StrOutputParser\n",
    "\n",
    "### lets set up the system\n",
    "\n",
    "from langchain.chains import create_retrieval_chain\n",
    "from langchain.chains.combine_documents import create_stuff_documents_chain\n",
    "from langchain_core.prompts import ChatPromptTemplate"
   ]
  },
  {
   "cell_type": "code",
   "execution_count": 81,
   "metadata": {},
   "outputs": [],
   "source": [
    "def format_docs(docs):\n",
    "    return \"\\n\\n\".join(doc.page_content for doc in docs)"
   ]
  },
  {
   "cell_type": "code",
   "execution_count": 111,
   "metadata": {},
   "outputs": [],
   "source": [
    "system_prompt = (\n",
    "    \"You are a Fashion specialist engine to sugest clothing pieces from context. \"\n",
    "    \"If you don't know the answer to the question, say that you dont know \"\n",
    "    \"answer concise.\"\n",
    "    #\"Explain why the selected options of the context are the best ones\"\n",
    "    \"\\n\\n\"\n",
    "    \"{context}\"\n",
    ")"
   ]
  },
  {
   "cell_type": "code",
   "execution_count": 112,
   "metadata": {},
   "outputs": [],
   "source": [
    "prompt = ChatPromptTemplate.from_messages(\n",
    "    [\n",
    "        (\"system\", system_prompt),\n",
    "        (\"human\", \"{input}\"),\n",
    "    ]\n",
    ")"
   ]
  },
  {
   "cell_type": "code",
   "execution_count": 113,
   "metadata": {},
   "outputs": [],
   "source": [
    "rag_chain = (\n",
    "    {\"context\": retriever | format_docs, \"question\": RunnablePassthrough()}\n",
    "    | prompt\n",
    "    | turbo_llm\n",
    "    | StrOutputParser()\n",
    ")"
   ]
  },
  {
   "cell_type": "code",
   "execution_count": 114,
   "metadata": {},
   "outputs": [],
   "source": [
    "question_answer_chain = create_stuff_documents_chain(turbo_llm, prompt)\n",
    "rag_chain = create_retrieval_chain(retriever, question_answer_chain)"
   ]
  },
  {
   "cell_type": "code",
   "execution_count": 116,
   "metadata": {},
   "outputs": [],
   "source": [
    "query = \"Im looking for clothing peaces from Mango that could be similar to Gucci clothing\""
   ]
  },
  {
   "cell_type": "code",
   "execution_count": 117,
   "metadata": {},
   "outputs": [
    {
     "name": "stdout",
     "output_type": "stream",
     "text": [
      "I don't know the answer to that question.\n"
     ]
    }
   ],
   "source": [
    "response = rag_chain.invoke({\"input\": query})\n",
    "print(response[\"answer\"])"
   ]
  },
  {
   "cell_type": "code",
   "execution_count": 118,
   "metadata": {},
   "outputs": [
    {
     "name": "stdout",
     "output_type": "stream",
     "text": [
      "page_content='The garment is a straight-cut shirt made from 100% lyocell, which lends it a smooth, fluid texture and good breathability, ideal for spring and summer wear. The fit is relaxed and loose, providing comfort and ease of movement. It features long sleeves with buttoned cuffs, enhancing its versatility for both casual and slightly formal occasions. The neckline is a classic shirt collar, giving it a polished look. The shirt is designed in a solid, neutral beige color, which is versatile and easy to pair with various outfits. The beige hue is warm and subdued, making it suitable for both daytime and evening wear. The fabric appears lightweight and soft, draping elegantly over the body without being transparent. There are no visible pockets, embellishments, or patterns, which maintains the shirt’s clean and minimalist aesthetic. This shirt is suitable for casual outings, office wear, or laid-back social gatherings, offering a blend of style and comfort. /Brand: Mango / Type: Shirt / Fit: Regular fit / Sleeve style: Long sleeve / Neckline: Button-down / Material: Cotton, linen / Formality: Casual, Business Casual / Season: Spring, Autumn / Colors: White 90%, Black 10% / Texture: Smooth / Transparency: Opaque / Details and Embellishments: Buttons / Shape: Boxy / Length: Hip-length / Collar Style: Button-down / Sleeve Style: Long / Patterns: Stripes / Patterns placement: Throughout / Fluidity of fabric: Low / Fabric weight: Light / Pocket Presence: Yes / Pocket placement: Left chest / Pocket size: Medium / Breathability: High / Occasion Suitability: Casual, Business casual / Lapel: Not applicable' metadata={'doc_id': '40'}\n",
      "\n",
      "page_content=\"The garment in the images is a men's shirt from Mango, featuring a straight fit and long sleeves. It has a classic, pointed collar and a button-up front, extending the full length of the shirt. The material appears to be a cotton blend, providing a slightly crisp yet comfortable texture, ideal for both casual and semi-formal occasions. The shirt is predominantly white, providing a clean and versatile look, with subtle vertical stripes in a light gray hue, adding a touch of sophistication without overwhelming the simplicity of the design. The fabric is medium-weight, offering good breathability and making it suitable for all seasons except the peak of summer. There are no visible pockets, embellishments, or lapels, maintaining a minimalist and streamlined appearance. The fabric appears to flow smoothly, indicating a good balance between structure and fluidity. Overall, this shirt is an excellent choice for versatile wardrobe staples, capable of being dressed up with slacks and a blazer or dressed down with jeans. /Brand: Mango / Type: shirt / Fit: regular fit / Sleeve style: long sleeve / Neckline: button-down / Material: cotton / Formality: casual, business casual / Season: autumn, winter, spring / Colors: 100% white / Texture: smooth / Transparency: opaque / Details and Embellishments: buttons / Shape: fitted / Length: hip-length / Collar Style: button-down / Sleeve Style: long / Patterns: not applicable / Patterns placement: not applicable / Fluidity of fabric: low / Fabric weight: light / Pocket Presence: yes / Pocket placement: left chest / Pocket size: small / Breathability: high / Occasion Suitability: casual, business casual / Lapel: not applicable\" metadata={'doc_id': '46'}\n",
      "\n",
      "page_content=\"This shirt is a straight-fit, long-sleeve top made from 100% linen, ensuring breathability and comfort, making it ideal for warmer seasons like spring and summer. The shirt features a classic shirt collar and a button-down front, contributing to its versatile and semi-formal style. The neckline is a standard collar style, and the sleeves are long with buttoned cuffs, allowing for a tailored look. The material is lightweight and has a natural, slightly textured finish typical of linen, enhancing its casual yet polished appearance. The shirt is primarily a soft, muted beige (often referred to as ecru), which gives it a neutral and sophisticated look, suitable for various occasions including casual outings and semi-formal events. There are no visible pockets, embellishments, or patterns, emphasizing a clean and minimalist design. The fabric's fluidity is moderate, providing structure while still allowing ease of movement. Overall, this shirt is a versatile and stylish piece that can be dressed up or down depending on the occasion. /Brand: Mango / Type: Shirt   / Fit: Straight fit   / Sleeve style: Long sleeve   / Neckline: Crew neck   / Material: Not specified   / Formality: Casual   / Season: Spring, Summer   / Colors: Light blue (100%)   / Texture: Smooth   / Transparency: Opaque   / Details and Embellishments: Buttons   / Shape: Fitted   / Length: Hip-length   / Collar Style: Button-down   / Sleeve Style: Long   / Patterns: Not applicable   / Patterns placement: Not applicable   / Fluidity of fabric: Medium   / Fabric weight: Light   / Pocket Presence: Yes   / Pocket placement: Left chest   / Pocket size: Small   / Breathability: High   / Occasion Suitability: Casual, Business casual   / Lapel: Not applicable\" metadata={'doc_id': '38'}\n",
      "\n",
      "page_content=\"This shirt is crafted from a high-quality lyocell fabric, known for its breathability and smooth texture, making it suitable for warmer seasons. It features a straight fit that offers a relaxed, yet tailored appearance. The neckline is a traditional collar style, which adds a touch of formality to its design, making it versatile for both casual and semi-formal occasions. The sleeves are long with buttoned cuffs that can be rolled up for a more laid-back look. The shirt is predominantly a soft beige color, providing a neutral and sophisticated base that can easily be paired with various other colors and patterns. There are no visible embellishments or patterns, giving it a clean, minimalist aesthetic. The fabric is medium-weight, offering a good balance between fluidity and structure. There are two chest pockets that are moderately sized, providing both a functional and stylish element. The shirt's overall design is simple yet elegant, suitable for both work environments and casual outings. /Brand: Mango / Type: Shirt   / Fit: Regular fit   / Sleeve style: Long sleeve   / Neckline: Crew neck   / Material: Lyocell   / Formality: Casual   / Season: Spring, Summer   / Colors: Black 100%   / Texture: Smooth   / Transparency: Opaque   / Details and Embellishments: Buttons   / Shape: Fitted   / Length: Hip-length   / Collar Style: Button-down   / Sleeve Style: Long   / Patterns: Not applicable   / Patterns placement: Not applicable   / Fluidity of fabric: Medium   / Fabric weight: Light   / Pocket Presence: Yes   / Pocket placement: Right chest   / Pocket size: Medium   / Breathability: High   / Occasion Suitability: Casual   / Lapel: Not applicable\" metadata={'doc_id': '43'}\n",
      "\n",
      "page_content=\"The shirt depicted in the images is a straight-cut top crafted from a blend of ramie and cotton, ensuring a breathable and lightweight fabric suitable for warmer seasons. It features a collared neckline with a standard button-down front, exuding a classic and slightly formal vibe. The sleeve style is long with buttoned cuffs, adding a touch of sophistication. The color is a versatile and timeless white, making it easy to pair with various outfits. The texture appears smooth with a slight natural sheen typical of ramie-cotton blends, and the fabric is opaque, providing full coverage without transparency. There are no visible pockets, embellishments, or patterns, emphasizing its minimalist and clean design. The shirt's fluidity is moderate, offering a comfortable yet structured fit that maintains its shape well. This top is ideal for both casual and semi-formal occasions, making it a versatile addition to any wardrobe. /Brand: Mango / Type: Shirt / Fit: Regular fit / Sleeve style: Long sleeve / Neckline: Button-down / Material: Cotton / Formality: Casual, Business Casual / Season: Spring, Summer, Autumn / Colors: White 100% / Texture: Smooth / Transparency: Opaque / Details and Embellishments: Buttons / Shape: Straight / Length: Hip-length / Collar Style: Button-down / Sleeve Style: Long / Patterns: Not applicable / Patterns placement: Not applicable / Fluidity of fabric: Medium / Fabric weight: Light / Pocket Presence: Yes / Pocket placement: Left chest / Pocket size: Medium / Breathability: High / Occasion Suitability: Casual, Business Casual / Lapel: Not applicable\" metadata={'doc_id': '41'}\n",
      "\n"
     ]
    }
   ],
   "source": [
    "for document in response[\"context\"]:\n",
    "    print(document)\n",
    "    print()"
   ]
  },
  {
   "cell_type": "code",
   "execution_count": 119,
   "metadata": {},
   "outputs": [
    {
     "data": {
      "text/html": [
       "<div>\n",
       "<style scoped>\n",
       "    .dataframe tbody tr th:only-of-type {\n",
       "        vertical-align: middle;\n",
       "    }\n",
       "\n",
       "    .dataframe tbody tr th {\n",
       "        vertical-align: top;\n",
       "    }\n",
       "\n",
       "    .dataframe thead th {\n",
       "        text-align: right;\n",
       "    }\n",
       "</style>\n",
       "<table border=\"1\" class=\"dataframe\">\n",
       "  <thead>\n",
       "    <tr style=\"text-align: right;\">\n",
       "      <th></th>\n",
       "      <th>prod_id</th>\n",
       "      <th>base64</th>\n",
       "    </tr>\n",
       "  </thead>\n",
       "  <tbody>\n",
       "    <tr>\n",
       "      <th>115</th>\n",
       "      <td>41</td>\n",
       "      <td>data:image/jpeg;base64, /9j/4AAQSkZJRgABAQAAAQ...</td>\n",
       "    </tr>\n",
       "    <tr>\n",
       "      <th>116</th>\n",
       "      <td>41</td>\n",
       "      <td>data:image/jpeg;base64, /9j/4AAQSkZJRgABAQAAAQ...</td>\n",
       "    </tr>\n",
       "    <tr>\n",
       "      <th>117</th>\n",
       "      <td>41</td>\n",
       "      <td>data:image/jpeg;base64, /9j/4AAQSkZJRgABAQAAAQ...</td>\n",
       "    </tr>\n",
       "  </tbody>\n",
       "</table>\n",
       "</div>"
      ],
      "text/plain": [
       "     prod_id                                             base64\n",
       "115       41  data:image/jpeg;base64, /9j/4AAQSkZJRgABAQAAAQ...\n",
       "116       41  data:image/jpeg;base64, /9j/4AAQSkZJRgABAQAAAQ...\n",
       "117       41  data:image/jpeg;base64, /9j/4AAQSkZJRgABAQAAAQ..."
      ]
     },
     "execution_count": 119,
     "metadata": {},
     "output_type": "execute_result"
    }
   ],
   "source": [
    "df_image[df_image.prod_id == 41]"
   ]
  },
  {
   "cell_type": "code",
   "execution_count": 123,
   "metadata": {},
   "outputs": [],
   "source": [
    "image_bytes = base64_to_image(df_image.iloc[113].base64)\n",
    "img = create_image_from_bytes(image_bytes=image_bytes)\n",
    "img.resize((400,500))"
   ]
  }
 ],
 "metadata": {
  "kernelspec": {
   "display_name": "Python 3",
   "language": "python",
   "name": "python3"
  },
  "language_info": {
   "codemirror_mode": {
    "name": "ipython",
    "version": 3
   },
   "file_extension": ".py",
   "mimetype": "text/x-python",
   "name": "python",
   "nbconvert_exporter": "python",
   "pygments_lexer": "ipython3",
   "version": "3.11.8"
  }
 },
 "nbformat": 4,
 "nbformat_minor": 2
}
