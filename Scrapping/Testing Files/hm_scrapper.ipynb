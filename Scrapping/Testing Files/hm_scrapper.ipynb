{
 "cells": [
  {
   "cell_type": "code",
   "execution_count": 135,
   "metadata": {},
   "outputs": [],
   "source": [
    "import requests\n",
    "import os\n",
    "from PIL import Image\n",
    "from fake_useragent import UserAgent\n",
    "from bs4 import BeautifulSoup\n",
    "from io import BytesIO\n",
    "\n",
    "import pandas as pd"
   ]
  },
  {
   "cell_type": "markdown",
   "metadata": {},
   "source": [
    "### test screapping"
   ]
  },
  {
   "cell_type": "code",
   "execution_count": 2,
   "metadata": {},
   "outputs": [],
   "source": [
    "ua = UserAgent()\n",
    "header = {'User-Agent':str(ua.chrome)}"
   ]
  },
  {
   "cell_type": "code",
   "execution_count": 15,
   "metadata": {},
   "outputs": [],
   "source": [
    "# Define the URL you want to scrape\n",
    "url = 'https://www2.hm.com/it_it/donna/acquista-per-prodotto/top.html'"
   ]
  },
  {
   "cell_type": "code",
   "execution_count": 38,
   "metadata": {},
   "outputs": [],
   "source": [
    "# Send an HTTP request to the URL\n",
    "response = requests.get(url, headers = header)\n",
    "soup = BeautifulSoup(response.content, 'html.parser')"
   ]
  },
  {
   "cell_type": "code",
   "execution_count": 59,
   "metadata": {},
   "outputs": [],
   "source": [
    "item_list = soup.select('li section article div div div div ul li a')"
   ]
  },
  {
   "cell_type": "code",
   "execution_count": 61,
   "metadata": {},
   "outputs": [
    {
     "name": "stdout",
     "output_type": "stream",
     "text": [
      "https://www2.hm.com/it_it/productpage.1233637001.html\n",
      "https://www2.hm.com/it_it/productpage.1233637001.html\n",
      "https://www2.hm.com/it_it/productpage.1233637001.html\n"
     ]
    }
   ],
   "source": [
    "br = 0\n",
    "for item in item_list: \n",
    "        \n",
    "    if br == 3:\n",
    "        break\n",
    "    else:\n",
    "        print(item['href'])\n",
    "    \n",
    "    br += 1"
   ]
  },
  {
   "cell_type": "markdown",
   "metadata": {},
   "source": [
    "### Product Page"
   ]
  },
  {
   "cell_type": "code",
   "execution_count": 62,
   "metadata": {},
   "outputs": [],
   "source": [
    "# Define the URL you want to scrape\n",
    "url_1 = 'https://www2.hm.com/it_it/productpage.1233637001.html'"
   ]
  },
  {
   "cell_type": "code",
   "execution_count": 63,
   "metadata": {},
   "outputs": [],
   "source": [
    "# Send an HTTP request to the URL\n",
    "response_1 = requests.get(url_1, headers = header)\n",
    "soup_1 = BeautifulSoup(response_1.content, 'html.parser')"
   ]
  },
  {
   "cell_type": "code",
   "execution_count": 65,
   "metadata": {},
   "outputs": [],
   "source": [
    "item_list_1 = soup_1.select('div div div div div ul li button div img')"
   ]
  },
  {
   "cell_type": "code",
   "execution_count": 119,
   "metadata": {},
   "outputs": [
    {
     "name": "stdout",
     "output_type": "stream",
     "text": [
      "https://image.hm.com/assets/hm/27/2b/272b843f12e513056a99764bfbd3d6552d1b9e19.jpg?imwidth=2160\n",
      "https://image.hm.com/assets/hm/80/70/80704a2f693f83f308ebd0141ff705bd839c8dc1.jpg?imwidth=2160\n",
      "2\n",
      "https://image.hm.com/assets/hm/30/f2/30f23daf6dd15b00596939a940b763b57e63d3bb.jpg?imwidth=2160\n",
      "https://image.hm.com/assets/hm/38/b0/38b0b0762630e62f40dadd96782a14eea1772227.jpg?imwidth=2160\n",
      "https://image.hm.com/assets/hm/5e/32/5e3277b06ffa950b1ff5b9632d32f4d330e5e1dc.jpg?imwidth=2160\n",
      "8\n",
      "https://image.hm.com/assets/hm/a2/11/a211242c81806bf0e40ecdbef936e95fb26eceb2.jpg?imwidth=2160\n",
      "10\n"
     ]
    }
   ],
   "source": [
    "##### get image\n",
    "\n",
    "i = 0\n",
    "for item in item_list_1: \n",
    "        \n",
    "    if i%2 == 0:\n",
    "        print(item['src'])\n",
    "        if (i == 2) | (i == 8) | (i == 10):\n",
    "            print(i)\n",
    "       \n",
    "    i += 1\n"
   ]
  },
  {
   "cell_type": "code",
   "execution_count": 104,
   "metadata": {},
   "outputs": [],
   "source": [
    "#### get description\n",
    "\n",
    "description_list = soup_1.select('dd')"
   ]
  },
  {
   "cell_type": "code",
   "execution_count": 107,
   "metadata": {},
   "outputs": [
    {
     "data": {
      "text/plain": [
       "\" Lunghezza normale A maniche corte Slim fit Top a fascia Greige chiaro mélange, Tinta unita L'elastan è una fibra sintetica elastica ricavata dal petrolio (una risorsa fossile). Il poliestere è una fibra sintetica che si ottiene dal petrolio (una risorsa fossile). Il poliestere riciclato deriva da bottiglie di PET o da rifiuti tessili giunti al termine del loro ciclo di vita. Le bottiglie in PET o i rifiuti tessili vengono riciclati meccanicamente e trasformati in nuovi filati. La viscosa è una fibra di cellulosa rigenerata comunemente ottenuta dal legno, ma la materia prima potrebbe anche essere composta da altri materiali cellulosici. La viscosa LivaEco™ è una fibra di viscosa a marchio, ricavata dalla pasta di legno.\""
      ]
     },
     "execution_count": 107,
     "metadata": {},
     "output_type": "execute_result"
    }
   ],
   "source": [
    "description = ''\n",
    "\n",
    "for d in description_list:\n",
    "\n",
    "    description = description + ' ' + d.text\n",
    "\n",
    "description"
   ]
  },
  {
   "cell_type": "code",
   "execution_count": 109,
   "metadata": {},
   "outputs": [],
   "source": [
    "#### get Materials\n",
    "\n",
    "description_list = soup_1.find_all(class_ = 'f8f91e f02838' )"
   ]
  },
  {
   "cell_type": "code",
   "execution_count": 114,
   "metadata": {},
   "outputs": [
    {
     "data": {
      "text/plain": [
       "\" Lunghezza normale A maniche corte Slim fit Top a fascia Greige chiaro mélange, Tinta unita L'elastan è una fibra sintetica elastica ricavata dal petrolio (una risorsa fossile). Il poliestere è una fibra sintetica che si ottiene dal petrolio (una risorsa fossile). Il poliestere riciclato deriva da bottiglie di PET o da rifiuti tessili giunti al termine del loro ciclo di vita. Le bottiglie in PET o i rifiuti tessili vengono riciclati meccanicamente e trasformati in nuovi filati. La viscosa è una fibra di cellulosa rigenerata comunemente ottenuta dal legno, ma la materia prima potrebbe anche essere composta da altri materiali cellulosici. La viscosa LivaEco™ è una fibra di viscosa a marchio, ricavata dalla pasta di legno. 71% Poliestere riciclato 27% Viscosa LivaEco™\""
      ]
     },
     "execution_count": 114,
     "metadata": {},
     "output_type": "execute_result"
    }
   ],
   "source": [
    "description = description + ' Materials: '\n",
    "for d in description_list[0:2]:\n",
    "    description = description + ' ' + d.text\n",
    "\n",
    "description"
   ]
  },
  {
   "cell_type": "markdown",
   "metadata": {},
   "source": [
    "## Creating functions"
   ]
  },
  {
   "cell_type": "code",
   "execution_count": 132,
   "metadata": {},
   "outputs": [],
   "source": [
    "def create_soup(url):\n",
    "\n",
    "    ua = UserAgent()\n",
    "    header = {'User-Agent':str(ua.chrome)}\n",
    "\n",
    "    # Send an HTTP request to the URL\n",
    "    response = requests.get(url, headers = header)\n",
    "    soup = BeautifulSoup(response.content, 'html.parser')\n",
    "\n",
    "    return soup\n"
   ]
  },
  {
   "cell_type": "code",
   "execution_count": 140,
   "metadata": {},
   "outputs": [],
   "source": [
    "def images_to_blob(image, image_names):\n",
    "    print(image_names)"
   ]
  },
  {
   "cell_type": "code",
   "execution_count": 142,
   "metadata": {},
   "outputs": [],
   "source": [
    "def data_to_SQL(prod_name, prod_description,brand,prod_images_names):\n",
    "    print(prod_name)"
   ]
  },
  {
   "cell_type": "code",
   "execution_count": 143,
   "metadata": {},
   "outputs": [],
   "source": [
    "def get_image_links(prod_soup):\n",
    "    \n",
    "    item_list_1 = prod_soup.select('div div div div div ul li button div img')\n",
    "\n",
    "    ##### get image\n",
    "    images = []\n",
    "    i = 0\n",
    "    for item in item_list_1: \n",
    "            \n",
    "        if i%2 == 0:\n",
    "            #print(item['src'])\n",
    "            if (i == 2) | (i == 8) | (i == 10):\n",
    "                images = images + [item['src']]\n",
    "        \n",
    "        i += 1\n",
    "    \n",
    "    return images"
   ]
  },
  {
   "cell_type": "code",
   "execution_count": 144,
   "metadata": {},
   "outputs": [],
   "source": [
    "def get_description(prod_soup):\n",
    "    \n",
    "    description_list = prod_soup.select('dd')\n",
    "\n",
    "    #Get description\n",
    "    description = ''\n",
    "    for d in description_list:\n",
    "        description = description + ' ' + d.text\n",
    "\n",
    "    #Get Materials\n",
    "    description_list = prod_soup.find_all(class_ = 'f8f91e f02838' )\n",
    "\n",
    "    description = description + ' Materials: '\n",
    "\n",
    "    for d in description_list[0:2]:\n",
    "        description = description + ' ' + d.text\n",
    "\n",
    "    return description\n",
    "    "
   ]
  },
  {
   "cell_type": "code",
   "execution_count": 145,
   "metadata": {},
   "outputs": [],
   "source": [
    "def links_to_images(links,prod_name):\n",
    "\n",
    "    header = {'User-Agent':str(ua.chrome)}\n",
    "\n",
    "\n",
    "    for img_link in links:\n",
    "        response = requests.get(img_link, headers = header)\n",
    "        img = Image.open(BytesIO(response.content))\n",
    "\n",
    "        # Resize the image to 600\n",
    "        img_resized = img.resize((500, 500))\n",
    "\n",
    "        img_name = f\"Gucci{prod_name}_{i}.jpg\"\n",
    "\n",
    "        # Load to Blob\n",
    "        images_to_blob(img, img_name)\n",
    "\n"
   ]
  },
  {
   "cell_type": "code",
   "execution_count": 148,
   "metadata": {},
   "outputs": [],
   "source": [
    "def HM(category_url,n_products):\n",
    "\n",
    "    soup = create_soup(category_url)\n",
    "    item_list = soup.select('li section article div div div div ul li a')\n",
    "\n",
    "\n",
    "    br = 0\n",
    "    for item in item_list: \n",
    "            \n",
    "        if br == n_products:\n",
    "            break\n",
    "        else:\n",
    "\n",
    "            #Scrapp\n",
    "            prod_soup = create_soup(item['href'])\n",
    "\n",
    "            prod_images_links = get_image_links(prod_soup=prod_soup)\n",
    "            prod_description = get_description(prod_soup=prod_soup)\n",
    "\n",
    "            prod_name = 'HM_'+str(br)  \n",
    "            \n",
    "            # Links to image, load to blob and return prod_images_names\n",
    "            prod_images_names = links_to_images(links = prod_images_links,prod_name= br)\n",
    "            \n",
    "            data_to_SQL(prod_name=prod_name, prod_description=prod_description,brand='HM',prod_images_names=prod_images_names)\n",
    "\n",
    "        br += 1\n"
   ]
  },
  {
   "cell_type": "code",
   "execution_count": 149,
   "metadata": {},
   "outputs": [
    {
     "name": "stdout",
     "output_type": "stream",
     "text": [
      "Gucci0_11.jpg\n",
      "Gucci0_11.jpg\n",
      "Gucci0_11.jpg\n",
      "HM_0\n",
      "Gucci1_11.jpg\n",
      "Gucci1_11.jpg\n",
      "Gucci1_11.jpg\n",
      "HM_1\n",
      "Gucci2_11.jpg\n",
      "Gucci2_11.jpg\n",
      "Gucci2_11.jpg\n",
      "HM_2\n"
     ]
    }
   ],
   "source": [
    "# Define the URL you want to scrape\n",
    "url = 'https://www2.hm.com/it_it/donna/acquista-per-prodotto/top.html'\n",
    "\n",
    "HM(url,3)"
   ]
  },
  {
   "cell_type": "code",
   "execution_count": null,
   "metadata": {},
   "outputs": [],
   "source": []
  }
 ],
 "metadata": {
  "kernelspec": {
   "display_name": "Python 3",
   "language": "python",
   "name": "python3"
  },
  "language_info": {
   "codemirror_mode": {
    "name": "ipython",
    "version": 3
   },
   "file_extension": ".py",
   "mimetype": "text/x-python",
   "name": "python",
   "nbconvert_exporter": "python",
   "pygments_lexer": "ipython3",
   "version": "3.11.8"
  }
 },
 "nbformat": 4,
 "nbformat_minor": 2
}
