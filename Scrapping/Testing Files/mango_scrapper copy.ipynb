{
 "cells": [
  {
   "cell_type": "markdown",
   "metadata": {},
   "source": [
    "## define functions\n",
    "\n",
    "- contains requered number -> ensure only specific images are pull\n",
    "- get image -> pull the require and compress image\n",
    "- scrapp_image_description -> iterate for each of the products\n",
    "- grucci -> iterate scrap_image"
   ]
  },
  {
   "cell_type": "markdown",
   "metadata": {},
   "source": [
    "### scrapper"
   ]
  },
  {
   "cell_type": "code",
   "execution_count": 1,
   "metadata": {},
   "outputs": [],
   "source": [
    "import requests\n",
    "from PIL import Image\n",
    "from fake_useragent import UserAgent\n",
    "from bs4 import BeautifulSoup\n",
    "from io import BytesIO\n",
    "import pandas as pd\n",
    "from openpyxl import load_workbook\n",
    "\n",
    "from selenium.webdriver import Chrome\n",
    "from selenium.webdriver.edge.options import Options\n",
    "from selenium.webdriver.support.ui import WebDriverWait\n",
    "from selenium.webdriver.support import expected_conditions as EC\n",
    "from selenium.webdriver.common.by import By\n",
    "import time\n",
    "\n",
    "\n",
    "from azure.storage.blob import BlobServiceClient, generate_blob_sas, BlobSasPermissions\n",
    "from azure_key import account_name, account_key, container_name\n",
    "\n",
    "import psycopg2\n",
    "from sql_key import dbname, user, password, host, port\n"
   ]
  },
  {
   "cell_type": "code",
   "execution_count": 46,
   "metadata": {},
   "outputs": [],
   "source": [
    "def create_soup(url):\n",
    "\n",
    "    chrome_options = Options()\n",
    "    #chrome_options.add_argument(\"--headless\")  # Ensure GUI is off\n",
    "    chrome_options.add_argument(\"--no-sandbox\")\n",
    "    chrome_options.add_argument(\"--disable-dev-shm-usage\")\n",
    "\n",
    "\n",
    "    browser = Chrome(options=chrome_options)\n",
    "\n",
    "    try:\n",
    "        # Open the URL\n",
    "        browser.maximize_window()\n",
    "        browser.get(url)\n",
    "        \n",
    "        # Wait for the page to fully load\n",
    "        wait = WebDriverWait(browser, 120)\n",
    "        wait.until(lambda driver: driver.execute_script('return document.readyState') == 'complete')\n",
    "        \n",
    "        # Wait for the cookie button to be clickable\n",
    "        cookie_button = wait.until(EC.element_to_be_clickable((By.CSS_SELECTOR, 'button.Button_button__qoiWI.CookiesContent_button__2Vj_R')))\n",
    "        cookie_button.click()\n",
    "\n",
    "        # Scroll to the bottom of the page\n",
    "        last_height = browser.execute_script(\"return document.body.scrollHeight\")\n",
    "        \n",
    "        while True:\n",
    "            for i in range(5):  # 5 iterations to make 20% scroll each\n",
    "                browser.execute_script(\"window.scrollBy(0, document.body.scrollHeight / 5);\")\n",
    "                time.sleep(1)  # Wait for 1 second between each scroll\n",
    "            \n",
    "            # Calculate new scroll height and compare with the last scroll height\n",
    "            new_height = browser.execute_script(\"return document.body.scrollHeight\")\n",
    "            if new_height == last_height:\n",
    "                break\n",
    "            last_height = new_height\n",
    "\n",
    "\n",
    "        # Get the page source after scrolling\n",
    "        html = browser.page_source\n",
    "\n",
    "    except Exception as error:\n",
    "        print(f\"Error: {error}\")\n",
    " \n",
    "    browser.quit()\n",
    "     \n",
    "\n",
    "\n",
    "    page_soup = BeautifulSoup(html, 'html.parser')\n",
    "\n",
    "    return page_soup\n"
   ]
  },
  {
   "cell_type": "code",
   "execution_count": 5,
   "metadata": {},
   "outputs": [],
   "source": [
    "def connect_blob():\n",
    "\n",
    "    connect_str = 'DefaultEndpointsProtocol=https;AccountName='+account_name+';AccountKey='+account_key+';EndpointSuffix=core.windows.net'\n",
    "\n",
    "    #use the client to connect\n",
    "    blob_Service_client = BlobServiceClient.from_connection_string(connect_str)\n",
    "\n",
    "    #Use the client to connect to the container \n",
    "    container_client = blob_Service_client.get_container_client(container_name)\n",
    "\n",
    "    return container_client"
   ]
  },
  {
   "cell_type": "code",
   "execution_count": 6,
   "metadata": {},
   "outputs": [],
   "source": [
    "def connect_sql():\n",
    "    # Database connection parameters\n",
    "    conn_params = {\n",
    "        'dbname': dbname[0],\n",
    "        'user': user[0],\n",
    "        'password': password[0],\n",
    "        'host': host[0],\n",
    "        'port': port\n",
    "    }\n",
    "    # Connect to the PostgreSQL server\n",
    "    conn = psycopg2.connect(**conn_params)\n",
    "    cursor = conn.cursor()\n",
    "\n",
    "    return conn, cursor"
   ]
  },
  {
   "cell_type": "code",
   "execution_count": 7,
   "metadata": {},
   "outputs": [],
   "source": [
    "def images_to_blob(image, image_name,container_client):\n",
    "\n",
    "    try:\n",
    "        img_byte_arr = BytesIO()\n",
    "        image.save(img_byte_arr, format=image.format)\n",
    "        img_byte_arr = img_byte_arr.getvalue()\n",
    "\n",
    "        container_client.upload_blob(name= image_name,data=img_byte_arr )\n",
    "    except Exception as error:\n",
    "        print(f\"Error: {error}\")\n",
    "    "
   ]
  },
  {
   "cell_type": "code",
   "execution_count": 8,
   "metadata": {},
   "outputs": [],
   "source": [
    "def data_to_SQL(prod_name, prod_description,brand,prod_images_names,cursor,conn):\n",
    "\n",
    "    try:\n",
    "        # Insert in Brand_Prod_table\n",
    "        products_data = [('BrandA', 'Description for BrandA product')]\n",
    "\n",
    "        insert_products_query = \"\"\"\n",
    "        INSERT INTO Products (Brand, Descript) VALUES (%s, %s) RETURNING Brand_Prod_id;\n",
    "        \"\"\"\n",
    "        cursor.execute(insert_products_query)\n",
    "\n",
    "        # Insert in Image mapping\n",
    "        insert_characteristics_query = \"\"\"\n",
    "        INSERT INTO product_characteristics (Brand_id, Brand, Descript) VALUES (%s, %s, %s);\n",
    "        \"\"\"\n",
    "        for prod_image_name in prod_images_names:\n",
    "            cursor.execute(insert_characteristics_query, prod_image_name)\n",
    "\n",
    "        conn.commit()\n",
    "\n",
    "\n",
    "        print('xxxx')\n",
    "    except Exception as error:\n",
    "        print(f\"Error: {error}\")\n",
    "        conn.rollback()\n",
    "    finally:\n",
    "        cursor.close()\n",
    "        conn.close()"
   ]
  },
  {
   "cell_type": "code",
   "execution_count": 60,
   "metadata": {},
   "outputs": [],
   "source": [
    "def get_image_links(prod_soup):\n",
    "    \n",
    "    item_list_1 = prod_soup.select('ul li button img')\n",
    "\n",
    "    ##### get image\n",
    "    images = []\n",
    "    i = 0\n",
    "    for item in item_list_1: \n",
    "            \n",
    "\n",
    "        # 3 from back, 11 is item, 10 close up\n",
    "        if (i == 2) | (i == 9) | (i == 10):\n",
    "            images = images + [item['src']]\n",
    "        \n",
    "        i += 1\n",
    "    \n",
    "    \n",
    "    return images"
   ]
  },
  {
   "cell_type": "code",
   "execution_count": 82,
   "metadata": {},
   "outputs": [],
   "source": [
    "def get_description(prod_soup):\n",
    "    \n",
    "    description = prod_soup.select('div.Description_description__IDgi6 p')[0].text\n",
    "    description = description + ' ' + prod_soup.select('div.ProductDetail_properties__UStvB div.PropertiesContent_content__T7Hg5 p')[0].text\n",
    "    \n",
    "\n",
    "    return description\n",
    "\n",
    "    "
   ]
  },
  {
   "cell_type": "code",
   "execution_count": 12,
   "metadata": {},
   "outputs": [],
   "source": [
    "def links_to_images(links,prod_name,container_client):\n",
    "\n",
    "    ua = UserAgent()\n",
    "    header = {'User-Agent':str(ua.chrome)}\n",
    "\n",
    "    i = 0\n",
    "    for img_link in links:\n",
    "        response = requests.get('https:' + img_link, headers = header)\n",
    "        img = Image.open(BytesIO(response.content))\n",
    "\n",
    "        # Resize the image to 600\n",
    "        img_resized = img.resize((500, 500))\n",
    "\n",
    "        img_name = f\"Gucci{prod_name}_{i}.jpg\"\n",
    "\n",
    "        # Load to Blob\n",
    "        #images_to_blob(img, img_name,container_client)\n",
    "        print(img_name)\n",
    "        i+=1\n",
    "\n"
   ]
  },
  {
   "cell_type": "code",
   "execution_count": null,
   "metadata": {},
   "outputs": [],
   "source": []
  },
  {
   "cell_type": "code",
   "execution_count": 13,
   "metadata": {},
   "outputs": [],
   "source": [
    "def mango(category_url,n_products):\n",
    "\n",
    "    soup = create_soup(category_url)\n",
    "    item_list = soup.select('div.ProductImage_productImage__cS5d9')\n",
    "\n",
    "    \n",
    "    #container_client = connect_blob()\n",
    "    container_client = True\n",
    "\n",
    "    conn, cursor = connect_sql()\n",
    "\n",
    "\n",
    "    br = 0\n",
    "    for item in item_list: \n",
    "            \n",
    "        if br == n_products:\n",
    "            break\n",
    "        else:\n",
    "\n",
    "            #Scrapp\n",
    "            prod_soup = create_soup(item.a['href'])\n",
    "\n",
    "            prod_images_links = get_image_links(prod_soup=prod_soup)\n",
    "            prod_description = get_description(prod_soup=prod_soup)\n",
    "\n",
    "            prod_name = 'Mango_'+str(br)  \n",
    "            \n",
    "            # Links to image, load to blob and return prod_images_names\n",
    "            prod_images_names = links_to_images(links = prod_images_links,prod_name= br,container_client=container_client)\n",
    "            \n",
    "            data_to_SQL(prod_name=prod_name, prod_description=prod_description,brand='HM',prod_images_names=prod_images_names,conn=conn)\n",
    "            print()\n",
    "\n",
    "        br += 1\n"
   ]
  },
  {
   "cell_type": "markdown",
   "metadata": {},
   "source": [
    "## Execute Scrapper"
   ]
  },
  {
   "cell_type": "code",
   "execution_count": null,
   "metadata": {},
   "outputs": [],
   "source": [
    "# 3 from back, 11 is item, 10 close up"
   ]
  },
  {
   "cell_type": "code",
   "execution_count": null,
   "metadata": {},
   "outputs": [],
   "source": [
    "prod_link = 'https://shop.mango.com/it/it/p/donna/giacchette/giacchette/giacca-completo-100-lino_67037113?c=43'\n",
    "prod_soup = create_soup()"
   ]
  },
  {
   "cell_type": "code",
   "execution_count": 80,
   "metadata": {},
   "outputs": [
    {
     "data": {
      "text/plain": [
       "'100% lino. Modello diritto. Collo a V con rever. Maniche lunghe con polsini abbottonati. Spallini. Due tasche a falda sul lato anteriore. Chiusura con doppia abbottonatura. Spacco sul retro del bordo inferiore. Fodera interna. Disponibile Plus. Look da ufficio.'"
      ]
     },
     "execution_count": 80,
     "metadata": {},
     "output_type": "execute_result"
    }
   ],
   "source": [
    "prod_soup.select('div.Description_description__IDgi6 p')[0].text"
   ]
  },
  {
   "cell_type": "code",
   "execution_count": 81,
   "metadata": {},
   "outputs": [
    {
     "data": {
      "text/plain": [
       "'Composizione: 100% lino. Fodera: 100% cotone. Rinforzo manic: 100% poliestere. Pistagna: 100% poliestere.'"
      ]
     },
     "execution_count": 81,
     "metadata": {},
     "output_type": "execute_result"
    }
   ],
   "source": [
    "prod_soup.select('div.ProductDetail_properties__UStvB div.PropertiesContent_content__T7Hg5 p')[0].text"
   ]
  },
  {
   "cell_type": "code",
   "execution_count": 83,
   "metadata": {},
   "outputs": [
    {
     "data": {
      "text/plain": [
       "'100% lino. Modello diritto. Collo a V con rever. Maniche lunghe con polsini abbottonati. Spallini. Due tasche a falda sul lato anteriore. Chiusura con doppia abbottonatura. Spacco sul retro del bordo inferiore. Fodera interna. Disponibile Plus. Look da ufficio. Composizione: 100% lino. Fodera: 100% cotone. Rinforzo manic: 100% poliestere. Pistagna: 100% poliestere.'"
      ]
     },
     "execution_count": 83,
     "metadata": {},
     "output_type": "execute_result"
    }
   ],
   "source": [
    "get_description(prod_soup=prod_soup)"
   ]
  }
 ],
 "metadata": {
  "kernelspec": {
   "display_name": "Python 3",
   "language": "python",
   "name": "python3"
  },
  "language_info": {
   "codemirror_mode": {
    "name": "ipython",
    "version": 3
   },
   "file_extension": ".py",
   "mimetype": "text/x-python",
   "name": "python",
   "nbconvert_exporter": "python",
   "pygments_lexer": "ipython3",
   "version": "3.11.8"
  }
 },
 "nbformat": 4,
 "nbformat_minor": 2
}
