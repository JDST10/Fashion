{
 "cells": [
  {
   "cell_type": "markdown",
   "metadata": {},
   "source": [
    "## define functions\n",
    "\n",
    "- contains requered number -> ensure only specific images are pull\n",
    "- get image -> pull the require and compress image\n",
    "- scrapp_image_description -> iterate for each of the products\n",
    "- grucci -> iterate scrap_image"
   ]
  },
  {
   "cell_type": "markdown",
   "metadata": {},
   "source": [
    "### scrapper"
   ]
  },
  {
   "cell_type": "code",
   "execution_count": 4,
   "metadata": {},
   "outputs": [],
   "source": [
    "import requests\n",
    "from PIL import Image\n",
    "from fake_useragent import UserAgent\n",
    "from bs4 import BeautifulSoup\n",
    "from io import BytesIO\n",
    "import pandas as pd\n",
    "from openpyxl import load_workbook\n",
    "\n",
    "from azure.storage.blob import BlobServiceClient, generate_blob_sas, BlobSasPermissions\n",
    "from azure_key import account_name, account_key, container_name\n",
    "\n",
    "import psycopg2\n",
    "from sql_key import dbname, user, password, host, port\n"
   ]
  },
  {
   "cell_type": "code",
   "execution_count": 6,
   "metadata": {},
   "outputs": [],
   "source": [
    "def create_soup(url):\n",
    "\n",
    "    ua = UserAgent()\n",
    "    header = {'User-Agent':str(ua.chrome)}\n",
    "\n",
    "    # Send an HTTP request to the URL\n",
    "    response = requests.get(url, headers = header)\n",
    "    soup = BeautifulSoup(response.content, 'html.parser')\n",
    "\n",
    "    return soup\n"
   ]
  },
  {
   "cell_type": "code",
   "execution_count": 5,
   "metadata": {},
   "outputs": [],
   "source": [
    "def connect_blob():\n",
    "\n",
    "    connect_str = 'DefaultEndpointsProtocol=https;AccountName='+account_name+';AccountKey='+account_key+';EndpointSuffix=core.windows.net'\n",
    "\n",
    "    #use the client to connect\n",
    "    blob_Service_client = BlobServiceClient.from_connection_string(connect_str)\n",
    "\n",
    "    #Use the client to connect to the container \n",
    "    container_client = blob_Service_client.get_container_client(container_name)\n",
    "\n",
    "    return container_client"
   ]
  },
  {
   "cell_type": "code",
   "execution_count": 6,
   "metadata": {},
   "outputs": [],
   "source": [
    "def connect_sql():\n",
    "    # Database connection parameters\n",
    "    conn_params = {\n",
    "        'dbname': dbname[0],\n",
    "        'user': user[0],\n",
    "        'password': password[0],\n",
    "        'host': host[0],\n",
    "        'port': port\n",
    "    }\n",
    "    # Connect to the PostgreSQL server\n",
    "    conn = psycopg2.connect(**conn_params)\n",
    "    cursor = conn.cursor()\n",
    "\n",
    "    return conn, cursor"
   ]
  },
  {
   "cell_type": "code",
   "execution_count": 7,
   "metadata": {},
   "outputs": [],
   "source": [
    "def images_to_blob(image, image_name,container_client):\n",
    "\n",
    "    try:\n",
    "        img_byte_arr = BytesIO()\n",
    "        image.save(img_byte_arr, format=image.format)\n",
    "        img_byte_arr = img_byte_arr.getvalue()\n",
    "\n",
    "        container_client.upload_blob(name= image_name,data=img_byte_arr )\n",
    "    except Exception as error:\n",
    "        print(f\"Error: {error}\")\n",
    "    "
   ]
  },
  {
   "cell_type": "code",
   "execution_count": 8,
   "metadata": {},
   "outputs": [],
   "source": [
    "def data_to_SQL(prod_name, prod_description,brand,prod_images_names,cursor,conn):\n",
    "\n",
    "    try:\n",
    "        # Insert in Brand_Prod_table\n",
    "        products_data = [('BrandA', 'Description for BrandA product')]\n",
    "\n",
    "        insert_products_query = \"\"\"\n",
    "        INSERT INTO Products (Brand, Descript) VALUES (%s, %s) RETURNING Brand_Prod_id;\n",
    "        \"\"\"\n",
    "        cursor.execute(insert_products_query)\n",
    "\n",
    "        # Insert in Image mapping\n",
    "        insert_characteristics_query = \"\"\"\n",
    "        INSERT INTO product_characteristics (Brand_id, Brand, Descript) VALUES (%s, %s, %s);\n",
    "        \"\"\"\n",
    "        for prod_image_name in prod_images_names:\n",
    "            cursor.execute(insert_characteristics_query, prod_image_name)\n",
    "\n",
    "        conn.commit()\n",
    "\n",
    "\n",
    "        print('xxxx')\n",
    "    except Exception as error:\n",
    "        print(f\"Error: {error}\")\n",
    "        conn.rollback()\n",
    "    finally:\n",
    "        cursor.close()\n",
    "        conn.close()"
   ]
  },
  {
   "cell_type": "code",
   "execution_count": 9,
   "metadata": {},
   "outputs": [],
   "source": [
    "def contains_required_number(line):\n",
    "    \n",
    "    keeping = ['001_100','004_100','005_100']\n",
    "    # 001: Prod\n",
    "    # 004: back\n",
    "    # 005: 3/4 image\n",
    "    return any(num in line for num in keeping)"
   ]
  },
  {
   "cell_type": "code",
   "execution_count": 10,
   "metadata": {},
   "outputs": [],
   "source": [
    "def get_image_links(prod_soup):\n",
    "    \n",
    "    item_list_1 = prod_soup.find_all(attrs={\"data-image-size\": \"small-retina\"})\n",
    "\n",
    "    ##### get image\n",
    "    images = []\n",
    "    i = 0\n",
    "    for item in item_list_1: \n",
    "            \n",
    "        i+=1 \n",
    "        if (i == len(item_list_1)) | (i == 1):\n",
    "            continue\n",
    "        elif not(contains_required_number(item['srcset'])) :\n",
    "            continue\n",
    "        else:\n",
    "            images = images + [item['srcset']]\n",
    "        \n",
    "        i += 1\n",
    "    \n",
    "    return images"
   ]
  },
  {
   "cell_type": "code",
   "execution_count": 11,
   "metadata": {},
   "outputs": [],
   "source": [
    "def get_description(prod_soup):\n",
    "    \n",
    "    description_list = prod_soup.find_all(attrs={\"class\": \"product-detail\"} )\n",
    "\n",
    "    #Get description\n",
    "    description = ''\n",
    "    \n",
    "    for a in description_list[0].ul.find_all('li'):\n",
    "        description = description + ' ' + a.text\n",
    "        \n",
    "\n",
    "    return description_list[0].p.text.replace('\\n', '').replace('\\t', '') + ' ' + description\n",
    "\n",
    "    "
   ]
  },
  {
   "cell_type": "code",
   "execution_count": 12,
   "metadata": {},
   "outputs": [],
   "source": [
    "def links_to_images(links,prod_name,container_client):\n",
    "\n",
    "    ua = UserAgent()\n",
    "    header = {'User-Agent':str(ua.chrome)}\n",
    "\n",
    "    i = 0\n",
    "    for img_link in links:\n",
    "        response = requests.get('https:' + img_link, headers = header)\n",
    "        img = Image.open(BytesIO(response.content))\n",
    "\n",
    "        # Resize the image to 600\n",
    "        img_resized = img.resize((500, 500))\n",
    "\n",
    "        img_name = f\"Gucci{prod_name}_{i}.jpg\"\n",
    "\n",
    "        # Load to Blob\n",
    "        #images_to_blob(img, img_name,container_client)\n",
    "        print(img_name)\n",
    "        i+=1\n",
    "\n"
   ]
  },
  {
   "cell_type": "code",
   "execution_count": 13,
   "metadata": {},
   "outputs": [],
   "source": [
    "def mango(category_url,n_products):\n",
    "\n",
    "    soup = create_soup(category_url)\n",
    "    item_list = soup.select('article a')\n",
    "\n",
    "    \n",
    "    #container_client = connect_blob()\n",
    "    container_client = True\n",
    "\n",
    "    conn, cursor = connect_sql()\n",
    "\n",
    "\n",
    "    br = 0\n",
    "    for item in item_list: \n",
    "            \n",
    "        if br == n_products:\n",
    "            break\n",
    "        else:\n",
    "\n",
    "            #Scrapp\n",
    "            prod_soup = create_soup('https://www.gucci.com' + item['href'])\n",
    "\n",
    "            prod_images_links = get_image_links(prod_soup=prod_soup)\n",
    "            prod_description = get_description(prod_soup=prod_soup)\n",
    "\n",
    "            prod_name = 'HM_'+str(br)  \n",
    "            \n",
    "            # Links to image, load to blob and return prod_images_names\n",
    "            prod_images_names = links_to_images(links = prod_images_links,prod_name= br,container_client=container_client)\n",
    "            \n",
    "            #data_to_SQL(prod_name=prod_name, prod_description=prod_description,brand='HM',prod_images_names=prod_images_names,conn=conn)\n",
    "            print()\n",
    "\n",
    "        br += 1\n"
   ]
  },
  {
   "cell_type": "markdown",
   "metadata": {},
   "source": [
    "## Execute Scrapper"
   ]
  },
  {
   "cell_type": "code",
   "execution_count": 33,
   "metadata": {},
   "outputs": [],
   "source": [
    "from bs4 import BeautifulSoup\n",
    "from selenium.webdriver import Chrome\n",
    "from selenium.webdriver.edge.options import Options\n",
    "from selenium.webdriver.support.ui import WebDriverWait\n",
    "from selenium.webdriver.support import expected_conditions as EC\n",
    "from selenium.webdriver.common.by import By\n",
    "import time\n",
    "\n",
    "url = 'https://shop.mango.com/it/it/c/donna/taglie-plus/giacchette_5fd4b931'\n",
    "\n",
    "chrome_options = Options()\n",
    "#chrome_options.add_argument(\"--headless\")  # Ensure GUI is off\n",
    "chrome_options.add_argument(\"--no-sandbox\")\n",
    "chrome_options.add_argument(\"--disable-dev-shm-usage\")\n",
    "\n",
    "\n",
    "with Chrome(options=chrome_options) as browser:\n",
    "     browser.get(url)\n",
    "     wait = WebDriverWait(browser, 120)\n",
    "     \n",
    "     wait.until(lambda driver: driver.execute_script('return document.readyState') == 'complete')\n",
    "    \n",
    "     # Wait for the button to be clickable\n",
    "     cookie_button = wait.until(EC.element_to_be_clickable((By.CSS_SELECTOR, 'button.Button_button__qoiWI.CookiesContent_button__2Vj_R')))\n",
    "     cookie_button.click()\n",
    "\n",
    "     html = browser.page_source\n",
    "     \n",
    "\n",
    "\n",
    "page_soup = BeautifulSoup(html, 'html.parser')\n",
    "\n",
    "item_list = page_soup.select('div.ProductImage_imageWrapper__dcoT9')\n",
    "item_list\n",
    "\n",
    "\n",
    "br = 0\n",
    "for item in item_list: \n",
    "\n",
    "    print(item)\n",
    "    \n",
    "    br += 1\n",
    "\n",
    "br"
   ]
  },
  {
   "cell_type": "code",
   "execution_count": 12,
   "metadata": {},
   "outputs": [
    {
     "name": "stdout",
     "output_type": "stream",
     "text": [
      "<div class=\"ProductImage_productImage__cS5d9\"><div class=\"ProductImage_imageWrapper__dcoT9\"><a aria-label=\"Gilet lino bottoni  - 67069229 - (99)\" class=\"\" href=\"https://shop.mango.com/it/it/p/donna/giacchette/gilet-da-completo/gilet-lino-bottoni_67069229?c=99\"><img alt=\"Gilet lino bottoni  - Dettaglio dell'articolo 5\" data-nimg=\"fill\" decoding=\"async\" fetchpriority=\"high\" sizes=\"(max-width: 1024px) calc(50vw - 0.5px), 511.5px\" src=\"https://shop.mango.com/assets/rcs/pics/static/T6/fotos/S/67069229_99_D5.jpg?ts=1712155008827&amp;im=SmartCrop,width=2048,height=2868&amp;imdensity=1\" srcset=\"https://shop.mango.com/assets/rcs/pics/static/T6/fotos/S/67069229_99_D5.jpg?ts=1712155008827&amp;im=SmartCrop,width=16,height=448&amp;imdensity=1 16w, https://shop.mango.com/assets/rcs/pics/static/T6/fotos/S/67069229_99_D5.jpg?ts=1712155008827&amp;im=SmartCrop,width=20,height=448&amp;imdensity=1 20w, https://shop.mango.com/assets/rcs/pics/static/T6/fotos/S/67069229_99_D5.jpg?ts=1712155008827&amp;im=SmartCrop,width=32,height=448&amp;imdensity=1 32w, https://shop.mango.com/assets/rcs/pics/static/T6/fotos/S/67069229_99_D5.jpg?ts=1712155008827&amp;im=SmartCrop,width=48,height=448&amp;imdensity=1 48w, https://shop.mango.com/assets/rcs/pics/static/T6/fotos/S/67069229_99_D5.jpg?ts=1712155008827&amp;im=SmartCrop,width=64,height=448&amp;imdensity=1 64w, https://shop.mango.com/assets/rcs/pics/static/T6/fotos/S/67069229_99_D5.jpg?ts=1712155008827&amp;im=SmartCrop,width=96,height=448&amp;imdensity=1 96w, https://shop.mango.com/assets/rcs/pics/static/T6/fotos/S/67069229_99_D5.jpg?ts=1712155008827&amp;im=SmartCrop,width=128,height=448&amp;imdensity=1 128w, https://shop.mango.com/assets/rcs/pics/static/T6/fotos/S/67069229_99_D5.jpg?ts=1712155008827&amp;im=SmartCrop,width=256,height=448&amp;imdensity=1 256w, https://shop.mango.com/assets/rcs/pics/static/T6/fotos/S/67069229_99_D5.jpg?ts=1712155008827&amp;im=SmartCrop,width=320,height=448&amp;imdensity=1 320w, https://shop.mango.com/assets/rcs/pics/static/T6/fotos/S/67069229_99_D5.jpg?ts=1712155008827&amp;im=SmartCrop,width=368,height=516&amp;imdensity=1 368w, https://shop.mango.com/assets/rcs/pics/static/T6/fotos/S/67069229_99_D5.jpg?ts=1712155008827&amp;im=SmartCrop,width=480,height=672&amp;imdensity=1 480w, https://shop.mango.com/assets/rcs/pics/static/T6/fotos/S/67069229_99_D5.jpg?ts=1712155008827&amp;im=SmartCrop,width=600,height=840&amp;imdensity=1 600w, https://shop.mango.com/assets/rcs/pics/static/T6/fotos/S/67069229_99_D5.jpg?ts=1712155008827&amp;im=SmartCrop,width=640,height=896&amp;imdensity=1 640w, https://shop.mango.com/assets/rcs/pics/static/T6/fotos/S/67069229_99_D5.jpg?ts=1712155008827&amp;im=SmartCrop,width=721,height=1010&amp;imdensity=1 721w, https://shop.mango.com/assets/rcs/pics/static/T6/fotos/S/67069229_99_D5.jpg?ts=1712155008827&amp;im=SmartCrop,width=768,height=1076&amp;imdensity=1 768w, https://shop.mango.com/assets/rcs/pics/static/T6/fotos/S/67069229_99_D5.jpg?ts=1712155008827&amp;im=SmartCrop,width=800,height=1120&amp;imdensity=1 800w, https://shop.mango.com/assets/rcs/pics/static/T6/fotos/S/67069229_99_D5.jpg?ts=1712155008827&amp;im=SmartCrop,width=960,height=1344&amp;imdensity=1 960w, https://shop.mango.com/assets/rcs/pics/static/T6/fotos/S/67069229_99_D5.jpg?ts=1712155008827&amp;im=SmartCrop,width=1024,height=1434&amp;imdensity=1 1024w, https://shop.mango.com/assets/rcs/pics/static/T6/fotos/S/67069229_99_D5.jpg?ts=1712155008827&amp;im=SmartCrop,width=1256,height=1759&amp;imdensity=1 1256w, https://shop.mango.com/assets/rcs/pics/static/T6/fotos/S/67069229_99_D5.jpg?ts=1712155008827&amp;im=SmartCrop,width=1350,height=1890&amp;imdensity=1 1350w, https://shop.mango.com/assets/rcs/pics/static/T6/fotos/S/67069229_99_D5.jpg?ts=1712155008827&amp;im=SmartCrop,width=1656,height=2319&amp;imdensity=1 1656w, https://shop.mango.com/assets/rcs/pics/static/T6/fotos/S/67069229_99_D5.jpg?ts=1712155008827&amp;im=SmartCrop,width=1920,height=2688&amp;imdensity=1 1920w, https://shop.mango.com/assets/rcs/pics/static/T6/fotos/S/67069229_99_D5.jpg?ts=1712155008827&amp;im=SmartCrop,width=2048,height=2868&amp;imdensity=1 2048w\" style=\"position: absolute; height: 100%; width: 100%; inset: 0px; color: transparent;\"/><span class=\"classes_srOnly__1Q8Zg\">Gilet lino bottoni  Nero (67069229-MAX-LM)</span></a></div></div>\n",
      "<div class=\"ProductImage_productImage__cS5d9\"><div class=\"ProductImage_imageWrapper__dcoT9\"><a aria-label=\"Giacca completo 100% lino  - 67037113 - (43)\" class=\"\" href=\"https://shop.mango.com/it/it/p/donna/giacchette/giacchette/giacca-completo-100-lino_67037113?c=43\"><img alt=\"Giacca completo 100% lino  - Dettaglio dell'articolo 5\" data-nimg=\"fill\" decoding=\"async\" fetchpriority=\"high\" sizes=\"(max-width: 1024px) calc(50vw - 0.5px), 511.5px\" src=\"https://shop.mango.com/assets/rcs/pics/static/T6/fotos/S/67037113_43_D5.jpg?ts=1706173400031&amp;im=SmartCrop,width=2048,height=2868&amp;imdensity=1\" srcset=\"https://shop.mango.com/assets/rcs/pics/static/T6/fotos/S/67037113_43_D5.jpg?ts=1706173400031&amp;im=SmartCrop,width=16,height=448&amp;imdensity=1 16w, https://shop.mango.com/assets/rcs/pics/static/T6/fotos/S/67037113_43_D5.jpg?ts=1706173400031&amp;im=SmartCrop,width=20,height=448&amp;imdensity=1 20w, https://shop.mango.com/assets/rcs/pics/static/T6/fotos/S/67037113_43_D5.jpg?ts=1706173400031&amp;im=SmartCrop,width=32,height=448&amp;imdensity=1 32w, https://shop.mango.com/assets/rcs/pics/static/T6/fotos/S/67037113_43_D5.jpg?ts=1706173400031&amp;im=SmartCrop,width=48,height=448&amp;imdensity=1 48w, https://shop.mango.com/assets/rcs/pics/static/T6/fotos/S/67037113_43_D5.jpg?ts=1706173400031&amp;im=SmartCrop,width=64,height=448&amp;imdensity=1 64w, https://shop.mango.com/assets/rcs/pics/static/T6/fotos/S/67037113_43_D5.jpg?ts=1706173400031&amp;im=SmartCrop,width=96,height=448&amp;imdensity=1 96w, https://shop.mango.com/assets/rcs/pics/static/T6/fotos/S/67037113_43_D5.jpg?ts=1706173400031&amp;im=SmartCrop,width=128,height=448&amp;imdensity=1 128w, https://shop.mango.com/assets/rcs/pics/static/T6/fotos/S/67037113_43_D5.jpg?ts=1706173400031&amp;im=SmartCrop,width=256,height=448&amp;imdensity=1 256w, https://shop.mango.com/assets/rcs/pics/static/T6/fotos/S/67037113_43_D5.jpg?ts=1706173400031&amp;im=SmartCrop,width=320,height=448&amp;imdensity=1 320w, https://shop.mango.com/assets/rcs/pics/static/T6/fotos/S/67037113_43_D5.jpg?ts=1706173400031&amp;im=SmartCrop,width=368,height=516&amp;imdensity=1 368w, https://shop.mango.com/assets/rcs/pics/static/T6/fotos/S/67037113_43_D5.jpg?ts=1706173400031&amp;im=SmartCrop,width=480,height=672&amp;imdensity=1 480w, https://shop.mango.com/assets/rcs/pics/static/T6/fotos/S/67037113_43_D5.jpg?ts=1706173400031&amp;im=SmartCrop,width=600,height=840&amp;imdensity=1 600w, https://shop.mango.com/assets/rcs/pics/static/T6/fotos/S/67037113_43_D5.jpg?ts=1706173400031&amp;im=SmartCrop,width=640,height=896&amp;imdensity=1 640w, https://shop.mango.com/assets/rcs/pics/static/T6/fotos/S/67037113_43_D5.jpg?ts=1706173400031&amp;im=SmartCrop,width=721,height=1010&amp;imdensity=1 721w, https://shop.mango.com/assets/rcs/pics/static/T6/fotos/S/67037113_43_D5.jpg?ts=1706173400031&amp;im=SmartCrop,width=768,height=1076&amp;imdensity=1 768w, https://shop.mango.com/assets/rcs/pics/static/T6/fotos/S/67037113_43_D5.jpg?ts=1706173400031&amp;im=SmartCrop,width=800,height=1120&amp;imdensity=1 800w, https://shop.mango.com/assets/rcs/pics/static/T6/fotos/S/67037113_43_D5.jpg?ts=1706173400031&amp;im=SmartCrop,width=960,height=1344&amp;imdensity=1 960w, https://shop.mango.com/assets/rcs/pics/static/T6/fotos/S/67037113_43_D5.jpg?ts=1706173400031&amp;im=SmartCrop,width=1024,height=1434&amp;imdensity=1 1024w, https://shop.mango.com/assets/rcs/pics/static/T6/fotos/S/67037113_43_D5.jpg?ts=1706173400031&amp;im=SmartCrop,width=1256,height=1759&amp;imdensity=1 1256w, https://shop.mango.com/assets/rcs/pics/static/T6/fotos/S/67037113_43_D5.jpg?ts=1706173400031&amp;im=SmartCrop,width=1350,height=1890&amp;imdensity=1 1350w, https://shop.mango.com/assets/rcs/pics/static/T6/fotos/S/67037113_43_D5.jpg?ts=1706173400031&amp;im=SmartCrop,width=1656,height=2319&amp;imdensity=1 1656w, https://shop.mango.com/assets/rcs/pics/static/T6/fotos/S/67037113_43_D5.jpg?ts=1706173400031&amp;im=SmartCrop,width=1920,height=2688&amp;imdensity=1 1920w, https://shop.mango.com/assets/rcs/pics/static/T6/fotos/S/67037113_43_D5.jpg?ts=1706173400031&amp;im=SmartCrop,width=2048,height=2868&amp;imdensity=1 2048w\" style=\"position: absolute; height: 100%; width: 100%; inset: 0px; color: transparent;\"/><span class=\"classes_srOnly__1Q8Zg\">Giacca completo 100% lino  Verde (67037113-TEMPOLI-LM)</span></a></div></div>\n",
      "<div class=\"ProductImage_productImage__cS5d9\"><div class=\"ProductImage_imageWrapper__dcoT9\"><a aria-label=\"Giacca completo diritta - 67041009 - (99)\" class=\"\" href=\"https://shop.mango.com/it/it/p/donna/giacchette/giacchette/giacca-completo-diritta_67041009?c=99\"><img alt=\"Giacca completo diritta - Dettaglio dell'articolo 5\" data-nimg=\"fill\" decoding=\"async\" fetchpriority=\"high\" sizes=\"(max-width: 1024px) calc(50vw - 0.5px), 511.5px\" src=\"https://shop.mango.com/assets/rcs/pics/static/T6/fotos/S/67041009_99_D5.jpg?ts=1699610602613&amp;im=SmartCrop,width=2048,height=2868&amp;imdensity=1\" srcset=\"https://shop.mango.com/assets/rcs/pics/static/T6/fotos/S/67041009_99_D5.jpg?ts=1699610602613&amp;im=SmartCrop,width=16,height=448&amp;imdensity=1 16w, https://shop.mango.com/assets/rcs/pics/static/T6/fotos/S/67041009_99_D5.jpg?ts=1699610602613&amp;im=SmartCrop,width=20,height=448&amp;imdensity=1 20w, https://shop.mango.com/assets/rcs/pics/static/T6/fotos/S/67041009_99_D5.jpg?ts=1699610602613&amp;im=SmartCrop,width=32,height=448&amp;imdensity=1 32w, https://shop.mango.com/assets/rcs/pics/static/T6/fotos/S/67041009_99_D5.jpg?ts=1699610602613&amp;im=SmartCrop,width=48,height=448&amp;imdensity=1 48w, https://shop.mango.com/assets/rcs/pics/static/T6/fotos/S/67041009_99_D5.jpg?ts=1699610602613&amp;im=SmartCrop,width=64,height=448&amp;imdensity=1 64w, https://shop.mango.com/assets/rcs/pics/static/T6/fotos/S/67041009_99_D5.jpg?ts=1699610602613&amp;im=SmartCrop,width=96,height=448&amp;imdensity=1 96w, https://shop.mango.com/assets/rcs/pics/static/T6/fotos/S/67041009_99_D5.jpg?ts=1699610602613&amp;im=SmartCrop,width=128,height=448&amp;imdensity=1 128w, https://shop.mango.com/assets/rcs/pics/static/T6/fotos/S/67041009_99_D5.jpg?ts=1699610602613&amp;im=SmartCrop,width=256,height=448&amp;imdensity=1 256w, https://shop.mango.com/assets/rcs/pics/static/T6/fotos/S/67041009_99_D5.jpg?ts=1699610602613&amp;im=SmartCrop,width=320,height=448&amp;imdensity=1 320w, https://shop.mango.com/assets/rcs/pics/static/T6/fotos/S/67041009_99_D5.jpg?ts=1699610602613&amp;im=SmartCrop,width=368,height=516&amp;imdensity=1 368w, https://shop.mango.com/assets/rcs/pics/static/T6/fotos/S/67041009_99_D5.jpg?ts=1699610602613&amp;im=SmartCrop,width=480,height=672&amp;imdensity=1 480w, https://shop.mango.com/assets/rcs/pics/static/T6/fotos/S/67041009_99_D5.jpg?ts=1699610602613&amp;im=SmartCrop,width=600,height=840&amp;imdensity=1 600w, https://shop.mango.com/assets/rcs/pics/static/T6/fotos/S/67041009_99_D5.jpg?ts=1699610602613&amp;im=SmartCrop,width=640,height=896&amp;imdensity=1 640w, https://shop.mango.com/assets/rcs/pics/static/T6/fotos/S/67041009_99_D5.jpg?ts=1699610602613&amp;im=SmartCrop,width=721,height=1010&amp;imdensity=1 721w, https://shop.mango.com/assets/rcs/pics/static/T6/fotos/S/67041009_99_D5.jpg?ts=1699610602613&amp;im=SmartCrop,width=768,height=1076&amp;imdensity=1 768w, https://shop.mango.com/assets/rcs/pics/static/T6/fotos/S/67041009_99_D5.jpg?ts=1699610602613&amp;im=SmartCrop,width=800,height=1120&amp;imdensity=1 800w, https://shop.mango.com/assets/rcs/pics/static/T6/fotos/S/67041009_99_D5.jpg?ts=1699610602613&amp;im=SmartCrop,width=960,height=1344&amp;imdensity=1 960w, https://shop.mango.com/assets/rcs/pics/static/T6/fotos/S/67041009_99_D5.jpg?ts=1699610602613&amp;im=SmartCrop,width=1024,height=1434&amp;imdensity=1 1024w, https://shop.mango.com/assets/rcs/pics/static/T6/fotos/S/67041009_99_D5.jpg?ts=1699610602613&amp;im=SmartCrop,width=1256,height=1759&amp;imdensity=1 1256w, https://shop.mango.com/assets/rcs/pics/static/T6/fotos/S/67041009_99_D5.jpg?ts=1699610602613&amp;im=SmartCrop,width=1350,height=1890&amp;imdensity=1 1350w, https://shop.mango.com/assets/rcs/pics/static/T6/fotos/S/67041009_99_D5.jpg?ts=1699610602613&amp;im=SmartCrop,width=1656,height=2319&amp;imdensity=1 1656w, https://shop.mango.com/assets/rcs/pics/static/T6/fotos/S/67041009_99_D5.jpg?ts=1699610602613&amp;im=SmartCrop,width=1920,height=2688&amp;imdensity=1 1920w, https://shop.mango.com/assets/rcs/pics/static/T6/fotos/S/67041009_99_D5.jpg?ts=1699610602613&amp;im=SmartCrop,width=2048,height=2868&amp;imdensity=1 2048w\" style=\"position: absolute; height: 100%; width: 100%; inset: 0px; color: transparent;\"/><span class=\"classes_srOnly__1Q8Zg\">Giacca completo diritta Nero (67041009-IGUANA-LM)</span></a></div></div>\n",
      "<div class=\"ProductImage_productImage__cS5d9\"><div class=\"ProductImage_imageWrapper__dcoT9\"><a aria-label=\"Blazer lino pied-de-poule - 67057926 - (91)\" class=\"\" href=\"https://shop.mango.com/it/it/p/donna/giacchette/giacchette/blazer-lino-pied-de-poule_67057926?c=91\"><img alt=\"Blazer lino pied-de-poule - Dettaglio dell'articolo 5\" data-nimg=\"fill\" decoding=\"async\" fetchpriority=\"high\" sizes=\"(max-width: 1024px) calc(50vw - 0.5px), 511.5px\" src=\"https://shop.mango.com/assets/rcs/pics/static/T6/fotos/S/67057926_91_D5.jpg?ts=1710754634281&amp;im=SmartCrop,width=2048,height=2868&amp;imdensity=1\" srcset=\"https://shop.mango.com/assets/rcs/pics/static/T6/fotos/S/67057926_91_D5.jpg?ts=1710754634281&amp;im=SmartCrop,width=16,height=448&amp;imdensity=1 16w, https://shop.mango.com/assets/rcs/pics/static/T6/fotos/S/67057926_91_D5.jpg?ts=1710754634281&amp;im=SmartCrop,width=20,height=448&amp;imdensity=1 20w, https://shop.mango.com/assets/rcs/pics/static/T6/fotos/S/67057926_91_D5.jpg?ts=1710754634281&amp;im=SmartCrop,width=32,height=448&amp;imdensity=1 32w, https://shop.mango.com/assets/rcs/pics/static/T6/fotos/S/67057926_91_D5.jpg?ts=1710754634281&amp;im=SmartCrop,width=48,height=448&amp;imdensity=1 48w, https://shop.mango.com/assets/rcs/pics/static/T6/fotos/S/67057926_91_D5.jpg?ts=1710754634281&amp;im=SmartCrop,width=64,height=448&amp;imdensity=1 64w, https://shop.mango.com/assets/rcs/pics/static/T6/fotos/S/67057926_91_D5.jpg?ts=1710754634281&amp;im=SmartCrop,width=96,height=448&amp;imdensity=1 96w, https://shop.mango.com/assets/rcs/pics/static/T6/fotos/S/67057926_91_D5.jpg?ts=1710754634281&amp;im=SmartCrop,width=128,height=448&amp;imdensity=1 128w, https://shop.mango.com/assets/rcs/pics/static/T6/fotos/S/67057926_91_D5.jpg?ts=1710754634281&amp;im=SmartCrop,width=256,height=448&amp;imdensity=1 256w, https://shop.mango.com/assets/rcs/pics/static/T6/fotos/S/67057926_91_D5.jpg?ts=1710754634281&amp;im=SmartCrop,width=320,height=448&amp;imdensity=1 320w, https://shop.mango.com/assets/rcs/pics/static/T6/fotos/S/67057926_91_D5.jpg?ts=1710754634281&amp;im=SmartCrop,width=368,height=516&amp;imdensity=1 368w, https://shop.mango.com/assets/rcs/pics/static/T6/fotos/S/67057926_91_D5.jpg?ts=1710754634281&amp;im=SmartCrop,width=480,height=672&amp;imdensity=1 480w, https://shop.mango.com/assets/rcs/pics/static/T6/fotos/S/67057926_91_D5.jpg?ts=1710754634281&amp;im=SmartCrop,width=600,height=840&amp;imdensity=1 600w, https://shop.mango.com/assets/rcs/pics/static/T6/fotos/S/67057926_91_D5.jpg?ts=1710754634281&amp;im=SmartCrop,width=640,height=896&amp;imdensity=1 640w, https://shop.mango.com/assets/rcs/pics/static/T6/fotos/S/67057926_91_D5.jpg?ts=1710754634281&amp;im=SmartCrop,width=721,height=1010&amp;imdensity=1 721w, https://shop.mango.com/assets/rcs/pics/static/T6/fotos/S/67057926_91_D5.jpg?ts=1710754634281&amp;im=SmartCrop,width=768,height=1076&amp;imdensity=1 768w, https://shop.mango.com/assets/rcs/pics/static/T6/fotos/S/67057926_91_D5.jpg?ts=1710754634281&amp;im=SmartCrop,width=800,height=1120&amp;imdensity=1 800w, https://shop.mango.com/assets/rcs/pics/static/T6/fotos/S/67057926_91_D5.jpg?ts=1710754634281&amp;im=SmartCrop,width=960,height=1344&amp;imdensity=1 960w, https://shop.mango.com/assets/rcs/pics/static/T6/fotos/S/67057926_91_D5.jpg?ts=1710754634281&amp;im=SmartCrop,width=1024,height=1434&amp;imdensity=1 1024w, https://shop.mango.com/assets/rcs/pics/static/T6/fotos/S/67057926_91_D5.jpg?ts=1710754634281&amp;im=SmartCrop,width=1256,height=1759&amp;imdensity=1 1256w, https://shop.mango.com/assets/rcs/pics/static/T6/fotos/S/67057926_91_D5.jpg?ts=1710754634281&amp;im=SmartCrop,width=1350,height=1890&amp;imdensity=1 1350w, https://shop.mango.com/assets/rcs/pics/static/T6/fotos/S/67057926_91_D5.jpg?ts=1710754634281&amp;im=SmartCrop,width=1656,height=2319&amp;imdensity=1 1656w, https://shop.mango.com/assets/rcs/pics/static/T6/fotos/S/67057926_91_D5.jpg?ts=1710754634281&amp;im=SmartCrop,width=1920,height=2688&amp;imdensity=1 1920w, https://shop.mango.com/assets/rcs/pics/static/T6/fotos/S/67057926_91_D5.jpg?ts=1710754634281&amp;im=SmartCrop,width=2048,height=2868&amp;imdensity=1 2048w\" style=\"position: absolute; height: 100%; width: 100%; inset: 0px; color: transparent;\"/><span class=\"classes_srOnly__1Q8Zg\">Blazer lino pied-de-poule Grigio chiaro vigoré (67057926-MALIBU-LM)</span></a></div></div>\n",
      "<div class=\"ProductImage_productImage__cS5d9\"><div class=\"ProductImage_imageWrapper__dcoT9\"><a aria-label=\"Giacca completo doppia abbottonatura - 67095726 - (87)\" class=\"\" href=\"https://shop.mango.com/it/it/p/donna/giacchette/giacchette/giacca-completo-doppia-abbottonatura_67095726?c=87\"><img alt=\"Giacca completo doppia abbottonatura - Dettaglio dell'articolo 3\" data-nimg=\"fill\" decoding=\"async\" fetchpriority=\"high\" sizes=\"(max-width: 1024px) calc(50vw - 0.5px), 511.5px\" src=\"https://shop.mango.com/assets/rcs/pics/static/T6/fotos/S/67095726_87_D3.jpg?ts=1705401194965&amp;im=SmartCrop,width=2048,height=2868&amp;imdensity=1\" srcset=\"https://shop.mango.com/assets/rcs/pics/static/T6/fotos/S/67095726_87_D3.jpg?ts=1705401194965&amp;im=SmartCrop,width=16,height=448&amp;imdensity=1 16w, https://shop.mango.com/assets/rcs/pics/static/T6/fotos/S/67095726_87_D3.jpg?ts=1705401194965&amp;im=SmartCrop,width=20,height=448&amp;imdensity=1 20w, https://shop.mango.com/assets/rcs/pics/static/T6/fotos/S/67095726_87_D3.jpg?ts=1705401194965&amp;im=SmartCrop,width=32,height=448&amp;imdensity=1 32w, https://shop.mango.com/assets/rcs/pics/static/T6/fotos/S/67095726_87_D3.jpg?ts=1705401194965&amp;im=SmartCrop,width=48,height=448&amp;imdensity=1 48w, https://shop.mango.com/assets/rcs/pics/static/T6/fotos/S/67095726_87_D3.jpg?ts=1705401194965&amp;im=SmartCrop,width=64,height=448&amp;imdensity=1 64w, https://shop.mango.com/assets/rcs/pics/static/T6/fotos/S/67095726_87_D3.jpg?ts=1705401194965&amp;im=SmartCrop,width=96,height=448&amp;imdensity=1 96w, https://shop.mango.com/assets/rcs/pics/static/T6/fotos/S/67095726_87_D3.jpg?ts=1705401194965&amp;im=SmartCrop,width=128,height=448&amp;imdensity=1 128w, https://shop.mango.com/assets/rcs/pics/static/T6/fotos/S/67095726_87_D3.jpg?ts=1705401194965&amp;im=SmartCrop,width=256,height=448&amp;imdensity=1 256w, https://shop.mango.com/assets/rcs/pics/static/T6/fotos/S/67095726_87_D3.jpg?ts=1705401194965&amp;im=SmartCrop,width=320,height=448&amp;imdensity=1 320w, https://shop.mango.com/assets/rcs/pics/static/T6/fotos/S/67095726_87_D3.jpg?ts=1705401194965&amp;im=SmartCrop,width=368,height=516&amp;imdensity=1 368w, https://shop.mango.com/assets/rcs/pics/static/T6/fotos/S/67095726_87_D3.jpg?ts=1705401194965&amp;im=SmartCrop,width=480,height=672&amp;imdensity=1 480w, https://shop.mango.com/assets/rcs/pics/static/T6/fotos/S/67095726_87_D3.jpg?ts=1705401194965&amp;im=SmartCrop,width=600,height=840&amp;imdensity=1 600w, https://shop.mango.com/assets/rcs/pics/static/T6/fotos/S/67095726_87_D3.jpg?ts=1705401194965&amp;im=SmartCrop,width=640,height=896&amp;imdensity=1 640w, https://shop.mango.com/assets/rcs/pics/static/T6/fotos/S/67095726_87_D3.jpg?ts=1705401194965&amp;im=SmartCrop,width=721,height=1010&amp;imdensity=1 721w, https://shop.mango.com/assets/rcs/pics/static/T6/fotos/S/67095726_87_D3.jpg?ts=1705401194965&amp;im=SmartCrop,width=768,height=1076&amp;imdensity=1 768w, https://shop.mango.com/assets/rcs/pics/static/T6/fotos/S/67095726_87_D3.jpg?ts=1705401194965&amp;im=SmartCrop,width=800,height=1120&amp;imdensity=1 800w, https://shop.mango.com/assets/rcs/pics/static/T6/fotos/S/67095726_87_D3.jpg?ts=1705401194965&amp;im=SmartCrop,width=960,height=1344&amp;imdensity=1 960w, https://shop.mango.com/assets/rcs/pics/static/T6/fotos/S/67095726_87_D3.jpg?ts=1705401194965&amp;im=SmartCrop,width=1024,height=1434&amp;imdensity=1 1024w, https://shop.mango.com/assets/rcs/pics/static/T6/fotos/S/67095726_87_D3.jpg?ts=1705401194965&amp;im=SmartCrop,width=1256,height=1759&amp;imdensity=1 1256w, https://shop.mango.com/assets/rcs/pics/static/T6/fotos/S/67095726_87_D3.jpg?ts=1705401194965&amp;im=SmartCrop,width=1350,height=1890&amp;imdensity=1 1350w, https://shop.mango.com/assets/rcs/pics/static/T6/fotos/S/67095726_87_D3.jpg?ts=1705401194965&amp;im=SmartCrop,width=1656,height=2319&amp;imdensity=1 1656w, https://shop.mango.com/assets/rcs/pics/static/T6/fotos/S/67095726_87_D3.jpg?ts=1705401194965&amp;im=SmartCrop,width=1920,height=2688&amp;imdensity=1 1920w, https://shop.mango.com/assets/rcs/pics/static/T6/fotos/S/67095726_87_D3.jpg?ts=1705401194965&amp;im=SmartCrop,width=2048,height=2868&amp;imdensity=1 2048w\" style=\"position: absolute; height: 100%; width: 100%; inset: 0px; color: transparent;\"/><span class=\"classes_srOnly__1Q8Zg\">Giacca completo doppia abbottonatura Rosso corallo (67095726-TEMPO-LM)</span></a></div></div>\n",
      "<div class=\"ProductImage_productImage__cS5d9\"><div class=\"ProductImage_imageWrapper__dcoT9\"><a aria-label=\"Blazer lino polsini abbottonati - 67078654 - (81)\" class=\"\" href=\"https://shop.mango.com/it/it/p/donna/giacchette/giacchette/blazer-lino-polsini-abbottonati_67078654?c=81\"><img alt=\"Blazer lino polsini abbottonati - Dettaglio dell'articolo 3\" data-nimg=\"fill\" decoding=\"async\" fetchpriority=\"high\" sizes=\"(max-width: 1024px) calc(50vw - 0.5px), 511.5px\" src=\"https://shop.mango.com/assets/rcs/pics/static/T6/fotos/S/67078654_81_D3.jpg?ts=1710761868661&amp;im=SmartCrop,width=2048,height=2868&amp;imdensity=1\" srcset=\"https://shop.mango.com/assets/rcs/pics/static/T6/fotos/S/67078654_81_D3.jpg?ts=1710761868661&amp;im=SmartCrop,width=16,height=448&amp;imdensity=1 16w, https://shop.mango.com/assets/rcs/pics/static/T6/fotos/S/67078654_81_D3.jpg?ts=1710761868661&amp;im=SmartCrop,width=20,height=448&amp;imdensity=1 20w, https://shop.mango.com/assets/rcs/pics/static/T6/fotos/S/67078654_81_D3.jpg?ts=1710761868661&amp;im=SmartCrop,width=32,height=448&amp;imdensity=1 32w, https://shop.mango.com/assets/rcs/pics/static/T6/fotos/S/67078654_81_D3.jpg?ts=1710761868661&amp;im=SmartCrop,width=48,height=448&amp;imdensity=1 48w, https://shop.mango.com/assets/rcs/pics/static/T6/fotos/S/67078654_81_D3.jpg?ts=1710761868661&amp;im=SmartCrop,width=64,height=448&amp;imdensity=1 64w, https://shop.mango.com/assets/rcs/pics/static/T6/fotos/S/67078654_81_D3.jpg?ts=1710761868661&amp;im=SmartCrop,width=96,height=448&amp;imdensity=1 96w, https://shop.mango.com/assets/rcs/pics/static/T6/fotos/S/67078654_81_D3.jpg?ts=1710761868661&amp;im=SmartCrop,width=128,height=448&amp;imdensity=1 128w, https://shop.mango.com/assets/rcs/pics/static/T6/fotos/S/67078654_81_D3.jpg?ts=1710761868661&amp;im=SmartCrop,width=256,height=448&amp;imdensity=1 256w, https://shop.mango.com/assets/rcs/pics/static/T6/fotos/S/67078654_81_D3.jpg?ts=1710761868661&amp;im=SmartCrop,width=320,height=448&amp;imdensity=1 320w, https://shop.mango.com/assets/rcs/pics/static/T6/fotos/S/67078654_81_D3.jpg?ts=1710761868661&amp;im=SmartCrop,width=368,height=516&amp;imdensity=1 368w, https://shop.mango.com/assets/rcs/pics/static/T6/fotos/S/67078654_81_D3.jpg?ts=1710761868661&amp;im=SmartCrop,width=480,height=672&amp;imdensity=1 480w, https://shop.mango.com/assets/rcs/pics/static/T6/fotos/S/67078654_81_D3.jpg?ts=1710761868661&amp;im=SmartCrop,width=600,height=840&amp;imdensity=1 600w, https://shop.mango.com/assets/rcs/pics/static/T6/fotos/S/67078654_81_D3.jpg?ts=1710761868661&amp;im=SmartCrop,width=640,height=896&amp;imdensity=1 640w, https://shop.mango.com/assets/rcs/pics/static/T6/fotos/S/67078654_81_D3.jpg?ts=1710761868661&amp;im=SmartCrop,width=721,height=1010&amp;imdensity=1 721w, https://shop.mango.com/assets/rcs/pics/static/T6/fotos/S/67078654_81_D3.jpg?ts=1710761868661&amp;im=SmartCrop,width=768,height=1076&amp;imdensity=1 768w, https://shop.mango.com/assets/rcs/pics/static/T6/fotos/S/67078654_81_D3.jpg?ts=1710761868661&amp;im=SmartCrop,width=800,height=1120&amp;imdensity=1 800w, https://shop.mango.com/assets/rcs/pics/static/T6/fotos/S/67078654_81_D3.jpg?ts=1710761868661&amp;im=SmartCrop,width=960,height=1344&amp;imdensity=1 960w, https://shop.mango.com/assets/rcs/pics/static/T6/fotos/S/67078654_81_D3.jpg?ts=1710761868661&amp;im=SmartCrop,width=1024,height=1434&amp;imdensity=1 1024w, https://shop.mango.com/assets/rcs/pics/static/T6/fotos/S/67078654_81_D3.jpg?ts=1710761868661&amp;im=SmartCrop,width=1256,height=1759&amp;imdensity=1 1256w, https://shop.mango.com/assets/rcs/pics/static/T6/fotos/S/67078654_81_D3.jpg?ts=1710761868661&amp;im=SmartCrop,width=1350,height=1890&amp;imdensity=1 1350w, https://shop.mango.com/assets/rcs/pics/static/T6/fotos/S/67078654_81_D3.jpg?ts=1710761868661&amp;im=SmartCrop,width=1656,height=2319&amp;imdensity=1 1656w, https://shop.mango.com/assets/rcs/pics/static/T6/fotos/S/67078654_81_D3.jpg?ts=1710761868661&amp;im=SmartCrop,width=1920,height=2688&amp;imdensity=1 1920w, https://shop.mango.com/assets/rcs/pics/static/T6/fotos/S/67078654_81_D3.jpg?ts=1710761868661&amp;im=SmartCrop,width=2048,height=2868&amp;imdensity=1 2048w\" style=\"position: absolute; height: 100%; width: 100%; inset: 0px; color: transparent;\"/><span class=\"classes_srOnly__1Q8Zg\">Blazer lino polsini abbottonati Rosa pastello (67078654-ELELI-LM)</span></a></div></div>\n",
      "<div class=\"ProductImage_productImage__cS5d9\"><div class=\"ProductImage_imageWrapper__dcoT9\"><a aria-label=\"Giacca manica risvolto - 67093264 - (37)\" class=\"\" href=\"https://shop.mango.com/it/it/p/donna/giacchette/giacchette/giacca-manica-risvolto_67093264?c=37\"><img alt=\"Giacca manica risvolto - Dettaglio dell'articolo 5\" data-nimg=\"fill\" decoding=\"async\" fetchpriority=\"high\" sizes=\"(max-width: 1024px) calc(50vw - 0.5px), 511.5px\" src=\"https://shop.mango.com/assets/rcs/pics/static/T6/fotos/S/67093264_37_D5.jpg?ts=1699873436953&amp;im=SmartCrop,width=2048,height=2868&amp;imdensity=1\" srcset=\"https://shop.mango.com/assets/rcs/pics/static/T6/fotos/S/67093264_37_D5.jpg?ts=1699873436953&amp;im=SmartCrop,width=16,height=448&amp;imdensity=1 16w, https://shop.mango.com/assets/rcs/pics/static/T6/fotos/S/67093264_37_D5.jpg?ts=1699873436953&amp;im=SmartCrop,width=20,height=448&amp;imdensity=1 20w, https://shop.mango.com/assets/rcs/pics/static/T6/fotos/S/67093264_37_D5.jpg?ts=1699873436953&amp;im=SmartCrop,width=32,height=448&amp;imdensity=1 32w, https://shop.mango.com/assets/rcs/pics/static/T6/fotos/S/67093264_37_D5.jpg?ts=1699873436953&amp;im=SmartCrop,width=48,height=448&amp;imdensity=1 48w, https://shop.mango.com/assets/rcs/pics/static/T6/fotos/S/67093264_37_D5.jpg?ts=1699873436953&amp;im=SmartCrop,width=64,height=448&amp;imdensity=1 64w, https://shop.mango.com/assets/rcs/pics/static/T6/fotos/S/67093264_37_D5.jpg?ts=1699873436953&amp;im=SmartCrop,width=96,height=448&amp;imdensity=1 96w, https://shop.mango.com/assets/rcs/pics/static/T6/fotos/S/67093264_37_D5.jpg?ts=1699873436953&amp;im=SmartCrop,width=128,height=448&amp;imdensity=1 128w, https://shop.mango.com/assets/rcs/pics/static/T6/fotos/S/67093264_37_D5.jpg?ts=1699873436953&amp;im=SmartCrop,width=256,height=448&amp;imdensity=1 256w, https://shop.mango.com/assets/rcs/pics/static/T6/fotos/S/67093264_37_D5.jpg?ts=1699873436953&amp;im=SmartCrop,width=320,height=448&amp;imdensity=1 320w, https://shop.mango.com/assets/rcs/pics/static/T6/fotos/S/67093264_37_D5.jpg?ts=1699873436953&amp;im=SmartCrop,width=368,height=516&amp;imdensity=1 368w, https://shop.mango.com/assets/rcs/pics/static/T6/fotos/S/67093264_37_D5.jpg?ts=1699873436953&amp;im=SmartCrop,width=480,height=672&amp;imdensity=1 480w, https://shop.mango.com/assets/rcs/pics/static/T6/fotos/S/67093264_37_D5.jpg?ts=1699873436953&amp;im=SmartCrop,width=600,height=840&amp;imdensity=1 600w, https://shop.mango.com/assets/rcs/pics/static/T6/fotos/S/67093264_37_D5.jpg?ts=1699873436953&amp;im=SmartCrop,width=640,height=896&amp;imdensity=1 640w, https://shop.mango.com/assets/rcs/pics/static/T6/fotos/S/67093264_37_D5.jpg?ts=1699873436953&amp;im=SmartCrop,width=721,height=1010&amp;imdensity=1 721w, https://shop.mango.com/assets/rcs/pics/static/T6/fotos/S/67093264_37_D5.jpg?ts=1699873436953&amp;im=SmartCrop,width=768,height=1076&amp;imdensity=1 768w, https://shop.mango.com/assets/rcs/pics/static/T6/fotos/S/67093264_37_D5.jpg?ts=1699873436953&amp;im=SmartCrop,width=800,height=1120&amp;imdensity=1 800w, https://shop.mango.com/assets/rcs/pics/static/T6/fotos/S/67093264_37_D5.jpg?ts=1699873436953&amp;im=SmartCrop,width=960,height=1344&amp;imdensity=1 960w, https://shop.mango.com/assets/rcs/pics/static/T6/fotos/S/67093264_37_D5.jpg?ts=1699873436953&amp;im=SmartCrop,width=1024,height=1434&amp;imdensity=1 1024w, https://shop.mango.com/assets/rcs/pics/static/T6/fotos/S/67093264_37_D5.jpg?ts=1699873436953&amp;im=SmartCrop,width=1256,height=1759&amp;imdensity=1 1256w, https://shop.mango.com/assets/rcs/pics/static/T6/fotos/S/67093264_37_D5.jpg?ts=1699873436953&amp;im=SmartCrop,width=1350,height=1890&amp;imdensity=1 1350w, https://shop.mango.com/assets/rcs/pics/static/T6/fotos/S/67093264_37_D5.jpg?ts=1699873436953&amp;im=SmartCrop,width=1656,height=2319&amp;imdensity=1 1656w, https://shop.mango.com/assets/rcs/pics/static/T6/fotos/S/67093264_37_D5.jpg?ts=1699873436953&amp;im=SmartCrop,width=1920,height=2688&amp;imdensity=1 1920w, https://shop.mango.com/assets/rcs/pics/static/T6/fotos/S/67093264_37_D5.jpg?ts=1699873436953&amp;im=SmartCrop,width=2048,height=2868&amp;imdensity=1 2048w\" style=\"position: absolute; height: 100%; width: 100%; inset: 0px; color: transparent;\"/><span class=\"classes_srOnly__1Q8Zg\">Giacca manica risvolto Kaki (67093264-ELEONOR-LM)</span></a></div></div>\n",
      "<div class=\"ProductImage_productImage__cS5d9\"><div class=\"ProductImage_imageWrapper__dcoT9\"><a aria-label=\"Blazer stampa quadri - 67037927 - (92)\" class=\"\" href=\"https://shop.mango.com/it/it/p/donna/giacchette/giacchette/blazer-stampa-quadri_67037927?c=92\"><img alt=\"Blazer stampa quadri - Dettaglio dell'articolo 5\" data-nimg=\"fill\" decoding=\"async\" fetchpriority=\"high\" sizes=\"(max-width: 1024px) calc(50vw - 0.5px), 511.5px\" src=\"https://shop.mango.com/assets/rcs/pics/static/T6/fotos/S/67037927_92_D5.jpg?ts=1710510170976&amp;im=SmartCrop,width=2048,height=2868&amp;imdensity=1\" srcset=\"https://shop.mango.com/assets/rcs/pics/static/T6/fotos/S/67037927_92_D5.jpg?ts=1710510170976&amp;im=SmartCrop,width=16,height=448&amp;imdensity=1 16w, https://shop.mango.com/assets/rcs/pics/static/T6/fotos/S/67037927_92_D5.jpg?ts=1710510170976&amp;im=SmartCrop,width=20,height=448&amp;imdensity=1 20w, https://shop.mango.com/assets/rcs/pics/static/T6/fotos/S/67037927_92_D5.jpg?ts=1710510170976&amp;im=SmartCrop,width=32,height=448&amp;imdensity=1 32w, https://shop.mango.com/assets/rcs/pics/static/T6/fotos/S/67037927_92_D5.jpg?ts=1710510170976&amp;im=SmartCrop,width=48,height=448&amp;imdensity=1 48w, https://shop.mango.com/assets/rcs/pics/static/T6/fotos/S/67037927_92_D5.jpg?ts=1710510170976&amp;im=SmartCrop,width=64,height=448&amp;imdensity=1 64w, https://shop.mango.com/assets/rcs/pics/static/T6/fotos/S/67037927_92_D5.jpg?ts=1710510170976&amp;im=SmartCrop,width=96,height=448&amp;imdensity=1 96w, https://shop.mango.com/assets/rcs/pics/static/T6/fotos/S/67037927_92_D5.jpg?ts=1710510170976&amp;im=SmartCrop,width=128,height=448&amp;imdensity=1 128w, https://shop.mango.com/assets/rcs/pics/static/T6/fotos/S/67037927_92_D5.jpg?ts=1710510170976&amp;im=SmartCrop,width=256,height=448&amp;imdensity=1 256w, https://shop.mango.com/assets/rcs/pics/static/T6/fotos/S/67037927_92_D5.jpg?ts=1710510170976&amp;im=SmartCrop,width=320,height=448&amp;imdensity=1 320w, https://shop.mango.com/assets/rcs/pics/static/T6/fotos/S/67037927_92_D5.jpg?ts=1710510170976&amp;im=SmartCrop,width=368,height=516&amp;imdensity=1 368w, https://shop.mango.com/assets/rcs/pics/static/T6/fotos/S/67037927_92_D5.jpg?ts=1710510170976&amp;im=SmartCrop,width=480,height=672&amp;imdensity=1 480w, https://shop.mango.com/assets/rcs/pics/static/T6/fotos/S/67037927_92_D5.jpg?ts=1710510170976&amp;im=SmartCrop,width=600,height=840&amp;imdensity=1 600w, https://shop.mango.com/assets/rcs/pics/static/T6/fotos/S/67037927_92_D5.jpg?ts=1710510170976&amp;im=SmartCrop,width=640,height=896&amp;imdensity=1 640w, https://shop.mango.com/assets/rcs/pics/static/T6/fotos/S/67037927_92_D5.jpg?ts=1710510170976&amp;im=SmartCrop,width=721,height=1010&amp;imdensity=1 721w, https://shop.mango.com/assets/rcs/pics/static/T6/fotos/S/67037927_92_D5.jpg?ts=1710510170976&amp;im=SmartCrop,width=768,height=1076&amp;imdensity=1 768w, https://shop.mango.com/assets/rcs/pics/static/T6/fotos/S/67037927_92_D5.jpg?ts=1710510170976&amp;im=SmartCrop,width=800,height=1120&amp;imdensity=1 800w, https://shop.mango.com/assets/rcs/pics/static/T6/fotos/S/67037927_92_D5.jpg?ts=1710510170976&amp;im=SmartCrop,width=960,height=1344&amp;imdensity=1 960w, https://shop.mango.com/assets/rcs/pics/static/T6/fotos/S/67037927_92_D5.jpg?ts=1710510170976&amp;im=SmartCrop,width=1024,height=1434&amp;imdensity=1 1024w, https://shop.mango.com/assets/rcs/pics/static/T6/fotos/S/67037927_92_D5.jpg?ts=1710510170976&amp;im=SmartCrop,width=1256,height=1759&amp;imdensity=1 1256w, https://shop.mango.com/assets/rcs/pics/static/T6/fotos/S/67037927_92_D5.jpg?ts=1710510170976&amp;im=SmartCrop,width=1350,height=1890&amp;imdensity=1 1350w, https://shop.mango.com/assets/rcs/pics/static/T6/fotos/S/67037927_92_D5.jpg?ts=1710510170976&amp;im=SmartCrop,width=1656,height=2319&amp;imdensity=1 1656w, https://shop.mango.com/assets/rcs/pics/static/T6/fotos/S/67037927_92_D5.jpg?ts=1710510170976&amp;im=SmartCrop,width=1920,height=2688&amp;imdensity=1 1920w, https://shop.mango.com/assets/rcs/pics/static/T6/fotos/S/67037927_92_D5.jpg?ts=1710510170976&amp;im=SmartCrop,width=2048,height=2868&amp;imdensity=1 2048w\" style=\"position: absolute; height: 100%; width: 100%; inset: 0px; color: transparent;\"/><span class=\"classes_srOnly__1Q8Zg\">Blazer stampa quadri Grigio (67037927-ELEVIVO-LM)</span></a></div></div>\n"
     ]
    },
    {
     "data": {
      "text/plain": [
       "8"
      ]
     },
     "execution_count": 12,
     "metadata": {},
     "output_type": "execute_result"
    }
   ],
   "source": [
    "# Define the URL you want to scrape\n",
    "category_url = 'https://shop.mango.com/it/it/c/donna/taglie-plus/giacchette_5fd4b931'\n",
    "\n",
    "#mango(url,3)\n",
    "\n",
    "\n",
    "soup = create_soup(category_url)\n",
    "item_list = page_soup.select('div.ProductImage_imageWrapper__dcoT9')\n",
    "item_list\n",
    "\n",
    "\n",
    "br = 0\n",
    "for item in item_list: \n",
    "\n",
    "    print(item)\n",
    "    \n",
    "    br += 1\n",
    "\n",
    "br"
   ]
  },
  {
   "cell_type": "code",
   "execution_count": null,
   "metadata": {},
   "outputs": [],
   "source": [
    "<div class=\"ProductImage_productImage__cS5d9\"><div class=\"ProductImage_imageWrapper__dcoT9\"><a class=\"\" href=\"https://shop.mango.com/it/it/p/donna/giacchette/giacchette/giacca-incrociata-bottone_67090462?c=30\" aria-label=\"Giacca incrociata bottone - 67090462 - (30)\"><img alt=\"Giacca incrociata bottone - Dettaglio dell'articolo 5\" loading=\"lazy\" decoding=\"async\" data-nimg=\"fill\" sizes=\"(max-width: 1024px) calc(50vw - 0.5px), 511.5px\" srcset=\"https://shop.mango.com/assets/rcs/pics/static/T6/fotos/S/67090462_30_D5.jpg?ts=1702458196292&amp;im=SmartCrop,width=16,height=448&amp;imdensity=1 16w, https://shop.mango.com/assets/rcs/pics/static/T6/fotos/S/67090462_30_D5.jpg?ts=1702458196292&amp;im=SmartCrop,width=20,height=448&amp;imdensity=1 20w, https://shop.mango.com/assets/rcs/pics/static/T6/fotos/S/67090462_30_D5.jpg?ts=1702458196292&amp;im=SmartCrop,width=32,height=448&amp;imdensity=1 32w, https://shop.mango.com/assets/rcs/pics/static/T6/fotos/S/67090462_30_D5.jpg?ts=1702458196292&amp;im=SmartCrop,width=48,height=448&amp;imdensity=1 48w, https://shop.mango.com/assets/rcs/pics/static/T6/fotos/S/67090462_30_D5.jpg?ts=1702458196292&amp;im=SmartCrop,width=64,height=448&amp;imdensity=1 64w, https://shop.mango.com/assets/rcs/pics/static/T6/fotos/S/67090462_30_D5.jpg?ts=1702458196292&amp;im=SmartCrop,width=96,height=448&amp;imdensity=1 96w, https://shop.mango.com/assets/rcs/pics/static/T6/fotos/S/67090462_30_D5.jpg?ts=1702458196292&amp;im=SmartCrop,width=128,height=448&amp;imdensity=1 128w, https://shop.mango.com/assets/rcs/pics/static/T6/fotos/S/67090462_30_D5.jpg?ts=1702458196292&amp;im=SmartCrop,width=256,height=448&amp;imdensity=1 256w, https://shop.mango.com/assets/rcs/pics/static/T6/fotos/S/67090462_30_D5.jpg?ts=1702458196292&amp;im=SmartCrop,width=320,height=448&amp;imdensity=1 320w, https://shop.mango.com/assets/rcs/pics/static/T6/fotos/S/67090462_30_D5.jpg?ts=1702458196292&amp;im=SmartCrop,width=368,height=516&amp;imdensity=1 368w, https://shop.mango.com/assets/rcs/pics/static/T6/fotos/S/67090462_30_D5.jpg?ts=1702458196292&amp;im=SmartCrop,width=480,height=672&amp;imdensity=1 480w, https://shop.mango.com/assets/rcs/pics/static/T6/fotos/S/67090462_30_D5.jpg?ts=1702458196292&amp;im=SmartCrop,width=600,height=840&amp;imdensity=1 600w, https://shop.mango.com/assets/rcs/pics/static/T6/fotos/S/67090462_30_D5.jpg?ts=1702458196292&amp;im=SmartCrop,width=640,height=896&amp;imdensity=1 640w, https://shop.mango.com/assets/rcs/pics/static/T6/fotos/S/67090462_30_D5.jpg?ts=1702458196292&amp;im=SmartCrop,width=721,height=1010&amp;imdensity=1 721w, https://shop.mango.com/assets/rcs/pics/static/T6/fotos/S/67090462_30_D5.jpg?ts=1702458196292&amp;im=SmartCrop,width=768,height=1076&amp;imdensity=1 768w, https://shop.mango.com/assets/rcs/pics/static/T6/fotos/S/67090462_30_D5.jpg?ts=1702458196292&amp;im=SmartCrop,width=800,height=1120&amp;imdensity=1 800w, https://shop.mango.com/assets/rcs/pics/static/T6/fotos/S/67090462_30_D5.jpg?ts=1702458196292&amp;im=SmartCrop,width=960,height=1344&amp;imdensity=1 960w, https://shop.mango.com/assets/rcs/pics/static/T6/fotos/S/67090462_30_D5.jpg?ts=1702458196292&amp;im=SmartCrop,width=1024,height=1434&amp;imdensity=1 1024w, https://shop.mango.com/assets/rcs/pics/static/T6/fotos/S/67090462_30_D5.jpg?ts=1702458196292&amp;im=SmartCrop,width=1256,height=1759&amp;imdensity=1 1256w, https://shop.mango.com/assets/rcs/pics/static/T6/fotos/S/67090462_30_D5.jpg?ts=1702458196292&amp;im=SmartCrop,width=1350,height=1890&amp;imdensity=1 1350w, https://shop.mango.com/assets/rcs/pics/static/T6/fotos/S/67090462_30_D5.jpg?ts=1702458196292&amp;im=SmartCrop,width=1656,height=2319&amp;imdensity=1 1656w, https://shop.mango.com/assets/rcs/pics/static/T6/fotos/S/67090462_30_D5.jpg?ts=1702458196292&amp;im=SmartCrop,width=1920,height=2688&amp;imdensity=1 1920w, https://shop.mango.com/assets/rcs/pics/static/T6/fotos/S/67090462_30_D5.jpg?ts=1702458196292&amp;im=SmartCrop,width=2048,height=2868&amp;imdensity=1 2048w\" src=\"https://shop.mango.com/assets/rcs/pics/static/T6/fotos/S/67090462_30_D5.jpg?ts=1702458196292&amp;im=SmartCrop,width=2048,height=2868&amp;imdensity=1\" style=\"position: absolute; height: 100%; width: 100%; inset: 0px; color: transparent;\"><span class=\"classes_srOnly__1Q8Zg\">Giacca incrociata bottone Marrone (67090462-CHARLOTT-LM)</span></a></div></div>"
   ]
  }
 ],
 "metadata": {
  "kernelspec": {
   "display_name": "Python 3",
   "language": "python",
   "name": "python3"
  },
  "language_info": {
   "codemirror_mode": {
    "name": "ipython",
    "version": 3
   },
   "file_extension": ".py",
   "mimetype": "text/x-python",
   "name": "python",
   "nbconvert_exporter": "python",
   "pygments_lexer": "ipython3",
   "version": "3.11.8"
  }
 },
 "nbformat": 4,
 "nbformat_minor": 2
}
