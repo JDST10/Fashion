{
 "cells": [
  {
   "cell_type": "code",
   "execution_count": 1,
   "metadata": {},
   "outputs": [],
   "source": [
    "#pip install psycopg2-binary\n",
    "import psycopg2\n",
    "from DB_and_Azure import sql_db_functions as SQLf"
   ]
  },
  {
   "cell_type": "markdown",
   "metadata": {},
   "source": [
    "### Connect"
   ]
  },
  {
   "cell_type": "code",
   "execution_count": 2,
   "metadata": {},
   "outputs": [],
   "source": [
    "conn, cursor = SQLf.connect_sql()"
   ]
  },
  {
   "cell_type": "code",
   "execution_count": null,
   "metadata": {},
   "outputs": [],
   "source": []
  },
  {
   "cell_type": "code",
   "execution_count": 3,
   "metadata": {},
   "outputs": [
    {
     "name": "stdout",
     "output_type": "stream",
     "text": [
      "Data inserted successfully\n",
      "Data inserted successfully\n"
     ]
    }
   ],
   "source": [
    "conn, cursor = SQLf.connect_sql()\n",
    "SQLf.insert_description_image_to_db(\n",
    "                conn = conn,\n",
    "                cursor= cursor, \n",
    "                brand='xxxxxxxx', \n",
    "                descript = 'Test xxxxx', \n",
    "                price = 11234,\n",
    "                image_names = ['a','b','c']\n",
    "                )\n",
    "\n",
    "cursor.close()\n",
    "conn.close()\n",
    "\n",
    "conn, cursor = SQLf.connect_sql()\n",
    "SQLf.insert_description_image_to_db(\n",
    "                conn = conn,\n",
    "                cursor= cursor, \n",
    "                brand='xxxxxxxx', \n",
    "                descript = 'Test xxxxx', \n",
    "                price = 11234,\n",
    "                image_names = ['a','b','c']\n",
    "                )\n",
    "\n",
    "cursor.close()\n",
    "conn.close()"
   ]
  },
  {
   "cell_type": "code",
   "execution_count": null,
   "metadata": {},
   "outputs": [],
   "source": []
  },
  {
   "cell_type": "markdown",
   "metadata": {},
   "source": [
    "### Re start DB"
   ]
  },
  {
   "cell_type": "code",
   "execution_count": 26,
   "metadata": {},
   "outputs": [],
   "source": [
    "\n",
    "# Define the query to fetch the first 5 rows\n",
    "query = \"TRUNCATE product_characteristics;\"\n",
    "cursor.execute(query)"
   ]
  },
  {
   "cell_type": "code",
   "execution_count": 3,
   "metadata": {},
   "outputs": [
    {
     "name": "stdout",
     "output_type": "stream",
     "text": [
      "[]\n"
     ]
    }
   ],
   "source": [
    "query = f\"SELECT * FROM product_characteristics LIMIT 5;\"\n",
    "cursor.execute(query)\n",
    "\n",
    "# Fetch the rows\n",
    "rows = cursor.fetchall()\n",
    "print(rows)"
   ]
  },
  {
   "cell_type": "code",
   "execution_count": 5,
   "metadata": {},
   "outputs": [],
   "source": [
    "# Define the query to fetch the first 5 rows\n",
    "query = \"TRUNCATE Products CASCADE;\"\n",
    "cursor.execute(query)"
   ]
  },
  {
   "cell_type": "code",
   "execution_count": 4,
   "metadata": {},
   "outputs": [
    {
     "data": {
      "text/plain": [
       "[(1,\n",
       "  'Gucci',\n",
       "  \"Dalle sneaker Gucci Tennis degli anni '70 fino ai giorni nostri, la Maison continua a esprimere il legame con lo sport attraverso articoli esclusivi che puntano sulla tradizione e\\xa0sull'innovazione. Questo abito dalla vestibilità regolare, realizzato in viscosa stretch fine, è impreziosito da finiture con fascia Web e da un delicato ricamo Gucci.  Viscosa stretch fine avorio Finiture con fascia Web verde e rossa Ricamo Gucci Scollo a U Due bretelle Orlo a pieghe Taglio regular Lunghezza: 80 cm; misura S Fabbricato in Italia Il prodotto raffigurato nell'immagine è taglia S\",\n",
       "  1.8),\n",
       " (2,\n",
       "  'Gucci',\n",
       "  \"Dalle sneaker Gucci Tennis degli anni '70 fino ai giorni nostri, la Maison continua a esprimere il legame con lo sport attraverso articoli esclusivi che puntano sulla tradizione e\\xa0sull'innovazione. Questo abito dalla vestibilità regolare, realizzato in viscosa stretch fine, è impreziosito da finiture con fascia Web e da un delicato ricamo Gucci.  Viscosa stretch fine avorio Finiture con fascia Web verde e rossa Ricamo Gucci Scollo a U Due bretelle Orlo a pieghe Taglio regular Lunghezza: 80 cm; misura S Fabbricato in Italia Il prodotto raffigurato nell'immagine è taglia S\",\n",
       "  1.8)]"
      ]
     },
     "execution_count": 4,
     "metadata": {},
     "output_type": "execute_result"
    }
   ],
   "source": [
    "query = f\"SELECT * FROM Products LIMIT 5;\"\n",
    "cursor.execute(query)\n",
    "\n",
    "# Fetch the rows\n",
    "rows = cursor.fetchall()\n",
    "rows"
   ]
  },
  {
   "cell_type": "code",
   "execution_count": 7,
   "metadata": {},
   "outputs": [],
   "source": [
    "# Define the query to fetch the first 5 rows\n",
    "query = \"TRUNCATE product_img CASCADE;\"\n",
    "cursor.execute(query)"
   ]
  },
  {
   "cell_type": "code",
   "execution_count": 6,
   "metadata": {},
   "outputs": [
    {
     "data": {
      "text/plain": [
       "[]"
      ]
     },
     "execution_count": 6,
     "metadata": {},
     "output_type": "execute_result"
    }
   ],
   "source": [
    "query = f\"SELECT * FROM product_img LIMIT 5;\"\n",
    "cursor.execute(query)\n",
    "\n",
    "# Fetch the rows\n",
    "rows = cursor.fetchall()\n",
    "rows"
   ]
  },
  {
   "cell_type": "code",
   "execution_count": 8,
   "metadata": {},
   "outputs": [],
   "source": [
    "cursor.close()\n",
    "conn.close()"
   ]
  },
  {
   "cell_type": "markdown",
   "metadata": {},
   "source": [
    "### Pass single row to Products and multiple to product_imgs"
   ]
  },
  {
   "cell_type": "code",
   "execution_count": 14,
   "metadata": {},
   "outputs": [],
   "source": [
    "from psycopg2 import sql"
   ]
  },
  {
   "cell_type": "code",
   "execution_count": 23,
   "metadata": {},
   "outputs": [],
   "source": [
    "# Database connection parameters\n",
    "conn = psycopg2.connect(**conn_params)\n",
    "cursor = conn.cursor()"
   ]
  },
  {
   "cell_type": "code",
   "execution_count": 21,
   "metadata": {},
   "outputs": [],
   "source": [
    "brand = 'Gucci'\n",
    "descript ='Bla Bla'\n",
    "price = 10.1\n",
    "image_names = ['1','2','3']"
   ]
  },
  {
   "cell_type": "code",
   "execution_count": 17,
   "metadata": {},
   "outputs": [
    {
     "name": "stdout",
     "output_type": "stream",
     "text": [
      "Data inserted successfully\n"
     ]
    }
   ],
   "source": [
    "def insert_description_image_to_db(conn, brand, descript, price,image_names):\n",
    "    try:\n",
    "        # Create a new database session and return a new instance of the connection class\n",
    "        cursor = conn.cursor()\n",
    "\n",
    "        # Insert a single row into the Products table\n",
    "        insert_product_query = \"\"\"\n",
    "        INSERT INTO Products (Brand, Descript, Price)\n",
    "        VALUES (%s, %s, %s) RETURNING Brand_Prod_id;\n",
    "        \"\"\"\n",
    "        cursor.execute(insert_product_query, (brand, descript, price))\n",
    "\n",
    "        # Get the generated Brand_Prod_id\n",
    "        brand_prod_id = cursor.fetchone()[0]\n",
    "\n",
    "        # Insert rows into the product_img table\n",
    "        insert_image_query = \"\"\"\n",
    "        INSERT INTO product_img (Brand_id, image_name)\n",
    "        VALUES (%s, %s);\n",
    "        \"\"\"\n",
    "        for image_name in image_names:\n",
    "            cursor.execute(insert_image_query, (brand_prod_id, image_name))\n",
    "\n",
    "        # Commit the transaction\n",
    "        conn.commit()\n",
    "\n",
    "        print(\"Data inserted successfully\")\n",
    "\n",
    "    except Exception as e:\n",
    "        # Rollback the transaction in case of error\n",
    "        conn.rollback()\n",
    "        print(\"Error occurred:\", e)\n"
   ]
  },
  {
   "cell_type": "code",
   "execution_count": 26,
   "metadata": {},
   "outputs": [],
   "source": [
    "def close_connection_db(cursor,conn):\n",
    "    #Close the cursor and connection to clean up\n",
    "    cursor.close()\n",
    "    conn.close()"
   ]
  }
 ],
 "metadata": {
  "kernelspec": {
   "display_name": "Python 3",
   "language": "python",
   "name": "python3"
  },
  "language_info": {
   "codemirror_mode": {
    "name": "ipython",
    "version": 3
   },
   "file_extension": ".py",
   "mimetype": "text/x-python",
   "name": "python",
   "nbconvert_exporter": "python",
   "pygments_lexer": "ipython3",
   "version": "3.11.8"
  }
 },
 "nbformat": 4,
 "nbformat_minor": 2
}
