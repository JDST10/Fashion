{
 "cells": [
  {
   "cell_type": "markdown",
   "metadata": {},
   "source": [
    "## define functions\n",
    "\n",
    "- contains requered number -> ensure only specific images are pull\n",
    "- get image -> pull the require and compress image\n",
    "- scrapp_image_description -> iterate for each of the products\n",
    "- grucci -> iterate scrap_image"
   ]
  },
  {
   "cell_type": "markdown",
   "metadata": {},
   "source": [
    "### scrapper"
   ]
  },
  {
   "cell_type": "code",
   "execution_count": 1,
   "metadata": {},
   "outputs": [],
   "source": [
    "import requests\n",
    "from PIL import Image\n",
    "from fake_useragent import UserAgent\n",
    "from bs4 import BeautifulSoup\n",
    "from io import BytesIO\n",
    "#import pandas as pd\n",
    "from openpyxl import load_workbook\n",
    "import re\n",
    "#import psycopg2\n",
    "\n",
    "import time"
   ]
  },
  {
   "cell_type": "code",
   "execution_count": 2,
   "metadata": {},
   "outputs": [],
   "source": [
    "from DB_and_Azure import sql_db_functions as SQLf, azure_functions as Af"
   ]
  },
  {
   "cell_type": "code",
   "execution_count": 3,
   "metadata": {},
   "outputs": [],
   "source": [
    "def create_soup(url):\n",
    "\n",
    "    ua = UserAgent()\n",
    "    header = {'User-Agent':str(ua.chrome)}\n",
    "\n",
    "    # Send an HTTP request to the URL\n",
    "    response = requests.get(url, headers = header)\n",
    "    soup = BeautifulSoup(response.content, 'html.parser')\n",
    "\n",
    "    return soup\n"
   ]
  },
  {
   "cell_type": "code",
   "execution_count": 4,
   "metadata": {},
   "outputs": [],
   "source": [
    "def contains_required_number(line):\n",
    "    \n",
    "    keeping = ['001_100','004_100','005_100']\n",
    "    # 001: Prod\n",
    "    # 004: back\n",
    "    # 005: 3/4 image\n",
    "    return any(num in line for num in keeping)"
   ]
  },
  {
   "cell_type": "code",
   "execution_count": 5,
   "metadata": {},
   "outputs": [],
   "source": [
    "def get_image_links(prod_soup):\n",
    "    \n",
    "    item_list_1 = prod_soup.find_all(attrs={\"data-image-size\": \"small-retina\"})\n",
    "\n",
    "    ##### get image\n",
    "    images = []\n",
    "    i = 0\n",
    "    for item in item_list_1: \n",
    "            \n",
    "        i+=1 \n",
    "        if (i == len(item_list_1)) | (i == 1):\n",
    "            continue\n",
    "        elif not(contains_required_number(item['srcset'])) :\n",
    "            continue\n",
    "        else:\n",
    "            images = images + [item['srcset']]\n",
    "        \n",
    "        i += 1\n",
    "\n",
    "    return images"
   ]
  },
  {
   "cell_type": "code",
   "execution_count": 6,
   "metadata": {},
   "outputs": [],
   "source": [
    "def get_description(prod_soup):\n",
    "    \n",
    "    description_list = prod_soup.find_all(attrs={\"class\": \"product-detail\"} )\n",
    "\n",
    "    #Get description\n",
    "    description = ''\n",
    "    \n",
    "    for a in description_list[0].ul.find_all('li'):\n",
    "        description = description + ' ' + a.text\n",
    "        \n",
    "\n",
    "    return description_list[0].p.text.replace('\\n', '').replace('\\t', '') + ' ' + description\n",
    "\n",
    "    "
   ]
  },
  {
   "cell_type": "code",
   "execution_count": 7,
   "metadata": {},
   "outputs": [],
   "source": [
    "def links_to_images(links,prod_name,container_client):\n",
    "\n",
    "    ua = UserAgent()\n",
    "    header = {'User-Agent':str(ua.chrome)}\n",
    "\n",
    "    img_names = []\n",
    "\n",
    "    i = 0\n",
    "    for img_link in links:\n",
    "\n",
    "        if i == 3:\n",
    "            break\n",
    "        \n",
    "        else:\n",
    "\n",
    "            try:\n",
    "                response = requests.get('https:' + img_link, headers = header)\n",
    "                img = Image.open(BytesIO(response.content))\n",
    "\n",
    "                \n",
    "                # Resize the image to 600\n",
    "                img_resized = img.resize((500, 500))\n",
    "\n",
    "                img_name = f\"{prod_name}_{i}.jpg\"\n",
    "\n",
    "                # Load to Blob\n",
    "                Af.images_to_blob(image = img_resized,image_name = img_name,container_client = container_client)\n",
    "                \n",
    "                \n",
    "                i+=1\n",
    "\n",
    "                img_names = img_names + [img_name]\n",
    "\n",
    "                print(img_name)\n",
    "\n",
    "            except Exception as e:\n",
    "                # Rollback the transaction in case of error\n",
    "                print(\"Error occurred:\", e)\n",
    "\n",
    "    return img_names\n",
    "        "
   ]
  },
  {
   "cell_type": "code",
   "execution_count": 8,
   "metadata": {},
   "outputs": [],
   "source": [
    "def get_price(prod_soup):\n",
    "\n",
    "    text = prod_soup.select('span.price')[1].text\n",
    "\n",
    "\n",
    "    # Remove any non-numeric characters except for ',' and '.'\n",
    "    cleaned_text = re.sub(r'[^\\d,\\.]', '', text)\n",
    "    \n",
    "    # Replace comma with a period if there's no period already (to handle decimal part)\n",
    "    if ',' in cleaned_text and '.' not in cleaned_text:\n",
    "        cleaned_text = cleaned_text.replace(',', '.')\n",
    "    elif ',' in cleaned_text and '.' in cleaned_text:\n",
    "        # If both ',' and '.' are present, keep only the period as the decimal separator\n",
    "        cleaned_text = cleaned_text.replace(',', '')\n",
    "    \n",
    "    # Convert the string to a float\n",
    "    number = float(cleaned_text)\n",
    "    \n",
    "    return number"
   ]
  },
  {
   "cell_type": "code",
   "execution_count": 9,
   "metadata": {},
   "outputs": [],
   "source": [
    "def gucci(category_url,n_products):\n",
    "\n",
    "    soup = create_soup(category_url)\n",
    "    item_list = soup.select('article a')\n",
    "\n",
    "    container_client = Af.connect_blob()    \n",
    "\n",
    "    br = 0\n",
    "    for item in item_list: \n",
    "            \n",
    "        if br == n_products:\n",
    "            break\n",
    "        \n",
    "        try:\n",
    "\n",
    "            #Scrapp\n",
    "            prod_soup = create_soup('https://www.gucci.com' + item['href'])\n",
    "\n",
    "            prod_images_links = get_image_links(prod_soup=prod_soup)\n",
    "            prod_description = get_description(prod_soup=prod_soup)\n",
    "            prod_price = get_price(prod_soup=prod_soup)\n",
    "\n",
    "            prod_name = 'GUCCI_'+str(br)  \n",
    "\n",
    "            print(f'start prod {br}')\n",
    "            \n",
    "            time.sleep(3)\n",
    "            # Links to image, load to blob and return prod_images_names\n",
    "            prod_images_names = links_to_images(links = prod_images_links,prod_name= prod_name,container_client=container_client)\n",
    "            \n",
    "            #print(prod_images_names)\n",
    "\n",
    "            time.sleep(1)\n",
    "            conn, cursor = SQLf.connect_sql()\n",
    "\n",
    "            \n",
    "            SQLf.insert_description_image_to_db(\n",
    "                conn = conn,\n",
    "                cursor= cursor, \n",
    "                brand='Gucci', \n",
    "                descript = prod_description, \n",
    "                price = prod_price,\n",
    "                image_names = prod_images_names\n",
    "                )\n",
    "            \n",
    "            conn.close()\n",
    "            cursor.close()     \n",
    "            time.sleep(1)\n",
    "\n",
    "        except Exception as e:\n",
    "            print(f\"Error processing product {br}: {e}\")     \n",
    "\n",
    "        br += 1\n",
    "\n",
    "\n"
   ]
  },
  {
   "cell_type": "markdown",
   "metadata": {},
   "source": [
    "## Execute Scrapper"
   ]
  },
  {
   "cell_type": "code",
   "execution_count": 10,
   "metadata": {},
   "outputs": [
    {
     "name": "stdout",
     "output_type": "stream",
     "text": [
      "start prod 0\n",
      "AZURE!! FUNCTION !!\n",
      "GUCCI_0_0.jpg\n",
      "AZURE!! FUNCTION !!\n",
      "GUCCI_0_1.jpg\n",
      "AZURE!! FUNCTION !!\n",
      "GUCCI_0_2.jpg\n",
      "['GUCCI_0_0.jpg', 'GUCCI_0_1.jpg', 'GUCCI_0_2.jpg']\n",
      "['//media.gucci.com/style/DarkGray_Center_0_0_980x980/1710264633/786401_XKD2R_9288_001_100_0000_Light-Abito-a-pieghe-con-finiture-Web.jpg', '//media.gucci.com/style/DarkGray_Center_0_0_980x980/1710264635/786401_XKD2R_9288_004_100_0000_Light-Abito-a-pieghe-con-finiture-Web.jpg', '//media.gucci.com/style/DarkGray_Center_0_0_980x980/1710264635/786401_XKD2R_9288_005_100_0000_Light-Abito-a-pieghe-con-finiture-Web.jpg', '//media.gucci.com/style/White_Center_0_0_730x490/1710264633/786401_XKD2R_9288_001_100_0000_Light-Abito-a-pieghe-con-finiture-Web.jpg']\n",
      "inserting\n",
      "Brand_Prod_id generated: 4\n",
      "Data inserted successfully\n",
      "finished prod 0\n",
      "start prod 1\n",
      "AZURE!! FUNCTION !!\n",
      "GUCCI_1_0.jpg\n",
      "AZURE!! FUNCTION !!\n",
      "GUCCI_1_1.jpg\n",
      "AZURE!! FUNCTION !!\n",
      "GUCCI_1_2.jpg\n",
      "['GUCCI_1_0.jpg', 'GUCCI_1_1.jpg', 'GUCCI_1_2.jpg']\n",
      "['//media.gucci.com/style/DarkGray_Center_0_0_980x980/1712821600/788864_XKD26_9791_001_100_0000_Light-Abito-polo-con-finiture-Web.jpg', '//media.gucci.com/style/DarkGray_Center_0_0_980x980/1712821602/788864_XKD26_9791_004_100_0000_Light-Abito-polo-con-finiture-Web.jpg', '//media.gucci.com/style/DarkGray_Center_0_0_980x980/1712821602/788864_XKD26_9791_005_100_0000_Light-Abito-polo-con-finiture-Web.jpg', '//media.gucci.com/style/White_Center_0_0_730x490/1712821600/788864_XKD26_9791_001_100_0000_Light-Abito-polo-con-finiture-Web.jpg']\n",
      "inserting\n",
      "Brand_Prod_id generated: 5\n",
      "Data inserted successfully\n",
      "finished prod 1\n",
      "start prod 2\n",
      "AZURE!! FUNCTION !!\n",
      "GUCCI_2_0.jpg\n",
      "AZURE!! FUNCTION !!\n",
      "GUCCI_2_1.jpg\n",
      "AZURE!! FUNCTION !!\n",
      "GUCCI_2_2.jpg\n",
      "['GUCCI_2_0.jpg', 'GUCCI_2_1.jpg', 'GUCCI_2_2.jpg']\n",
      "['//media.gucci.com/style/DarkGray_Center_0_0_980x980/1713458735/801106_Z4039_9692_001_100_0000_Light-Giacca-GG-con-nastro-Web.jpg', '//media.gucci.com/style/DarkGray_Center_0_0_980x980/1713458737/801106_Z4039_9692_004_100_0000_Light-Giacca-GG-con-nastro-Web.jpg', '//media.gucci.com/style/DarkGray_Center_0_0_980x980/1713458738/801106_Z4039_9692_005_100_0000_Light-Giacca-GG-con-nastro-Web.jpg', '//media.gucci.com/style/White_Center_0_0_730x490/1713458735/801106_Z4039_9692_001_100_0000_Light-Giacca-GG-con-nastro-Web.jpg']\n",
      "inserting\n",
      "Brand_Prod_id generated: 6\n",
      "Data inserted successfully\n",
      "finished prod 2\n"
     ]
    }
   ],
   "source": [
    "# Define the URL you want to scrape\n",
    "url = 'https://www.gucci.com/it/it/ca/women/ready-to-wear-for-women-c-women-readytowear'\n",
    "\n",
    "gucci(url,3)"
   ]
  },
  {
   "cell_type": "code",
   "execution_count": null,
   "metadata": {},
   "outputs": [],
   "source": []
  }
 ],
 "metadata": {
  "kernelspec": {
   "display_name": "Python 3",
   "language": "python",
   "name": "python3"
  },
  "language_info": {
   "codemirror_mode": {
    "name": "ipython",
    "version": 3
   },
   "file_extension": ".py",
   "mimetype": "text/x-python",
   "name": "python",
   "nbconvert_exporter": "python",
   "pygments_lexer": "ipython3",
   "version": "3.11.8"
  }
 },
 "nbformat": 4,
 "nbformat_minor": 2
}
