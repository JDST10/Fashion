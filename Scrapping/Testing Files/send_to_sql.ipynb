{
 "cells": [
  {
   "cell_type": "code",
   "execution_count": 1,
   "metadata": {},
   "outputs": [],
   "source": [
    "#pip install psycopg2-binary\n",
    "import psycopg2\n",
    "from sql_key import dbname, user, password, host, port"
   ]
  },
  {
   "cell_type": "markdown",
   "metadata": {},
   "source": [
    "### Connect"
   ]
  },
  {
   "cell_type": "code",
   "execution_count": 19,
   "metadata": {},
   "outputs": [],
   "source": [
    "# Database connection parameters\n",
    "conn_params = {\n",
    "    'dbname': dbname[0],\n",
    "    'user': user[0],\n",
    "    'password': password[0],\n",
    "    'host': host[0],\n",
    "    'port': port\n",
    "}\n"
   ]
  },
  {
   "cell_type": "markdown",
   "metadata": {},
   "source": [
    "### Re start DB"
   ]
  },
  {
   "cell_type": "code",
   "execution_count": 4,
   "metadata": {},
   "outputs": [],
   "source": [
    "# Connect to the PostgreSQL server\n",
    "conn = psycopg2.connect(**conn_params)\n",
    "cursor = conn.cursor()\n",
    "\n",
    "# Define the query to fetch the first 5 rows\n",
    "query = \"TRUNCATE product_characteristics;\"\n",
    "cursor.execute(query)"
   ]
  },
  {
   "cell_type": "code",
   "execution_count": 10,
   "metadata": {},
   "outputs": [
    {
     "name": "stdout",
     "output_type": "stream",
     "text": [
      "[]\n"
     ]
    }
   ],
   "source": [
    "query = f\"SELECT * FROM product_characteristics LIMIT 5;\"\n",
    "cursor.execute(query)\n",
    "\n",
    "# Fetch the rows\n",
    "rows = cursor.fetchall()\n",
    "print(rows)"
   ]
  },
  {
   "cell_type": "code",
   "execution_count": 8,
   "metadata": {},
   "outputs": [],
   "source": [
    "# Connect to the PostgreSQL server\n",
    "conn = psycopg2.connect(**conn_params)\n",
    "cursor = conn.cursor()\n",
    "\n",
    "# Define the query to fetch the first 5 rows\n",
    "query = \"TRUNCATE Products CASCADE;\"\n",
    "cursor.execute(query)"
   ]
  },
  {
   "cell_type": "code",
   "execution_count": 25,
   "metadata": {},
   "outputs": [
    {
     "name": "stdout",
     "output_type": "stream",
     "text": [
      "[(1, 'Gucci', 'Bla Bla', 10.1)]\n"
     ]
    }
   ],
   "source": [
    "query = f\"SELECT * FROM Products LIMIT 5;\"\n",
    "cursor.execute(query)\n",
    "\n",
    "# Fetch the rows\n",
    "rows = cursor.fetchall()\n",
    "print(rows)"
   ]
  },
  {
   "cell_type": "code",
   "execution_count": 12,
   "metadata": {},
   "outputs": [],
   "source": [
    "# Connect to the PostgreSQL server\n",
    "conn = psycopg2.connect(**conn_params)\n",
    "cursor = conn.cursor()\n",
    "\n",
    "# Define the query to fetch the first 5 rows\n",
    "query = \"TRUNCATE product_img CASCADE;\"\n",
    "cursor.execute(query)"
   ]
  },
  {
   "cell_type": "code",
   "execution_count": 24,
   "metadata": {},
   "outputs": [
    {
     "name": "stdout",
     "output_type": "stream",
     "text": [
      "[(1, 1, '1'), (2, 1, '2'), (3, 1, '3')]\n"
     ]
    }
   ],
   "source": [
    "query = f\"SELECT * FROM product_img LIMIT 5;\"\n",
    "cursor.execute(query)\n",
    "\n",
    "# Fetch the rows\n",
    "rows = cursor.fetchall()\n",
    "print(rows)"
   ]
  },
  {
   "cell_type": "markdown",
   "metadata": {},
   "source": [
    "### Pass single row to Products and multiple to product_imgs"
   ]
  },
  {
   "cell_type": "code",
   "execution_count": 14,
   "metadata": {},
   "outputs": [],
   "source": [
    "from psycopg2 import sql"
   ]
  },
  {
   "cell_type": "code",
   "execution_count": 23,
   "metadata": {},
   "outputs": [],
   "source": [
    "# Database connection parameters\n",
    "conn = psycopg2.connect(**conn_params)\n",
    "cursor = conn.cursor()"
   ]
  },
  {
   "cell_type": "code",
   "execution_count": 21,
   "metadata": {},
   "outputs": [],
   "source": [
    "brand = 'Gucci'\n",
    "descript ='Bla Bla'\n",
    "price = 10.1\n",
    "image_names = ['1','2','3']"
   ]
  },
  {
   "cell_type": "code",
   "execution_count": 17,
   "metadata": {},
   "outputs": [
    {
     "name": "stdout",
     "output_type": "stream",
     "text": [
      "Data inserted successfully\n"
     ]
    }
   ],
   "source": [
    "\n",
    "try:\n",
    "    # Create a new database session and return a new instance of the connection class\n",
    "    cursor = conn.cursor()\n",
    "\n",
    "    # Insert a single row into the Products table\n",
    "    insert_product_query = \"\"\"\n",
    "    INSERT INTO Products (Brand, Descript, Price)\n",
    "    VALUES (%s, %s, %s) RETURNING Brand_Prod_id;\n",
    "    \"\"\"\n",
    "    cursor.execute(insert_product_query, (brand, descript, price))\n",
    "\n",
    "    # Get the generated Brand_Prod_id\n",
    "    brand_prod_id = cursor.fetchone()[0]\n",
    "\n",
    "    # Insert rows into the product_img table\n",
    "    insert_image_query = \"\"\"\n",
    "    INSERT INTO product_img (Brand_id, image_name)\n",
    "    VALUES (%s, %s);\n",
    "    \"\"\"\n",
    "    for image_name in image_names:\n",
    "        cursor.execute(insert_image_query, (brand_prod_id, image_name))\n",
    "\n",
    "    # Commit the transaction\n",
    "    conn.commit()\n",
    "\n",
    "    print(\"Data inserted successfully\")\n",
    "\n",
    "except Exception as e:\n",
    "    # Rollback the transaction in case of error\n",
    "    conn.rollback()\n",
    "    print(\"Error occurred:\", e)\n"
   ]
  },
  {
   "cell_type": "code",
   "execution_count": 26,
   "metadata": {},
   "outputs": [],
   "source": [
    "#Close the cursor and connection to clean up\n",
    "cursor.close()\n",
    "conn.close()"
   ]
  }
 ],
 "metadata": {
  "kernelspec": {
   "display_name": "Python 3",
   "language": "python",
   "name": "python3"
  },
  "language_info": {
   "codemirror_mode": {
    "name": "ipython",
    "version": 3
   },
   "file_extension": ".py",
   "mimetype": "text/x-python",
   "name": "python",
   "nbconvert_exporter": "python",
   "pygments_lexer": "ipython3",
   "version": "3.11.8"
  }
 },
 "nbformat": 4,
 "nbformat_minor": 2
}
