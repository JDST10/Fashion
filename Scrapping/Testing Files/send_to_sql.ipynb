{
 "cells": [
  {
   "cell_type": "code",
   "execution_count": 16,
   "metadata": {},
   "outputs": [],
   "source": [
    "#pip install psycopg2-binary\n",
    "import psycopg2\n",
    "from sql_key import dbname, user, password, host, port"
   ]
  },
  {
   "cell_type": "code",
   "execution_count": 28,
   "metadata": {},
   "outputs": [],
   "source": [
    "# Database connection parameters\n",
    "conn_params = {\n",
    "    'dbname': dbname[0],\n",
    "    'user': user[0],\n",
    "    'password': password[0],\n",
    "    'host': host[0],\n",
    "    'port': port\n",
    "}\n"
   ]
  },
  {
   "cell_type": "code",
   "execution_count": 6,
   "metadata": {},
   "outputs": [
    {
     "name": "stdout",
     "output_type": "stream",
     "text": [
      "Data inserted successfully\n"
     ]
    }
   ],
   "source": [
    "try:\n",
    "    # Connect to the PostgreSQL server\n",
    "    conn = psycopg2.connect(**conn_params)\n",
    "    cursor = conn.cursor()\n",
    "\n",
    "    # Insert data into Products table\n",
    "    products_data = [\n",
    "        ('BrandA', 'Description for BrandA product'),\n",
    "        ('BrandB', 'Description for BrandB product')\n",
    "    ]\n",
    "\n",
    "    insert_products_query = \"\"\"\n",
    "    INSERT INTO Products (Brand, Descript) VALUES (%s, %s) RETURNING Brand_Prod_id;\n",
    "    \"\"\"\n",
    "    product_ids = []\n",
    "    for product in products_data:\n",
    "        cursor.execute(insert_products_query, product)\n",
    "        product_ids.append(cursor.fetchone()[0])\n",
    "\n",
    "    # Insert data into product_characteristics table\n",
    "    characteristics_data = [\n",
    "        (product_ids[0], 'BrandA', 'Characteristic1 for BrandA'),\n",
    "        (product_ids[0], 'BrandA', 'Characteristic2 for BrandA'),\n",
    "        (product_ids[1], 'BrandB', 'Characteristic1 for BrandB'),\n",
    "        (product_ids[1], 'BrandB', 'Characteristic2 for BrandB')\n",
    "    ]\n",
    "\n",
    "    insert_characteristics_query = \"\"\"\n",
    "    INSERT INTO product_characteristics (Brand_id, Brand, Descript) VALUES (%s, %s, %s);\n",
    "    \"\"\"\n",
    "    for characteristic in characteristics_data:\n",
    "        cursor.execute(insert_characteristics_query, characteristic)\n",
    "\n",
    "    # Commit the transaction\n",
    "    conn.commit()\n",
    "\n",
    "    print(\"Data inserted successfully\")\n",
    "\n",
    "except Exception as error:\n",
    "    print(f\"Error: {error}\")\n",
    "    conn.rollback()\n",
    "finally:\n",
    "    cursor.close()\n",
    "    conn.close()"
   ]
  },
  {
   "cell_type": "code",
   "execution_count": 31,
   "metadata": {},
   "outputs": [
    {
     "name": "stdout",
     "output_type": "stream",
     "text": [
      "First 5 rows from Products table:\n",
      "(1, 'BrandA', 'Description for BrandA product')\n",
      "(2, 'BrandB', 'Description for BrandB product')\n",
      "\n",
      "First 5 rows from product_characteristics table:\n",
      "(1, 1, 'BrandA', 'Characteristic1 for BrandA')\n",
      "(2, 1, 'BrandA', 'Characteristic2 for BrandA')\n",
      "(3, 2, 'BrandB', 'Characteristic1 for BrandB')\n",
      "(4, 2, 'BrandB', 'Characteristic2 for BrandB')\n"
     ]
    }
   ],
   "source": [
    "def fetch_first_five_rows(table_name):\n",
    "    try:\n",
    "        # Connect to the PostgreSQL server\n",
    "        conn = psycopg2.connect(**conn_params)\n",
    "        cursor = conn.cursor()\n",
    "\n",
    "        # Define the query to fetch the first 5 rows\n",
    "        query = f\"SELECT * FROM {table_name} LIMIT 5;\"\n",
    "        cursor.execute(query)\n",
    "\n",
    "        # Fetch the rows\n",
    "        rows = cursor.fetchall()\n",
    "\n",
    "        # Close the cursor and connection\n",
    "        cursor.close()\n",
    "        conn.close()\n",
    "\n",
    "        return rows\n",
    "\n",
    "    except Exception as error:\n",
    "        print(f\"Error: {error}\")\n",
    "        if cursor:\n",
    "            cursor.close()\n",
    "        if conn:\n",
    "            conn.close()\n",
    "        return []\n",
    "\n",
    "if __name__ == \"__main__\":\n",
    "    products_rows = fetch_first_five_rows(\"Products\")\n",
    "    characteristics_rows = fetch_first_five_rows(\"product_characteristics\")\n",
    "\n",
    "    print(\"First 5 rows from Products table:\")\n",
    "    for row in products_rows:\n",
    "        print(row)\n",
    "\n",
    "    print(\"\\nFirst 5 rows from product_characteristics table:\")\n",
    "    for row in characteristics_rows:\n",
    "        print(row)"
   ]
  },
  {
   "cell_type": "code",
   "execution_count": null,
   "metadata": {},
   "outputs": [],
   "source": []
  }
 ],
 "metadata": {
  "kernelspec": {
   "display_name": "Python 3",
   "language": "python",
   "name": "python3"
  },
  "language_info": {
   "codemirror_mode": {
    "name": "ipython",
    "version": 3
   },
   "file_extension": ".py",
   "mimetype": "text/x-python",
   "name": "python",
   "nbconvert_exporter": "python",
   "pygments_lexer": "ipython3",
   "version": "3.11.8"
  }
 },
 "nbformat": 4,
 "nbformat_minor": 2
}
