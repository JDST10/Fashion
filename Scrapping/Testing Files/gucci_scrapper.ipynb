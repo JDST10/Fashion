{
 "cells": [
  {
   "cell_type": "markdown",
   "metadata": {},
   "source": [
    "## define functions\n",
    "\n",
    "- contains requered number -> ensure only specific images are pull\n",
    "- get image -> pull the require and compress image\n",
    "- scrapp_image_description -> iterate for each of the products\n",
    "- grucci -> iterate scrap_image"
   ]
  },
  {
   "cell_type": "code",
   "execution_count": 6,
   "metadata": {},
   "outputs": [],
   "source": [
    "import requests\n",
    "import os\n",
    "from PIL import Image\n",
    "from fake_useragent import UserAgent\n",
    "from bs4 import BeautifulSoup\n",
    "from io import BytesIO\n",
    "import pandas as pd\n",
    "from openpyxl import load_workbook\n",
    "\n",
    "\n",
    "from azure.identity import ClientSecretCredential\n",
    "from azure.storage.blob import BlobServiceClient\n",
    "from azure_key import azure_client_id\n",
    "from azure_key import azure_tenant_id\n",
    "from azure_key import azure_client_secret\n",
    "from azure_key import azure_vault_url\n",
    "from azure_key import azure_storage_url\n"
   ]
  },
  {
   "cell_type": "markdown",
   "metadata": {},
   "source": [
    "\n",
    "\n",
    "need to run on terminal Azure cli\n",
    "az login"
   ]
  },
  {
   "cell_type": "markdown",
   "metadata": {},
   "source": [
    "Connect to blob"
   ]
  },
  {
   "cell_type": "code",
   "execution_count": 7,
   "metadata": {},
   "outputs": [],
   "source": [
    "from azure.storage.blob import BlobServiceClient, generate_blob_sas, BlobSasPermissions"
   ]
  },
  {
   "cell_type": "code",
   "execution_count": 9,
   "metadata": {},
   "outputs": [],
   "source": [
    "#enter credentials\n",
    "account_name = 'fashionblobstorage'\n",
    "account_key = 'ZjPPzXD1yE+D1E3YQTDvi6ZQmB8NJINlaQeiuokjW1XQbmB/8JxS/OfZp8Bd/8M4UikJvV1a+7jg+ASt5+J8Mg=='\n",
    "container_name ='imgs'"
   ]
  },
  {
   "cell_type": "code",
   "execution_count": 10,
   "metadata": {},
   "outputs": [],
   "source": [
    "#Create a client string\n",
    "connect_str = 'DefaultEndpointsProtocol=https;AccountName='+account_name+';AccountKey='+account_key+';EndpointSuffix=core.windows.net'"
   ]
  },
  {
   "cell_type": "code",
   "execution_count": 11,
   "metadata": {},
   "outputs": [],
   "source": [
    "#use the client to connect\n",
    "blob_Service_client = BlobServiceClient.from_connection_string(connect_str)"
   ]
  },
  {
   "cell_type": "code",
   "execution_count": null,
   "metadata": {},
   "outputs": [],
   "source": [
    "#Use the client to connect to the container \n",
    "container_client = blob_Service_client.get_container_client(container_name)"
   ]
  },
  {
   "cell_type": "code",
   "execution_count": 12,
   "metadata": {},
   "outputs": [
    {
     "ename": "NameError",
     "evalue": "name 'container_client' is not defined",
     "output_type": "error",
     "traceback": [
      "\u001b[1;31m---------------------------------------------------------------------------\u001b[0m",
      "\u001b[1;31mNameError\u001b[0m                                 Traceback (most recent call last)",
      "Cell \u001b[1;32mIn[12], line 3\u001b[0m\n\u001b[0;32m      1\u001b[0m \u001b[38;5;66;03m#get list of all files in blob\u001b[39;00m\n\u001b[0;32m      2\u001b[0m blob_list \u001b[38;5;241m=\u001b[39m []\n\u001b[1;32m----> 3\u001b[0m \u001b[38;5;28;01mfor\u001b[39;00m blob_i \u001b[38;5;129;01min\u001b[39;00m container_client\u001b[38;5;241m.\u001b[39mlist_blobs():\n\u001b[0;32m      4\u001b[0m     blob_list\u001b[38;5;241m.\u001b[39mappend(blob_i\u001b[38;5;241m.\u001b[39mname)\n",
      "\u001b[1;31mNameError\u001b[0m: name 'container_client' is not defined"
     ]
    }
   ],
   "source": [
    "#get list of all files in blob\n",
    "blob_list = []\n",
    "for blob_i in container_client.list_blobs():\n",
    "    blob_list.append(blob_i.name)"
   ]
  },
  {
   "cell_type": "code",
   "execution_count": null,
   "metadata": {},
   "outputs": [],
   "source": []
  },
  {
   "cell_type": "code",
   "execution_count": null,
   "metadata": {},
   "outputs": [],
   "source": []
  },
  {
   "cell_type": "code",
   "execution_count": null,
   "metadata": {},
   "outputs": [],
   "source": [
    "try:\n",
    "    print(\"Azure Blob Storage Python quickstart sample\")\n",
    "\n",
    "    # Quickstart code goes here\n",
    "\n",
    "except Exception as ex:\n",
    "    print('Exception:')\n",
    "    print(ex)"
   ]
  },
  {
   "cell_type": "code",
   "execution_count": null,
   "metadata": {},
   "outputs": [],
   "source": [
    "def contains_required_number(line):\n",
    "    \n",
    "    keeping = ['001_100','004_100','005_100']\n",
    "    # 001: Prod\n",
    "    # 004: back\n",
    "    # 005: 3/4 image\n",
    "    return any(num in line for num in keeping)\n"
   ]
  },
  {
   "cell_type": "code",
   "execution_count": null,
   "metadata": {},
   "outputs": [],
   "source": [
    "def get_image(prod_number,list,output_dir, header):\n",
    "    i = 0\n",
    "    img_names = []\n",
    "    for item in list:\n",
    "        i+=1 \n",
    "        if (i == len(list)) | (i == 1):\n",
    "            continue\n",
    "        elif not(contains_required_number(item['srcset'])) :\n",
    "            continue\n",
    "        else:\n",
    "            img_names.append(item['srcset'] ) \n",
    "            url = \"https:\" + item['srcset']\n",
    "\n",
    "            # Download the image\n",
    "            response = requests.get(url, headers = header)\n",
    "            img = Image.open(BytesIO(response.content))\n",
    "\n",
    "            # Resize the image to 600\n",
    "            img_resized = img.resize((500, 500))\n",
    "            # Save the image\n",
    "            img_name = os.path.join(output_dir, f\"Gucci{prod_number}_{i}.jpg\") \n",
    "            img_resized.save(img_name)\n",
    "            print(f\"Saved {img_name}\")\n",
    "\n",
    "    return img_names"
   ]
  },
  {
   "cell_type": "code",
   "execution_count": null,
   "metadata": {},
   "outputs": [],
   "source": [
    "def create_description(soup_2):\n",
    "    list_2 = soup_2.find_all(attrs={\"class\": \"product-detail\"} )\n",
    "    list_2[0].p.text.replace('\\n', '').replace('\\t', '')\n",
    "\n",
    "    description = ''\n",
    "\n",
    "    for a in list_2[0].ul.find_all('li'):\n",
    "        description = description + ' ' + a.text\n",
    "        \n",
    "    description\n",
    "\n",
    "    return list_2[0].p.text.replace('\\n', '').replace('\\t', '') + ' ' + description\n"
   ]
  },
  {
   "cell_type": "code",
   "execution_count": 3,
   "metadata": {},
   "outputs": [],
   "source": [
    "def writte_in_db(ID,Brand,img_names,Description):\n",
    "\n",
    "    #NO LETS DO IT IN DOCKER WITH SQL\n",
    "\n",
    "    #Create a row for each product\n",
    "    for image_row in img_names:\n",
    "        row = []\n",
    "        row.append([ID, Brand, image_row, Description])"
   ]
  },
  {
   "cell_type": "code",
   "execution_count": null,
   "metadata": {},
   "outputs": [],
   "source": [
    "def writte_in_blob(azure_client_id,azure_tenant_it):\n",
    "    \n"
   ]
  },
  {
   "cell_type": "code",
   "execution_count": null,
   "metadata": {},
   "outputs": [],
   "source": [
    "def scrapp_image_description(product_n, link, header):\n",
    "    # Send an HTTP request to the URL\n",
    "    response_1 = requests.get(link, headers = header)\n",
    "    soup_1 = BeautifulSoup(response_1.content, 'html.parser')\n",
    "\n",
    "    list_1 = soup_1.find_all(attrs={\"data-image-size\": \"small-retina\"})\n",
    "    \n",
    "    output_dir = \"Img\"\n",
    "    os.makedirs(output_dir, exist_ok=True)\n",
    "    \n",
    "    img_names = get_image(product_n,list_1,output_dir, header)\n",
    "    d = create_description(soup_1)\n",
    "\n",
    "    writte_in_db(product_n,'Gucci',img_names,d)"
   ]
  },
  {
   "cell_type": "code",
   "execution_count": null,
   "metadata": {},
   "outputs": [],
   "source": [
    "def gucci(category_url):\n",
    "    \n",
    "\n",
    "    ua = UserAgent()\n",
    "    header = {'User-Agent':str(ua.chrome)}\n",
    "\n",
    "    url = category_url\n",
    "\n",
    "    # Send an HTTP request to the URL\n",
    "    response = requests.get(url, headers = header)\n",
    "    soup = BeautifulSoup(response.content, 'html.parser')\n",
    "\n",
    "    item_list = soup.select('article a')\n",
    "\n",
    "    br = 0\n",
    "    for item in item_list: \n",
    "        \n",
    "        if br == 3:\n",
    "            break\n",
    "        else:\n",
    "            link = 'https://www.gucci.com' + item['href']\n",
    "            scrapp_image_description(product_n=br,link=link, header=header)\n",
    "\n",
    "        br += 1"
   ]
  },
  {
   "cell_type": "code",
   "execution_count": 14,
   "metadata": {},
   "outputs": [
    {
     "name": "stdout",
     "output_type": "stream",
     "text": [
      "Saved Img\\Gucci0_2.jpg\n",
      "Saved Img\\Gucci0_5.jpg\n",
      "Saved Img\\Gucci0_6.jpg\n",
      "Saved Img\\Gucci1_2.jpg\n",
      "Saved Img\\Gucci1_5.jpg\n",
      "Saved Img\\Gucci1_6.jpg\n",
      "Saved Img\\Gucci2_2.jpg\n",
      "Saved Img\\Gucci2_5.jpg\n",
      "Saved Img\\Gucci2_6.jpg\n"
     ]
    }
   ],
   "source": [
    "# Define the URL you want to scrape\n",
    "url = 'https://www.gucci.com/it/it/ca/women/ready-to-wear-for-women-c-women-readytowear'\n",
    "\n",
    "gucci(url)"
   ]
  },
  {
   "cell_type": "code",
   "execution_count": null,
   "metadata": {},
   "outputs": [],
   "source": []
  }
 ],
 "metadata": {
  "kernelspec": {
   "display_name": "Python 3",
   "language": "python",
   "name": "python3"
  },
  "language_info": {
   "codemirror_mode": {
    "name": "ipython",
    "version": 3
   },
   "file_extension": ".py",
   "mimetype": "text/x-python",
   "name": "python",
   "nbconvert_exporter": "python",
   "pygments_lexer": "ipython3",
   "version": "3.11.8"
  }
 },
 "nbformat": 4,
 "nbformat_minor": 2
}
