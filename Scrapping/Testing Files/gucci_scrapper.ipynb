{
 "cells": [
  {
   "cell_type": "markdown",
   "metadata": {},
   "source": [
    "## define functions\n",
    "\n",
    "- contains requered number -> ensure only specific images are pull\n",
    "- get image -> pull the require and compress image\n",
    "- scrapp_image_description -> iterate for each of the products\n",
    "- grucci -> iterate scrap_image"
   ]
  },
  {
   "cell_type": "markdown",
   "metadata": {},
   "source": [
    "### scrapper"
   ]
  },
  {
   "cell_type": "code",
   "execution_count": 1,
   "metadata": {},
   "outputs": [],
   "source": [
    "import requests\n",
    "from PIL import Image\n",
    "from fake_useragent import UserAgent\n",
    "from bs4 import BeautifulSoup\n",
    "from io import BytesIO\n",
    "import pandas as pd\n",
    "from openpyxl import load_workbook\n",
    "\n",
    "from azure.storage.blob import BlobServiceClient, generate_blob_sas, BlobSasPermissions\n",
    "from azure_key import account_name, account_key, container_name\n",
    "\n",
    "import psycopg2\n",
    "from sql_key import dbname, user, password, host, port\n"
   ]
  },
  {
   "cell_type": "code",
   "execution_count": 1,
   "metadata": {},
   "outputs": [],
   "source": [
    "def writte_in_blob(container_client, image, image_name):\n",
    "\n",
    "    img_byte_arr = BytesIO()\n",
    "    image.save(img_byte_arr, format=image.format)\n",
    "    img_byte_arr = img_byte_arr.getvalue()\n",
    "\n",
    "    container_client.upload_blob(name= image_name,data=img_byte_arr )"
   ]
  },
  {
   "cell_type": "code",
   "execution_count": 2,
   "metadata": {},
   "outputs": [],
   "source": [
    "def contains_required_number(line):\n",
    "    \n",
    "    keeping = ['001_100','004_100','005_100']\n",
    "    # 001: Prod\n",
    "    # 004: back\n",
    "    # 005: 3/4 image\n",
    "    return any(num in line for num in keeping)\n"
   ]
  },
  {
   "cell_type": "code",
   "execution_count": 3,
   "metadata": {},
   "outputs": [],
   "source": [
    "def get_image(prod_number,list,container_client, header):\n",
    "    i = 0\n",
    "    img_names = []\n",
    "    for item in list:\n",
    "        i+=1 \n",
    "        if (i == len(list)) | (i == 1):\n",
    "            continue\n",
    "        elif not(contains_required_number(item['srcset'])) :\n",
    "            continue\n",
    "        else:\n",
    "            img_names.append(item['srcset'] ) \n",
    "            url = \"https:\" + item['srcset']\n",
    "\n",
    "            # Download the image\n",
    "            response = requests.get(url, headers = header)\n",
    "            img = Image.open(BytesIO(response.content))\n",
    "\n",
    "            # Resize the image to 600\n",
    "            img_resized = img.resize((500, 500))\n",
    "            # Save the image\n",
    "\n",
    "            img_name = f\"Gucci{prod_number}_{i}.jpg\"\n",
    "\n",
    "            writte_in_blob(container_client= container_client, image=img_resized, image_name= img_name )\n",
    "\n",
    "\n",
    "            #img_name = os.path.join(output_dir, f\"Gucci{prod_number}_{i}.jpg\") \n",
    "  \n",
    "\n",
    "    return img_names"
   ]
  },
  {
   "cell_type": "code",
   "execution_count": 4,
   "metadata": {},
   "outputs": [],
   "source": [
    "def create_description(soup_2):\n",
    "    list_2 = soup_2.find_all(attrs={\"class\": \"product-detail\"} )\n",
    "    list_2[0].p.text.replace('\\n', '').replace('\\t', '')\n",
    "\n",
    "    description = ''\n",
    "\n",
    "    for a in list_2[0].ul.find_all('li'):\n",
    "        description = description + ' ' + a.text\n",
    "        \n",
    "    description\n",
    "\n",
    "    return list_2[0].p.text.replace('\\n', '').replace('\\t', '') + ' ' + description\n"
   ]
  },
  {
   "cell_type": "code",
   "execution_count": 5,
   "metadata": {},
   "outputs": [],
   "source": [
    "def writte_in_db(ID,Brand,img_names,Description):\n",
    "\n",
    "    True"
   ]
  },
  {
   "cell_type": "code",
   "execution_count": 6,
   "metadata": {},
   "outputs": [],
   "source": [
    "def scrapp_image_description(product_n, link, header, container_client):\n",
    "    # Send an HTTP request to the URL\n",
    "    response_1 = requests.get(link, headers = header)\n",
    "    soup_1 = BeautifulSoup(response_1.content, 'html.parser')\n",
    "\n",
    "    list_1 = soup_1.find_all(attrs={\"data-image-size\": \"small-retina\"})\n",
    "    \n",
    "    \n",
    "    img_names = get_image(product_n,list_1,container_client, header)\n",
    "    d = create_description(soup_1)\n",
    "\n",
    "    #writte_in_db(product_n,'Gucci',img_names,d)"
   ]
  },
  {
   "cell_type": "code",
   "execution_count": 7,
   "metadata": {},
   "outputs": [],
   "source": [
    "def connect_azure_blob(account_name,account_key):\n",
    "    \n",
    "    connect_str = 'DefaultEndpointsProtocol=https;AccountName='+account_name+';AccountKey='+account_key+';EndpointSuffix=core.windows.net'\n",
    "\n",
    "    #use the client to connect\n",
    "    blob_Service_client = BlobServiceClient.from_connection_string(connect_str)\n",
    "\n",
    "    #Use the client to connect to the container \n",
    "    container_client = blob_Service_client.get_container_client(container_name)\n",
    "\n",
    "    return container_client"
   ]
  },
  {
   "cell_type": "code",
   "execution_count": null,
   "metadata": {},
   "outputs": [],
   "source": [
    "def connect_sql(dbname,user,password,host,port):\n",
    "\n",
    "    # Database connection parameters\n",
    "    conn_params = {\n",
    "        'dbname': dbname,\n",
    "        'user': user,\n",
    "        'password': password,\n",
    "        'host': host,\n",
    "        'port': port\n",
    "    }\n",
    "\n",
    "    try:\n",
    "        # Connect to the PostgreSQL server\n",
    "        conn = psycopg2.connect(**conn_params)\n",
    "        cursor = conn.cursor()\n"
   ]
  },
  {
   "cell_type": "code",
   "execution_count": 9,
   "metadata": {},
   "outputs": [],
   "source": [
    "def gucci(category_url,n_products):\n",
    "    \n",
    "\n",
    "    ua = UserAgent()\n",
    "    header = {'User-Agent':str(ua.chrome)}\n",
    "\n",
    "    url = category_url\n",
    "\n",
    "    # Send an HTTP request to the URL\n",
    "    response = requests.get(url, headers = header)\n",
    "    soup = BeautifulSoup(response.content, 'html.parser')\n",
    "\n",
    "    item_list = soup.select('article a')\n",
    "\n",
    "    # Connect to azure:\n",
    "    container_client = connect_azure_blob(account_name=account_name,account_key=account_key)\n",
    "\n",
    "    br = 0\n",
    "    for item in item_list: \n",
    "        \n",
    "        if br == n_products:\n",
    "            break\n",
    "        else:\n",
    "            link = 'https://www.gucci.com' + item['href']\n",
    "            scrapp_image_description(product_n=br,link=link, header=header, container_client=container_client)\n",
    "\n",
    "        br += 1"
   ]
  },
  {
   "cell_type": "code",
   "execution_count": null,
   "metadata": {},
   "outputs": [],
   "source": []
  },
  {
   "cell_type": "markdown",
   "metadata": {},
   "source": [
    "## Execute Scrapper"
   ]
  },
  {
   "cell_type": "code",
   "execution_count": 13,
   "metadata": {},
   "outputs": [],
   "source": [
    "# Define the URL you want to scrape\n",
    "url = 'https://www.gucci.com/it/it/ca/women/ready-to-wear-for-women-c-women-readytowear'\n",
    "\n",
    "\n",
    "\n",
    "gucci(url,3)"
   ]
  }
 ],
 "metadata": {
  "kernelspec": {
   "display_name": "Python 3",
   "language": "python",
   "name": "python3"
  },
  "language_info": {
   "codemirror_mode": {
    "name": "ipython",
    "version": 3
   },
   "file_extension": ".py",
   "mimetype": "text/x-python",
   "name": "python",
   "nbconvert_exporter": "python",
   "pygments_lexer": "ipython3",
   "version": "3.11.8"
  }
 },
 "nbformat": 4,
 "nbformat_minor": 2
}
