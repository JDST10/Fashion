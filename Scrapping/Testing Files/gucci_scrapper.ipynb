{
 "cells": [
  {
   "cell_type": "markdown",
   "metadata": {},
   "source": [
    "## define functions\n",
    "\n",
    "- contains requered number -> ensure only specific images are pull\n",
    "- get image -> pull the require and compress image\n",
    "- scrapp_image_description -> iterate for each of the products\n",
    "- grucci -> iterate scrap_image"
   ]
  },
  {
   "cell_type": "markdown",
   "metadata": {},
   "source": [
    "### scrapper"
   ]
  },
  {
   "cell_type": "code",
   "execution_count": 3,
   "metadata": {},
   "outputs": [],
   "source": [
    "import requests\n",
    "from PIL import Image\n",
    "from fake_useragent import UserAgent\n",
    "from bs4 import BeautifulSoup\n",
    "from io import BytesIO\n",
    "import pandas as pd\n",
    "from openpyxl import load_workbook\n",
    "\n",
    "from azure.storage.blob import BlobServiceClient, generate_blob_sas, BlobSasPermissions\n",
    "from azure_key import account_name, account_key, container_name\n",
    "\n",
    "import psycopg2\n",
    "from sql_key import dbname, user, password, host, port\n"
   ]
  },
  {
   "cell_type": "code",
   "execution_count": 4,
   "metadata": {},
   "outputs": [],
   "source": [
    "def create_soup(url):\n",
    "\n",
    "    ua = UserAgent()\n",
    "    header = {'User-Agent':str(ua.chrome)}\n",
    "\n",
    "    # Send an HTTP request to the URL\n",
    "    response = requests.get(url, headers = header)\n",
    "    soup = BeautifulSoup(response.content, 'html.parser')\n",
    "\n",
    "    return soup\n"
   ]
  },
  {
   "cell_type": "code",
   "execution_count": 5,
   "metadata": {},
   "outputs": [],
   "source": [
    "def connect_blob():\n",
    "\n",
    "    connect_str = 'DefaultEndpointsProtocol=https;AccountName='+account_name+';AccountKey='+account_key+';EndpointSuffix=core.windows.net'\n",
    "\n",
    "    #use the client to connect\n",
    "    blob_Service_client = BlobServiceClient.from_connection_string(connect_str)\n",
    "\n",
    "    #Use the client to connect to the container \n",
    "    container_client = blob_Service_client.get_container_client(container_name)\n",
    "\n",
    "    return container_client"
   ]
  },
  {
   "cell_type": "code",
   "execution_count": null,
   "metadata": {},
   "outputs": [],
   "source": [
    "def connect_sql():\n",
    "    # Database connection parameters\n",
    "    conn_params = {\n",
    "        'dbname': dbname[0],\n",
    "        'user': user[0],\n",
    "        'password': password[0],\n",
    "        'host': host[0],\n",
    "        'port': port\n",
    "    }\n",
    "    # Connect to the PostgreSQL server\n",
    "    conn = psycopg2.connect(**conn_params)\n",
    "    cursor = conn.cursor()\n",
    "\n",
    "    return conn, cursor"
   ]
  },
  {
   "cell_type": "code",
   "execution_count": 6,
   "metadata": {},
   "outputs": [],
   "source": [
    "def images_to_blob(image, image_name,container_client):\n",
    "\n",
    "    try:\n",
    "        img_byte_arr = BytesIO()\n",
    "        image.save(img_byte_arr, format=image.format)\n",
    "        img_byte_arr = img_byte_arr.getvalue()\n",
    "\n",
    "        container_client.upload_blob(name= image_name,data=img_byte_arr )\n",
    "    except Exception as error:\n",
    "        print(f\"Error: {error}\")\n",
    "    "
   ]
  },
  {
   "cell_type": "code",
   "execution_count": 14,
   "metadata": {},
   "outputs": [],
   "source": [
    "def data_to_SQL(prod_name, prod_description,brand,prod_images_names,cursor,conn):\n",
    "\n",
    "    try:\n",
    "        # Insert in Brand_Prod_table\n",
    "        products_data = [('BrandA', 'Description for BrandA product')]\n",
    "\n",
    "        insert_products_query = \"\"\"\n",
    "        INSERT INTO Products (Brand, Descript) VALUES (%s, %s) RETURNING Brand_Prod_id;\n",
    "        \"\"\"\n",
    "        cursor.execute(insert_products_query)\n",
    "\n",
    "        # Insert in Image mapping\n",
    "        insert_characteristics_query = \"\"\"\n",
    "        INSERT INTO product_characteristics (Brand_id, Brand, Descript) VALUES (%s, %s, %s);\n",
    "        \"\"\"\n",
    "        for prod_image_name in prod_images_names:\n",
    "            cursor.execute(insert_characteristics_query, prod_image_name)\n",
    "\n",
    "        conn.commit()\n",
    "\n",
    "\n",
    "        print('xxxx')\n",
    "    except Exception as error:\n",
    "        print(f\"Error: {error}\")\n",
    "        conn.rollback()\n",
    "    finally:\n",
    "        cursor.close()\n",
    "        conn.close()"
   ]
  },
  {
   "cell_type": "code",
   "execution_count": 8,
   "metadata": {},
   "outputs": [],
   "source": [
    "def contains_required_number(line):\n",
    "    \n",
    "    keeping = ['001_100','004_100','005_100']\n",
    "    # 001: Prod\n",
    "    # 004: back\n",
    "    # 005: 3/4 image\n",
    "    return any(num in line for num in keeping)"
   ]
  },
  {
   "cell_type": "code",
   "execution_count": 9,
   "metadata": {},
   "outputs": [],
   "source": [
    "def get_image_links(prod_soup):\n",
    "    \n",
    "    item_list_1 = prod_soup.find_all(attrs={\"data-image-size\": \"small-retina\"})\n",
    "\n",
    "    ##### get image\n",
    "    images = []\n",
    "    i = 0\n",
    "    for item in item_list_1: \n",
    "            \n",
    "        i+=1 \n",
    "        if (i == len(item_list_1)) | (i == 1):\n",
    "            continue\n",
    "        elif not(contains_required_number(item['srcset'])) :\n",
    "            continue\n",
    "        else:\n",
    "            images = images + [item['srcset']]\n",
    "        \n",
    "        i += 1\n",
    "    \n",
    "    return images"
   ]
  },
  {
   "cell_type": "code",
   "execution_count": 10,
   "metadata": {},
   "outputs": [],
   "source": [
    "def get_description(prod_soup):\n",
    "    \n",
    "    description_list = prod_soup.find_all(attrs={\"class\": \"product-detail\"} )\n",
    "\n",
    "    #Get description\n",
    "    description = ''\n",
    "    \n",
    "    for a in description_list[0].ul.find_all('li'):\n",
    "        description = description + ' ' + a.text\n",
    "        \n",
    "\n",
    "    return description_list[0].p.text.replace('\\n', '').replace('\\t', '') + ' ' + description\n",
    "\n",
    "    "
   ]
  },
  {
   "cell_type": "code",
   "execution_count": 11,
   "metadata": {},
   "outputs": [],
   "source": [
    "def links_to_images(links,prod_name,container_client):\n",
    "\n",
    "    ua = UserAgent()\n",
    "    header = {'User-Agent':str(ua.chrome)}\n",
    "\n",
    "    i = 0\n",
    "    for img_link in links:\n",
    "        response = requests.get('https:' + img_link, headers = header)\n",
    "        img = Image.open(BytesIO(response.content))\n",
    "\n",
    "        # Resize the image to 600\n",
    "        img_resized = img.resize((500, 500))\n",
    "\n",
    "        img_name = f\"Gucci{prod_name}_{i}.jpg\"\n",
    "\n",
    "        # Load to Blob\n",
    "        images_to_blob(img, img_name,container_client)\n",
    "        i+=1\n",
    "\n"
   ]
  },
  {
   "cell_type": "code",
   "execution_count": 15,
   "metadata": {},
   "outputs": [],
   "source": [
    "def gucci(category_url,n_products):\n",
    "\n",
    "    soup = create_soup(category_url)\n",
    "    item_list = soup.select('article a')\n",
    "\n",
    "    \n",
    "    container_client = connect_blob()\n",
    "\n",
    "    conn, cursor = connect_sql()\n",
    "\n",
    "\n",
    "    br = 0\n",
    "    for item in item_list: \n",
    "            \n",
    "        if br == n_products:\n",
    "            break\n",
    "        else:\n",
    "\n",
    "            #Scrapp\n",
    "            prod_soup = create_soup('https://www.gucci.com' + item['href'])\n",
    "\n",
    "            prod_images_links = get_image_links(prod_soup=prod_soup)\n",
    "            prod_description = get_description(prod_soup=prod_soup)\n",
    "\n",
    "            prod_name = 'HM_'+str(br)  \n",
    "            \n",
    "            # Links to image, load to blob and return prod_images_names\n",
    "            prod_images_names = links_to_images(links = prod_images_links,prod_name= br,container_client=container_client)\n",
    "            \n",
    "            data_to_SQL(prod_name=prod_name, prod_description=prod_description,brand='HM',prod_images_names=prod_images_names,conn=conn)\n",
    "\n",
    "        br += 1\n"
   ]
  },
  {
   "cell_type": "markdown",
   "metadata": {},
   "source": [
    "## Execute Scrapper"
   ]
  },
  {
   "cell_type": "code",
   "execution_count": 13,
   "metadata": {},
   "outputs": [
    {
     "name": "stdout",
     "output_type": "stream",
     "text": [
      "Error: could not translate host name \"('localhost'\" to address: No such host is known. \n",
      "could not translate host name \")\" to address: No such host is known. \n",
      "\n",
      "HM_0\n",
      "Error: could not translate host name \"('localhost'\" to address: No such host is known. \n",
      "could not translate host name \")\" to address: No such host is known. \n",
      "\n",
      "HM_1\n",
      "Error: could not translate host name \"('localhost'\" to address: No such host is known. \n",
      "could not translate host name \")\" to address: No such host is known. \n",
      "\n",
      "HM_2\n"
     ]
    }
   ],
   "source": [
    "# Define the URL you want to scrape\n",
    "url = 'https://www.gucci.com/it/it/ca/women/ready-to-wear-for-women-c-women-readytowear'\n",
    "\n",
    "gucci(url,3)"
   ]
  },
  {
   "cell_type": "code",
   "execution_count": null,
   "metadata": {},
   "outputs": [],
   "source": []
  }
 ],
 "metadata": {
  "kernelspec": {
   "display_name": "Python 3",
   "language": "python",
   "name": "python3"
  },
  "language_info": {
   "codemirror_mode": {
    "name": "ipython",
    "version": 3
   },
   "file_extension": ".py",
   "mimetype": "text/x-python",
   "name": "python",
   "nbconvert_exporter": "python",
   "pygments_lexer": "ipython3",
   "version": "3.11.8"
  }
 },
 "nbformat": 4,
 "nbformat_minor": 2
}
