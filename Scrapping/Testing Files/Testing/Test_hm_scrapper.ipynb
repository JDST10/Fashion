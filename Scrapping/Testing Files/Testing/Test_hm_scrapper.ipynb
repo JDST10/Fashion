{
 "cells": [
  {
   "cell_type": "code",
   "execution_count": 116,
   "metadata": {},
   "outputs": [],
   "source": [
    "import requests\n",
    "import os\n",
    "from PIL import Image\n",
    "from fake_useragent import UserAgent\n",
    "from bs4 import BeautifulSoup\n",
    "from io import BytesIO\n",
    "\n",
    "import pandas as pd"
   ]
  },
  {
   "cell_type": "code",
   "execution_count": 117,
   "metadata": {},
   "outputs": [],
   "source": [
    "from DB_and_Azure import sql_db_functions as SQLf, azure_functions as Af"
   ]
  },
  {
   "cell_type": "markdown",
   "metadata": {},
   "source": [
    "## Creating functions"
   ]
  },
  {
   "cell_type": "code",
   "execution_count": 118,
   "metadata": {},
   "outputs": [],
   "source": [
    "def create_soup(url):\n",
    "\n",
    "    ua = UserAgent()\n",
    "    header = {'User-Agent':str(ua.chrome)}\n",
    "\n",
    "    # Send an HTTP request to the URL\n",
    "    response = requests.get(url, headers = header)\n",
    "    soup = BeautifulSoup(response.content, 'html.parser')\n",
    "\n",
    "    return soup\n"
   ]
  },
  {
   "cell_type": "code",
   "execution_count": 119,
   "metadata": {},
   "outputs": [],
   "source": [
    "def contains_required_number(line):\n",
    "    \n",
    "    keeping = ['http','http']\n",
    "    # 001: Prod\n",
    "    # 004: back\n",
    "    # 005: 3/4 image\n",
    "    return any(num in line for num in keeping)"
   ]
  },
  {
   "cell_type": "code",
   "execution_count": 120,
   "metadata": {},
   "outputs": [],
   "source": [
    "def get_image_links(prod_soup):\n",
    "    \n",
    "    item_list_1 = prod_soup.select('div div div div div ul li button div img')\n",
    "\n",
    "    ##### get image\n",
    "    images = []\n",
    "    i = 0\n",
    "    for item in item_list_1: \n",
    "            \n",
    "        if (i == len(item_list_1)-3) | (i == len(item_list_1)-1):\n",
    "            images = images + [item['src']]\n",
    "\n",
    "        i += 1\n",
    "    \n",
    "    return images"
   ]
  },
  {
   "cell_type": "code",
   "execution_count": 121,
   "metadata": {},
   "outputs": [],
   "source": [
    "def get_description(prod_soup):\n",
    "    \n",
    "    description_list = prod_soup.select('dd')\n",
    "\n",
    "    #Get description\n",
    "    description = ''\n",
    "    for d in description_list:\n",
    "        description = description + ' ' + d.text\n",
    "\n",
    "    #Get Materials\n",
    "    description_list = prod_soup.find_all(class_ = 'f8f91e f02838' )\n",
    "\n",
    "    description = description + ' Materials: '\n",
    "\n",
    "    for d in description_list[0:2]:\n",
    "        description = description + ' ' + d.text\n",
    "\n",
    "    return description\n",
    "    "
   ]
  },
  {
   "cell_type": "code",
   "execution_count": 122,
   "metadata": {},
   "outputs": [],
   "source": [
    "def links_to_images(links,prod_name):\n",
    "    ua = UserAgent()\n",
    "    header = {'User-Agent':str(ua.chrome)}\n",
    "\n",
    "    i=0\n",
    "    for img_link in links:\n",
    "        response = requests.get(img_link, headers = header)\n",
    "        img = Image.open(BytesIO(response.content))\n",
    "\n",
    "        # Resize the image to 600\n",
    "        img_resized = img.resize((500, 500))\n",
    "\n",
    "        img_name = f\"HM{prod_name}_{i}.jpg\"\n",
    "\n",
    "        # Load to Blob\n",
    "        #Af.images_to_blob(img_resized, img_name)\n",
    "        print(img_link)\n",
    "        print(img_name)\n",
    "        i+=1\n",
    "\n"
   ]
  },
  {
   "cell_type": "code",
   "execution_count": 123,
   "metadata": {},
   "outputs": [],
   "source": [
    "import re\n",
    "\n",
    "def get_price(prod_soup):\n",
    "\n",
    "    text = prod_soup.select('span.edbe20')[0].text\n",
    "\n",
    "\n",
    "    # Remove any non-numeric characters except for ',' and '.'\n",
    "    cleaned_text = re.sub(r'[^\\d,\\.]', '', text)\n",
    "    \n",
    "    # Replace comma with a period if there's no period already (to handle decimal part)\n",
    "    if ',' in cleaned_text and '.' not in cleaned_text:\n",
    "        cleaned_text = cleaned_text.replace(',', '.')\n",
    "    elif ',' in cleaned_text and '.' in cleaned_text:\n",
    "        # If both ',' and '.' are present, keep only the period as the decimal separator\n",
    "        cleaned_text = cleaned_text.replace(',', '')\n",
    "    \n",
    "    # Convert the string to a float\n",
    "    number = float(cleaned_text)\n",
    "    \n",
    "    return number"
   ]
  },
  {
   "cell_type": "code",
   "execution_count": 124,
   "metadata": {},
   "outputs": [],
   "source": [
    "def HM(category_url,n_products):\n",
    "\n",
    "    soup = create_soup(category_url)\n",
    "    item_list = soup.select('li section article div div div div ul li a')\n",
    "\n",
    "    #container_client = Af.connect_blob()\n",
    "    container_client = True\n",
    "\n",
    "    #conn, cursor = SQLf.connect_sql()\n",
    "    conn = True\n",
    "    cursor = True\n",
    "\n",
    "\n",
    "    br = 0\n",
    "    pass_i = 0\n",
    "\n",
    "\n",
    "    for item in item_list:     \n",
    "\n",
    "        pass_i +=1\n",
    "\n",
    "        if br == n_products:\n",
    "            break\n",
    "        elif pass_i == 5:\n",
    "\n",
    "            #Scrapp\n",
    "            prod_soup = create_soup(item['href'])\n",
    "\n",
    "            prod_images_links = get_image_links(prod_soup=prod_soup)\n",
    "            prod_description = get_description(prod_soup=prod_soup)\n",
    "            prod_price = get_price(prod_soup=prod_soup)\n",
    "\n",
    "            prod_name = 'HM_'+str(br)  \n",
    "            \n",
    "            # Links to image, load to blob and return prod_images_names\n",
    "            prod_images_names = links_to_images(links = prod_images_links,prod_name= br)\n",
    "            \n",
    "            #SQLf.data_to_SQL(conn= '' ,prod_name=prod_name, prod_description=prod_description,brand='HM',prod_images_names=prod_images_names)\n",
    "\n",
    "            pass_i = 0\n",
    "\n",
    "\n",
    "        br += 1\n"
   ]
  },
  {
   "cell_type": "code",
   "execution_count": 125,
   "metadata": {},
   "outputs": [
    {
     "name": "stdout",
     "output_type": "stream",
     "text": [
      "https://image.hm.com/assets/hm/7c/d6/7cd674d84de1c48149ecb8fa0093182cbdd01ace.jpg?imwidth=2160\n",
      "HM4_0.jpg\n",
      "https://image.hm.com/assets/hm/32/ea/32ea89d18c445d88516bdf6995a78a0dc9afbcd1.jpg?imwidth=2160\n",
      "HM4_1.jpg\n",
      "https://image.hm.com/assets/hm/26/c0/26c01003d69213dabd5bd7cb74b06639952c1034.jpg?imwidth=2160\n",
      "HM9_0.jpg\n",
      "https://image.hm.com/assets/hm/63/08/6308486c2d1d10253ec1c4e74d379b35e337b4d1.jpg?imwidth=2160\n",
      "HM9_1.jpg\n"
     ]
    }
   ],
   "source": [
    "# Define the URL you want to scrape\n",
    "url = 'https://www2.hm.com/it_it/donna/acquista-per-prodotto/top.html'\n",
    "\n",
    "\n",
    "# Need to have # of assets times 6\n",
    "HM(url,12)\n"
   ]
  },
  {
   "cell_type": "code",
   "execution_count": null,
   "metadata": {},
   "outputs": [],
   "source": []
  }
 ],
 "metadata": {
  "kernelspec": {
   "display_name": "Python 3",
   "language": "python",
   "name": "python3"
  },
  "language_info": {
   "codemirror_mode": {
    "name": "ipython",
    "version": 3
   },
   "file_extension": ".py",
   "mimetype": "text/x-python",
   "name": "python",
   "nbconvert_exporter": "python",
   "pygments_lexer": "ipython3",
   "version": "3.11.8"
  }
 },
 "nbformat": 4,
 "nbformat_minor": 2
}
