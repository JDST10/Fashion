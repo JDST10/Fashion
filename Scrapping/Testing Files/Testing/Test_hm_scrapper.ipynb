{
 "cells": [
  {
   "cell_type": "code",
   "execution_count": 135,
   "metadata": {},
   "outputs": [],
   "source": [
    "import requests\n",
    "import os\n",
    "from PIL import Image\n",
    "from fake_useragent import UserAgent\n",
    "from bs4 import BeautifulSoup\n",
    "from io import BytesIO\n",
    "\n",
    "import pandas as pd"
   ]
  },
  {
   "cell_type": "markdown",
   "metadata": {},
   "source": [
    "## Creating functions"
   ]
  },
  {
   "cell_type": "code",
   "execution_count": 132,
   "metadata": {},
   "outputs": [],
   "source": [
    "def create_soup(url):\n",
    "\n",
    "    ua = UserAgent()\n",
    "    header = {'User-Agent':str(ua.chrome)}\n",
    "\n",
    "    # Send an HTTP request to the URL\n",
    "    response = requests.get(url, headers = header)\n",
    "    soup = BeautifulSoup(response.content, 'html.parser')\n",
    "\n",
    "    return soup\n"
   ]
  },
  {
   "cell_type": "code",
   "execution_count": 140,
   "metadata": {},
   "outputs": [],
   "source": [
    "def images_to_blob(image, image_names):\n",
    "    print(image_names)"
   ]
  },
  {
   "cell_type": "code",
   "execution_count": 142,
   "metadata": {},
   "outputs": [],
   "source": [
    "def data_to_SQL(prod_name, prod_description,brand,prod_images_names):\n",
    "    print(prod_name)"
   ]
  },
  {
   "cell_type": "code",
   "execution_count": 143,
   "metadata": {},
   "outputs": [],
   "source": [
    "def get_image_links(prod_soup):\n",
    "    \n",
    "    item_list_1 = prod_soup.select('div div div div div ul li button div img')\n",
    "\n",
    "    ##### get image\n",
    "    images = []\n",
    "    i = 0\n",
    "    for item in item_list_1: \n",
    "            \n",
    "        if i%2 == 0:\n",
    "            #print(item['src'])\n",
    "            if (i == 2) | (i == 8) | (i == 10):\n",
    "                images = images + [item['src']]\n",
    "        \n",
    "        i += 1\n",
    "    \n",
    "    return images"
   ]
  },
  {
   "cell_type": "code",
   "execution_count": 144,
   "metadata": {},
   "outputs": [],
   "source": [
    "def get_description(prod_soup):\n",
    "    \n",
    "    description_list = prod_soup.select('dd')\n",
    "\n",
    "    #Get description\n",
    "    description = ''\n",
    "    for d in description_list:\n",
    "        description = description + ' ' + d.text\n",
    "\n",
    "    #Get Materials\n",
    "    description_list = prod_soup.find_all(class_ = 'f8f91e f02838' )\n",
    "\n",
    "    description = description + ' Materials: '\n",
    "\n",
    "    for d in description_list[0:2]:\n",
    "        description = description + ' ' + d.text\n",
    "\n",
    "    return description\n",
    "    "
   ]
  },
  {
   "cell_type": "code",
   "execution_count": null,
   "metadata": {},
   "outputs": [],
   "source": [
    "def links_to_images(links,prod_name):\n",
    "    ua = UserAgent()\n",
    "    header = {'User-Agent':str(ua.chrome)}\n",
    "\n",
    "    i=0\n",
    "    for img_link in links:\n",
    "        response = requests.get(img_link, headers = header)\n",
    "        img = Image.open(BytesIO(response.content))\n",
    "\n",
    "        # Resize the image to 600\n",
    "        img_resized = img.resize((500, 500))\n",
    "\n",
    "        img_name = f\"HM{prod_name}_{i}.jpg\"\n",
    "\n",
    "        # Load to Blob\n",
    "        images_to_blob(img, img_name)\n",
    "        i+=1\n",
    "\n"
   ]
  },
  {
   "cell_type": "code",
   "execution_count": 148,
   "metadata": {},
   "outputs": [],
   "source": [
    "def HM(category_url,n_products):\n",
    "\n",
    "    soup = create_soup(category_url)\n",
    "    item_list = soup.select('li section article div div div div ul li a')\n",
    "\n",
    "\n",
    "    br = 0\n",
    "    for item in item_list: \n",
    "            \n",
    "        if br == n_products:\n",
    "            break\n",
    "        else:\n",
    "\n",
    "            #Scrapp\n",
    "            prod_soup = create_soup(item['href'])\n",
    "\n",
    "            prod_images_links = get_image_links(prod_soup=prod_soup)\n",
    "            prod_description = get_description(prod_soup=prod_soup)\n",
    "\n",
    "            prod_name = 'HM_'+str(br)  \n",
    "            \n",
    "            # Links to image, load to blob and return prod_images_names\n",
    "            prod_images_names = links_to_images(links = prod_images_links,prod_name= br)\n",
    "            \n",
    "            data_to_SQL(prod_name=prod_name, prod_description=prod_description,brand='HM',prod_images_names=prod_images_names)\n",
    "\n",
    "        br += 1\n"
   ]
  },
  {
   "cell_type": "code",
   "execution_count": 149,
   "metadata": {},
   "outputs": [
    {
     "name": "stdout",
     "output_type": "stream",
     "text": [
      "Gucci0_11.jpg\n",
      "Gucci0_11.jpg\n",
      "Gucci0_11.jpg\n",
      "HM_0\n",
      "Gucci1_11.jpg\n",
      "Gucci1_11.jpg\n",
      "Gucci1_11.jpg\n",
      "HM_1\n",
      "Gucci2_11.jpg\n",
      "Gucci2_11.jpg\n",
      "Gucci2_11.jpg\n",
      "HM_2\n"
     ]
    }
   ],
   "source": [
    "# Define the URL you want to scrape\n",
    "url = 'https://www2.hm.com/it_it/donna/acquista-per-prodotto/top.html'\n",
    "\n",
    "HM(url,3)"
   ]
  },
  {
   "cell_type": "code",
   "execution_count": null,
   "metadata": {},
   "outputs": [],
   "source": []
  }
 ],
 "metadata": {
  "kernelspec": {
   "display_name": "Python 3",
   "language": "python",
   "name": "python3"
  },
  "language_info": {
   "codemirror_mode": {
    "name": "ipython",
    "version": 3
   },
   "file_extension": ".py",
   "mimetype": "text/x-python",
   "name": "python",
   "nbconvert_exporter": "python",
   "pygments_lexer": "ipython3",
   "version": "3.11.8"
  }
 },
 "nbformat": 4,
 "nbformat_minor": 2
}
