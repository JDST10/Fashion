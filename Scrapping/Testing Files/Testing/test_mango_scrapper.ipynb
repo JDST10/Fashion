{
 "cells": [
  {
   "cell_type": "markdown",
   "metadata": {},
   "source": [
    "### scrapper"
   ]
  },
  {
   "cell_type": "code",
   "execution_count": 1,
   "metadata": {},
   "outputs": [],
   "source": [
    "import requests\n",
    "from PIL import Image\n",
    "from fake_useragent import UserAgent\n",
    "from bs4 import BeautifulSoup\n",
    "from io import BytesIO\n",
    "import pandas as pd\n",
    "from openpyxl import load_workbook\n",
    "\n",
    "from selenium.webdriver import Chrome\n",
    "from selenium.webdriver.edge.options import Options\n",
    "from selenium.webdriver.support.ui import WebDriverWait\n",
    "from selenium.webdriver.support import expected_conditions as EC\n",
    "from selenium.webdriver.common.by import By\n",
    "import time\n",
    "\n",
    "\n",
    "#from azure.storage.blob import BlobServiceClient, generate_blob_sas, BlobSasPermissions\n",
    "#from azure_key import account_name, account_key, container_name\n",
    "\n",
    "import psycopg2\n",
    "#from sql_key import dbname, user, password, host, port\n"
   ]
  },
  {
   "cell_type": "code",
   "execution_count": 2,
   "metadata": {},
   "outputs": [],
   "source": [
    "from DB_and_Azure import sql_db_functions as SQLf, azure_functions as Af"
   ]
  },
  {
   "cell_type": "code",
   "execution_count": 3,
   "metadata": {},
   "outputs": [],
   "source": [
    "def create_soup(url):\n",
    "\n",
    "    chrome_options = Options()\n",
    "    #chrome_options.add_argument(\"--headless\")  # Ensure GUI is off\n",
    "    chrome_options.add_argument(\"--no-sandbox\")\n",
    "    chrome_options.add_argument(\"--disable-dev-shm-usage\")\n",
    "\n",
    "\n",
    "    browser = Chrome(options=chrome_options)\n",
    "\n",
    "    \n",
    "    # Open the URL\n",
    "    browser.maximize_window()\n",
    "    browser.get(url)\n",
    "    \n",
    "    # Wait for the page to fully load\n",
    "    wait = WebDriverWait(browser, 120)\n",
    "    wait.until(lambda driver: driver.execute_script('return document.readyState') == 'complete')\n",
    "    \n",
    "    # Wait for the cookie button to be clickable\n",
    "    cookie_button = wait.until(EC.element_to_be_clickable((By.CSS_SELECTOR, 'button.Button_button__qoiWI.CookiesContent_button__2Vj_R')))\n",
    "    cookie_button.click()\n",
    "\n",
    "    # Scroll to the bottom of the page\n",
    "    last_height = browser.execute_script(\"return document.body.scrollHeight\")\n",
    "    \n",
    "    while True:\n",
    "        for i in range(5):  # 5 iterations to make 20% scroll each\n",
    "            browser.execute_script(\"window.scrollBy(0, document.body.scrollHeight / 5);\")\n",
    "            time.sleep(1)  # Wait for 1 second between each scroll\n",
    "        \n",
    "        # Calculate new scroll height and compare with the last scroll height\n",
    "        new_height = browser.execute_script(\"return document.body.scrollHeight\")\n",
    "        if new_height == last_height:\n",
    "            break\n",
    "        last_height = new_height\n",
    "\n",
    "\n",
    "    # Get the page source after scrolling\n",
    "    html = browser.page_source\n",
    "\n",
    "    \n",
    " \n",
    "    browser.quit()\n",
    "     \n",
    "\n",
    "\n",
    "    page_soup = BeautifulSoup(html, 'html.parser')\n",
    "\n",
    "    return page_soup\n"
   ]
  },
  {
   "cell_type": "code",
   "execution_count": 4,
   "metadata": {},
   "outputs": [],
   "source": [
    "def create_simple_soup(prod_link):\n",
    "    ua = UserAgent()\n",
    "    header = {'User-Agent':str(ua.chrome)}\n",
    "\n",
    "    # Send an HTTP request to the URL\n",
    "    response = requests.get(prod_link, headers = header)\n",
    "    prod_soup = BeautifulSoup(response.content, 'html.parser')\n",
    "\n",
    "    return prod_soup"
   ]
  },
  {
   "cell_type": "code",
   "execution_count": 9,
   "metadata": {},
   "outputs": [],
   "source": [
    "def contains_required_prods(line):\n",
    "    \n",
    "    keeping = [\"Articolo senza modello\",\"Dettaglio dell'articolo 8\",\"Retro dell'articolo\"]\n",
    "\n",
    "\n",
    "    return any(num in line for num in keeping)"
   ]
  },
  {
   "cell_type": "code",
   "execution_count": 10,
   "metadata": {},
   "outputs": [],
   "source": [
    "def get_image_links(prod_soup):\n",
    "    \n",
    "    item_list_1 = prod_soup.select('ul li button img')\n",
    "\n",
    "    ##### get image\n",
    "    images = []\n",
    "    i = 0\n",
    "    for item in item_list_1: \n",
    "            \n",
    "        if contains_required_prods(item['alt']) :\n",
    "            images = images + [item['src']]\n",
    "        \n",
    "        i += 1\n",
    "\n",
    "\n",
    "    \n",
    "    print(images)\n",
    "    return images"
   ]
  },
  {
   "cell_type": "code",
   "execution_count": 11,
   "metadata": {},
   "outputs": [],
   "source": [
    "def get_description(prod_soup):\n",
    "    \n",
    "    description = prod_soup.select('div.Description_description__IDgi6 p')[0].text\n",
    "    description = description + ' ' + prod_soup.select('div.ProductDetail_properties__UStvB div.PropertiesContent_content__T7Hg5 p')[0].text\n",
    "    \n",
    "\n",
    "    return description\n",
    "\n",
    "    "
   ]
  },
  {
   "cell_type": "code",
   "execution_count": 12,
   "metadata": {},
   "outputs": [],
   "source": [
    "def links_to_images(links,prod_name,container_client):\n",
    "\n",
    "    ua = UserAgent()\n",
    "    header = {'User-Agent':str(ua.chrome)}\n",
    "\n",
    "    i = 0\n",
    "    for img_link in links:\n",
    "        response = requests.get(img_link, headers = header)\n",
    "        img = Image.open(BytesIO(response.content))\n",
    "\n",
    "        # Resize the image to 600\n",
    "        img_resized = img.resize((500, 500))\n",
    "\n",
    "        img_name = f\"Gucci{prod_name}_{i}.jpg\"\n",
    "\n",
    "        # Load to Blob\n",
    "        #Af.images_to_blob(img, img_name,container_client)\n",
    "        print(img_name)\n",
    "        i+=1\n",
    "\n"
   ]
  },
  {
   "cell_type": "code",
   "execution_count": 28,
   "metadata": {},
   "outputs": [],
   "source": [
    "import re\n",
    "\n",
    "def get_price(prod_soup):\n",
    "\n",
    "    text = prod_soup.select('span.SinglePrice_end__Hz2J7')[0].text\n",
    "\n",
    "\n",
    "    # Remove any non-numeric characters except for ',' and '.'\n",
    "    cleaned_text = re.sub(r'[^\\d,\\.]', '', text)\n",
    "    \n",
    "    # Replace comma with a period if there's no period already (to handle decimal part)\n",
    "    if ',' in cleaned_text and '.' not in cleaned_text:\n",
    "        cleaned_text = cleaned_text.replace(',', '.')\n",
    "    elif ',' in cleaned_text and '.' in cleaned_text:\n",
    "        # If both ',' and '.' are present, keep only the period as the decimal separator\n",
    "        cleaned_text = cleaned_text.replace(',', '')\n",
    "    \n",
    "    # Convert the string to a float\n",
    "    number = float(cleaned_text)\n",
    "    \n",
    "    return number"
   ]
  },
  {
   "cell_type": "code",
   "execution_count": 12,
   "metadata": {},
   "outputs": [],
   "source": [
    "def mango(category_url,n_products):\n",
    "\n",
    "    soup = create_soup(category_url)\n",
    "    item_list = soup.select('div.ProductImage_productImage__cS5d9')\n",
    "\n",
    "    \n",
    "    #container_client = Af.connect_blob()\n",
    "    container_client = True\n",
    "\n",
    "    #conn, cursor = SQLf.connect_sql()\n",
    "    conn = True\n",
    "    cursor = True\n",
    "\n",
    "\n",
    "    br = 0\n",
    "    for item in item_list: \n",
    "            \n",
    "        if br == n_products:\n",
    "            break\n",
    "        else:\n",
    "\n",
    "            #Scrapp\n",
    "            prod_soup = create_simple_soup(item.a['href'])\n",
    "\n",
    "            prod_images_links = get_image_links(prod_soup=prod_soup)\n",
    "            prod_description = get_description(prod_soup=prod_soup)\n",
    "            prod_price = get_price(prod_soup=prod_soup)\n",
    "\n",
    "            prod_name = 'Mango_'+str(br)  \n",
    "            \n",
    "            # Links to image, load to blob and return prod_images_names\n",
    "            prod_images_names = links_to_images(links = prod_images_links,prod_name= br,container_client=container_client)\n",
    "            \n",
    "            SQLf.data_to_SQL(conn= conn ,prod_name=prod_name, prod_description=prod_description,brand='HM',prod_images_names=prod_images_names)\n",
    "\n",
    "\n",
    "        br += 1\n"
   ]
  },
  {
   "cell_type": "markdown",
   "metadata": {},
   "source": [
    "# Execute scrapper "
   ]
  },
  {
   "cell_type": "code",
   "execution_count": 13,
   "metadata": {},
   "outputs": [
    {
     "name": "stdout",
     "output_type": "stream",
     "text": [
      "['https://shop.mango.com/assets/rcs/pics/static/T6/fotos/S/67037113_43_R.jpg?imwidth=2048&imdensity=1&ts=1711469518224', 'https://shop.mango.com/assets/rcs/pics/static/T6/fotos/S/67037113_43_D8.jpg?imwidth=2048&imdensity=1&ts=1701765195306', 'https://shop.mango.com/assets/rcs/pics/static/T6/fotos/S/67037113_43_B.jpg?imwidth=2048&imdensity=1&ts=1701765195306']\n",
      "Gucci0_0.jpg\n",
      "Gucci0_1.jpg\n",
      "Gucci0_2.jpg\n",
      "\n",
      "['https://shop.mango.com/assets/rcs/pics/static/T6/fotos/S/67041009_99_R.jpg?imwidth=2048&imdensity=1&ts=1710108420002', 'https://shop.mango.com/assets/rcs/pics/static/T6/fotos/S/67041009_99_D8.jpg?imwidth=2048&imdensity=1&ts=1697727791185', 'https://shop.mango.com/assets/rcs/pics/static/T6/fotos/S/67041009_99_B.jpg?imwidth=2048&imdensity=1&ts=1697727791185']\n",
      "Gucci1_0.jpg\n",
      "Gucci1_1.jpg\n",
      "Gucci1_2.jpg\n",
      "\n",
      "['https://shop.mango.com/assets/rcs/pics/static/T6/fotos/S/67057926_91_R.jpg?imwidth=2048&imdensity=1&ts=1710778223851', 'https://shop.mango.com/assets/rcs/pics/static/T6/fotos/S/67057926_91_D8.jpg?imwidth=2048&imdensity=1&ts=1710236842596', 'https://shop.mango.com/assets/rcs/pics/static/T6/fotos/S/67057926_91_B.jpg?imwidth=2048&imdensity=1&ts=1710236842596']\n",
      "Gucci2_0.jpg\n",
      "Gucci2_1.jpg\n",
      "Gucci2_2.jpg\n",
      "\n"
     ]
    }
   ],
   "source": [
    "link = 'https://shop.mango.com/it/it/c/donna/taglie-plus/giacchette_5fd4b931'\n",
    "\n",
    "mango(link,3)"
   ]
  }
 ],
 "metadata": {
  "kernelspec": {
   "display_name": "Python 3",
   "language": "python",
   "name": "python3"
  },
  "language_info": {
   "codemirror_mode": {
    "name": "ipython",
    "version": 3
   },
   "file_extension": ".py",
   "mimetype": "text/x-python",
   "name": "python",
   "nbconvert_exporter": "python",
   "pygments_lexer": "ipython3",
   "version": "3.11.8"
  }
 },
 "nbformat": 4,
 "nbformat_minor": 2
}
