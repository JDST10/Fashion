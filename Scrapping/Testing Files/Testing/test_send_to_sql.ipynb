{
 "cells": [
  {
   "cell_type": "code",
   "execution_count": 6,
   "metadata": {},
   "outputs": [],
   "source": [
    "#pip install psycopg2-binary\n",
    "import psycopg2\n",
    "from DB_and_Azure import sql_db_functions as SQLf"
   ]
  },
  {
   "cell_type": "markdown",
   "metadata": {},
   "source": [
    "### Connect"
   ]
  },
  {
   "cell_type": "code",
   "execution_count": 7,
   "metadata": {},
   "outputs": [],
   "source": [
    "conn, cursor = SQLf.connect_sql()"
   ]
  },
  {
   "cell_type": "code",
   "execution_count": null,
   "metadata": {},
   "outputs": [],
   "source": []
  },
  {
   "cell_type": "code",
   "execution_count": 3,
   "metadata": {},
   "outputs": [
    {
     "name": "stdout",
     "output_type": "stream",
     "text": [
      "Data inserted successfully\n",
      "Data inserted successfully\n"
     ]
    }
   ],
   "source": [
    "conn, cursor = SQLf.connect_sql()\n",
    "SQLf.insert_description_image_to_db(\n",
    "                conn = conn,\n",
    "                cursor= cursor, \n",
    "                brand='xxxxxxxx', \n",
    "                descript = 'Test xxxxx', \n",
    "                price = 11234,\n",
    "                image_names = ['a','b','c']\n",
    "                )\n",
    "\n",
    "cursor.close()\n",
    "conn.close()\n",
    "\n",
    "conn, cursor = SQLf.connect_sql()\n",
    "SQLf.insert_description_image_to_db(\n",
    "                conn = conn,\n",
    "                cursor= cursor, \n",
    "                brand='xxxxxxxx', \n",
    "                descript = 'Test xxxxx', \n",
    "                price = 11234,\n",
    "                image_names = ['a','b','c']\n",
    "                )\n",
    "\n",
    "cursor.close()\n",
    "conn.close()"
   ]
  },
  {
   "cell_type": "code",
   "execution_count": null,
   "metadata": {},
   "outputs": [],
   "source": []
  },
  {
   "cell_type": "markdown",
   "metadata": {},
   "source": [
    "### Re start DB"
   ]
  },
  {
   "cell_type": "code",
   "execution_count": 26,
   "metadata": {},
   "outputs": [],
   "source": [
    "\n",
    "# Define the query to fetch the first 5 rows\n",
    "query = \"TRUNCATE product_characteristics;\"\n",
    "cursor.execute(query)"
   ]
  },
  {
   "cell_type": "code",
   "execution_count": 8,
   "metadata": {},
   "outputs": [
    {
     "name": "stdout",
     "output_type": "stream",
     "text": [
      "[]\n"
     ]
    }
   ],
   "source": [
    "query = f\"SELECT * FROM product_characteristics LIMIT 5;\"\n",
    "cursor.execute(query)\n",
    "\n",
    "# Fetch the rows\n",
    "rows = cursor.fetchall()\n",
    "print(rows)"
   ]
  },
  {
   "cell_type": "code",
   "execution_count": 9,
   "metadata": {},
   "outputs": [],
   "source": [
    "# Define the query to fetch the first 5 rows\n",
    "query = \"TRUNCATE Products CASCADE;\"\n",
    "cursor.execute(query)"
   ]
  },
  {
   "cell_type": "code",
   "execution_count": 9,
   "metadata": {},
   "outputs": [
    {
     "data": {
      "text/plain": [
       "[(1,\n",
       "  'Gucci',\n",
       "  \"Ispirato allo spirito estivo e ai beach club della costa italiana, questo articolo fa parte della linea Gucci Lido. I codici emblematici della Maison e gli eleganti motivi vengono reinterpretati in chiave contemporanea per la collezione Pre-Fall. Questa ampia t-shirt, in pizzo di cotone floreale Gucci color gesso, è definita da una stampa Gucci Incrocio GG realizzata a mano sulla canotta interna.  Pizzo di cotone floreale Gucci color gesso Stampa Gucci Incrocio GG Canottiera interna Girocollo Spalle basse Maniche corte Cerniera con tirazip Gucci sulla spalla\\n Lunghezza: 77 cm; taglia 40 (IT) Fabbricato in Italia Il prodotto raffigurato nell'immagine è taglia 40 (IT)\",\n",
       "  2.1),\n",
       " (2,\n",
       "  'Gucci',\n",
       "  \"Ispirato allo spirito estivo e ai beach club della costa italiana, questo articolo fa parte della linea Gucci Lido. Le selezioni della collezione Pre-Fall mettono in risalto silhouette essenziali con dettagli emblematici, dall'abbigliamento da giorno a quello da sera. Una silhouette oversize definisce questa camicia in popeline di cotone pesante; un nastro interno annodabile permette di indossarla in diversi modi.  Popeline di cotone bianco Bottoni ricoperti dello stesso tessuto Nastro interno annodabile Colletto a punta Spalle basse Maniche lunghe Chiusura con bottoni Lunghezza: 83cm, taglia 40 (IT) Fabbricato in Italia Il prodotto raffigurato nell'immagine è taglia 40 (IT)\",\n",
       "  850.0),\n",
       " (3,\n",
       "  'Gucci',\n",
       "  \"Ispirato allo spirito estivo e ai beach club della costa italiana, questo articolo fa parte della linea Gucci Lido. Le selezioni della collezione Pre-Fall mettono in risalto silhouette essenziali con dettagli emblematici, dall'abbigliamento da giorno a quello da sera. La silhouette rilassata conferisce un tocco elegante a questa camicia in popeline di cotone, arricchita da un ricamo floreale in mesh nella parte centrale. La tecnica utilizzata prevede il posizionamento sul telaio dei due tessuti e la rimozione mediante laser della base di cotone; le rifiniture sono ricamate a macchina.  Popeline di cotone bianco Ricamo floreale in mesh sul davanti Bottoni ricoperti dello stesso tessuto Colletto a punta Maniche lunghe Chiusura con bottoni Leggermente oversize Lunghezza: 83 cm; taglia 42 (IT) Fabbricato in Italia Il prodotto raffigurato nell'immagine è taglia 42 (IT)\",\n",
       "  2.1),\n",
       " (4,\n",
       "  'Gucci',\n",
       "  \"Ispirato allo spirito estivo e ai beach club della costa italiana, questo articolo fa parte della linea Gucci Lido. Le selezioni della collezione Pre-Fall mettono in risalto silhouette essenziali con dettagli emblematici, dall'abbigliamento da giorno a quello da sera. Questa sofisticata camicia, realizzata in seta crêpe de chine blu navy, è contraddistinta da un ricamo Incrocio GG Tondo.  Seta crêpe de chine blu navy Bottoni smaltati con Incrocio GG Tondo Ricamo con Incrocio GG tondo Colletto a punta Maniche lunghe Chiusura con bottoni Lunghezza: 57 cm; taglia 38 (IT) Fabbricato in Italia Il prodotto raffigurato nell'immagine è taglia 38 (IT)\",\n",
       "  980.0),\n",
       " (5,\n",
       "  'Gucci',\n",
       "  \"Ispirato allo spirito estivo e ai beach club della costa italiana, questo articolo fa parte della linea Gucci Lido. I codici emblematici della Maison e gli eleganti motivi vengono reinterpretati in chiave contemporanea per la collezione Pre-Fall. Realizzato in gabardina di cotone GG beige chiaro, questo top rende omaggio alla ricca tradizione della Maison.   Gabardina di cotone GG beige chiaro Con fodera Due bretelle Lunghezza: 6,2 cm; taglia 40 (IT) Fabbricato in Italia Il prodotto raffigurato nell'immagine è taglia 40 (IT)\",\n",
       "  790.0)]"
      ]
     },
     "execution_count": 9,
     "metadata": {},
     "output_type": "execute_result"
    }
   ],
   "source": [
    "query = f\"SELECT * FROM Products LIMIT 5;\"\n",
    "cursor.execute(query)\n",
    "\n",
    "# Fetch the rows\n",
    "rows = cursor.fetchall()\n",
    "rows"
   ]
  },
  {
   "cell_type": "code",
   "execution_count": 7,
   "metadata": {},
   "outputs": [],
   "source": [
    "# Define the query to fetch the first 5 rows\n",
    "query = \"TRUNCATE product_img CASCADE;\"\n",
    "cursor.execute(query)"
   ]
  },
  {
   "cell_type": "code",
   "execution_count": 10,
   "metadata": {},
   "outputs": [
    {
     "data": {
      "text/plain": [
       "[(1,\n",
       "  1,\n",
       "  '//media.gucci.com/style/DarkGray_Center_0_0_980x980/1712150225/788990_ZAQP7_9799_001_100_0000_Light-Maglia-in-pizzo-di-cotone-floreale-Gucci-con-stampa.jpg'),\n",
       " (2,\n",
       "  1,\n",
       "  '//media.gucci.com/style/DarkGray_Center_0_0_980x980/1712150227/788990_ZAQP7_9799_004_100_0000_Light-Maglia-in-pizzo-di-cotone-floreale-Gucci-con-stampa.jpg'),\n",
       " (3,\n",
       "  1,\n",
       "  '//media.gucci.com/style/DarkGray_Center_0_0_980x980/1712150228/788990_ZAQP7_9799_005_100_0000_Light-Maglia-in-pizzo-di-cotone-floreale-Gucci-con-stampa.jpg'),\n",
       " (4,\n",
       "  1,\n",
       "  '//media.gucci.com/style/White_Center_0_0_730x490/1712150225/788990_ZAQP7_9799_001_100_0000_Light-Maglia-in-pizzo-di-cotone-floreale-Gucci-con-stampa.jpg'),\n",
       " (5,\n",
       "  2,\n",
       "  '//media.gucci.com/style/DarkGray_Center_0_0_980x980/1706810422/788851_ZAQ2Y_9000_001_100_0000_Light-Camicia-in-popeline-di-cotone-con-nastro.jpg')]"
      ]
     },
     "execution_count": 10,
     "metadata": {},
     "output_type": "execute_result"
    }
   ],
   "source": [
    "query = f\"SELECT * FROM product_img LIMIT 5;\"\n",
    "cursor.execute(query)\n",
    "\n",
    "# Fetch the rows\n",
    "rows = cursor.fetchall()\n",
    "rows"
   ]
  },
  {
   "cell_type": "code",
   "execution_count": 8,
   "metadata": {},
   "outputs": [],
   "source": [
    "cursor.close()\n",
    "conn.close()"
   ]
  },
  {
   "cell_type": "markdown",
   "metadata": {},
   "source": [
    "### Pass single row to Products and multiple to product_imgs"
   ]
  },
  {
   "cell_type": "code",
   "execution_count": 14,
   "metadata": {},
   "outputs": [],
   "source": [
    "from psycopg2 import sql"
   ]
  },
  {
   "cell_type": "code",
   "execution_count": 23,
   "metadata": {},
   "outputs": [],
   "source": [
    "# Database connection parameters\n",
    "conn = psycopg2.connect(**conn_params)\n",
    "cursor = conn.cursor()"
   ]
  },
  {
   "cell_type": "code",
   "execution_count": 21,
   "metadata": {},
   "outputs": [],
   "source": [
    "brand = 'Gucci'\n",
    "descript ='Bla Bla'\n",
    "price = 10.1\n",
    "image_names = ['1','2','3']"
   ]
  },
  {
   "cell_type": "code",
   "execution_count": 17,
   "metadata": {},
   "outputs": [
    {
     "name": "stdout",
     "output_type": "stream",
     "text": [
      "Data inserted successfully\n"
     ]
    }
   ],
   "source": [
    "def insert_description_image_to_db(conn, brand, descript, price,image_names):\n",
    "    try:\n",
    "        # Create a new database session and return a new instance of the connection class\n",
    "        cursor = conn.cursor()\n",
    "\n",
    "        # Insert a single row into the Products table\n",
    "        insert_product_query = \"\"\"\n",
    "        INSERT INTO Products (Brand, Descript, Price)\n",
    "        VALUES (%s, %s, %s) RETURNING Brand_Prod_id;\n",
    "        \"\"\"\n",
    "        cursor.execute(insert_product_query, (brand, descript, price))\n",
    "\n",
    "        # Get the generated Brand_Prod_id\n",
    "        brand_prod_id = cursor.fetchone()[0]\n",
    "\n",
    "        # Insert rows into the product_img table\n",
    "        insert_image_query = \"\"\"\n",
    "        INSERT INTO product_img (Brand_id, image_name)\n",
    "        VALUES (%s, %s);\n",
    "        \"\"\"\n",
    "        for image_name in image_names:\n",
    "            cursor.execute(insert_image_query, (brand_prod_id, image_name))\n",
    "\n",
    "        # Commit the transaction\n",
    "        conn.commit()\n",
    "\n",
    "        print(\"Data inserted successfully\")\n",
    "\n",
    "    except Exception as e:\n",
    "        # Rollback the transaction in case of error\n",
    "        conn.rollback()\n",
    "        print(\"Error occurred:\", e)\n"
   ]
  },
  {
   "cell_type": "code",
   "execution_count": 26,
   "metadata": {},
   "outputs": [],
   "source": [
    "def close_connection_db(cursor,conn):\n",
    "    #Close the cursor and connection to clean up\n",
    "    cursor.close()\n",
    "    conn.close()"
   ]
  }
 ],
 "metadata": {
  "kernelspec": {
   "display_name": "Python 3",
   "language": "python",
   "name": "python3"
  },
  "language_info": {
   "codemirror_mode": {
    "name": "ipython",
    "version": 3
   },
   "file_extension": ".py",
   "mimetype": "text/x-python",
   "name": "python",
   "nbconvert_exporter": "python",
   "pygments_lexer": "ipython3",
   "version": "3.11.8"
  }
 },
 "nbformat": 4,
 "nbformat_minor": 2
}
