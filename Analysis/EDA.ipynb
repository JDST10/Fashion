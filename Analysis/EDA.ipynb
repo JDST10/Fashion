{
 "cells": [
  {
   "cell_type": "code",
   "execution_count": 1,
   "metadata": {},
   "outputs": [],
   "source": [
    "import sys, os\n",
    "sys.path.append(os.path.join(os.path.dirname('__file__'), '..', 'DB_and_Azure'))\n",
    "from sql_db_functions import sql_db_functions as SQLf\n",
    "\n",
    "import pandas as pd"
   ]
  },
  {
   "cell_type": "code",
   "execution_count": 2,
   "metadata": {},
   "outputs": [],
   "source": [
    "conn, cursor = SQLf.connect_sql()"
   ]
  },
  {
   "cell_type": "code",
   "execution_count": 3,
   "metadata": {},
   "outputs": [],
   "source": [
    "query = f\"SELECT product_characteristics.id, Brand_id, Detail,Summary, Brand, Price, Link FROM product_characteristics INNER JOIN Products ON product_characteristics.Brand_id = Products.Brand_Prod_id ;\"\n",
    "cursor.execute(query)\n",
    "\n",
    "# Fetch the rows\n",
    "rows = cursor.fetchall()\n",
    "#rows"
   ]
  },
  {
   "cell_type": "code",
   "execution_count": 4,
   "metadata": {},
   "outputs": [],
   "source": [
    "conn, cursor = SQLf.connect_sql()"
   ]
  },
  {
   "cell_type": "code",
   "execution_count": 5,
   "metadata": {},
   "outputs": [],
   "source": [
    "query = f\"SELECT Brand_id, image_link, base64 FROM product_img ;\"\n",
    "cursor.execute(query)\n",
    "\n",
    "# Fetch the rows\n",
    "rows_img = cursor.fetchall()\n",
    "#rows"
   ]
  },
  {
   "cell_type": "code",
   "execution_count": 6,
   "metadata": {},
   "outputs": [],
   "source": [
    "SQLf.close_connection_db(conn=conn,cursor=cursor)"
   ]
  },
  {
   "cell_type": "code",
   "execution_count": 7,
   "metadata": {},
   "outputs": [],
   "source": [
    "import pandas as pd"
   ]
  },
  {
   "cell_type": "code",
   "execution_count": 8,
   "metadata": {},
   "outputs": [
    {
     "data": {
      "text/html": [
       "<div>\n",
       "<style scoped>\n",
       "    .dataframe tbody tr th:only-of-type {\n",
       "        vertical-align: middle;\n",
       "    }\n",
       "\n",
       "    .dataframe tbody tr th {\n",
       "        vertical-align: top;\n",
       "    }\n",
       "\n",
       "    .dataframe thead th {\n",
       "        text-align: right;\n",
       "    }\n",
       "</style>\n",
       "<table border=\"1\" class=\"dataframe\">\n",
       "  <thead>\n",
       "    <tr style=\"text-align: right;\">\n",
       "      <th></th>\n",
       "      <th>id</th>\n",
       "      <th>Brand_id</th>\n",
       "      <th>Detail</th>\n",
       "      <th>Summary</th>\n",
       "      <th>Brand</th>\n",
       "      <th>Price</th>\n",
       "      <th>Link</th>\n",
       "    </tr>\n",
       "  </thead>\n",
       "  <tbody>\n",
       "    <tr>\n",
       "      <th>0</th>\n",
       "      <td>2</td>\n",
       "      <td>2</td>\n",
       "      <td>*Type: Shirt  \\n*Fit: Regular fit  \\n*Sleeve s...</td>\n",
       "      <td>The shirt depicted in the images is a Gucci Ox...</td>\n",
       "      <td>Gucci</td>\n",
       "      <td>650.0</td>\n",
       "      <td>https://www.gucci.com/it/it/pr/women/ready-to-...</td>\n",
       "    </tr>\n",
       "    <tr>\n",
       "      <th>1</th>\n",
       "      <td>4</td>\n",
       "      <td>4</td>\n",
       "      <td>*Type: Shirt  \\n*Fit: Regular fit  \\n*Sleeve s...</td>\n",
       "      <td>The showcased shirt is a luxurious Gucci creat...</td>\n",
       "      <td>Gucci</td>\n",
       "      <td>1300.0</td>\n",
       "      <td>https://www.gucci.com/it/it/pr/women/ready-to-...</td>\n",
       "    </tr>\n",
       "    <tr>\n",
       "      <th>2</th>\n",
       "      <td>6</td>\n",
       "      <td>6</td>\n",
       "      <td>*Type: Shirt  \\n*Fit: Regular fit  \\n*Sleeve s...</td>\n",
       "      <td>The shirt showcased in the images is a Gucci p...</td>\n",
       "      <td>Gucci</td>\n",
       "      <td>1100.0</td>\n",
       "      <td>https://www.gucci.com/it/it/pr/women/ready-to-...</td>\n",
       "    </tr>\n",
       "    <tr>\n",
       "      <th>3</th>\n",
       "      <td>8</td>\n",
       "      <td>8</td>\n",
       "      <td>*Type: Top\\n*Fit: Regular fit\\n*Sleeve style: ...</td>\n",
       "      <td>The showcased top from Gucci is a floral lace ...</td>\n",
       "      <td>Gucci</td>\n",
       "      <td>980.0</td>\n",
       "      <td>https://www.gucci.com/it/it/pr/women/ready-to-...</td>\n",
       "    </tr>\n",
       "    <tr>\n",
       "      <th>4</th>\n",
       "      <td>11</td>\n",
       "      <td>10</td>\n",
       "      <td>*Type: Shirt  \\n*Fit: Regular fit  \\n*Sleeve s...</td>\n",
       "      <td>The Gucci cotton poplin shirt, inspired by sum...</td>\n",
       "      <td>Gucci</td>\n",
       "      <td>850.0</td>\n",
       "      <td>https://www.gucci.com/it/it/pr/women/ready-to-...</td>\n",
       "    </tr>\n",
       "  </tbody>\n",
       "</table>\n",
       "</div>"
      ],
      "text/plain": [
       "   id  Brand_id                                             Detail  \\\n",
       "0   2         2  *Type: Shirt  \\n*Fit: Regular fit  \\n*Sleeve s...   \n",
       "1   4         4  *Type: Shirt  \\n*Fit: Regular fit  \\n*Sleeve s...   \n",
       "2   6         6  *Type: Shirt  \\n*Fit: Regular fit  \\n*Sleeve s...   \n",
       "3   8         8  *Type: Top\\n*Fit: Regular fit\\n*Sleeve style: ...   \n",
       "4  11        10  *Type: Shirt  \\n*Fit: Regular fit  \\n*Sleeve s...   \n",
       "\n",
       "                                             Summary  Brand   Price  \\\n",
       "0  The shirt depicted in the images is a Gucci Ox...  Gucci   650.0   \n",
       "1  The showcased shirt is a luxurious Gucci creat...  Gucci  1300.0   \n",
       "2  The shirt showcased in the images is a Gucci p...  Gucci  1100.0   \n",
       "3  The showcased top from Gucci is a floral lace ...  Gucci   980.0   \n",
       "4  The Gucci cotton poplin shirt, inspired by sum...  Gucci   850.0   \n",
       "\n",
       "                                                Link  \n",
       "0  https://www.gucci.com/it/it/pr/women/ready-to-...  \n",
       "1  https://www.gucci.com/it/it/pr/women/ready-to-...  \n",
       "2  https://www.gucci.com/it/it/pr/women/ready-to-...  \n",
       "3  https://www.gucci.com/it/it/pr/women/ready-to-...  \n",
       "4  https://www.gucci.com/it/it/pr/women/ready-to-...  "
      ]
     },
     "execution_count": 8,
     "metadata": {},
     "output_type": "execute_result"
    }
   ],
   "source": [
    "df = pd.DataFrame(rows ,columns= ['id', 'Brand_id', 'Detail','Summary', 'Brand', 'Price', 'Link'])\n",
    "df.head()"
   ]
  },
  {
   "cell_type": "code",
   "execution_count": 9,
   "metadata": {},
   "outputs": [
    {
     "data": {
      "text/html": [
       "<div>\n",
       "<style scoped>\n",
       "    .dataframe tbody tr th:only-of-type {\n",
       "        vertical-align: middle;\n",
       "    }\n",
       "\n",
       "    .dataframe tbody tr th {\n",
       "        vertical-align: top;\n",
       "    }\n",
       "\n",
       "    .dataframe thead th {\n",
       "        text-align: right;\n",
       "    }\n",
       "</style>\n",
       "<table border=\"1\" class=\"dataframe\">\n",
       "  <thead>\n",
       "    <tr style=\"text-align: right;\">\n",
       "      <th></th>\n",
       "      <th>Brand_id</th>\n",
       "      <th>image_link</th>\n",
       "      <th>base64</th>\n",
       "    </tr>\n",
       "  </thead>\n",
       "  <tbody>\n",
       "    <tr>\n",
       "      <th>0</th>\n",
       "      <td>1</td>\n",
       "      <td>https://media.gucci.com/style/DarkGray_Center_...</td>\n",
       "      <td>data:image/jpeg;base64, /9j/4AAQSkZJRgABAQAAAQ...</td>\n",
       "    </tr>\n",
       "    <tr>\n",
       "      <th>1</th>\n",
       "      <td>1</td>\n",
       "      <td>https://media.gucci.com/style/DarkGray_Center_...</td>\n",
       "      <td>data:image/jpeg;base64, /9j/4AAQSkZJRgABAQAAAQ...</td>\n",
       "    </tr>\n",
       "    <tr>\n",
       "      <th>2</th>\n",
       "      <td>1</td>\n",
       "      <td>https://media.gucci.com/style/DarkGray_Center_...</td>\n",
       "      <td>data:image/jpeg;base64, /9j/4AAQSkZJRgABAQAAAQ...</td>\n",
       "    </tr>\n",
       "    <tr>\n",
       "      <th>3</th>\n",
       "      <td>1</td>\n",
       "      <td>https://media.gucci.com/style/White_Center_0_0...</td>\n",
       "      <td>data:image/jpeg;base64, /9j/4AAQSkZJRgABAQAAAQ...</td>\n",
       "    </tr>\n",
       "    <tr>\n",
       "      <th>4</th>\n",
       "      <td>2</td>\n",
       "      <td>https://media.gucci.com/style/DarkGray_Center_...</td>\n",
       "      <td>data:image/jpeg;base64, /9j/4AAQSkZJRgABAQAAAQ...</td>\n",
       "    </tr>\n",
       "  </tbody>\n",
       "</table>\n",
       "</div>"
      ],
      "text/plain": [
       "   Brand_id                                         image_link  \\\n",
       "0         1  https://media.gucci.com/style/DarkGray_Center_...   \n",
       "1         1  https://media.gucci.com/style/DarkGray_Center_...   \n",
       "2         1  https://media.gucci.com/style/DarkGray_Center_...   \n",
       "3         1  https://media.gucci.com/style/White_Center_0_0...   \n",
       "4         2  https://media.gucci.com/style/DarkGray_Center_...   \n",
       "\n",
       "                                              base64  \n",
       "0  data:image/jpeg;base64, /9j/4AAQSkZJRgABAQAAAQ...  \n",
       "1  data:image/jpeg;base64, /9j/4AAQSkZJRgABAQAAAQ...  \n",
       "2  data:image/jpeg;base64, /9j/4AAQSkZJRgABAQAAAQ...  \n",
       "3  data:image/jpeg;base64, /9j/4AAQSkZJRgABAQAAAQ...  \n",
       "4  data:image/jpeg;base64, /9j/4AAQSkZJRgABAQAAAQ...  "
      ]
     },
     "execution_count": 9,
     "metadata": {},
     "output_type": "execute_result"
    }
   ],
   "source": [
    "df_img = pd.DataFrame(rows_img ,columns= ['Brand_id','image_link','base64'])\n",
    "df_img['image_link'] = df_img['image_link'].apply(lambda x: x if 'https' in x else 'https:' +  x )\n",
    "df_img.head()"
   ]
  },
  {
   "cell_type": "code",
   "execution_count": 11,
   "metadata": {},
   "outputs": [],
   "source": [
    "df.to_csv('main_0.6.csv')\n",
    "df_img.to_csv('images_0.6.csv')"
   ]
  },
  {
   "cell_type": "code",
   "execution_count": 192,
   "metadata": {},
   "outputs": [],
   "source": [
    "df['Detail'] = df['Detail'] = df['Detail'].str.replace('\\n', ' / ').str.replace(r'\\s+', ' ').str.replace('*', ' ')"
   ]
  },
  {
   "cell_type": "code",
   "execution_count": 193,
   "metadata": {},
   "outputs": [],
   "source": [
    "import numpy as np"
   ]
  },
  {
   "cell_type": "code",
   "execution_count": 194,
   "metadata": {},
   "outputs": [],
   "source": [
    "final_df = pd.DataFrame()\n",
    "\n",
    "for parent_row in df.Detail: \n",
    "    x = []\n",
    "    for row in parent_row.split('/'):\n",
    "        x.append(row.split(':'))\n",
    "\n",
    "    temp_dataframe = pd.DataFrame(x)\n",
    "    temp_dataframe[0] = temp_dataframe[0].str.lower()\n",
    "    temp_dataframe = temp_dataframe.sort_values(by=0)\n",
    "    temp_dataframe = temp_dataframe.groupby(0)[1].apply(lambda x: ', '.join(x)).reset_index()\n",
    "        \n",
    "    temp_dataframe = temp_dataframe.set_index(0).T\n",
    "    temp_dataframe.columns = temp_dataframe.columns.str.lstrip()\n",
    "    \n",
    "    final_df = pd.concat([final_df,temp_dataframe], ignore_index = True)\n",
    "\n",
    "final_df['seasson'] = final_df['season'].combine_first(final_df['seasson'])\n",
    "final_df = final_df.drop('season', axis=1)"
   ]
  },
  {
   "cell_type": "code",
   "execution_count": 214,
   "metadata": {},
   "outputs": [
    {
     "data": {
      "text/html": [
       "<div>\n",
       "<style scoped>\n",
       "    .dataframe tbody tr th:only-of-type {\n",
       "        vertical-align: middle;\n",
       "    }\n",
       "\n",
       "    .dataframe tbody tr th {\n",
       "        vertical-align: top;\n",
       "    }\n",
       "\n",
       "    .dataframe thead th {\n",
       "        text-align: right;\n",
       "    }\n",
       "</style>\n",
       "<table border=\"1\" class=\"dataframe\">\n",
       "  <thead>\n",
       "    <tr style=\"text-align: right;\">\n",
       "      <th></th>\n",
       "      <th>breathability</th>\n",
       "      <th>collar style</th>\n",
       "      <th>colors</th>\n",
       "      <th>details and embellishments</th>\n",
       "      <th>fabric weight</th>\n",
       "      <th>fit</th>\n",
       "      <th>fluidity of fabric</th>\n",
       "      <th>formality</th>\n",
       "      <th>lapel</th>\n",
       "      <th>length</th>\n",
       "      <th>...</th>\n",
       "      <th>patterns placement</th>\n",
       "      <th>pocket placement</th>\n",
       "      <th>pocket presence</th>\n",
       "      <th>pocket size</th>\n",
       "      <th>shape</th>\n",
       "      <th>sleeve style</th>\n",
       "      <th>texture</th>\n",
       "      <th>transparency</th>\n",
       "      <th>type</th>\n",
       "      <th>seasson</th>\n",
       "    </tr>\n",
       "  </thead>\n",
       "  <tbody>\n",
       "    <tr>\n",
       "      <th>0</th>\n",
       "      <td>High</td>\n",
       "      <td>Button-down</td>\n",
       "      <td>80% Pink, 20% Light Pink</td>\n",
       "      <td>Buttons</td>\n",
       "      <td>Light</td>\n",
       "      <td>Regular fit</td>\n",
       "      <td>High</td>\n",
       "      <td>Formal</td>\n",
       "      <td>Not applicable</td>\n",
       "      <td>Hip-length</td>\n",
       "      <td>...</td>\n",
       "      <td>Not applicable</td>\n",
       "      <td>Not applicable</td>\n",
       "      <td>No</td>\n",
       "      <td>Not applicable</td>\n",
       "      <td>Fitted</td>\n",
       "      <td>Long   ,  Long sleeve</td>\n",
       "      <td>Smooth</td>\n",
       "      <td>Semi-transparent</td>\n",
       "      <td>Shirt</td>\n",
       "      <td>Spring, Summer</td>\n",
       "    </tr>\n",
       "    <tr>\n",
       "      <th>1</th>\n",
       "      <td>High</td>\n",
       "      <td>Button-down</td>\n",
       "      <td>Light Blue 100%</td>\n",
       "      <td>Buttons, Embroidery</td>\n",
       "      <td>Light</td>\n",
       "      <td>Regular fit</td>\n",
       "      <td>Medium</td>\n",
       "      <td>Business Casual, Casual</td>\n",
       "      <td>Not applicable</td>\n",
       "      <td>Hip-length</td>\n",
       "      <td>...</td>\n",
       "      <td>All over</td>\n",
       "      <td>Not applicable</td>\n",
       "      <td>No</td>\n",
       "      <td>Not applicable</td>\n",
       "      <td>Fitted</td>\n",
       "      <td>Long ,  Long sleeve</td>\n",
       "      <td>Smooth</td>\n",
       "      <td>Opaque</td>\n",
       "      <td>Shirt</td>\n",
       "      <td>Spring, Summer, Autumn</td>\n",
       "    </tr>\n",
       "  </tbody>\n",
       "</table>\n",
       "<p>2 rows × 24 columns</p>\n",
       "</div>"
      ],
      "text/plain": [
       "0 breathability     collar style                        colors  \\\n",
       "0       High      Button-down      80% Pink, 20% Light Pink      \n",
       "1         High      Button-down               Light Blue 100%    \n",
       "\n",
       "0 details and embellishments fabric weight              fit  \\\n",
       "0                 Buttons         Light      Regular fit      \n",
       "1       Buttons, Embroidery         Light      Regular fit    \n",
       "\n",
       "0 fluidity of fabric                  formality            lapel  \\\n",
       "0            High                     Formal      Not applicable   \n",
       "1            Medium    Business Casual, Casual    Not applicable   \n",
       "\n",
       "0          length  ...  patterns placement    pocket placement  \\\n",
       "0   Hip-length     ...   Not applicable      Not applicable      \n",
       "1     Hip-length   ...           All over      Not applicable    \n",
       "\n",
       "0 pocket presence         pocket size       shape               sleeve style  \\\n",
       "0           No      Not applicable      Fitted      Long   ,  Long sleeve      \n",
       "1             No      Not applicable      Fitted        Long ,  Long sleeve    \n",
       "\n",
       "0     texture          transparency       type                   seasson  \n",
       "0   Smooth      Semi-transparent      Shirt            Spring, Summer     \n",
       "1     Smooth                Opaque      Shirt    Spring, Summer, Autumn   \n",
       "\n",
       "[2 rows x 24 columns]"
      ]
     },
     "execution_count": 214,
     "metadata": {},
     "output_type": "execute_result"
    }
   ],
   "source": [
    "final_df.head(2)"
   ]
  },
  {
   "cell_type": "code",
   "execution_count": 219,
   "metadata": {},
   "outputs": [],
   "source": [
    "df = pd.concat([df,final_df], axis=1)"
   ]
  },
  {
   "cell_type": "code",
   "execution_count": 221,
   "metadata": {},
   "outputs": [
    {
     "data": {
      "text/html": [
       "<div>\n",
       "<style scoped>\n",
       "    .dataframe tbody tr th:only-of-type {\n",
       "        vertical-align: middle;\n",
       "    }\n",
       "\n",
       "    .dataframe tbody tr th {\n",
       "        vertical-align: top;\n",
       "    }\n",
       "\n",
       "    .dataframe thead th {\n",
       "        text-align: right;\n",
       "    }\n",
       "</style>\n",
       "<table border=\"1\" class=\"dataframe\">\n",
       "  <thead>\n",
       "    <tr style=\"text-align: right;\">\n",
       "      <th></th>\n",
       "      <th>id</th>\n",
       "      <th>Brand_id</th>\n",
       "      <th>Detail</th>\n",
       "      <th>Summary</th>\n",
       "      <th>Brand</th>\n",
       "      <th>Price</th>\n",
       "      <th>Link</th>\n",
       "      <th>breathability</th>\n",
       "      <th>collar style</th>\n",
       "      <th>colors</th>\n",
       "      <th>...</th>\n",
       "      <th>patterns placement</th>\n",
       "      <th>pocket placement</th>\n",
       "      <th>pocket presence</th>\n",
       "      <th>pocket size</th>\n",
       "      <th>shape</th>\n",
       "      <th>sleeve style</th>\n",
       "      <th>texture</th>\n",
       "      <th>transparency</th>\n",
       "      <th>type</th>\n",
       "      <th>seasson</th>\n",
       "    </tr>\n",
       "  </thead>\n",
       "  <tbody>\n",
       "    <tr>\n",
       "      <th>0</th>\n",
       "      <td>1</td>\n",
       "      <td>1</td>\n",
       "      <td>Type: Shirt   /  Fit: Regular fit   /  Sleeve...</td>\n",
       "      <td>The Gucci silk shirt features the iconic GG mo...</td>\n",
       "      <td>Gucci</td>\n",
       "      <td>1500.0</td>\n",
       "      <td>https://www.gucci.com/it/it/pr/women/ready-to-...</td>\n",
       "      <td>High</td>\n",
       "      <td>Button-down</td>\n",
       "      <td>80% Pink, 20% Light Pink</td>\n",
       "      <td>...</td>\n",
       "      <td>Not applicable</td>\n",
       "      <td>Not applicable</td>\n",
       "      <td>No</td>\n",
       "      <td>Not applicable</td>\n",
       "      <td>Fitted</td>\n",
       "      <td>Long   ,  Long sleeve</td>\n",
       "      <td>Smooth</td>\n",
       "      <td>Semi-transparent</td>\n",
       "      <td>Shirt</td>\n",
       "      <td>Spring, Summer</td>\n",
       "    </tr>\n",
       "  </tbody>\n",
       "</table>\n",
       "<p>1 rows × 31 columns</p>\n",
       "</div>"
      ],
      "text/plain": [
       "   id  Brand_id                                             Detail  \\\n",
       "0   1         1   Type: Shirt   /  Fit: Regular fit   /  Sleeve...   \n",
       "\n",
       "                                             Summary  Brand   Price  \\\n",
       "0  The Gucci silk shirt features the iconic GG mo...  Gucci  1500.0   \n",
       "\n",
       "                                                Link breathability  \\\n",
       "0  https://www.gucci.com/it/it/pr/women/ready-to-...       High      \n",
       "\n",
       "      collar style                        colors  ...  patterns placement  \\\n",
       "0   Button-down      80% Pink, 20% Light Pink     ...   Not applicable      \n",
       "\n",
       "     pocket placement pocket presence         pocket size       shape  \\\n",
       "0   Not applicable              No      Not applicable      Fitted      \n",
       "\n",
       "                sleeve style     texture          transparency       type  \\\n",
       "0   Long   ,  Long sleeve      Smooth      Semi-transparent      Shirt      \n",
       "\n",
       "              seasson  \n",
       "0   Spring, Summer     \n",
       "\n",
       "[1 rows x 31 columns]"
      ]
     },
     "execution_count": 221,
     "metadata": {},
     "output_type": "execute_result"
    }
   ],
   "source": [
    "df.head(1)"
   ]
  },
  {
   "cell_type": "code",
   "execution_count": 223,
   "metadata": {},
   "outputs": [
    {
     "data": {
      "text/plain": [
       "Index(['id', 'Brand_id', 'Detail', 'Summary', 'Brand', 'Price', 'Link',\n",
       "       'breathability', 'collar style', 'colors', 'details and embellishments',\n",
       "       'fabric weight', 'fit', 'fluidity of fabric', 'formality', 'lapel',\n",
       "       'length', 'material', 'neckline', 'occasion suitability', 'patterns',\n",
       "       'patterns placement', 'pocket placement', 'pocket presence',\n",
       "       'pocket size', 'shape', 'sleeve style', 'texture', 'transparency',\n",
       "       'type', 'seasson'],\n",
       "      dtype='object')"
      ]
     },
     "execution_count": 223,
     "metadata": {},
     "output_type": "execute_result"
    }
   ],
   "source": [
    "df.columns"
   ]
  },
  {
   "cell_type": "code",
   "execution_count": 206,
   "metadata": {},
   "outputs": [],
   "source": [
    "import matplotlib.pyplot as plt"
   ]
  },
  {
   "cell_type": "code",
   "execution_count": 224,
   "metadata": {},
   "outputs": [],
   "source": [
    "df.to_csv('main.csv')"
   ]
  },
  {
   "cell_type": "code",
   "execution_count": 225,
   "metadata": {},
   "outputs": [],
   "source": [
    "df_img.to_csv('img.csv')"
   ]
  }
 ],
 "metadata": {
  "kernelspec": {
   "display_name": "Python 3",
   "language": "python",
   "name": "python3"
  },
  "language_info": {
   "codemirror_mode": {
    "name": "ipython",
    "version": 3
   },
   "file_extension": ".py",
   "mimetype": "text/x-python",
   "name": "python",
   "nbconvert_exporter": "python",
   "pygments_lexer": "ipython3",
   "version": "3.11.8"
  }
 },
 "nbformat": 4,
 "nbformat_minor": 2
}
