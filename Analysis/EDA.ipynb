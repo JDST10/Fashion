{
 "cells": [
  {
   "cell_type": "code",
   "execution_count": 15,
   "metadata": {},
   "outputs": [],
   "source": [
    "import sys, os\n",
    "sys.path.append(os.path.join(os.path.dirname('__file__'), '..', 'DB_and_Azure'))\n",
    "import sql_db_functions as SQLf\n",
    "\n",
    "import pandas as pd"
   ]
  },
  {
   "cell_type": "code",
   "execution_count": 16,
   "metadata": {},
   "outputs": [],
   "source": [
    "conn, cursor = SQLf.sql_db_functions.connect_sql()"
   ]
  },
  {
   "cell_type": "code",
   "execution_count": 17,
   "metadata": {},
   "outputs": [],
   "source": [
    "query = f\"SELECT product_characteristics.id, Brand_id, Detail,Summary, Brand, Price, Link FROM product_characteristics INNER JOIN Products ON product_characteristics.Brand_id = Products.Brand_Prod_id ;\"\n",
    "cursor.execute(query)\n",
    "\n",
    "# Fetch the rows\n",
    "rows = cursor.fetchall()\n",
    "#rows"
   ]
  },
  {
   "cell_type": "code",
   "execution_count": 18,
   "metadata": {},
   "outputs": [],
   "source": [
    "conn, cursor = SQLf.sql_db_functions.connect_sql()"
   ]
  },
  {
   "cell_type": "code",
   "execution_count": 19,
   "metadata": {},
   "outputs": [],
   "source": [
    "query = f\"SELECT Brand_id, image_link FROM product_img ;\"\n",
    "cursor.execute(query)\n",
    "\n",
    "# Fetch the rows\n",
    "rows_img = cursor.fetchall()\n",
    "#rows"
   ]
  },
  {
   "cell_type": "code",
   "execution_count": 20,
   "metadata": {},
   "outputs": [],
   "source": [
    "SQLf.sql_db_functions.close_connection_db(conn=conn,cursor=cursor)"
   ]
  },
  {
   "cell_type": "code",
   "execution_count": 21,
   "metadata": {},
   "outputs": [],
   "source": [
    "import pandas as pd"
   ]
  },
  {
   "cell_type": "code",
   "execution_count": 22,
   "metadata": {},
   "outputs": [
    {
     "data": {
      "text/html": [
       "<div>\n",
       "<style scoped>\n",
       "    .dataframe tbody tr th:only-of-type {\n",
       "        vertical-align: middle;\n",
       "    }\n",
       "\n",
       "    .dataframe tbody tr th {\n",
       "        vertical-align: top;\n",
       "    }\n",
       "\n",
       "    .dataframe thead th {\n",
       "        text-align: right;\n",
       "    }\n",
       "</style>\n",
       "<table border=\"1\" class=\"dataframe\">\n",
       "  <thead>\n",
       "    <tr style=\"text-align: right;\">\n",
       "      <th></th>\n",
       "      <th>id</th>\n",
       "      <th>Brand_id</th>\n",
       "      <th>Detail</th>\n",
       "      <th>Summary</th>\n",
       "      <th>Brand</th>\n",
       "      <th>Price</th>\n",
       "      <th>Link</th>\n",
       "    </tr>\n",
       "  </thead>\n",
       "  <tbody>\n",
       "    <tr>\n",
       "      <th>0</th>\n",
       "      <td>161</td>\n",
       "      <td>1</td>\n",
       "      <td>*Type: Shirt\\n    *Fit: Regular fit\\n    *...</td>\n",
       "      <td>The item is a Gucci silk shirt featuring an op...</td>\n",
       "      <td>Gucci</td>\n",
       "      <td>1500.0</td>\n",
       "      <td>https://www.gucci.com/it/it/pr/women/ready-to-...</td>\n",
       "    </tr>\n",
       "    <tr>\n",
       "      <th>1</th>\n",
       "      <td>162</td>\n",
       "      <td>2</td>\n",
       "      <td>*Type: Shirt  \\n*Fit: Regular fit  \\n*Sleeve s...</td>\n",
       "      <td>The Gucci cotton Oxford GG shirt with an optic...</td>\n",
       "      <td>Gucci</td>\n",
       "      <td>650.0</td>\n",
       "      <td>https://www.gucci.com/it/it/pr/women/ready-to-...</td>\n",
       "    </tr>\n",
       "    <tr>\n",
       "      <th>2</th>\n",
       "      <td>163</td>\n",
       "      <td>3</td>\n",
       "      <td>*Type: Cropped blouse  \\n*Fit: Regular fit  \\n...</td>\n",
       "      <td>The Gucci top is a cropped blouse made of luxu...</td>\n",
       "      <td>Gucci</td>\n",
       "      <td>720.0</td>\n",
       "      <td>https://www.gucci.com/it/it/pr/women/ready-to-...</td>\n",
       "    </tr>\n",
       "    <tr>\n",
       "      <th>3</th>\n",
       "      <td>164</td>\n",
       "      <td>4</td>\n",
       "      <td>*Type: Shirt  \\n*Fit: Regular fit  \\n*Sleeve s...</td>\n",
       "      <td>The garment in question is a Gucci Camicia in ...</td>\n",
       "      <td>Gucci</td>\n",
       "      <td>1100.0</td>\n",
       "      <td>https://www.gucci.com/it/it/pr/women/ready-to-...</td>\n",
       "    </tr>\n",
       "    <tr>\n",
       "      <th>4</th>\n",
       "      <td>165</td>\n",
       "      <td>5</td>\n",
       "      <td>*Type: Shirt  \\n*Fit: Regular fit  \\n*Sleeve s...</td>\n",
       "      <td>The garment in question is a Gucci cotton popl...</td>\n",
       "      <td>Gucci</td>\n",
       "      <td>1100.0</td>\n",
       "      <td>https://www.gucci.com/it/it/pr/women/ready-to-...</td>\n",
       "    </tr>\n",
       "  </tbody>\n",
       "</table>\n",
       "</div>"
      ],
      "text/plain": [
       "    id  Brand_id                                             Detail  \\\n",
       "0  161         1      *Type: Shirt\\n    *Fit: Regular fit\\n    *...   \n",
       "1  162         2  *Type: Shirt  \\n*Fit: Regular fit  \\n*Sleeve s...   \n",
       "2  163         3  *Type: Cropped blouse  \\n*Fit: Regular fit  \\n...   \n",
       "3  164         4  *Type: Shirt  \\n*Fit: Regular fit  \\n*Sleeve s...   \n",
       "4  165         5  *Type: Shirt  \\n*Fit: Regular fit  \\n*Sleeve s...   \n",
       "\n",
       "                                             Summary  Brand   Price  \\\n",
       "0  The item is a Gucci silk shirt featuring an op...  Gucci  1500.0   \n",
       "1  The Gucci cotton Oxford GG shirt with an optic...  Gucci   650.0   \n",
       "2  The Gucci top is a cropped blouse made of luxu...  Gucci   720.0   \n",
       "3  The garment in question is a Gucci Camicia in ...  Gucci  1100.0   \n",
       "4  The garment in question is a Gucci cotton popl...  Gucci  1100.0   \n",
       "\n",
       "                                                Link  \n",
       "0  https://www.gucci.com/it/it/pr/women/ready-to-...  \n",
       "1  https://www.gucci.com/it/it/pr/women/ready-to-...  \n",
       "2  https://www.gucci.com/it/it/pr/women/ready-to-...  \n",
       "3  https://www.gucci.com/it/it/pr/women/ready-to-...  \n",
       "4  https://www.gucci.com/it/it/pr/women/ready-to-...  "
      ]
     },
     "execution_count": 22,
     "metadata": {},
     "output_type": "execute_result"
    }
   ],
   "source": [
    "df = pd.DataFrame(rows ,columns= ['id', 'Brand_id', 'Detail','Summary', 'Brand', 'Price', 'Link'])\n",
    "df.head()"
   ]
  },
  {
   "cell_type": "code",
   "execution_count": 23,
   "metadata": {},
   "outputs": [
    {
     "data": {
      "text/html": [
       "<div>\n",
       "<style scoped>\n",
       "    .dataframe tbody tr th:only-of-type {\n",
       "        vertical-align: middle;\n",
       "    }\n",
       "\n",
       "    .dataframe tbody tr th {\n",
       "        vertical-align: top;\n",
       "    }\n",
       "\n",
       "    .dataframe thead th {\n",
       "        text-align: right;\n",
       "    }\n",
       "</style>\n",
       "<table border=\"1\" class=\"dataframe\">\n",
       "  <thead>\n",
       "    <tr style=\"text-align: right;\">\n",
       "      <th></th>\n",
       "      <th>Brand_id</th>\n",
       "      <th>image_link</th>\n",
       "    </tr>\n",
       "  </thead>\n",
       "  <tbody>\n",
       "    <tr>\n",
       "      <th>0</th>\n",
       "      <td>1</td>\n",
       "      <td>//media.gucci.com/style/DarkGray_Center_0_0_98...</td>\n",
       "    </tr>\n",
       "    <tr>\n",
       "      <th>1</th>\n",
       "      <td>1</td>\n",
       "      <td>//media.gucci.com/style/DarkGray_Center_0_0_98...</td>\n",
       "    </tr>\n",
       "    <tr>\n",
       "      <th>2</th>\n",
       "      <td>55</td>\n",
       "      <td>https://shop.mango.com/assets/rcs/pics/static/...</td>\n",
       "    </tr>\n",
       "    <tr>\n",
       "      <th>3</th>\n",
       "      <td>82</td>\n",
       "      <td>https://www.prada.com/content/dam/pradabkg_pro...</td>\n",
       "    </tr>\n",
       "    <tr>\n",
       "      <th>4</th>\n",
       "      <td>83</td>\n",
       "      <td>https://www.prada.com/content/dam/pradabkg_pro...</td>\n",
       "    </tr>\n",
       "  </tbody>\n",
       "</table>\n",
       "</div>"
      ],
      "text/plain": [
       "   Brand_id                                         image_link\n",
       "0         1  //media.gucci.com/style/DarkGray_Center_0_0_98...\n",
       "1         1  //media.gucci.com/style/DarkGray_Center_0_0_98...\n",
       "2        55  https://shop.mango.com/assets/rcs/pics/static/...\n",
       "3        82  https://www.prada.com/content/dam/pradabkg_pro...\n",
       "4        83  https://www.prada.com/content/dam/pradabkg_pro..."
      ]
     },
     "execution_count": 23,
     "metadata": {},
     "output_type": "execute_result"
    }
   ],
   "source": [
    "df_img = pd.DataFrame(rows_img ,columns= ['Brand_id','image_link'])\n",
    "df_img.head()"
   ]
  },
  {
   "cell_type": "markdown",
   "metadata": {},
   "source": [
    "### Organize the Details"
   ]
  },
  {
   "cell_type": "code",
   "execution_count": 24,
   "metadata": {},
   "outputs": [
    {
     "data": {
      "text/plain": [
       "'The item is a Gucci silk shirt featuring an optical GG monogram print. It is designed with a regular fit and features long sleeves with buttoned cuffs. The neckline is a classic pointed collar, adding a touch of formality. The material used is high-quality silk, which gives the shirt a luxurious feel and fluid drape, suitable for all seasons due to its breathability and lightweight nature. The primary colors used are a deep lavender (5467) and white, which are intricately interwoven to create a striking visual effect. The pattern placement is consistent throughout the shirt, ensuring a cohesive look. The texture is smooth and slightly glossy, typical of silk fabric, with no transparency, making it appropriate for both formal and semi-formal occasions. There are no pockets, embellishments, or lapels, which maintains a sleek and streamlined silhouette. The shirt’s length is standard, typically falling just below the waistline, and it is finished with concealed buttons for a minimalist aesthetic.'"
      ]
     },
     "execution_count": 24,
     "metadata": {},
     "output_type": "execute_result"
    }
   ],
   "source": [
    "df[['Brand_id','Summary']].iloc[0].Summary"
   ]
  },
  {
   "cell_type": "code",
   "execution_count": null,
   "metadata": {},
   "outputs": [],
   "source": [
    "df"
   ]
  },
  {
   "cell_type": "code",
   "execution_count": null,
   "metadata": {},
   "outputs": [],
   "source": []
  }
 ],
 "metadata": {
  "kernelspec": {
   "display_name": "Python 3",
   "language": "python",
   "name": "python3"
  },
  "language_info": {
   "codemirror_mode": {
    "name": "ipython",
    "version": 3
   },
   "file_extension": ".py",
   "mimetype": "text/x-python",
   "name": "python",
   "nbconvert_exporter": "python",
   "pygments_lexer": "ipython3",
   "version": "3.11.8"
  }
 },
 "nbformat": 4,
 "nbformat_minor": 2
}
