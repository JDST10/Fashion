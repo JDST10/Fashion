{
 "cells": [
  {
   "cell_type": "code",
   "execution_count": 1,
   "metadata": {},
   "outputs": [
    {
     "name": "stderr",
     "output_type": "stream",
     "text": [
      "c:\\Users\\juand\\anaconda3\\Lib\\site-packages\\sentence_transformers\\cross_encoder\\CrossEncoder.py:11: TqdmExperimentalWarning: Using `tqdm.autonotebook.tqdm` in notebook mode. Use `tqdm.tqdm` instead to force console mode (e.g. in jupyter console)\n",
      "  from tqdm.autonotebook import tqdm, trange\n",
      "c:\\Users\\juand\\anaconda3\\Lib\\site-packages\\transformers\\utils\\generic.py:482: UserWarning: torch.utils._pytree._register_pytree_node is deprecated. Please use torch.utils._pytree.register_pytree_node instead.\n",
      "  _torch_pytree._register_pytree_node(\n",
      "c:\\Users\\juand\\anaconda3\\Lib\\site-packages\\transformers\\utils\\generic.py:339: UserWarning: torch.utils._pytree._register_pytree_node is deprecated. Please use torch.utils._pytree.register_pytree_node instead.\n",
      "  _torch_pytree._register_pytree_node(\n"
     ]
    }
   ],
   "source": [
    "import pandas as pd\n",
    "import numpy as np\n",
    "\n",
    "import matplotlib.pyplot as plt\n",
    "import seaborn as sns\n",
    "\n",
    "import base64\n",
    "from io import BytesIO\n",
    "from PIL import Image\n",
    "\n",
    "import sys, os\n",
    "sys.path.append(os.path.join(os.path.dirname('__file__'), '..', 'Features'))\n",
    "import world_constructions as WC\n",
    "\n",
    "def base64_to_image(base64_string):\n",
    "    # Remove the data URI prefix if present\n",
    "    if \"data:image\" in base64_string:\n",
    "        base64_string = base64_string.split(\",\")[1]\n",
    "    # Decode the Base64 string into bytes\n",
    "    image_bytes = base64.b64decode(base64_string)\n",
    "    return image_bytes\n",
    "\n",
    "def create_image_from_bytes(image_bytes):\n",
    "    # Create a BytesIO object to handle the image data\n",
    "    image_stream = BytesIO(image_bytes)\n",
    "\n",
    "    # Open the image using Pillow (PIL)\n",
    "    image = Image.open(image_stream)\n",
    "    return image\n",
    "\n",
    "def resize_image(image, new_width):\n",
    "    # Open the image\n",
    "\n",
    "    # Calculate the new height while maintaining the aspect ratio\n",
    "    original_width, original_height = image.size\n",
    "    aspect_ratio = original_height / original_width\n",
    "    new_height = int(new_width * aspect_ratio)\n",
    "\n",
    "    # Resize the image\n",
    "    resized_image = image.resize((new_width, new_height))\n",
    "\n",
    "    return resized_image"
   ]
  },
  {
   "cell_type": "code",
   "execution_count": 2,
   "metadata": {},
   "outputs": [],
   "source": [
    "df_lux = WC.world_construction.init_luxury_gallery()\n",
    "df_ret = WC.world_construction.init_retail_gallery()    "
   ]
  },
  {
   "cell_type": "code",
   "execution_count": null,
   "metadata": {},
   "outputs": [],
   "source": [
    "df_lux[]"
   ]
  },
  {
   "cell_type": "code",
   "execution_count": null,
   "metadata": {},
   "outputs": [],
   "source": []
  },
  {
   "cell_type": "code",
   "execution_count": null,
   "metadata": {},
   "outputs": [],
   "source": []
  },
  {
   "cell_type": "code",
   "execution_count": null,
   "metadata": {},
   "outputs": [],
   "source": [
    "l = df_base64[df_base64.prod_id == 31]\n",
    "i = l.index[0]\n",
    "img = l['base64'][i][1]\n",
    "\n",
    "resize_image(create_image_from_bytes(base64_to_image(img)),400)"
   ]
  }
 ],
 "metadata": {
  "kernelspec": {
   "display_name": "Python 3",
   "language": "python",
   "name": "python3"
  },
  "language_info": {
   "codemirror_mode": {
    "name": "ipython",
    "version": 3
   },
   "file_extension": ".py",
   "mimetype": "text/x-python",
   "name": "python",
   "nbconvert_exporter": "python",
   "pygments_lexer": "ipython3",
   "version": "3.11.8"
  }
 },
 "nbformat": 4,
 "nbformat_minor": 2
}
