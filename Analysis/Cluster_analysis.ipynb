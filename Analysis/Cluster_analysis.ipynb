{
 "cells": [
  {
   "cell_type": "code",
   "execution_count": 1,
   "metadata": {},
   "outputs": [
    {
     "name": "stderr",
     "output_type": "stream",
     "text": [
      "c:\\Users\\juand\\anaconda3\\Lib\\site-packages\\sentence_transformers\\cross_encoder\\CrossEncoder.py:11: TqdmExperimentalWarning: Using `tqdm.autonotebook.tqdm` in notebook mode. Use `tqdm.tqdm` instead to force console mode (e.g. in jupyter console)\n",
      "  from tqdm.autonotebook import tqdm, trange\n",
      "c:\\Users\\juand\\anaconda3\\Lib\\site-packages\\transformers\\utils\\generic.py:482: UserWarning: torch.utils._pytree._register_pytree_node is deprecated. Please use torch.utils._pytree.register_pytree_node instead.\n",
      "  _torch_pytree._register_pytree_node(\n",
      "c:\\Users\\juand\\anaconda3\\Lib\\site-packages\\transformers\\utils\\generic.py:339: UserWarning: torch.utils._pytree._register_pytree_node is deprecated. Please use torch.utils._pytree.register_pytree_node instead.\n",
      "  _torch_pytree._register_pytree_node(\n"
     ]
    }
   ],
   "source": [
    "import pandas as pd\n",
    "import numpy as np\n",
    "\n",
    "import matplotlib.pyplot as plt\n",
    "import seaborn as sns\n",
    "\n",
    "import base64\n",
    "from io import BytesIO\n",
    "from PIL import Image\n",
    "\n",
    "import sys, os\n",
    "sys.path.append(os.path.join(os.path.dirname('__file__'), '..', 'Features'))\n",
    "import world_constructions as WC\n",
    "\n",
    "def base64_to_image(base64_string):\n",
    "    # Remove the data URI prefix if present\n",
    "    if \"data:image\" in base64_string:\n",
    "        base64_string = base64_string.split(\",\")[1]\n",
    "    # Decode the Base64 string into bytes\n",
    "    image_bytes = base64.b64decode(base64_string)\n",
    "    return image_bytes\n",
    "\n",
    "def create_image_from_bytes(image_bytes):\n",
    "    # Create a BytesIO object to handle the image data\n",
    "    image_stream = BytesIO(image_bytes)\n",
    "\n",
    "    # Open the image using Pillow (PIL)\n",
    "    image = Image.open(image_stream)\n",
    "    return image\n",
    "\n",
    "def resize_image(image, new_width):\n",
    "    # Open the image\n",
    "\n",
    "    # Calculate the new height while maintaining the aspect ratio\n",
    "    original_width, original_height = image.size\n",
    "    aspect_ratio = original_height / original_width\n",
    "    new_height = int(new_width * aspect_ratio)\n",
    "\n",
    "    # Resize the image\n",
    "    resized_image = image.resize((new_width, new_height))\n",
    "\n",
    "    return resized_image"
   ]
  },
  {
   "cell_type": "code",
   "execution_count": 2,
   "metadata": {},
   "outputs": [],
   "source": [
    "df_lux = WC.world_construction.init_luxury_gallery()\n",
    "df_ret = WC.world_construction.init_retail_gallery()    "
   ]
  },
  {
   "cell_type": "markdown",
   "metadata": {},
   "source": [
    "'luxury brand',/n\n",
    "\n",
    "[21, 54, 53, 22, 51, 37, 50, 30, 27, 29, 32, 20, 28, 52, 34, 31, 23, 26,\n",
    "        25, 49, 36, 35, 24, 33,  2, 14, 38, 56, 10, 13, 12,  7, 11, 55,  6, 44,\n",
    "        47,  5, 15,  1, 19,  3,  4, 40, 16, 18, 17, 43,  8, 39, 41,  0, 57, 48,\n",
    "        46, 45,  9, 42]\n",
    "\n",
    " [4, 4, 3, 4, 4, 4, 4, 4, 4, 4, 3, 4, 4, 3, 3, 4, 4, 4, 4, 4, 2, 1,\n",
    "        1, 2, 2, 2, 2, 1, 2, 1, 1, 2, 2, 2, 2, 2, 2, 1, 3, 4, 4, 4, 4, 4,\n",
    "        4, 4, 4, 4, 4, 2, 1, 1, 2, 1, 1, 4, 3, 4]\n",
    "\n",
    "\n",
    "--------------------\n",
    "'retail brand',\n",
    "\n",
    "[76, 74, 58, 37, 51, 93, 91, 62, 54, 49, 43, 47, 50, 53, 52, 90, 57, 64,\n",
    "         72, 29, 68,  4, 71, 35, 94, 88, 92, 27, 41, 83, 46, 70,  1,  3, 38, 48,\n",
    "         75, 69, 66, 36, 30,  7, 15, 77, 59, 63,  8, 32, 13, 34, 84, 65, 60, 55,\n",
    "         45,  2, 40, 26, 44, 87, 82, 20, 42, 89, 56, 67, 73, 86, 61, 95, 39, 85,\n",
    "          5, 14, 21, 80, 16, 22, 33, 17, 81, 79, 78, 31, 28, 25, 24, 23, 19, 18,\n",
    "         12,  0,  6, 11,  9, 10],\n",
    "\n",
    "[4, 1, 1, 1, 1, 5, 4, 1, 1, 4, 4, 4, 4, 1, 3, 1, 4, 4, 4, 4, 1, 3,\n",
    "         4, 4, 4, 4, 1, 1, 4, 1, 1, 4, 1, 4, 1, 1, 1, 1, 1, 2, 1, 1, 1, 1,\n",
    "         1, 1, 1, 1, 1, 1, 1, 1, 1, 1, 1, 1, 1, 1, 1, 1, 1, 2, 1, 1, 1, 1,\n",
    "         1, 1, 1, 1, 1, 1, 1, 2, 1, 1, 1, 1, 4, 4, 3, 4, 1, 1, 1, 2, 2, 1,\n",
    "         1, 1, 1, 1, 1, 1, 1, 2]\n",
    "\n",
    "---------------------------\n",
    "         \n",
    "'retail brand',\n",
    "[12,  7, 52, 34, 31, 26, 11, 23, 55,  6, 25, 44, 47,  5, 15,  1, 19,  3,\n",
    "         49, 40, 36, 35, 33,  4, 24, 32, 16, 18, 17, 43,  8, 39, 41,  0, 57, 48,\n",
    "         46, 45, 42, 28,  9, 20, 53, 38, 54, 10, 13, 21, 56, 22, 51, 14, 30, 27,\n",
    "         29,  2, 37, 50],\n",
    "\n",
    "[2, 1, 4, 1, 1, 1, 1, 1, 2, 2, 3, 1, 1, 3, 4, 1, 2, 2, 2, 1, 2, 3,\n",
    "         4, 1, 1, 1, 1, 4, 2, 4, 4, 1, 2, 1, 1, 1, 1, 4, 3, 2, 1, 2, 2, 2,\n",
    "         1, 2, 2, 1, 2, 1, 4, 4, 1, 5, 3, 1, 3, 2]\n",
    "\n",
    "-----------------------------\n",
    "'retail no brand',\n",
    "\n",
    "[61,  5, 95, 39, 85, 76, 74, 58, 51, 16, 37, 93, 91, 62, 54, 49, 43, 47,\n",
    "         50, 53, 52, 90, 73, 13, 33, 34, 86, 21, 80,  9, 10, 81, 79, 78, 75, 69,\n",
    "         66, 36, 31, 30, 28, 25, 24, 23, 19, 18, 15, 12,  7,  0,  6, 22, 77, 63,\n",
    "         17, 59,  8, 32, 46, 70,  1,  3, 38, 48, 84, 65, 60, 55, 45, 40,  2, 11,\n",
    "         26, 44, 87, 82, 20, 42, 89, 56, 67, 64, 72, 29, 68,  4, 71, 35, 94, 88,\n",
    "         92, 27, 41, 83, 14, 57],\n",
    "\n",
    "[4, 4, 4, 4, 5, 1, 4, 4, 4, 4, 4, 4, 4, 3, 5, 4, 2, 4, 4, 4, 4, 3,\n",
    "         4, 4, 4, 4, 4, 5, 4, 5, 4, 4, 4, 3, 3, 5, 4, 2, 4, 1, 4, 5, 4, 2,\n",
    "         4, 4, 4, 2, 4, 2, 2, 2, 2, 2, 2, 4, 4, 5, 2, 4, 4, 1, 2, 4, 5, 4,\n",
    "         4, 4, 5, 4, 4, 5, 5, 3, 2, 4, 2, 4, 4, 4, 3, 4, 4, 5, 4, 1, 3, 4,\n",
    "         5, 4, 2, 2, 5, 2, 5, 1]"
   ]
  },
  {
   "cell_type": "code",
   "execution_count": null,
   "metadata": {},
   "outputs": [],
   "source": [
    "l = df_base64[df_base64.prod_id == 31]\n",
    "i = l.index[0]\n",
    "img = l['base64'][i][1]\n",
    "\n",
    "resize_image(create_image_from_bytes(base64_to_image(img)),400)"
   ]
  }
 ],
 "metadata": {
  "kernelspec": {
   "display_name": "Python 3",
   "language": "python",
   "name": "python3"
  },
  "language_info": {
   "codemirror_mode": {
    "name": "ipython",
    "version": 3
   },
   "file_extension": ".py",
   "mimetype": "text/x-python",
   "name": "python",
   "nbconvert_exporter": "python",
   "pygments_lexer": "ipython3",
   "version": "3.11.8"
  }
 },
 "nbformat": 4,
 "nbformat_minor": 2
}
