{
 "cells": [
  {
   "cell_type": "code",
   "execution_count": 2,
   "metadata": {},
   "outputs": [],
   "source": [
    "import sys, os\n",
    "sys.path.append(os.path.join(os.path.dirname('__file__'), '..', 'DB_and_Azure'))\n",
    "import sql_db_functions as SQLf\n"
   ]
  },
  {
   "cell_type": "markdown",
   "metadata": {},
   "source": [
    "### get data from server"
   ]
  },
  {
   "cell_type": "code",
   "execution_count": 47,
   "metadata": {},
   "outputs": [],
   "source": [
    "conn, cursor = SQLf.sql_db_functions.connect_sql()"
   ]
  },
  {
   "cell_type": "code",
   "execution_count": 48,
   "metadata": {},
   "outputs": [],
   "source": [
    "query = f\"SELECT * FROM Products ;\" #LIMIT 5\n",
    "cursor.execute(query)\n",
    "\n",
    "# Fetch the rows\n",
    "rows = cursor.fetchall()"
   ]
  },
  {
   "cell_type": "code",
   "execution_count": 49,
   "metadata": {},
   "outputs": [],
   "source": [
    "import pandas as pd"
   ]
  },
  {
   "cell_type": "code",
   "execution_count": 50,
   "metadata": {},
   "outputs": [
    {
     "data": {
      "text/html": [
       "<div>\n",
       "<style scoped>\n",
       "    .dataframe tbody tr th:only-of-type {\n",
       "        vertical-align: middle;\n",
       "    }\n",
       "\n",
       "    .dataframe tbody tr th {\n",
       "        vertical-align: top;\n",
       "    }\n",
       "\n",
       "    .dataframe thead th {\n",
       "        text-align: right;\n",
       "    }\n",
       "</style>\n",
       "<table border=\"1\" class=\"dataframe\">\n",
       "  <thead>\n",
       "    <tr style=\"text-align: right;\">\n",
       "      <th></th>\n",
       "      <th>Brand_Prod_ID</th>\n",
       "      <th>Brand</th>\n",
       "      <th>Descript</th>\n",
       "      <th>Price</th>\n",
       "      <th>link</th>\n",
       "      <th>Clothing_type</th>\n",
       "    </tr>\n",
       "  </thead>\n",
       "  <tbody>\n",
       "    <tr>\n",
       "      <th>0</th>\n",
       "      <td>1</td>\n",
       "      <td>Gucci</td>\n",
       "      <td>Il monogramma GG è riproposto in versioni e de...</td>\n",
       "      <td>1500.0</td>\n",
       "      <td>https://www.gucci.com/it/it/pr/women/ready-to-...</td>\n",
       "      <td>Top e Camicie Donna</td>\n",
       "    </tr>\n",
       "    <tr>\n",
       "      <th>1</th>\n",
       "      <td>2</td>\n",
       "      <td>Gucci</td>\n",
       "      <td>Il monogramma GG è riproposto in versioni e de...</td>\n",
       "      <td>650.0</td>\n",
       "      <td>https://www.gucci.com/it/it/pr/women/ready-to-...</td>\n",
       "      <td>Top e Camicie Donna</td>\n",
       "    </tr>\n",
       "    <tr>\n",
       "      <th>2</th>\n",
       "      <td>3</td>\n",
       "      <td>Gucci</td>\n",
       "      <td>Ispirato allo spirito estivo e ai beach club d...</td>\n",
       "      <td>720.0</td>\n",
       "      <td>https://www.gucci.com/it/it/pr/women/ready-to-...</td>\n",
       "      <td>Top e Camicie Donna</td>\n",
       "    </tr>\n",
       "    <tr>\n",
       "      <th>3</th>\n",
       "      <td>4</td>\n",
       "      <td>Gucci</td>\n",
       "      <td>Ispirato allo spirito estivo e ai beach club d...</td>\n",
       "      <td>1100.0</td>\n",
       "      <td>https://www.gucci.com/it/it/pr/women/ready-to-...</td>\n",
       "      <td>Top e Camicie Donna</td>\n",
       "    </tr>\n",
       "    <tr>\n",
       "      <th>4</th>\n",
       "      <td>5</td>\n",
       "      <td>Gucci</td>\n",
       "      <td>Ispirato allo spirito estivo e ai beach club d...</td>\n",
       "      <td>1100.0</td>\n",
       "      <td>https://www.gucci.com/it/it/pr/women/ready-to-...</td>\n",
       "      <td>Top e Camicie Donna</td>\n",
       "    </tr>\n",
       "  </tbody>\n",
       "</table>\n",
       "</div>"
      ],
      "text/plain": [
       "   Brand_Prod_ID  Brand                                           Descript  \\\n",
       "0              1  Gucci  Il monogramma GG è riproposto in versioni e de...   \n",
       "1              2  Gucci  Il monogramma GG è riproposto in versioni e de...   \n",
       "2              3  Gucci  Ispirato allo spirito estivo e ai beach club d...   \n",
       "3              4  Gucci  Ispirato allo spirito estivo e ai beach club d...   \n",
       "4              5  Gucci  Ispirato allo spirito estivo e ai beach club d...   \n",
       "\n",
       "    Price                                               link  \\\n",
       "0  1500.0  https://www.gucci.com/it/it/pr/women/ready-to-...   \n",
       "1   650.0  https://www.gucci.com/it/it/pr/women/ready-to-...   \n",
       "2   720.0  https://www.gucci.com/it/it/pr/women/ready-to-...   \n",
       "3  1100.0  https://www.gucci.com/it/it/pr/women/ready-to-...   \n",
       "4  1100.0  https://www.gucci.com/it/it/pr/women/ready-to-...   \n",
       "\n",
       "         Clothing_type  \n",
       "0  Top e Camicie Donna  \n",
       "1  Top e Camicie Donna  \n",
       "2  Top e Camicie Donna  \n",
       "3  Top e Camicie Donna  \n",
       "4  Top e Camicie Donna  "
      ]
     },
     "execution_count": 50,
     "metadata": {},
     "output_type": "execute_result"
    }
   ],
   "source": [
    "df = pd.DataFrame(data=rows, columns=['Brand_Prod_ID','Brand','Descript','Price','link','Clothing_type'])\n",
    "df.head()"
   ]
  },
  {
   "cell_type": "code",
   "execution_count": 51,
   "metadata": {},
   "outputs": [],
   "source": [
    "df['link'] = df['link'].apply(lambda x: x if 'https' in x else 'https:' +  x )"
   ]
  },
  {
   "cell_type": "code",
   "execution_count": 52,
   "metadata": {},
   "outputs": [
    {
     "data": {
      "text/html": [
       "<div>\n",
       "<style scoped>\n",
       "    .dataframe tbody tr th:only-of-type {\n",
       "        vertical-align: middle;\n",
       "    }\n",
       "\n",
       "    .dataframe tbody tr th {\n",
       "        vertical-align: top;\n",
       "    }\n",
       "\n",
       "    .dataframe thead th {\n",
       "        text-align: right;\n",
       "    }\n",
       "</style>\n",
       "<table border=\"1\" class=\"dataframe\">\n",
       "  <thead>\n",
       "    <tr style=\"text-align: right;\">\n",
       "      <th></th>\n",
       "      <th>Brand_Prod_ID</th>\n",
       "      <th>Brand</th>\n",
       "      <th>Descript</th>\n",
       "      <th>Price</th>\n",
       "      <th>link</th>\n",
       "      <th>Clothing_type</th>\n",
       "    </tr>\n",
       "  </thead>\n",
       "  <tbody>\n",
       "    <tr>\n",
       "      <th>0</th>\n",
       "      <td>1</td>\n",
       "      <td>Gucci</td>\n",
       "      <td>Il monogramma GG è riproposto in versioni e de...</td>\n",
       "      <td>1500.0</td>\n",
       "      <td>https://www.gucci.com/it/it/pr/women/ready-to-...</td>\n",
       "      <td>Top e Camicie Donna</td>\n",
       "    </tr>\n",
       "    <tr>\n",
       "      <th>1</th>\n",
       "      <td>2</td>\n",
       "      <td>Gucci</td>\n",
       "      <td>Il monogramma GG è riproposto in versioni e de...</td>\n",
       "      <td>650.0</td>\n",
       "      <td>https://www.gucci.com/it/it/pr/women/ready-to-...</td>\n",
       "      <td>Top e Camicie Donna</td>\n",
       "    </tr>\n",
       "    <tr>\n",
       "      <th>2</th>\n",
       "      <td>3</td>\n",
       "      <td>Gucci</td>\n",
       "      <td>Ispirato allo spirito estivo e ai beach club d...</td>\n",
       "      <td>720.0</td>\n",
       "      <td>https://www.gucci.com/it/it/pr/women/ready-to-...</td>\n",
       "      <td>Top e Camicie Donna</td>\n",
       "    </tr>\n",
       "    <tr>\n",
       "      <th>3</th>\n",
       "      <td>4</td>\n",
       "      <td>Gucci</td>\n",
       "      <td>Ispirato allo spirito estivo e ai beach club d...</td>\n",
       "      <td>1100.0</td>\n",
       "      <td>https://www.gucci.com/it/it/pr/women/ready-to-...</td>\n",
       "      <td>Top e Camicie Donna</td>\n",
       "    </tr>\n",
       "    <tr>\n",
       "      <th>4</th>\n",
       "      <td>5</td>\n",
       "      <td>Gucci</td>\n",
       "      <td>Ispirato allo spirito estivo e ai beach club d...</td>\n",
       "      <td>1100.0</td>\n",
       "      <td>https://www.gucci.com/it/it/pr/women/ready-to-...</td>\n",
       "      <td>Top e Camicie Donna</td>\n",
       "    </tr>\n",
       "  </tbody>\n",
       "</table>\n",
       "</div>"
      ],
      "text/plain": [
       "   Brand_Prod_ID  Brand                                           Descript  \\\n",
       "0              1  Gucci  Il monogramma GG è riproposto in versioni e de...   \n",
       "1              2  Gucci  Il monogramma GG è riproposto in versioni e de...   \n",
       "2              3  Gucci  Ispirato allo spirito estivo e ai beach club d...   \n",
       "3              4  Gucci  Ispirato allo spirito estivo e ai beach club d...   \n",
       "4              5  Gucci  Ispirato allo spirito estivo e ai beach club d...   \n",
       "\n",
       "    Price                                               link  \\\n",
       "0  1500.0  https://www.gucci.com/it/it/pr/women/ready-to-...   \n",
       "1   650.0  https://www.gucci.com/it/it/pr/women/ready-to-...   \n",
       "2   720.0  https://www.gucci.com/it/it/pr/women/ready-to-...   \n",
       "3  1100.0  https://www.gucci.com/it/it/pr/women/ready-to-...   \n",
       "4  1100.0  https://www.gucci.com/it/it/pr/women/ready-to-...   \n",
       "\n",
       "         Clothing_type  \n",
       "0  Top e Camicie Donna  \n",
       "1  Top e Camicie Donna  \n",
       "2  Top e Camicie Donna  \n",
       "3  Top e Camicie Donna  \n",
       "4  Top e Camicie Donna  "
      ]
     },
     "execution_count": 52,
     "metadata": {},
     "output_type": "execute_result"
    }
   ],
   "source": [
    "df.head()"
   ]
  },
  {
   "cell_type": "code",
   "execution_count": 53,
   "metadata": {},
   "outputs": [],
   "source": [
    "SQLf.sql_db_functions.close_connection_db(conn=conn, cursor=cursor)"
   ]
  },
  {
   "cell_type": "markdown",
   "metadata": {},
   "source": [
    "### look for product image"
   ]
  },
  {
   "cell_type": "code",
   "execution_count": 54,
   "metadata": {},
   "outputs": [
    {
     "data": {
      "text/plain": [
       "1"
      ]
     },
     "execution_count": 54,
     "metadata": {},
     "output_type": "execute_result"
    }
   ],
   "source": [
    "current_product_ID = df.iloc[0].Brand_Prod_ID\n",
    "current_product_ID"
   ]
  },
  {
   "cell_type": "code",
   "execution_count": 55,
   "metadata": {},
   "outputs": [],
   "source": [
    "conn, cursor = SQLf.sql_db_functions.connect_sql()"
   ]
  },
  {
   "cell_type": "code",
   "execution_count": 56,
   "metadata": {},
   "outputs": [],
   "source": [
    "query = f\"SELECT * FROM product_img WHERE Brand_id = {current_product_ID} ;\"\n",
    "cursor.execute(query)\n",
    "\n",
    "# Fetch the rows\n",
    "image_links = cursor.fetchall()"
   ]
  },
  {
   "cell_type": "code",
   "execution_count": 57,
   "metadata": {},
   "outputs": [],
   "source": [
    "SQLf.sql_db_functions.close_connection_db(conn=conn, cursor=cursor)"
   ]
  },
  {
   "cell_type": "code",
   "execution_count": 58,
   "metadata": {},
   "outputs": [
    {
     "data": {
      "text/html": [
       "<div>\n",
       "<style scoped>\n",
       "    .dataframe tbody tr th:only-of-type {\n",
       "        vertical-align: middle;\n",
       "    }\n",
       "\n",
       "    .dataframe tbody tr th {\n",
       "        vertical-align: top;\n",
       "    }\n",
       "\n",
       "    .dataframe thead th {\n",
       "        text-align: right;\n",
       "    }\n",
       "</style>\n",
       "<table border=\"1\" class=\"dataframe\">\n",
       "  <thead>\n",
       "    <tr style=\"text-align: right;\">\n",
       "      <th></th>\n",
       "      <th>id</th>\n",
       "      <th>Brand_id</th>\n",
       "      <th>image_link</th>\n",
       "    </tr>\n",
       "  </thead>\n",
       "  <tbody>\n",
       "    <tr>\n",
       "      <th>0</th>\n",
       "      <td>1</td>\n",
       "      <td>1</td>\n",
       "      <td>//media.gucci.com/style/DarkGray_Center_0_0_98...</td>\n",
       "    </tr>\n",
       "    <tr>\n",
       "      <th>1</th>\n",
       "      <td>2</td>\n",
       "      <td>1</td>\n",
       "      <td>//media.gucci.com/style/DarkGray_Center_0_0_98...</td>\n",
       "    </tr>\n",
       "    <tr>\n",
       "      <th>2</th>\n",
       "      <td>3</td>\n",
       "      <td>1</td>\n",
       "      <td>//media.gucci.com/style/DarkGray_Center_0_0_98...</td>\n",
       "    </tr>\n",
       "    <tr>\n",
       "      <th>3</th>\n",
       "      <td>4</td>\n",
       "      <td>1</td>\n",
       "      <td>//media.gucci.com/style/White_Center_0_0_730x4...</td>\n",
       "    </tr>\n",
       "  </tbody>\n",
       "</table>\n",
       "</div>"
      ],
      "text/plain": [
       "   id  Brand_id                                         image_link\n",
       "0   1         1  //media.gucci.com/style/DarkGray_Center_0_0_98...\n",
       "1   2         1  //media.gucci.com/style/DarkGray_Center_0_0_98...\n",
       "2   3         1  //media.gucci.com/style/DarkGray_Center_0_0_98...\n",
       "3   4         1  //media.gucci.com/style/White_Center_0_0_730x4..."
      ]
     },
     "execution_count": 58,
     "metadata": {},
     "output_type": "execute_result"
    }
   ],
   "source": [
    "df_images = pd.DataFrame(data=image_links, columns=['id','Brand_id','image_link'])\n",
    "df_images.head()"
   ]
  },
  {
   "cell_type": "code",
   "execution_count": 59,
   "metadata": {},
   "outputs": [],
   "source": [
    "df_images['image_link'] = df_images['image_link'].apply(lambda x: x if 'https' in x else 'https:' +  x )"
   ]
  },
  {
   "cell_type": "markdown",
   "metadata": {},
   "source": [
    "### Download image"
   ]
  },
  {
   "cell_type": "code",
   "execution_count": 60,
   "metadata": {},
   "outputs": [
    {
     "data": {
      "text/html": [
       "<div>\n",
       "<style scoped>\n",
       "    .dataframe tbody tr th:only-of-type {\n",
       "        vertical-align: middle;\n",
       "    }\n",
       "\n",
       "    .dataframe tbody tr th {\n",
       "        vertical-align: top;\n",
       "    }\n",
       "\n",
       "    .dataframe thead th {\n",
       "        text-align: right;\n",
       "    }\n",
       "</style>\n",
       "<table border=\"1\" class=\"dataframe\">\n",
       "  <thead>\n",
       "    <tr style=\"text-align: right;\">\n",
       "      <th></th>\n",
       "      <th>id</th>\n",
       "      <th>Brand_id</th>\n",
       "      <th>image_link</th>\n",
       "    </tr>\n",
       "  </thead>\n",
       "  <tbody>\n",
       "    <tr>\n",
       "      <th>0</th>\n",
       "      <td>1</td>\n",
       "      <td>1</td>\n",
       "      <td>https://media.gucci.com/style/DarkGray_Center_...</td>\n",
       "    </tr>\n",
       "    <tr>\n",
       "      <th>1</th>\n",
       "      <td>2</td>\n",
       "      <td>1</td>\n",
       "      <td>https://media.gucci.com/style/DarkGray_Center_...</td>\n",
       "    </tr>\n",
       "    <tr>\n",
       "      <th>2</th>\n",
       "      <td>3</td>\n",
       "      <td>1</td>\n",
       "      <td>https://media.gucci.com/style/DarkGray_Center_...</td>\n",
       "    </tr>\n",
       "    <tr>\n",
       "      <th>3</th>\n",
       "      <td>4</td>\n",
       "      <td>1</td>\n",
       "      <td>https://media.gucci.com/style/White_Center_0_0...</td>\n",
       "    </tr>\n",
       "  </tbody>\n",
       "</table>\n",
       "</div>"
      ],
      "text/plain": [
       "   id  Brand_id                                         image_link\n",
       "0   1         1  https://media.gucci.com/style/DarkGray_Center_...\n",
       "1   2         1  https://media.gucci.com/style/DarkGray_Center_...\n",
       "2   3         1  https://media.gucci.com/style/DarkGray_Center_...\n",
       "3   4         1  https://media.gucci.com/style/White_Center_0_0..."
      ]
     },
     "execution_count": 60,
     "metadata": {},
     "output_type": "execute_result"
    }
   ],
   "source": [
    "df_images.head()"
   ]
  },
  {
   "cell_type": "code",
   "execution_count": 61,
   "metadata": {},
   "outputs": [
    {
     "data": {
      "text/plain": [
       "0    Il monogramma GG è riproposto in versioni e de...\n",
       "Name: Descript, dtype: object"
      ]
     },
     "execution_count": 61,
     "metadata": {},
     "output_type": "execute_result"
    }
   ],
   "source": [
    "current_description = df[df.Brand_Prod_ID == current_product_ID]['Descript']\n",
    "current_description"
   ]
  },
  {
   "cell_type": "code",
   "execution_count": 62,
   "metadata": {},
   "outputs": [
    {
     "data": {
      "text/plain": [
       "0    https://media.gucci.com/style/DarkGray_Center_...\n",
       "1    https://media.gucci.com/style/DarkGray_Center_...\n",
       "2    https://media.gucci.com/style/DarkGray_Center_...\n",
       "3    https://media.gucci.com/style/White_Center_0_0...\n",
       "Name: image_link, dtype: object"
      ]
     },
     "execution_count": 62,
     "metadata": {},
     "output_type": "execute_result"
    }
   ],
   "source": [
    "current_images = df_images.image_link\n",
    "current_images"
   ]
  },
  {
   "cell_type": "markdown",
   "metadata": {},
   "source": [
    "### Creating prompt"
   ]
  },
  {
   "cell_type": "code",
   "execution_count": 63,
   "metadata": {},
   "outputs": [],
   "source": [
    "prompt_instructions = \"\"\"\n",
    "\n",
    "    The images are of the same clothing peace, use them to fill the following format to list attributes of the clothing peace in image, separate them with comma:  \n",
    "\n",
    "    *Type:  \n",
    "    *Fit: (Slim fit, regular fit, oversized, tight, loose, etc)\n",
    "    *Sleeve style: (Short sleeve, long sleeve, sleeveless, cap sleeve, etc)     \n",
    "    *Neckline: (Crew neck, V-neck, scoop neck, etc)   \n",
    "    *Material: (Cotton, linen, silk, polyester, etc)\n",
    "    *Formality: (Casual, Business Casual, Formal, etc)\n",
    "    *Seasson:   \n",
    "    *Colors:  (percentage of each color in the clothing peace) \n",
    "    *Texture: (Smooth, Rough, Ribbed, Velvety, etc)\n",
    "    *Transparency: (Opaque, Semi-transparent, Transparent, etc)\n",
    "    *Details and Embellishments: (e.g, buttons, zippers, embroidery)\n",
    "    *Shape: (e.g., boxy, fitted, flared) \n",
    "    *Length: (e.g., cropped, hip-length, tunic)\n",
    "    *Collar Style: (e.g., crew neck, V-neck, polo, button-down)\n",
    "    *Sleeve Style: (e.g., short, long, three-quarter, sleeveless, puffed)\n",
    "    *Patterns: (e.g., stripes, floral, geometric, not applicable)\n",
    "    *Patterns placement: (e.g., lower back, left sholder, right chest, not applicable) \n",
    "    *Fluidity of fabric:\n",
    "    *Fabric weight: (Light, medium, or heavy)\n",
    "    *Pocket Presence:(Yes,No)\n",
    "    *Pocket placement:(e.g., lower back, left sholder, right chest, not applicable)\n",
    "    *Pocket size:(small, medium, big, not applicable)\n",
    "    *Breathability: (Low, Medium, High)\n",
    "    *Occasion Suitability: (Casual, formal, business casual, etc)\n",
    "    *Lapel: (Notch, Peak, Shawl Satin, Slim, Wide, Contrasting, etc)\n",
    "\n",
    "\n",
    "    Use information from the image and the description.\n",
    "    IGNORE BACKGROUND\n",
    "    ONLY ANSWER THE FORMAT  \n",
    "    DONT USE THE BRAND NAME IN ANY DESCRIPTION  \n",
    "    IN EACH DESCRIPTION - CHARACTERISTIC SHOULD BE ITS OWN DESCRIPTION\n",
    "    YOU CAN USE MULTIPLE DESCRIPTIONS IN A SINGLE ATTRIBUTE  \n",
    "    DONT USE MULTICOLOR OR Multicolor, NAME THE SPECIFIC COLORS  \n",
    "    COLORS SHOULD INCLUDE PRINT AND CLOTHE COLORS WITHOUT ANY DESCRIPTION OF THE PRINT ONLY MAIN COLORS\n",
    "   \n",
    "\"\"\""
   ]
  },
  {
   "cell_type": "code",
   "execution_count": 64,
   "metadata": {},
   "outputs": [],
   "source": [
    "def generate_prompt(image_urls, description,prompt_instructions):\n",
    "    # Construct the image part of the prompt\n",
    "    images_text = ' '.join([f\"{url}\" for url in image_urls])\n",
    "    # Combine with the description\n",
    "    prompt_text = f\"\"\"\n",
    "        {images_text} \\n\n",
    "        Description: {description} \\n\n",
    "        \n",
    "        {prompt_instructions}\n",
    "    \"\"\"\n",
    "    return prompt_text"
   ]
  },
  {
   "cell_type": "code",
   "execution_count": 65,
   "metadata": {},
   "outputs": [],
   "source": [
    "prompt_text = generate_prompt(current_images, current_description,prompt_instructions)"
   ]
  },
  {
   "cell_type": "markdown",
   "metadata": {},
   "source": [
    "### Send to chatGPT"
   ]
  },
  {
   "cell_type": "code",
   "execution_count": 66,
   "metadata": {},
   "outputs": [],
   "source": [
    "import getpass\n",
    "from apikey import apikey "
   ]
  },
  {
   "cell_type": "code",
   "execution_count": 67,
   "metadata": {},
   "outputs": [],
   "source": [
    "from langchain_core.prompts import ChatPromptTemplate\n",
    "from langchain_openai import ChatOpenAI\n",
    "from langchain.prompts import ChatPromptTemplate, MessagesPlaceholder\n",
    " "
   ]
  },
  {
   "cell_type": "code",
   "execution_count": 68,
   "metadata": {},
   "outputs": [],
   "source": [
    "os.environ['OPENAI_API_KEY'] = apikey"
   ]
  },
  {
   "cell_type": "code",
   "execution_count": 69,
   "metadata": {},
   "outputs": [],
   "source": [
    "# LLM\n",
    "model = ChatOpenAI(model=\"gpt-4o\", temperature=0.7)"
   ]
  },
  {
   "cell_type": "code",
   "execution_count": 70,
   "metadata": {},
   "outputs": [],
   "source": [
    "# Prompt template\n",
    "prompt = ChatPromptTemplate.from_messages(\n",
    "    [\n",
    "        (\"system\", \"You are a fashion specialist.\"),\n",
    "        (\"user\", prompt_text),\n",
    "    ]\n",
    ")"
   ]
  },
  {
   "cell_type": "code",
   "execution_count": 71,
   "metadata": {},
   "outputs": [],
   "source": [
    "chain = prompt | model"
   ]
  },
  {
   "cell_type": "code",
   "execution_count": 72,
   "metadata": {},
   "outputs": [
    {
     "ename": "KeyboardInterrupt",
     "evalue": "",
     "output_type": "error",
     "traceback": [
      "\u001b[1;31m---------------------------------------------------------------------------\u001b[0m",
      "\u001b[1;31mKeyboardInterrupt\u001b[0m                         Traceback (most recent call last)",
      "Cell \u001b[1;32mIn[72], line 1\u001b[0m\n\u001b[1;32m----> 1\u001b[0m response \u001b[38;5;241m=\u001b[39m chain\u001b[38;5;241m.\u001b[39minvoke({})\n\u001b[0;32m      2\u001b[0m \u001b[38;5;28mprint\u001b[39m(response\u001b[38;5;241m.\u001b[39mcontent)\n",
      "File \u001b[1;32mc:\\Users\\juand\\anaconda3\\Lib\\site-packages\\langchain_core\\runnables\\base.py:2507\u001b[0m, in \u001b[0;36mRunnableSequence.invoke\u001b[1;34m(self, input, config, **kwargs)\u001b[0m\n\u001b[0;32m   2505\u001b[0m             \u001b[38;5;28minput\u001b[39m \u001b[38;5;241m=\u001b[39m step\u001b[38;5;241m.\u001b[39minvoke(\u001b[38;5;28minput\u001b[39m, config, \u001b[38;5;241m*\u001b[39m\u001b[38;5;241m*\u001b[39mkwargs)\n\u001b[0;32m   2506\u001b[0m         \u001b[38;5;28;01melse\u001b[39;00m:\n\u001b[1;32m-> 2507\u001b[0m             \u001b[38;5;28minput\u001b[39m \u001b[38;5;241m=\u001b[39m step\u001b[38;5;241m.\u001b[39minvoke(\u001b[38;5;28minput\u001b[39m, config)\n\u001b[0;32m   2508\u001b[0m \u001b[38;5;66;03m# finish the root run\u001b[39;00m\n\u001b[0;32m   2509\u001b[0m \u001b[38;5;28;01mexcept\u001b[39;00m \u001b[38;5;167;01mBaseException\u001b[39;00m \u001b[38;5;28;01mas\u001b[39;00m e:\n",
      "File \u001b[1;32mc:\\Users\\juand\\anaconda3\\Lib\\site-packages\\langchain_core\\language_models\\chat_models.py:248\u001b[0m, in \u001b[0;36mBaseChatModel.invoke\u001b[1;34m(self, input, config, stop, **kwargs)\u001b[0m\n\u001b[0;32m    237\u001b[0m \u001b[38;5;28;01mdef\u001b[39;00m \u001b[38;5;21minvoke\u001b[39m(\n\u001b[0;32m    238\u001b[0m     \u001b[38;5;28mself\u001b[39m,\n\u001b[0;32m    239\u001b[0m     \u001b[38;5;28minput\u001b[39m: LanguageModelInput,\n\u001b[1;32m   (...)\u001b[0m\n\u001b[0;32m    243\u001b[0m     \u001b[38;5;241m*\u001b[39m\u001b[38;5;241m*\u001b[39mkwargs: Any,\n\u001b[0;32m    244\u001b[0m ) \u001b[38;5;241m-\u001b[39m\u001b[38;5;241m>\u001b[39m BaseMessage:\n\u001b[0;32m    245\u001b[0m     config \u001b[38;5;241m=\u001b[39m ensure_config(config)\n\u001b[0;32m    246\u001b[0m     \u001b[38;5;28;01mreturn\u001b[39;00m cast(\n\u001b[0;32m    247\u001b[0m         ChatGeneration,\n\u001b[1;32m--> 248\u001b[0m         \u001b[38;5;28mself\u001b[39m\u001b[38;5;241m.\u001b[39mgenerate_prompt(\n\u001b[0;32m    249\u001b[0m             [\u001b[38;5;28mself\u001b[39m\u001b[38;5;241m.\u001b[39m_convert_input(\u001b[38;5;28minput\u001b[39m)],\n\u001b[0;32m    250\u001b[0m             stop\u001b[38;5;241m=\u001b[39mstop,\n\u001b[0;32m    251\u001b[0m             callbacks\u001b[38;5;241m=\u001b[39mconfig\u001b[38;5;241m.\u001b[39mget(\u001b[38;5;124m\"\u001b[39m\u001b[38;5;124mcallbacks\u001b[39m\u001b[38;5;124m\"\u001b[39m),\n\u001b[0;32m    252\u001b[0m             tags\u001b[38;5;241m=\u001b[39mconfig\u001b[38;5;241m.\u001b[39mget(\u001b[38;5;124m\"\u001b[39m\u001b[38;5;124mtags\u001b[39m\u001b[38;5;124m\"\u001b[39m),\n\u001b[0;32m    253\u001b[0m             metadata\u001b[38;5;241m=\u001b[39mconfig\u001b[38;5;241m.\u001b[39mget(\u001b[38;5;124m\"\u001b[39m\u001b[38;5;124mmetadata\u001b[39m\u001b[38;5;124m\"\u001b[39m),\n\u001b[0;32m    254\u001b[0m             run_name\u001b[38;5;241m=\u001b[39mconfig\u001b[38;5;241m.\u001b[39mget(\u001b[38;5;124m\"\u001b[39m\u001b[38;5;124mrun_name\u001b[39m\u001b[38;5;124m\"\u001b[39m),\n\u001b[0;32m    255\u001b[0m             run_id\u001b[38;5;241m=\u001b[39mconfig\u001b[38;5;241m.\u001b[39mpop(\u001b[38;5;124m\"\u001b[39m\u001b[38;5;124mrun_id\u001b[39m\u001b[38;5;124m\"\u001b[39m, \u001b[38;5;28;01mNone\u001b[39;00m),\n\u001b[0;32m    256\u001b[0m             \u001b[38;5;241m*\u001b[39m\u001b[38;5;241m*\u001b[39mkwargs,\n\u001b[0;32m    257\u001b[0m         )\u001b[38;5;241m.\u001b[39mgenerations[\u001b[38;5;241m0\u001b[39m][\u001b[38;5;241m0\u001b[39m],\n\u001b[0;32m    258\u001b[0m     )\u001b[38;5;241m.\u001b[39mmessage\n",
      "File \u001b[1;32mc:\\Users\\juand\\anaconda3\\Lib\\site-packages\\langchain_core\\language_models\\chat_models.py:677\u001b[0m, in \u001b[0;36mBaseChatModel.generate_prompt\u001b[1;34m(self, prompts, stop, callbacks, **kwargs)\u001b[0m\n\u001b[0;32m    669\u001b[0m \u001b[38;5;28;01mdef\u001b[39;00m \u001b[38;5;21mgenerate_prompt\u001b[39m(\n\u001b[0;32m    670\u001b[0m     \u001b[38;5;28mself\u001b[39m,\n\u001b[0;32m    671\u001b[0m     prompts: List[PromptValue],\n\u001b[1;32m   (...)\u001b[0m\n\u001b[0;32m    674\u001b[0m     \u001b[38;5;241m*\u001b[39m\u001b[38;5;241m*\u001b[39mkwargs: Any,\n\u001b[0;32m    675\u001b[0m ) \u001b[38;5;241m-\u001b[39m\u001b[38;5;241m>\u001b[39m LLMResult:\n\u001b[0;32m    676\u001b[0m     prompt_messages \u001b[38;5;241m=\u001b[39m [p\u001b[38;5;241m.\u001b[39mto_messages() \u001b[38;5;28;01mfor\u001b[39;00m p \u001b[38;5;129;01min\u001b[39;00m prompts]\n\u001b[1;32m--> 677\u001b[0m     \u001b[38;5;28;01mreturn\u001b[39;00m \u001b[38;5;28mself\u001b[39m\u001b[38;5;241m.\u001b[39mgenerate(prompt_messages, stop\u001b[38;5;241m=\u001b[39mstop, callbacks\u001b[38;5;241m=\u001b[39mcallbacks, \u001b[38;5;241m*\u001b[39m\u001b[38;5;241m*\u001b[39mkwargs)\n",
      "File \u001b[1;32mc:\\Users\\juand\\anaconda3\\Lib\\site-packages\\langchain_core\\language_models\\chat_models.py:534\u001b[0m, in \u001b[0;36mBaseChatModel.generate\u001b[1;34m(self, messages, stop, callbacks, tags, metadata, run_name, run_id, **kwargs)\u001b[0m\n\u001b[0;32m    532\u001b[0m         \u001b[38;5;28;01mif\u001b[39;00m run_managers:\n\u001b[0;32m    533\u001b[0m             run_managers[i]\u001b[38;5;241m.\u001b[39mon_llm_error(e, response\u001b[38;5;241m=\u001b[39mLLMResult(generations\u001b[38;5;241m=\u001b[39m[]))\n\u001b[1;32m--> 534\u001b[0m         \u001b[38;5;28;01mraise\u001b[39;00m e\n\u001b[0;32m    535\u001b[0m flattened_outputs \u001b[38;5;241m=\u001b[39m [\n\u001b[0;32m    536\u001b[0m     LLMResult(generations\u001b[38;5;241m=\u001b[39m[res\u001b[38;5;241m.\u001b[39mgenerations], llm_output\u001b[38;5;241m=\u001b[39mres\u001b[38;5;241m.\u001b[39mllm_output)  \u001b[38;5;66;03m# type: ignore[list-item]\u001b[39;00m\n\u001b[0;32m    537\u001b[0m     \u001b[38;5;28;01mfor\u001b[39;00m res \u001b[38;5;129;01min\u001b[39;00m results\n\u001b[0;32m    538\u001b[0m ]\n\u001b[0;32m    539\u001b[0m llm_output \u001b[38;5;241m=\u001b[39m \u001b[38;5;28mself\u001b[39m\u001b[38;5;241m.\u001b[39m_combine_llm_outputs([res\u001b[38;5;241m.\u001b[39mllm_output \u001b[38;5;28;01mfor\u001b[39;00m res \u001b[38;5;129;01min\u001b[39;00m results])\n",
      "File \u001b[1;32mc:\\Users\\juand\\anaconda3\\Lib\\site-packages\\langchain_core\\language_models\\chat_models.py:524\u001b[0m, in \u001b[0;36mBaseChatModel.generate\u001b[1;34m(self, messages, stop, callbacks, tags, metadata, run_name, run_id, **kwargs)\u001b[0m\n\u001b[0;32m    521\u001b[0m \u001b[38;5;28;01mfor\u001b[39;00m i, m \u001b[38;5;129;01min\u001b[39;00m \u001b[38;5;28menumerate\u001b[39m(messages):\n\u001b[0;32m    522\u001b[0m     \u001b[38;5;28;01mtry\u001b[39;00m:\n\u001b[0;32m    523\u001b[0m         results\u001b[38;5;241m.\u001b[39mappend(\n\u001b[1;32m--> 524\u001b[0m             \u001b[38;5;28mself\u001b[39m\u001b[38;5;241m.\u001b[39m_generate_with_cache(\n\u001b[0;32m    525\u001b[0m                 m,\n\u001b[0;32m    526\u001b[0m                 stop\u001b[38;5;241m=\u001b[39mstop,\n\u001b[0;32m    527\u001b[0m                 run_manager\u001b[38;5;241m=\u001b[39mrun_managers[i] \u001b[38;5;28;01mif\u001b[39;00m run_managers \u001b[38;5;28;01melse\u001b[39;00m \u001b[38;5;28;01mNone\u001b[39;00m,\n\u001b[0;32m    528\u001b[0m                 \u001b[38;5;241m*\u001b[39m\u001b[38;5;241m*\u001b[39mkwargs,\n\u001b[0;32m    529\u001b[0m             )\n\u001b[0;32m    530\u001b[0m         )\n\u001b[0;32m    531\u001b[0m     \u001b[38;5;28;01mexcept\u001b[39;00m \u001b[38;5;167;01mBaseException\u001b[39;00m \u001b[38;5;28;01mas\u001b[39;00m e:\n\u001b[0;32m    532\u001b[0m         \u001b[38;5;28;01mif\u001b[39;00m run_managers:\n",
      "File \u001b[1;32mc:\\Users\\juand\\anaconda3\\Lib\\site-packages\\langchain_core\\language_models\\chat_models.py:749\u001b[0m, in \u001b[0;36mBaseChatModel._generate_with_cache\u001b[1;34m(self, messages, stop, run_manager, **kwargs)\u001b[0m\n\u001b[0;32m    747\u001b[0m \u001b[38;5;28;01melse\u001b[39;00m:\n\u001b[0;32m    748\u001b[0m     \u001b[38;5;28;01mif\u001b[39;00m inspect\u001b[38;5;241m.\u001b[39msignature(\u001b[38;5;28mself\u001b[39m\u001b[38;5;241m.\u001b[39m_generate)\u001b[38;5;241m.\u001b[39mparameters\u001b[38;5;241m.\u001b[39mget(\u001b[38;5;124m\"\u001b[39m\u001b[38;5;124mrun_manager\u001b[39m\u001b[38;5;124m\"\u001b[39m):\n\u001b[1;32m--> 749\u001b[0m         result \u001b[38;5;241m=\u001b[39m \u001b[38;5;28mself\u001b[39m\u001b[38;5;241m.\u001b[39m_generate(\n\u001b[0;32m    750\u001b[0m             messages, stop\u001b[38;5;241m=\u001b[39mstop, run_manager\u001b[38;5;241m=\u001b[39mrun_manager, \u001b[38;5;241m*\u001b[39m\u001b[38;5;241m*\u001b[39mkwargs\n\u001b[0;32m    751\u001b[0m         )\n\u001b[0;32m    752\u001b[0m     \u001b[38;5;28;01melse\u001b[39;00m:\n\u001b[0;32m    753\u001b[0m         result \u001b[38;5;241m=\u001b[39m \u001b[38;5;28mself\u001b[39m\u001b[38;5;241m.\u001b[39m_generate(messages, stop\u001b[38;5;241m=\u001b[39mstop, \u001b[38;5;241m*\u001b[39m\u001b[38;5;241m*\u001b[39mkwargs)\n",
      "File \u001b[1;32mc:\\Users\\juand\\anaconda3\\Lib\\site-packages\\langchain_openai\\chat_models\\base.py:543\u001b[0m, in \u001b[0;36mBaseChatOpenAI._generate\u001b[1;34m(self, messages, stop, run_manager, **kwargs)\u001b[0m\n\u001b[0;32m    541\u001b[0m message_dicts, params \u001b[38;5;241m=\u001b[39m \u001b[38;5;28mself\u001b[39m\u001b[38;5;241m.\u001b[39m_create_message_dicts(messages, stop)\n\u001b[0;32m    542\u001b[0m params \u001b[38;5;241m=\u001b[39m {\u001b[38;5;241m*\u001b[39m\u001b[38;5;241m*\u001b[39mparams, \u001b[38;5;241m*\u001b[39m\u001b[38;5;241m*\u001b[39mkwargs}\n\u001b[1;32m--> 543\u001b[0m response \u001b[38;5;241m=\u001b[39m \u001b[38;5;28mself\u001b[39m\u001b[38;5;241m.\u001b[39mclient\u001b[38;5;241m.\u001b[39mcreate(messages\u001b[38;5;241m=\u001b[39mmessage_dicts, \u001b[38;5;241m*\u001b[39m\u001b[38;5;241m*\u001b[39mparams)\n\u001b[0;32m    544\u001b[0m \u001b[38;5;28;01mreturn\u001b[39;00m \u001b[38;5;28mself\u001b[39m\u001b[38;5;241m.\u001b[39m_create_chat_result(response)\n",
      "File \u001b[1;32mc:\\Users\\juand\\anaconda3\\Lib\\site-packages\\openai\\_utils\\_utils.py:277\u001b[0m, in \u001b[0;36mrequired_args.<locals>.inner.<locals>.wrapper\u001b[1;34m(*args, **kwargs)\u001b[0m\n\u001b[0;32m    275\u001b[0m             msg \u001b[38;5;241m=\u001b[39m \u001b[38;5;124mf\u001b[39m\u001b[38;5;124m\"\u001b[39m\u001b[38;5;124mMissing required argument: \u001b[39m\u001b[38;5;132;01m{\u001b[39;00mquote(missing[\u001b[38;5;241m0\u001b[39m])\u001b[38;5;132;01m}\u001b[39;00m\u001b[38;5;124m\"\u001b[39m\n\u001b[0;32m    276\u001b[0m     \u001b[38;5;28;01mraise\u001b[39;00m \u001b[38;5;167;01mTypeError\u001b[39;00m(msg)\n\u001b[1;32m--> 277\u001b[0m \u001b[38;5;28;01mreturn\u001b[39;00m func(\u001b[38;5;241m*\u001b[39margs, \u001b[38;5;241m*\u001b[39m\u001b[38;5;241m*\u001b[39mkwargs)\n",
      "File \u001b[1;32mc:\\Users\\juand\\anaconda3\\Lib\\site-packages\\openai\\resources\\chat\\completions.py:643\u001b[0m, in \u001b[0;36mCompletions.create\u001b[1;34m(self, messages, model, frequency_penalty, function_call, functions, logit_bias, logprobs, max_tokens, n, parallel_tool_calls, presence_penalty, response_format, seed, service_tier, stop, stream, stream_options, temperature, tool_choice, tools, top_logprobs, top_p, user, extra_headers, extra_query, extra_body, timeout)\u001b[0m\n\u001b[0;32m    609\u001b[0m \u001b[38;5;129m@required_args\u001b[39m([\u001b[38;5;124m\"\u001b[39m\u001b[38;5;124mmessages\u001b[39m\u001b[38;5;124m\"\u001b[39m, \u001b[38;5;124m\"\u001b[39m\u001b[38;5;124mmodel\u001b[39m\u001b[38;5;124m\"\u001b[39m], [\u001b[38;5;124m\"\u001b[39m\u001b[38;5;124mmessages\u001b[39m\u001b[38;5;124m\"\u001b[39m, \u001b[38;5;124m\"\u001b[39m\u001b[38;5;124mmodel\u001b[39m\u001b[38;5;124m\"\u001b[39m, \u001b[38;5;124m\"\u001b[39m\u001b[38;5;124mstream\u001b[39m\u001b[38;5;124m\"\u001b[39m])\n\u001b[0;32m    610\u001b[0m \u001b[38;5;28;01mdef\u001b[39;00m \u001b[38;5;21mcreate\u001b[39m(\n\u001b[0;32m    611\u001b[0m     \u001b[38;5;28mself\u001b[39m,\n\u001b[1;32m   (...)\u001b[0m\n\u001b[0;32m    641\u001b[0m     timeout: \u001b[38;5;28mfloat\u001b[39m \u001b[38;5;241m|\u001b[39m httpx\u001b[38;5;241m.\u001b[39mTimeout \u001b[38;5;241m|\u001b[39m \u001b[38;5;28;01mNone\u001b[39;00m \u001b[38;5;241m|\u001b[39m NotGiven \u001b[38;5;241m=\u001b[39m NOT_GIVEN,\n\u001b[0;32m    642\u001b[0m ) \u001b[38;5;241m-\u001b[39m\u001b[38;5;241m>\u001b[39m ChatCompletion \u001b[38;5;241m|\u001b[39m Stream[ChatCompletionChunk]:\n\u001b[1;32m--> 643\u001b[0m     \u001b[38;5;28;01mreturn\u001b[39;00m \u001b[38;5;28mself\u001b[39m\u001b[38;5;241m.\u001b[39m_post(\n\u001b[0;32m    644\u001b[0m         \u001b[38;5;124m\"\u001b[39m\u001b[38;5;124m/chat/completions\u001b[39m\u001b[38;5;124m\"\u001b[39m,\n\u001b[0;32m    645\u001b[0m         body\u001b[38;5;241m=\u001b[39mmaybe_transform(\n\u001b[0;32m    646\u001b[0m             {\n\u001b[0;32m    647\u001b[0m                 \u001b[38;5;124m\"\u001b[39m\u001b[38;5;124mmessages\u001b[39m\u001b[38;5;124m\"\u001b[39m: messages,\n\u001b[0;32m    648\u001b[0m                 \u001b[38;5;124m\"\u001b[39m\u001b[38;5;124mmodel\u001b[39m\u001b[38;5;124m\"\u001b[39m: model,\n\u001b[0;32m    649\u001b[0m                 \u001b[38;5;124m\"\u001b[39m\u001b[38;5;124mfrequency_penalty\u001b[39m\u001b[38;5;124m\"\u001b[39m: frequency_penalty,\n\u001b[0;32m    650\u001b[0m                 \u001b[38;5;124m\"\u001b[39m\u001b[38;5;124mfunction_call\u001b[39m\u001b[38;5;124m\"\u001b[39m: function_call,\n\u001b[0;32m    651\u001b[0m                 \u001b[38;5;124m\"\u001b[39m\u001b[38;5;124mfunctions\u001b[39m\u001b[38;5;124m\"\u001b[39m: functions,\n\u001b[0;32m    652\u001b[0m                 \u001b[38;5;124m\"\u001b[39m\u001b[38;5;124mlogit_bias\u001b[39m\u001b[38;5;124m\"\u001b[39m: logit_bias,\n\u001b[0;32m    653\u001b[0m                 \u001b[38;5;124m\"\u001b[39m\u001b[38;5;124mlogprobs\u001b[39m\u001b[38;5;124m\"\u001b[39m: logprobs,\n\u001b[0;32m    654\u001b[0m                 \u001b[38;5;124m\"\u001b[39m\u001b[38;5;124mmax_tokens\u001b[39m\u001b[38;5;124m\"\u001b[39m: max_tokens,\n\u001b[0;32m    655\u001b[0m                 \u001b[38;5;124m\"\u001b[39m\u001b[38;5;124mn\u001b[39m\u001b[38;5;124m\"\u001b[39m: n,\n\u001b[0;32m    656\u001b[0m                 \u001b[38;5;124m\"\u001b[39m\u001b[38;5;124mparallel_tool_calls\u001b[39m\u001b[38;5;124m\"\u001b[39m: parallel_tool_calls,\n\u001b[0;32m    657\u001b[0m                 \u001b[38;5;124m\"\u001b[39m\u001b[38;5;124mpresence_penalty\u001b[39m\u001b[38;5;124m\"\u001b[39m: presence_penalty,\n\u001b[0;32m    658\u001b[0m                 \u001b[38;5;124m\"\u001b[39m\u001b[38;5;124mresponse_format\u001b[39m\u001b[38;5;124m\"\u001b[39m: response_format,\n\u001b[0;32m    659\u001b[0m                 \u001b[38;5;124m\"\u001b[39m\u001b[38;5;124mseed\u001b[39m\u001b[38;5;124m\"\u001b[39m: seed,\n\u001b[0;32m    660\u001b[0m                 \u001b[38;5;124m\"\u001b[39m\u001b[38;5;124mservice_tier\u001b[39m\u001b[38;5;124m\"\u001b[39m: service_tier,\n\u001b[0;32m    661\u001b[0m                 \u001b[38;5;124m\"\u001b[39m\u001b[38;5;124mstop\u001b[39m\u001b[38;5;124m\"\u001b[39m: stop,\n\u001b[0;32m    662\u001b[0m                 \u001b[38;5;124m\"\u001b[39m\u001b[38;5;124mstream\u001b[39m\u001b[38;5;124m\"\u001b[39m: stream,\n\u001b[0;32m    663\u001b[0m                 \u001b[38;5;124m\"\u001b[39m\u001b[38;5;124mstream_options\u001b[39m\u001b[38;5;124m\"\u001b[39m: stream_options,\n\u001b[0;32m    664\u001b[0m                 \u001b[38;5;124m\"\u001b[39m\u001b[38;5;124mtemperature\u001b[39m\u001b[38;5;124m\"\u001b[39m: temperature,\n\u001b[0;32m    665\u001b[0m                 \u001b[38;5;124m\"\u001b[39m\u001b[38;5;124mtool_choice\u001b[39m\u001b[38;5;124m\"\u001b[39m: tool_choice,\n\u001b[0;32m    666\u001b[0m                 \u001b[38;5;124m\"\u001b[39m\u001b[38;5;124mtools\u001b[39m\u001b[38;5;124m\"\u001b[39m: tools,\n\u001b[0;32m    667\u001b[0m                 \u001b[38;5;124m\"\u001b[39m\u001b[38;5;124mtop_logprobs\u001b[39m\u001b[38;5;124m\"\u001b[39m: top_logprobs,\n\u001b[0;32m    668\u001b[0m                 \u001b[38;5;124m\"\u001b[39m\u001b[38;5;124mtop_p\u001b[39m\u001b[38;5;124m\"\u001b[39m: top_p,\n\u001b[0;32m    669\u001b[0m                 \u001b[38;5;124m\"\u001b[39m\u001b[38;5;124muser\u001b[39m\u001b[38;5;124m\"\u001b[39m: user,\n\u001b[0;32m    670\u001b[0m             },\n\u001b[0;32m    671\u001b[0m             completion_create_params\u001b[38;5;241m.\u001b[39mCompletionCreateParams,\n\u001b[0;32m    672\u001b[0m         ),\n\u001b[0;32m    673\u001b[0m         options\u001b[38;5;241m=\u001b[39mmake_request_options(\n\u001b[0;32m    674\u001b[0m             extra_headers\u001b[38;5;241m=\u001b[39mextra_headers, extra_query\u001b[38;5;241m=\u001b[39mextra_query, extra_body\u001b[38;5;241m=\u001b[39mextra_body, timeout\u001b[38;5;241m=\u001b[39mtimeout\n\u001b[0;32m    675\u001b[0m         ),\n\u001b[0;32m    676\u001b[0m         cast_to\u001b[38;5;241m=\u001b[39mChatCompletion,\n\u001b[0;32m    677\u001b[0m         stream\u001b[38;5;241m=\u001b[39mstream \u001b[38;5;129;01mor\u001b[39;00m \u001b[38;5;28;01mFalse\u001b[39;00m,\n\u001b[0;32m    678\u001b[0m         stream_cls\u001b[38;5;241m=\u001b[39mStream[ChatCompletionChunk],\n\u001b[0;32m    679\u001b[0m     )\n",
      "File \u001b[1;32mc:\\Users\\juand\\anaconda3\\Lib\\site-packages\\openai\\_base_client.py:1250\u001b[0m, in \u001b[0;36mSyncAPIClient.post\u001b[1;34m(self, path, cast_to, body, options, files, stream, stream_cls)\u001b[0m\n\u001b[0;32m   1236\u001b[0m \u001b[38;5;28;01mdef\u001b[39;00m \u001b[38;5;21mpost\u001b[39m(\n\u001b[0;32m   1237\u001b[0m     \u001b[38;5;28mself\u001b[39m,\n\u001b[0;32m   1238\u001b[0m     path: \u001b[38;5;28mstr\u001b[39m,\n\u001b[1;32m   (...)\u001b[0m\n\u001b[0;32m   1245\u001b[0m     stream_cls: \u001b[38;5;28mtype\u001b[39m[_StreamT] \u001b[38;5;241m|\u001b[39m \u001b[38;5;28;01mNone\u001b[39;00m \u001b[38;5;241m=\u001b[39m \u001b[38;5;28;01mNone\u001b[39;00m,\n\u001b[0;32m   1246\u001b[0m ) \u001b[38;5;241m-\u001b[39m\u001b[38;5;241m>\u001b[39m ResponseT \u001b[38;5;241m|\u001b[39m _StreamT:\n\u001b[0;32m   1247\u001b[0m     opts \u001b[38;5;241m=\u001b[39m FinalRequestOptions\u001b[38;5;241m.\u001b[39mconstruct(\n\u001b[0;32m   1248\u001b[0m         method\u001b[38;5;241m=\u001b[39m\u001b[38;5;124m\"\u001b[39m\u001b[38;5;124mpost\u001b[39m\u001b[38;5;124m\"\u001b[39m, url\u001b[38;5;241m=\u001b[39mpath, json_data\u001b[38;5;241m=\u001b[39mbody, files\u001b[38;5;241m=\u001b[39mto_httpx_files(files), \u001b[38;5;241m*\u001b[39m\u001b[38;5;241m*\u001b[39moptions\n\u001b[0;32m   1249\u001b[0m     )\n\u001b[1;32m-> 1250\u001b[0m     \u001b[38;5;28;01mreturn\u001b[39;00m cast(ResponseT, \u001b[38;5;28mself\u001b[39m\u001b[38;5;241m.\u001b[39mrequest(cast_to, opts, stream\u001b[38;5;241m=\u001b[39mstream, stream_cls\u001b[38;5;241m=\u001b[39mstream_cls))\n",
      "File \u001b[1;32mc:\\Users\\juand\\anaconda3\\Lib\\site-packages\\openai\\_base_client.py:931\u001b[0m, in \u001b[0;36mSyncAPIClient.request\u001b[1;34m(self, cast_to, options, remaining_retries, stream, stream_cls)\u001b[0m\n\u001b[0;32m    922\u001b[0m \u001b[38;5;28;01mdef\u001b[39;00m \u001b[38;5;21mrequest\u001b[39m(\n\u001b[0;32m    923\u001b[0m     \u001b[38;5;28mself\u001b[39m,\n\u001b[0;32m    924\u001b[0m     cast_to: Type[ResponseT],\n\u001b[1;32m   (...)\u001b[0m\n\u001b[0;32m    929\u001b[0m     stream_cls: \u001b[38;5;28mtype\u001b[39m[_StreamT] \u001b[38;5;241m|\u001b[39m \u001b[38;5;28;01mNone\u001b[39;00m \u001b[38;5;241m=\u001b[39m \u001b[38;5;28;01mNone\u001b[39;00m,\n\u001b[0;32m    930\u001b[0m ) \u001b[38;5;241m-\u001b[39m\u001b[38;5;241m>\u001b[39m ResponseT \u001b[38;5;241m|\u001b[39m _StreamT:\n\u001b[1;32m--> 931\u001b[0m     \u001b[38;5;28;01mreturn\u001b[39;00m \u001b[38;5;28mself\u001b[39m\u001b[38;5;241m.\u001b[39m_request(\n\u001b[0;32m    932\u001b[0m         cast_to\u001b[38;5;241m=\u001b[39mcast_to,\n\u001b[0;32m    933\u001b[0m         options\u001b[38;5;241m=\u001b[39moptions,\n\u001b[0;32m    934\u001b[0m         stream\u001b[38;5;241m=\u001b[39mstream,\n\u001b[0;32m    935\u001b[0m         stream_cls\u001b[38;5;241m=\u001b[39mstream_cls,\n\u001b[0;32m    936\u001b[0m         remaining_retries\u001b[38;5;241m=\u001b[39mremaining_retries,\n\u001b[0;32m    937\u001b[0m     )\n",
      "File \u001b[1;32mc:\\Users\\juand\\anaconda3\\Lib\\site-packages\\openai\\_base_client.py:962\u001b[0m, in \u001b[0;36mSyncAPIClient._request\u001b[1;34m(self, cast_to, options, remaining_retries, stream, stream_cls)\u001b[0m\n\u001b[0;32m    959\u001b[0m log\u001b[38;5;241m.\u001b[39mdebug(\u001b[38;5;124m\"\u001b[39m\u001b[38;5;124mSending HTTP Request: \u001b[39m\u001b[38;5;132;01m%s\u001b[39;00m\u001b[38;5;124m \u001b[39m\u001b[38;5;132;01m%s\u001b[39;00m\u001b[38;5;124m\"\u001b[39m, request\u001b[38;5;241m.\u001b[39mmethod, request\u001b[38;5;241m.\u001b[39murl)\n\u001b[0;32m    961\u001b[0m \u001b[38;5;28;01mtry\u001b[39;00m:\n\u001b[1;32m--> 962\u001b[0m     response \u001b[38;5;241m=\u001b[39m \u001b[38;5;28mself\u001b[39m\u001b[38;5;241m.\u001b[39m_client\u001b[38;5;241m.\u001b[39msend(\n\u001b[0;32m    963\u001b[0m         request,\n\u001b[0;32m    964\u001b[0m         stream\u001b[38;5;241m=\u001b[39mstream \u001b[38;5;129;01mor\u001b[39;00m \u001b[38;5;28mself\u001b[39m\u001b[38;5;241m.\u001b[39m_should_stream_response_body(request\u001b[38;5;241m=\u001b[39mrequest),\n\u001b[0;32m    965\u001b[0m         \u001b[38;5;241m*\u001b[39m\u001b[38;5;241m*\u001b[39mkwargs,\n\u001b[0;32m    966\u001b[0m     )\n\u001b[0;32m    967\u001b[0m \u001b[38;5;28;01mexcept\u001b[39;00m httpx\u001b[38;5;241m.\u001b[39mTimeoutException \u001b[38;5;28;01mas\u001b[39;00m err:\n\u001b[0;32m    968\u001b[0m     log\u001b[38;5;241m.\u001b[39mdebug(\u001b[38;5;124m\"\u001b[39m\u001b[38;5;124mEncountered httpx.TimeoutException\u001b[39m\u001b[38;5;124m\"\u001b[39m, exc_info\u001b[38;5;241m=\u001b[39m\u001b[38;5;28;01mTrue\u001b[39;00m)\n",
      "File \u001b[1;32mc:\\Users\\juand\\anaconda3\\Lib\\site-packages\\httpx\\_client.py:914\u001b[0m, in \u001b[0;36mClient.send\u001b[1;34m(self, request, stream, auth, follow_redirects)\u001b[0m\n\u001b[0;32m    906\u001b[0m follow_redirects \u001b[38;5;241m=\u001b[39m (\n\u001b[0;32m    907\u001b[0m     \u001b[38;5;28mself\u001b[39m\u001b[38;5;241m.\u001b[39mfollow_redirects\n\u001b[0;32m    908\u001b[0m     \u001b[38;5;28;01mif\u001b[39;00m \u001b[38;5;28misinstance\u001b[39m(follow_redirects, UseClientDefault)\n\u001b[0;32m    909\u001b[0m     \u001b[38;5;28;01melse\u001b[39;00m follow_redirects\n\u001b[0;32m    910\u001b[0m )\n\u001b[0;32m    912\u001b[0m auth \u001b[38;5;241m=\u001b[39m \u001b[38;5;28mself\u001b[39m\u001b[38;5;241m.\u001b[39m_build_request_auth(request, auth)\n\u001b[1;32m--> 914\u001b[0m response \u001b[38;5;241m=\u001b[39m \u001b[38;5;28mself\u001b[39m\u001b[38;5;241m.\u001b[39m_send_handling_auth(\n\u001b[0;32m    915\u001b[0m     request,\n\u001b[0;32m    916\u001b[0m     auth\u001b[38;5;241m=\u001b[39mauth,\n\u001b[0;32m    917\u001b[0m     follow_redirects\u001b[38;5;241m=\u001b[39mfollow_redirects,\n\u001b[0;32m    918\u001b[0m     history\u001b[38;5;241m=\u001b[39m[],\n\u001b[0;32m    919\u001b[0m )\n\u001b[0;32m    920\u001b[0m \u001b[38;5;28;01mtry\u001b[39;00m:\n\u001b[0;32m    921\u001b[0m     \u001b[38;5;28;01mif\u001b[39;00m \u001b[38;5;129;01mnot\u001b[39;00m stream:\n",
      "File \u001b[1;32mc:\\Users\\juand\\anaconda3\\Lib\\site-packages\\httpx\\_client.py:942\u001b[0m, in \u001b[0;36mClient._send_handling_auth\u001b[1;34m(self, request, auth, follow_redirects, history)\u001b[0m\n\u001b[0;32m    939\u001b[0m request \u001b[38;5;241m=\u001b[39m \u001b[38;5;28mnext\u001b[39m(auth_flow)\n\u001b[0;32m    941\u001b[0m \u001b[38;5;28;01mwhile\u001b[39;00m \u001b[38;5;28;01mTrue\u001b[39;00m:\n\u001b[1;32m--> 942\u001b[0m     response \u001b[38;5;241m=\u001b[39m \u001b[38;5;28mself\u001b[39m\u001b[38;5;241m.\u001b[39m_send_handling_redirects(\n\u001b[0;32m    943\u001b[0m         request,\n\u001b[0;32m    944\u001b[0m         follow_redirects\u001b[38;5;241m=\u001b[39mfollow_redirects,\n\u001b[0;32m    945\u001b[0m         history\u001b[38;5;241m=\u001b[39mhistory,\n\u001b[0;32m    946\u001b[0m     )\n\u001b[0;32m    947\u001b[0m     \u001b[38;5;28;01mtry\u001b[39;00m:\n\u001b[0;32m    948\u001b[0m         \u001b[38;5;28;01mtry\u001b[39;00m:\n",
      "File \u001b[1;32mc:\\Users\\juand\\anaconda3\\Lib\\site-packages\\httpx\\_client.py:979\u001b[0m, in \u001b[0;36mClient._send_handling_redirects\u001b[1;34m(self, request, follow_redirects, history)\u001b[0m\n\u001b[0;32m    976\u001b[0m \u001b[38;5;28;01mfor\u001b[39;00m hook \u001b[38;5;129;01min\u001b[39;00m \u001b[38;5;28mself\u001b[39m\u001b[38;5;241m.\u001b[39m_event_hooks[\u001b[38;5;124m\"\u001b[39m\u001b[38;5;124mrequest\u001b[39m\u001b[38;5;124m\"\u001b[39m]:\n\u001b[0;32m    977\u001b[0m     hook(request)\n\u001b[1;32m--> 979\u001b[0m response \u001b[38;5;241m=\u001b[39m \u001b[38;5;28mself\u001b[39m\u001b[38;5;241m.\u001b[39m_send_single_request(request)\n\u001b[0;32m    980\u001b[0m \u001b[38;5;28;01mtry\u001b[39;00m:\n\u001b[0;32m    981\u001b[0m     \u001b[38;5;28;01mfor\u001b[39;00m hook \u001b[38;5;129;01min\u001b[39;00m \u001b[38;5;28mself\u001b[39m\u001b[38;5;241m.\u001b[39m_event_hooks[\u001b[38;5;124m\"\u001b[39m\u001b[38;5;124mresponse\u001b[39m\u001b[38;5;124m\"\u001b[39m]:\n",
      "File \u001b[1;32mc:\\Users\\juand\\anaconda3\\Lib\\site-packages\\httpx\\_client.py:1015\u001b[0m, in \u001b[0;36mClient._send_single_request\u001b[1;34m(self, request)\u001b[0m\n\u001b[0;32m   1010\u001b[0m     \u001b[38;5;28;01mraise\u001b[39;00m \u001b[38;5;167;01mRuntimeError\u001b[39;00m(\n\u001b[0;32m   1011\u001b[0m         \u001b[38;5;124m\"\u001b[39m\u001b[38;5;124mAttempted to send an async request with a sync Client instance.\u001b[39m\u001b[38;5;124m\"\u001b[39m\n\u001b[0;32m   1012\u001b[0m     )\n\u001b[0;32m   1014\u001b[0m \u001b[38;5;28;01mwith\u001b[39;00m request_context(request\u001b[38;5;241m=\u001b[39mrequest):\n\u001b[1;32m-> 1015\u001b[0m     response \u001b[38;5;241m=\u001b[39m transport\u001b[38;5;241m.\u001b[39mhandle_request(request)\n\u001b[0;32m   1017\u001b[0m \u001b[38;5;28;01massert\u001b[39;00m \u001b[38;5;28misinstance\u001b[39m(response\u001b[38;5;241m.\u001b[39mstream, SyncByteStream)\n\u001b[0;32m   1019\u001b[0m response\u001b[38;5;241m.\u001b[39mrequest \u001b[38;5;241m=\u001b[39m request\n",
      "File \u001b[1;32mc:\\Users\\juand\\anaconda3\\Lib\\site-packages\\httpx\\_transports\\default.py:233\u001b[0m, in \u001b[0;36mHTTPTransport.handle_request\u001b[1;34m(self, request)\u001b[0m\n\u001b[0;32m    220\u001b[0m req \u001b[38;5;241m=\u001b[39m httpcore\u001b[38;5;241m.\u001b[39mRequest(\n\u001b[0;32m    221\u001b[0m     method\u001b[38;5;241m=\u001b[39mrequest\u001b[38;5;241m.\u001b[39mmethod,\n\u001b[0;32m    222\u001b[0m     url\u001b[38;5;241m=\u001b[39mhttpcore\u001b[38;5;241m.\u001b[39mURL(\n\u001b[1;32m   (...)\u001b[0m\n\u001b[0;32m    230\u001b[0m     extensions\u001b[38;5;241m=\u001b[39mrequest\u001b[38;5;241m.\u001b[39mextensions,\n\u001b[0;32m    231\u001b[0m )\n\u001b[0;32m    232\u001b[0m \u001b[38;5;28;01mwith\u001b[39;00m map_httpcore_exceptions():\n\u001b[1;32m--> 233\u001b[0m     resp \u001b[38;5;241m=\u001b[39m \u001b[38;5;28mself\u001b[39m\u001b[38;5;241m.\u001b[39m_pool\u001b[38;5;241m.\u001b[39mhandle_request(req)\n\u001b[0;32m    235\u001b[0m \u001b[38;5;28;01massert\u001b[39;00m \u001b[38;5;28misinstance\u001b[39m(resp\u001b[38;5;241m.\u001b[39mstream, typing\u001b[38;5;241m.\u001b[39mIterable)\n\u001b[0;32m    237\u001b[0m \u001b[38;5;28;01mreturn\u001b[39;00m Response(\n\u001b[0;32m    238\u001b[0m     status_code\u001b[38;5;241m=\u001b[39mresp\u001b[38;5;241m.\u001b[39mstatus,\n\u001b[0;32m    239\u001b[0m     headers\u001b[38;5;241m=\u001b[39mresp\u001b[38;5;241m.\u001b[39mheaders,\n\u001b[0;32m    240\u001b[0m     stream\u001b[38;5;241m=\u001b[39mResponseStream(resp\u001b[38;5;241m.\u001b[39mstream),\n\u001b[0;32m    241\u001b[0m     extensions\u001b[38;5;241m=\u001b[39mresp\u001b[38;5;241m.\u001b[39mextensions,\n\u001b[0;32m    242\u001b[0m )\n",
      "File \u001b[1;32mc:\\Users\\juand\\anaconda3\\Lib\\site-packages\\httpcore\\_sync\\connection_pool.py:216\u001b[0m, in \u001b[0;36mConnectionPool.handle_request\u001b[1;34m(self, request)\u001b[0m\n\u001b[0;32m    213\u001b[0m         closing \u001b[38;5;241m=\u001b[39m \u001b[38;5;28mself\u001b[39m\u001b[38;5;241m.\u001b[39m_assign_requests_to_connections()\n\u001b[0;32m    215\u001b[0m     \u001b[38;5;28mself\u001b[39m\u001b[38;5;241m.\u001b[39m_close_connections(closing)\n\u001b[1;32m--> 216\u001b[0m     \u001b[38;5;28;01mraise\u001b[39;00m exc \u001b[38;5;28;01mfrom\u001b[39;00m \u001b[38;5;28;01mNone\u001b[39;00m\n\u001b[0;32m    218\u001b[0m \u001b[38;5;66;03m# Return the response. Note that in this case we still have to manage\u001b[39;00m\n\u001b[0;32m    219\u001b[0m \u001b[38;5;66;03m# the point at which the response is closed.\u001b[39;00m\n\u001b[0;32m    220\u001b[0m \u001b[38;5;28;01massert\u001b[39;00m \u001b[38;5;28misinstance\u001b[39m(response\u001b[38;5;241m.\u001b[39mstream, Iterable)\n",
      "File \u001b[1;32mc:\\Users\\juand\\anaconda3\\Lib\\site-packages\\httpcore\\_sync\\connection_pool.py:196\u001b[0m, in \u001b[0;36mConnectionPool.handle_request\u001b[1;34m(self, request)\u001b[0m\n\u001b[0;32m    192\u001b[0m connection \u001b[38;5;241m=\u001b[39m pool_request\u001b[38;5;241m.\u001b[39mwait_for_connection(timeout\u001b[38;5;241m=\u001b[39mtimeout)\n\u001b[0;32m    194\u001b[0m \u001b[38;5;28;01mtry\u001b[39;00m:\n\u001b[0;32m    195\u001b[0m     \u001b[38;5;66;03m# Send the request on the assigned connection.\u001b[39;00m\n\u001b[1;32m--> 196\u001b[0m     response \u001b[38;5;241m=\u001b[39m connection\u001b[38;5;241m.\u001b[39mhandle_request(\n\u001b[0;32m    197\u001b[0m         pool_request\u001b[38;5;241m.\u001b[39mrequest\n\u001b[0;32m    198\u001b[0m     )\n\u001b[0;32m    199\u001b[0m \u001b[38;5;28;01mexcept\u001b[39;00m ConnectionNotAvailable:\n\u001b[0;32m    200\u001b[0m     \u001b[38;5;66;03m# In some cases a connection may initially be available to\u001b[39;00m\n\u001b[0;32m    201\u001b[0m     \u001b[38;5;66;03m# handle a request, but then become unavailable.\u001b[39;00m\n\u001b[0;32m    202\u001b[0m     \u001b[38;5;66;03m#\u001b[39;00m\n\u001b[0;32m    203\u001b[0m     \u001b[38;5;66;03m# In this case we clear the connection and try again.\u001b[39;00m\n\u001b[0;32m    204\u001b[0m     pool_request\u001b[38;5;241m.\u001b[39mclear_connection()\n",
      "File \u001b[1;32mc:\\Users\\juand\\anaconda3\\Lib\\site-packages\\httpcore\\_sync\\connection.py:101\u001b[0m, in \u001b[0;36mHTTPConnection.handle_request\u001b[1;34m(self, request)\u001b[0m\n\u001b[0;32m     98\u001b[0m     \u001b[38;5;28mself\u001b[39m\u001b[38;5;241m.\u001b[39m_connect_failed \u001b[38;5;241m=\u001b[39m \u001b[38;5;28;01mTrue\u001b[39;00m\n\u001b[0;32m     99\u001b[0m     \u001b[38;5;28;01mraise\u001b[39;00m exc\n\u001b[1;32m--> 101\u001b[0m \u001b[38;5;28;01mreturn\u001b[39;00m \u001b[38;5;28mself\u001b[39m\u001b[38;5;241m.\u001b[39m_connection\u001b[38;5;241m.\u001b[39mhandle_request(request)\n",
      "File \u001b[1;32mc:\\Users\\juand\\anaconda3\\Lib\\site-packages\\httpcore\\_sync\\http11.py:143\u001b[0m, in \u001b[0;36mHTTP11Connection.handle_request\u001b[1;34m(self, request)\u001b[0m\n\u001b[0;32m    141\u001b[0m     \u001b[38;5;28;01mwith\u001b[39;00m Trace(\u001b[38;5;124m\"\u001b[39m\u001b[38;5;124mresponse_closed\u001b[39m\u001b[38;5;124m\"\u001b[39m, logger, request) \u001b[38;5;28;01mas\u001b[39;00m trace:\n\u001b[0;32m    142\u001b[0m         \u001b[38;5;28mself\u001b[39m\u001b[38;5;241m.\u001b[39m_response_closed()\n\u001b[1;32m--> 143\u001b[0m \u001b[38;5;28;01mraise\u001b[39;00m exc\n",
      "File \u001b[1;32mc:\\Users\\juand\\anaconda3\\Lib\\site-packages\\httpcore\\_sync\\http11.py:113\u001b[0m, in \u001b[0;36mHTTP11Connection.handle_request\u001b[1;34m(self, request)\u001b[0m\n\u001b[0;32m    102\u001b[0m     \u001b[38;5;28;01mpass\u001b[39;00m\n\u001b[0;32m    104\u001b[0m \u001b[38;5;28;01mwith\u001b[39;00m Trace(\n\u001b[0;32m    105\u001b[0m     \u001b[38;5;124m\"\u001b[39m\u001b[38;5;124mreceive_response_headers\u001b[39m\u001b[38;5;124m\"\u001b[39m, logger, request, kwargs\n\u001b[0;32m    106\u001b[0m ) \u001b[38;5;28;01mas\u001b[39;00m trace:\n\u001b[0;32m    107\u001b[0m     (\n\u001b[0;32m    108\u001b[0m         http_version,\n\u001b[0;32m    109\u001b[0m         status,\n\u001b[0;32m    110\u001b[0m         reason_phrase,\n\u001b[0;32m    111\u001b[0m         headers,\n\u001b[0;32m    112\u001b[0m         trailing_data,\n\u001b[1;32m--> 113\u001b[0m     ) \u001b[38;5;241m=\u001b[39m \u001b[38;5;28mself\u001b[39m\u001b[38;5;241m.\u001b[39m_receive_response_headers(\u001b[38;5;241m*\u001b[39m\u001b[38;5;241m*\u001b[39mkwargs)\n\u001b[0;32m    114\u001b[0m     trace\u001b[38;5;241m.\u001b[39mreturn_value \u001b[38;5;241m=\u001b[39m (\n\u001b[0;32m    115\u001b[0m         http_version,\n\u001b[0;32m    116\u001b[0m         status,\n\u001b[0;32m    117\u001b[0m         reason_phrase,\n\u001b[0;32m    118\u001b[0m         headers,\n\u001b[0;32m    119\u001b[0m     )\n\u001b[0;32m    121\u001b[0m network_stream \u001b[38;5;241m=\u001b[39m \u001b[38;5;28mself\u001b[39m\u001b[38;5;241m.\u001b[39m_network_stream\n",
      "File \u001b[1;32mc:\\Users\\juand\\anaconda3\\Lib\\site-packages\\httpcore\\_sync\\http11.py:186\u001b[0m, in \u001b[0;36mHTTP11Connection._receive_response_headers\u001b[1;34m(self, request)\u001b[0m\n\u001b[0;32m    183\u001b[0m timeout \u001b[38;5;241m=\u001b[39m timeouts\u001b[38;5;241m.\u001b[39mget(\u001b[38;5;124m\"\u001b[39m\u001b[38;5;124mread\u001b[39m\u001b[38;5;124m\"\u001b[39m, \u001b[38;5;28;01mNone\u001b[39;00m)\n\u001b[0;32m    185\u001b[0m \u001b[38;5;28;01mwhile\u001b[39;00m \u001b[38;5;28;01mTrue\u001b[39;00m:\n\u001b[1;32m--> 186\u001b[0m     event \u001b[38;5;241m=\u001b[39m \u001b[38;5;28mself\u001b[39m\u001b[38;5;241m.\u001b[39m_receive_event(timeout\u001b[38;5;241m=\u001b[39mtimeout)\n\u001b[0;32m    187\u001b[0m     \u001b[38;5;28;01mif\u001b[39;00m \u001b[38;5;28misinstance\u001b[39m(event, h11\u001b[38;5;241m.\u001b[39mResponse):\n\u001b[0;32m    188\u001b[0m         \u001b[38;5;28;01mbreak\u001b[39;00m\n",
      "File \u001b[1;32mc:\\Users\\juand\\anaconda3\\Lib\\site-packages\\httpcore\\_sync\\http11.py:224\u001b[0m, in \u001b[0;36mHTTP11Connection._receive_event\u001b[1;34m(self, timeout)\u001b[0m\n\u001b[0;32m    221\u001b[0m     event \u001b[38;5;241m=\u001b[39m \u001b[38;5;28mself\u001b[39m\u001b[38;5;241m.\u001b[39m_h11_state\u001b[38;5;241m.\u001b[39mnext_event()\n\u001b[0;32m    223\u001b[0m \u001b[38;5;28;01mif\u001b[39;00m event \u001b[38;5;129;01mis\u001b[39;00m h11\u001b[38;5;241m.\u001b[39mNEED_DATA:\n\u001b[1;32m--> 224\u001b[0m     data \u001b[38;5;241m=\u001b[39m \u001b[38;5;28mself\u001b[39m\u001b[38;5;241m.\u001b[39m_network_stream\u001b[38;5;241m.\u001b[39mread(\n\u001b[0;32m    225\u001b[0m         \u001b[38;5;28mself\u001b[39m\u001b[38;5;241m.\u001b[39mREAD_NUM_BYTES, timeout\u001b[38;5;241m=\u001b[39mtimeout\n\u001b[0;32m    226\u001b[0m     )\n\u001b[0;32m    228\u001b[0m     \u001b[38;5;66;03m# If we feed this case through h11 we'll raise an exception like:\u001b[39;00m\n\u001b[0;32m    229\u001b[0m     \u001b[38;5;66;03m#\u001b[39;00m\n\u001b[0;32m    230\u001b[0m     \u001b[38;5;66;03m#     httpcore.RemoteProtocolError: can't handle event type\u001b[39;00m\n\u001b[1;32m   (...)\u001b[0m\n\u001b[0;32m    234\u001b[0m     \u001b[38;5;66;03m# perspective. Instead we handle this case distinctly and treat\u001b[39;00m\n\u001b[0;32m    235\u001b[0m     \u001b[38;5;66;03m# it as a ConnectError.\u001b[39;00m\n\u001b[0;32m    236\u001b[0m     \u001b[38;5;28;01mif\u001b[39;00m data \u001b[38;5;241m==\u001b[39m \u001b[38;5;124mb\u001b[39m\u001b[38;5;124m\"\u001b[39m\u001b[38;5;124m\"\u001b[39m \u001b[38;5;129;01mand\u001b[39;00m \u001b[38;5;28mself\u001b[39m\u001b[38;5;241m.\u001b[39m_h11_state\u001b[38;5;241m.\u001b[39mtheir_state \u001b[38;5;241m==\u001b[39m h11\u001b[38;5;241m.\u001b[39mSEND_RESPONSE:\n",
      "File \u001b[1;32mc:\\Users\\juand\\anaconda3\\Lib\\site-packages\\httpcore\\_backends\\sync.py:126\u001b[0m, in \u001b[0;36mSyncStream.read\u001b[1;34m(self, max_bytes, timeout)\u001b[0m\n\u001b[0;32m    124\u001b[0m \u001b[38;5;28;01mwith\u001b[39;00m map_exceptions(exc_map):\n\u001b[0;32m    125\u001b[0m     \u001b[38;5;28mself\u001b[39m\u001b[38;5;241m.\u001b[39m_sock\u001b[38;5;241m.\u001b[39msettimeout(timeout)\n\u001b[1;32m--> 126\u001b[0m     \u001b[38;5;28;01mreturn\u001b[39;00m \u001b[38;5;28mself\u001b[39m\u001b[38;5;241m.\u001b[39m_sock\u001b[38;5;241m.\u001b[39mrecv(max_bytes)\n",
      "File \u001b[1;32mc:\\Users\\juand\\anaconda3\\Lib\\ssl.py:1295\u001b[0m, in \u001b[0;36mSSLSocket.recv\u001b[1;34m(self, buflen, flags)\u001b[0m\n\u001b[0;32m   1291\u001b[0m     \u001b[38;5;28;01mif\u001b[39;00m flags \u001b[38;5;241m!=\u001b[39m \u001b[38;5;241m0\u001b[39m:\n\u001b[0;32m   1292\u001b[0m         \u001b[38;5;28;01mraise\u001b[39;00m \u001b[38;5;167;01mValueError\u001b[39;00m(\n\u001b[0;32m   1293\u001b[0m             \u001b[38;5;124m\"\u001b[39m\u001b[38;5;124mnon-zero flags not allowed in calls to recv() on \u001b[39m\u001b[38;5;132;01m%s\u001b[39;00m\u001b[38;5;124m\"\u001b[39m \u001b[38;5;241m%\u001b[39m\n\u001b[0;32m   1294\u001b[0m             \u001b[38;5;28mself\u001b[39m\u001b[38;5;241m.\u001b[39m\u001b[38;5;18m__class__\u001b[39m)\n\u001b[1;32m-> 1295\u001b[0m     \u001b[38;5;28;01mreturn\u001b[39;00m \u001b[38;5;28mself\u001b[39m\u001b[38;5;241m.\u001b[39mread(buflen)\n\u001b[0;32m   1296\u001b[0m \u001b[38;5;28;01melse\u001b[39;00m:\n\u001b[0;32m   1297\u001b[0m     \u001b[38;5;28;01mreturn\u001b[39;00m \u001b[38;5;28msuper\u001b[39m()\u001b[38;5;241m.\u001b[39mrecv(buflen, flags)\n",
      "File \u001b[1;32mc:\\Users\\juand\\anaconda3\\Lib\\ssl.py:1168\u001b[0m, in \u001b[0;36mSSLSocket.read\u001b[1;34m(self, len, buffer)\u001b[0m\n\u001b[0;32m   1166\u001b[0m         \u001b[38;5;28;01mreturn\u001b[39;00m \u001b[38;5;28mself\u001b[39m\u001b[38;5;241m.\u001b[39m_sslobj\u001b[38;5;241m.\u001b[39mread(\u001b[38;5;28mlen\u001b[39m, buffer)\n\u001b[0;32m   1167\u001b[0m     \u001b[38;5;28;01melse\u001b[39;00m:\n\u001b[1;32m-> 1168\u001b[0m         \u001b[38;5;28;01mreturn\u001b[39;00m \u001b[38;5;28mself\u001b[39m\u001b[38;5;241m.\u001b[39m_sslobj\u001b[38;5;241m.\u001b[39mread(\u001b[38;5;28mlen\u001b[39m)\n\u001b[0;32m   1169\u001b[0m \u001b[38;5;28;01mexcept\u001b[39;00m SSLError \u001b[38;5;28;01mas\u001b[39;00m x:\n\u001b[0;32m   1170\u001b[0m     \u001b[38;5;28;01mif\u001b[39;00m x\u001b[38;5;241m.\u001b[39margs[\u001b[38;5;241m0\u001b[39m] \u001b[38;5;241m==\u001b[39m SSL_ERROR_EOF \u001b[38;5;129;01mand\u001b[39;00m \u001b[38;5;28mself\u001b[39m\u001b[38;5;241m.\u001b[39msuppress_ragged_eofs:\n",
      "\u001b[1;31mKeyboardInterrupt\u001b[0m: "
     ]
    }
   ],
   "source": [
    "response = chain.invoke({})\n",
    "print(response.content)"
   ]
  },
  {
   "cell_type": "code",
   "execution_count": null,
   "metadata": {},
   "outputs": [],
   "source": [
    "cloth_form = response.content"
   ]
  },
  {
   "cell_type": "code",
   "execution_count": null,
   "metadata": {},
   "outputs": [
    {
     "data": {
      "text/plain": [
       "'*Type: Shirt  \\n*Fit: Regular fit  \\n*Sleeve style: Long sleeve  \\n*Neckline: Button-down  \\n*Material: Silk  \\n*Formality: Business Casual  \\n*Season: All seasons  \\n*Colors: 50% pink, 50% white  \\n*Texture: Smooth  \\n*Transparency: Opaque  \\n*Details and Embellishments: Buttons  \\n*Shape: Fitted  \\n*Length: Hip-length  \\n*Collar Style: Button-down  \\n*Sleeve Style: Long  \\n*Patterns: Geometric  \\n*Patterns placement: All over  \\n*Fluidity of fabric: High  \\n*Fabric weight: Light  \\n*Pocket Presence: No  \\n*Pocket placement: Not applicable  \\n*Pocket size: Not applicable  \\n*Breathability: High  \\n*Occasion Suitability: Business casual  \\n*Lapel: Not applicable  '"
      ]
     },
     "execution_count": 33,
     "metadata": {},
     "output_type": "execute_result"
    }
   ],
   "source": [
    "cloth_form"
   ]
  },
  {
   "cell_type": "code",
   "execution_count": null,
   "metadata": {},
   "outputs": [
    {
     "data": {
      "text/plain": [
       "'*Type: Shirt \\n*Fit: Regular fit \\n*Sleeve style: Long sleeve \\n*Neckline: Button-down \\n*Material: Silk \\n*Formality: Business Casual \\n*Season: All seasons \\n*Colors: 50% pink, 50% white \\n*Texture: Smooth \\n*Transparency: Opaque \\n*Details and Embellishments: Buttons \\n*Shape: Fitted \\n*Length: Hip-length \\n*Collar Style: Button-down \\n*Sleeve Style: Long \\n*Patterns: Geometric \\n*Patterns placement: All over \\n*Fluidity of fabric: High \\n*Fabric weight: Light \\n*Pocket Presence: No \\n*Pocket placement: Not applicable \\n*Pocket size: Not applicable \\n*Breathability: High \\n*Occasion Suitability: Business casual \\n*Lapel: Not applicable '"
      ]
     },
     "execution_count": 39,
     "metadata": {},
     "output_type": "execute_result"
    }
   ],
   "source": [
    "cloth_form.replace(\"  \",\" \")"
   ]
  },
  {
   "cell_type": "markdown",
   "metadata": {},
   "source": [
    "## Add to db"
   ]
  },
  {
   "cell_type": "code",
   "execution_count": 76,
   "metadata": {},
   "outputs": [],
   "source": [
    "conn, cursor = SQLf.sql_db_functions.connect_sql()"
   ]
  },
  {
   "cell_type": "code",
   "execution_count": 41,
   "metadata": {},
   "outputs": [],
   "source": [
    "# Drop the Table1 if it exists\n",
    "cursor.execute(\"DROP TABLE IF EXISTS product_characteristics\")\n",
    "\n",
    "# Create the Table1 with 2 columns ID and Name\n",
    "cursor.execute(\"\"\"\n",
    "    CREATE TABLE product_characteristics (\n",
    "    id SERIAL PRIMARY KEY,\n",
    "    Brand_id INTEGER REFERENCES Products(Brand_Prod_id),\n",
    "    Detail TEXT\n",
    "    )\n",
    "\"\"\")\n",
    "\n",
    "# Commit the changes\n",
    "conn.commit()"
   ]
  },
  {
   "cell_type": "code",
   "execution_count": 44,
   "metadata": {},
   "outputs": [
    {
     "data": {
      "text/plain": [
       "[(22,)]"
      ]
     },
     "execution_count": 44,
     "metadata": {},
     "output_type": "execute_result"
    }
   ],
   "source": [
    "query = \"\"\"\n",
    "    INSERT INTO product_characteristics (Brand_id, Detail) VALUES (%s, %s)\n",
    "    RETURNING Brand_id;\n",
    "    \"\"\"\n",
    "cursor.execute(query, (22,'aaaaaaaa'))\n",
    "\n",
    "# Fetch the rows\n",
    "rows = cursor.fetchall()\n",
    "rows"
   ]
  },
  {
   "cell_type": "code",
   "execution_count": 77,
   "metadata": {},
   "outputs": [
    {
     "data": {
      "text/plain": [
       "[(2,\n",
       "  1,\n",
       "  '\\n        image_link \\n\\n        Description: 0    Il monogramma GG è riproposto in versioni e de...\\nName: Descript, dtype: object \\n\\n        \\n        \\n\\n    The images are of the same clothing peace, use them to fill the following format to list attributes of the clothing peace in image, separate them with comma:  \\n\\n    *Type:  \\n    *Fit: (Slim fit, regular fit, oversized, tight, loose, etc)\\n    *Sleeve style: (Short sleeve, long sleeve, sleeveless, cap sleeve, etc)     \\n    *Neckline: (Crew neck, V-neck, scoop neck, etc)   \\n    *Material: (Cotton, linen, silk, polyester, etc)\\n    *Formality: (Casual, Business Casual, Formal, etc)\\n    *Seasson:   \\n    *Colors:  (percentage of each color in the clothing peace) \\n    *Texture: (Smooth, Rough, Ribbed, Velvety, etc)\\n    *Transparency: (Opaque, Semi-transparent, Transparent, etc)\\n    *Details and Embellishments: (e.g, buttons, zippers, embroidery)\\n    *Shape: (e.g., boxy, fitted, flared) \\n    *Length: (e.g., cropped, hip-length, tunic)\\n    *Collar Style: (e.g., crew neck, V-neck, polo, button-down)\\n    *Sleeve Style: (e.g., short, long, three-quarter, sleeveless, puffed)\\n    *Patterns: (e.g., stripes, floral, geometric, not applicable)\\n    *Patterns placement: (e.g., lower back, left sholder, right chest, not applicable) \\n    *Fluidity of fabric:\\n    *Fabric weight: (Light, medium, or heavy)\\n    *Pocket Presence:(Yes,No)\\n    *Pocket placement:(e.g., lower back, left sholder, right chest, not applicable)\\n    *Pocket size:(small, medium, big, not applicable)\\n    *Breathability: (Low, Medium, High)\\n    *Occasion Suitability: (Casual, formal, business casual, etc)\\n    *Lapel: (Notch, Peak, Shawl Satin, Slim, Wide, Contrasting, etc)\\n\\n\\n    Use information from the image and the description.\\n    IGNORE BACKGROUND\\n    ONLY ANSWER THE FORMAT  \\n    DONT USE THE BRAND NAME IN ANY DESCRIPTION  \\n    IN EACH DESCRIPTION - CHARACTERISTIC SHOULD BE ITS OWN DESCRIPTION\\n    YOU CAN USE MULTIPLE DESCRIPTIONS IN A SINGLE ATTRIBUTE  \\n    DONT USE MULTICOLOR OR Multicolor, NAME THE SPECIFIC COLORS  \\n    COLORS SHOULD INCLUDE PRINT AND CLOTHE COLORS WITHOUT ANY DESCRIPTION OF THE PRINT ONLY MAIN COLORS\\n   \\n    \\n    '),\n",
       " (3,\n",
       "  2,\n",
       "  '\\n        image_link \\n\\n        Description: 1    Il monogramma GG è riproposto in versioni e de...\\nName: Descript, dtype: object \\n\\n        \\n        \\n\\n    The images are of the same clothing peace, use them to fill the following format to list attributes of the clothing peace in image, separate them with comma:  \\n\\n    *Type:  \\n    *Fit: (Slim fit, regular fit, oversized, tight, loose, etc)\\n    *Sleeve style: (Short sleeve, long sleeve, sleeveless, cap sleeve, etc)     \\n    *Neckline: (Crew neck, V-neck, scoop neck, etc)   \\n    *Material: (Cotton, linen, silk, polyester, etc)\\n    *Formality: (Casual, Business Casual, Formal, etc)\\n    *Seasson:   \\n    *Colors:  (percentage of each color in the clothing peace) \\n    *Texture: (Smooth, Rough, Ribbed, Velvety, etc)\\n    *Transparency: (Opaque, Semi-transparent, Transparent, etc)\\n    *Details and Embellishments: (e.g, buttons, zippers, embroidery)\\n    *Shape: (e.g., boxy, fitted, flared) \\n    *Length: (e.g., cropped, hip-length, tunic)\\n    *Collar Style: (e.g., crew neck, V-neck, polo, button-down)\\n    *Sleeve Style: (e.g., short, long, three-quarter, sleeveless, puffed)\\n    *Patterns: (e.g., stripes, floral, geometric, not applicable)\\n    *Patterns placement: (e.g., lower back, left sholder, right chest, not applicable) \\n    *Fluidity of fabric:\\n    *Fabric weight: (Light, medium, or heavy)\\n    *Pocket Presence:(Yes,No)\\n    *Pocket placement:(e.g., lower back, left sholder, right chest, not applicable)\\n    *Pocket size:(small, medium, big, not applicable)\\n    *Breathability: (Low, Medium, High)\\n    *Occasion Suitability: (Casual, formal, business casual, etc)\\n    *Lapel: (Notch, Peak, Shawl Satin, Slim, Wide, Contrasting, etc)\\n\\n\\n    Use information from the image and the description.\\n    IGNORE BACKGROUND\\n    ONLY ANSWER THE FORMAT  \\n    DONT USE THE BRAND NAME IN ANY DESCRIPTION  \\n    IN EACH DESCRIPTION - CHARACTERISTIC SHOULD BE ITS OWN DESCRIPTION\\n    YOU CAN USE MULTIPLE DESCRIPTIONS IN A SINGLE ATTRIBUTE  \\n    DONT USE MULTICOLOR OR Multicolor, NAME THE SPECIFIC COLORS  \\n    COLORS SHOULD INCLUDE PRINT AND CLOTHE COLORS WITHOUT ANY DESCRIPTION OF THE PRINT ONLY MAIN COLORS\\n   \\n    \\n    '),\n",
       " (4,\n",
       "  3,\n",
       "  '\\n        image_link \\n\\n        Description: 2    Ispirato allo spirito estivo e ai beach club d...\\nName: Descript, dtype: object \\n\\n        \\n        \\n\\n    The images are of the same clothing peace, use them to fill the following format to list attributes of the clothing peace in image, separate them with comma:  \\n\\n    *Type:  \\n    *Fit: (Slim fit, regular fit, oversized, tight, loose, etc)\\n    *Sleeve style: (Short sleeve, long sleeve, sleeveless, cap sleeve, etc)     \\n    *Neckline: (Crew neck, V-neck, scoop neck, etc)   \\n    *Material: (Cotton, linen, silk, polyester, etc)\\n    *Formality: (Casual, Business Casual, Formal, etc)\\n    *Seasson:   \\n    *Colors:  (percentage of each color in the clothing peace) \\n    *Texture: (Smooth, Rough, Ribbed, Velvety, etc)\\n    *Transparency: (Opaque, Semi-transparent, Transparent, etc)\\n    *Details and Embellishments: (e.g, buttons, zippers, embroidery)\\n    *Shape: (e.g., boxy, fitted, flared) \\n    *Length: (e.g., cropped, hip-length, tunic)\\n    *Collar Style: (e.g., crew neck, V-neck, polo, button-down)\\n    *Sleeve Style: (e.g., short, long, three-quarter, sleeveless, puffed)\\n    *Patterns: (e.g., stripes, floral, geometric, not applicable)\\n    *Patterns placement: (e.g., lower back, left sholder, right chest, not applicable) \\n    *Fluidity of fabric:\\n    *Fabric weight: (Light, medium, or heavy)\\n    *Pocket Presence:(Yes,No)\\n    *Pocket placement:(e.g., lower back, left sholder, right chest, not applicable)\\n    *Pocket size:(small, medium, big, not applicable)\\n    *Breathability: (Low, Medium, High)\\n    *Occasion Suitability: (Casual, formal, business casual, etc)\\n    *Lapel: (Notch, Peak, Shawl Satin, Slim, Wide, Contrasting, etc)\\n\\n\\n    Use information from the image and the description.\\n    IGNORE BACKGROUND\\n    ONLY ANSWER THE FORMAT  \\n    DONT USE THE BRAND NAME IN ANY DESCRIPTION  \\n    IN EACH DESCRIPTION - CHARACTERISTIC SHOULD BE ITS OWN DESCRIPTION\\n    YOU CAN USE MULTIPLE DESCRIPTIONS IN A SINGLE ATTRIBUTE  \\n    DONT USE MULTICOLOR OR Multicolor, NAME THE SPECIFIC COLORS  \\n    COLORS SHOULD INCLUDE PRINT AND CLOTHE COLORS WITHOUT ANY DESCRIPTION OF THE PRINT ONLY MAIN COLORS\\n   \\n    \\n    '),\n",
       " (5,\n",
       "  4,\n",
       "  '\\n        image_link \\n\\n        Description: 3    Ispirato allo spirito estivo e ai beach club d...\\nName: Descript, dtype: object \\n\\n        \\n        \\n\\n    The images are of the same clothing peace, use them to fill the following format to list attributes of the clothing peace in image, separate them with comma:  \\n\\n    *Type:  \\n    *Fit: (Slim fit, regular fit, oversized, tight, loose, etc)\\n    *Sleeve style: (Short sleeve, long sleeve, sleeveless, cap sleeve, etc)     \\n    *Neckline: (Crew neck, V-neck, scoop neck, etc)   \\n    *Material: (Cotton, linen, silk, polyester, etc)\\n    *Formality: (Casual, Business Casual, Formal, etc)\\n    *Seasson:   \\n    *Colors:  (percentage of each color in the clothing peace) \\n    *Texture: (Smooth, Rough, Ribbed, Velvety, etc)\\n    *Transparency: (Opaque, Semi-transparent, Transparent, etc)\\n    *Details and Embellishments: (e.g, buttons, zippers, embroidery)\\n    *Shape: (e.g., boxy, fitted, flared) \\n    *Length: (e.g., cropped, hip-length, tunic)\\n    *Collar Style: (e.g., crew neck, V-neck, polo, button-down)\\n    *Sleeve Style: (e.g., short, long, three-quarter, sleeveless, puffed)\\n    *Patterns: (e.g., stripes, floral, geometric, not applicable)\\n    *Patterns placement: (e.g., lower back, left sholder, right chest, not applicable) \\n    *Fluidity of fabric:\\n    *Fabric weight: (Light, medium, or heavy)\\n    *Pocket Presence:(Yes,No)\\n    *Pocket placement:(e.g., lower back, left sholder, right chest, not applicable)\\n    *Pocket size:(small, medium, big, not applicable)\\n    *Breathability: (Low, Medium, High)\\n    *Occasion Suitability: (Casual, formal, business casual, etc)\\n    *Lapel: (Notch, Peak, Shawl Satin, Slim, Wide, Contrasting, etc)\\n\\n\\n    Use information from the image and the description.\\n    IGNORE BACKGROUND\\n    ONLY ANSWER THE FORMAT  \\n    DONT USE THE BRAND NAME IN ANY DESCRIPTION  \\n    IN EACH DESCRIPTION - CHARACTERISTIC SHOULD BE ITS OWN DESCRIPTION\\n    YOU CAN USE MULTIPLE DESCRIPTIONS IN A SINGLE ATTRIBUTE  \\n    DONT USE MULTICOLOR OR Multicolor, NAME THE SPECIFIC COLORS  \\n    COLORS SHOULD INCLUDE PRINT AND CLOTHE COLORS WITHOUT ANY DESCRIPTION OF THE PRINT ONLY MAIN COLORS\\n   \\n    \\n    '),\n",
       " (6,\n",
       "  5,\n",
       "  '\\n        image_link \\n\\n        Description: 4    Ispirato allo spirito estivo e ai beach club d...\\nName: Descript, dtype: object \\n\\n        \\n        \\n\\n    The images are of the same clothing peace, use them to fill the following format to list attributes of the clothing peace in image, separate them with comma:  \\n\\n    *Type:  \\n    *Fit: (Slim fit, regular fit, oversized, tight, loose, etc)\\n    *Sleeve style: (Short sleeve, long sleeve, sleeveless, cap sleeve, etc)     \\n    *Neckline: (Crew neck, V-neck, scoop neck, etc)   \\n    *Material: (Cotton, linen, silk, polyester, etc)\\n    *Formality: (Casual, Business Casual, Formal, etc)\\n    *Seasson:   \\n    *Colors:  (percentage of each color in the clothing peace) \\n    *Texture: (Smooth, Rough, Ribbed, Velvety, etc)\\n    *Transparency: (Opaque, Semi-transparent, Transparent, etc)\\n    *Details and Embellishments: (e.g, buttons, zippers, embroidery)\\n    *Shape: (e.g., boxy, fitted, flared) \\n    *Length: (e.g., cropped, hip-length, tunic)\\n    *Collar Style: (e.g., crew neck, V-neck, polo, button-down)\\n    *Sleeve Style: (e.g., short, long, three-quarter, sleeveless, puffed)\\n    *Patterns: (e.g., stripes, floral, geometric, not applicable)\\n    *Patterns placement: (e.g., lower back, left sholder, right chest, not applicable) \\n    *Fluidity of fabric:\\n    *Fabric weight: (Light, medium, or heavy)\\n    *Pocket Presence:(Yes,No)\\n    *Pocket placement:(e.g., lower back, left sholder, right chest, not applicable)\\n    *Pocket size:(small, medium, big, not applicable)\\n    *Breathability: (Low, Medium, High)\\n    *Occasion Suitability: (Casual, formal, business casual, etc)\\n    *Lapel: (Notch, Peak, Shawl Satin, Slim, Wide, Contrasting, etc)\\n\\n\\n    Use information from the image and the description.\\n    IGNORE BACKGROUND\\n    ONLY ANSWER THE FORMAT  \\n    DONT USE THE BRAND NAME IN ANY DESCRIPTION  \\n    IN EACH DESCRIPTION - CHARACTERISTIC SHOULD BE ITS OWN DESCRIPTION\\n    YOU CAN USE MULTIPLE DESCRIPTIONS IN A SINGLE ATTRIBUTE  \\n    DONT USE MULTICOLOR OR Multicolor, NAME THE SPECIFIC COLORS  \\n    COLORS SHOULD INCLUDE PRINT AND CLOTHE COLORS WITHOUT ANY DESCRIPTION OF THE PRINT ONLY MAIN COLORS\\n   \\n    \\n    '),\n",
       " (7,\n",
       "  6,\n",
       "  '\\n        image_link \\n\\n        Description: 5    Ispirato allo spirito estivo e ai beach club d...\\nName: Descript, dtype: object \\n\\n        \\n        \\n\\n    The images are of the same clothing peace, use them to fill the following format to list attributes of the clothing peace in image, separate them with comma:  \\n\\n    *Type:  \\n    *Fit: (Slim fit, regular fit, oversized, tight, loose, etc)\\n    *Sleeve style: (Short sleeve, long sleeve, sleeveless, cap sleeve, etc)     \\n    *Neckline: (Crew neck, V-neck, scoop neck, etc)   \\n    *Material: (Cotton, linen, silk, polyester, etc)\\n    *Formality: (Casual, Business Casual, Formal, etc)\\n    *Seasson:   \\n    *Colors:  (percentage of each color in the clothing peace) \\n    *Texture: (Smooth, Rough, Ribbed, Velvety, etc)\\n    *Transparency: (Opaque, Semi-transparent, Transparent, etc)\\n    *Details and Embellishments: (e.g, buttons, zippers, embroidery)\\n    *Shape: (e.g., boxy, fitted, flared) \\n    *Length: (e.g., cropped, hip-length, tunic)\\n    *Collar Style: (e.g., crew neck, V-neck, polo, button-down)\\n    *Sleeve Style: (e.g., short, long, three-quarter, sleeveless, puffed)\\n    *Patterns: (e.g., stripes, floral, geometric, not applicable)\\n    *Patterns placement: (e.g., lower back, left sholder, right chest, not applicable) \\n    *Fluidity of fabric:\\n    *Fabric weight: (Light, medium, or heavy)\\n    *Pocket Presence:(Yes,No)\\n    *Pocket placement:(e.g., lower back, left sholder, right chest, not applicable)\\n    *Pocket size:(small, medium, big, not applicable)\\n    *Breathability: (Low, Medium, High)\\n    *Occasion Suitability: (Casual, formal, business casual, etc)\\n    *Lapel: (Notch, Peak, Shawl Satin, Slim, Wide, Contrasting, etc)\\n\\n\\n    Use information from the image and the description.\\n    IGNORE BACKGROUND\\n    ONLY ANSWER THE FORMAT  \\n    DONT USE THE BRAND NAME IN ANY DESCRIPTION  \\n    IN EACH DESCRIPTION - CHARACTERISTIC SHOULD BE ITS OWN DESCRIPTION\\n    YOU CAN USE MULTIPLE DESCRIPTIONS IN A SINGLE ATTRIBUTE  \\n    DONT USE MULTICOLOR OR Multicolor, NAME THE SPECIFIC COLORS  \\n    COLORS SHOULD INCLUDE PRINT AND CLOTHE COLORS WITHOUT ANY DESCRIPTION OF THE PRINT ONLY MAIN COLORS\\n   \\n    \\n    '),\n",
       " (8,\n",
       "  7,\n",
       "  '\\n        image_link \\n\\n        Description: 6    Ispirato allo spirito estivo e ai beach club d...\\nName: Descript, dtype: object \\n\\n        \\n        \\n\\n    The images are of the same clothing peace, use them to fill the following format to list attributes of the clothing peace in image, separate them with comma:  \\n\\n    *Type:  \\n    *Fit: (Slim fit, regular fit, oversized, tight, loose, etc)\\n    *Sleeve style: (Short sleeve, long sleeve, sleeveless, cap sleeve, etc)     \\n    *Neckline: (Crew neck, V-neck, scoop neck, etc)   \\n    *Material: (Cotton, linen, silk, polyester, etc)\\n    *Formality: (Casual, Business Casual, Formal, etc)\\n    *Seasson:   \\n    *Colors:  (percentage of each color in the clothing peace) \\n    *Texture: (Smooth, Rough, Ribbed, Velvety, etc)\\n    *Transparency: (Opaque, Semi-transparent, Transparent, etc)\\n    *Details and Embellishments: (e.g, buttons, zippers, embroidery)\\n    *Shape: (e.g., boxy, fitted, flared) \\n    *Length: (e.g., cropped, hip-length, tunic)\\n    *Collar Style: (e.g., crew neck, V-neck, polo, button-down)\\n    *Sleeve Style: (e.g., short, long, three-quarter, sleeveless, puffed)\\n    *Patterns: (e.g., stripes, floral, geometric, not applicable)\\n    *Patterns placement: (e.g., lower back, left sholder, right chest, not applicable) \\n    *Fluidity of fabric:\\n    *Fabric weight: (Light, medium, or heavy)\\n    *Pocket Presence:(Yes,No)\\n    *Pocket placement:(e.g., lower back, left sholder, right chest, not applicable)\\n    *Pocket size:(small, medium, big, not applicable)\\n    *Breathability: (Low, Medium, High)\\n    *Occasion Suitability: (Casual, formal, business casual, etc)\\n    *Lapel: (Notch, Peak, Shawl Satin, Slim, Wide, Contrasting, etc)\\n\\n\\n    Use information from the image and the description.\\n    IGNORE BACKGROUND\\n    ONLY ANSWER THE FORMAT  \\n    DONT USE THE BRAND NAME IN ANY DESCRIPTION  \\n    IN EACH DESCRIPTION - CHARACTERISTIC SHOULD BE ITS OWN DESCRIPTION\\n    YOU CAN USE MULTIPLE DESCRIPTIONS IN A SINGLE ATTRIBUTE  \\n    DONT USE MULTICOLOR OR Multicolor, NAME THE SPECIFIC COLORS  \\n    COLORS SHOULD INCLUDE PRINT AND CLOTHE COLORS WITHOUT ANY DESCRIPTION OF THE PRINT ONLY MAIN COLORS\\n   \\n    \\n    '),\n",
       " (9,\n",
       "  8,\n",
       "  '\\n        image_link \\n\\n        Description: 7    Ispirato allo spirito estivo e ai beach club d...\\nName: Descript, dtype: object \\n\\n        \\n        \\n\\n    The images are of the same clothing peace, use them to fill the following format to list attributes of the clothing peace in image, separate them with comma:  \\n\\n    *Type:  \\n    *Fit: (Slim fit, regular fit, oversized, tight, loose, etc)\\n    *Sleeve style: (Short sleeve, long sleeve, sleeveless, cap sleeve, etc)     \\n    *Neckline: (Crew neck, V-neck, scoop neck, etc)   \\n    *Material: (Cotton, linen, silk, polyester, etc)\\n    *Formality: (Casual, Business Casual, Formal, etc)\\n    *Seasson:   \\n    *Colors:  (percentage of each color in the clothing peace) \\n    *Texture: (Smooth, Rough, Ribbed, Velvety, etc)\\n    *Transparency: (Opaque, Semi-transparent, Transparent, etc)\\n    *Details and Embellishments: (e.g, buttons, zippers, embroidery)\\n    *Shape: (e.g., boxy, fitted, flared) \\n    *Length: (e.g., cropped, hip-length, tunic)\\n    *Collar Style: (e.g., crew neck, V-neck, polo, button-down)\\n    *Sleeve Style: (e.g., short, long, three-quarter, sleeveless, puffed)\\n    *Patterns: (e.g., stripes, floral, geometric, not applicable)\\n    *Patterns placement: (e.g., lower back, left sholder, right chest, not applicable) \\n    *Fluidity of fabric:\\n    *Fabric weight: (Light, medium, or heavy)\\n    *Pocket Presence:(Yes,No)\\n    *Pocket placement:(e.g., lower back, left sholder, right chest, not applicable)\\n    *Pocket size:(small, medium, big, not applicable)\\n    *Breathability: (Low, Medium, High)\\n    *Occasion Suitability: (Casual, formal, business casual, etc)\\n    *Lapel: (Notch, Peak, Shawl Satin, Slim, Wide, Contrasting, etc)\\n\\n\\n    Use information from the image and the description.\\n    IGNORE BACKGROUND\\n    ONLY ANSWER THE FORMAT  \\n    DONT USE THE BRAND NAME IN ANY DESCRIPTION  \\n    IN EACH DESCRIPTION - CHARACTERISTIC SHOULD BE ITS OWN DESCRIPTION\\n    YOU CAN USE MULTIPLE DESCRIPTIONS IN A SINGLE ATTRIBUTE  \\n    DONT USE MULTICOLOR OR Multicolor, NAME THE SPECIFIC COLORS  \\n    COLORS SHOULD INCLUDE PRINT AND CLOTHE COLORS WITHOUT ANY DESCRIPTION OF THE PRINT ONLY MAIN COLORS\\n   \\n    \\n    '),\n",
       " (10,\n",
       "  9,\n",
       "  '\\n        image_link \\n\\n        Description: 8    Ispirato allo spirito estivo e ai beach club d...\\nName: Descript, dtype: object \\n\\n        \\n        \\n\\n    The images are of the same clothing peace, use them to fill the following format to list attributes of the clothing peace in image, separate them with comma:  \\n\\n    *Type:  \\n    *Fit: (Slim fit, regular fit, oversized, tight, loose, etc)\\n    *Sleeve style: (Short sleeve, long sleeve, sleeveless, cap sleeve, etc)     \\n    *Neckline: (Crew neck, V-neck, scoop neck, etc)   \\n    *Material: (Cotton, linen, silk, polyester, etc)\\n    *Formality: (Casual, Business Casual, Formal, etc)\\n    *Seasson:   \\n    *Colors:  (percentage of each color in the clothing peace) \\n    *Texture: (Smooth, Rough, Ribbed, Velvety, etc)\\n    *Transparency: (Opaque, Semi-transparent, Transparent, etc)\\n    *Details and Embellishments: (e.g, buttons, zippers, embroidery)\\n    *Shape: (e.g., boxy, fitted, flared) \\n    *Length: (e.g., cropped, hip-length, tunic)\\n    *Collar Style: (e.g., crew neck, V-neck, polo, button-down)\\n    *Sleeve Style: (e.g., short, long, three-quarter, sleeveless, puffed)\\n    *Patterns: (e.g., stripes, floral, geometric, not applicable)\\n    *Patterns placement: (e.g., lower back, left sholder, right chest, not applicable) \\n    *Fluidity of fabric:\\n    *Fabric weight: (Light, medium, or heavy)\\n    *Pocket Presence:(Yes,No)\\n    *Pocket placement:(e.g., lower back, left sholder, right chest, not applicable)\\n    *Pocket size:(small, medium, big, not applicable)\\n    *Breathability: (Low, Medium, High)\\n    *Occasion Suitability: (Casual, formal, business casual, etc)\\n    *Lapel: (Notch, Peak, Shawl Satin, Slim, Wide, Contrasting, etc)\\n\\n\\n    Use information from the image and the description.\\n    IGNORE BACKGROUND\\n    ONLY ANSWER THE FORMAT  \\n    DONT USE THE BRAND NAME IN ANY DESCRIPTION  \\n    IN EACH DESCRIPTION - CHARACTERISTIC SHOULD BE ITS OWN DESCRIPTION\\n    YOU CAN USE MULTIPLE DESCRIPTIONS IN A SINGLE ATTRIBUTE  \\n    DONT USE MULTICOLOR OR Multicolor, NAME THE SPECIFIC COLORS  \\n    COLORS SHOULD INCLUDE PRINT AND CLOTHE COLORS WITHOUT ANY DESCRIPTION OF THE PRINT ONLY MAIN COLORS\\n   \\n    \\n    '),\n",
       " (11,\n",
       "  10,\n",
       "  '\\n        image_link \\n\\n        Description: 9    Ispirato allo spirito estivo e ai beach club d...\\nName: Descript, dtype: object \\n\\n        \\n        \\n\\n    The images are of the same clothing peace, use them to fill the following format to list attributes of the clothing peace in image, separate them with comma:  \\n\\n    *Type:  \\n    *Fit: (Slim fit, regular fit, oversized, tight, loose, etc)\\n    *Sleeve style: (Short sleeve, long sleeve, sleeveless, cap sleeve, etc)     \\n    *Neckline: (Crew neck, V-neck, scoop neck, etc)   \\n    *Material: (Cotton, linen, silk, polyester, etc)\\n    *Formality: (Casual, Business Casual, Formal, etc)\\n    *Seasson:   \\n    *Colors:  (percentage of each color in the clothing peace) \\n    *Texture: (Smooth, Rough, Ribbed, Velvety, etc)\\n    *Transparency: (Opaque, Semi-transparent, Transparent, etc)\\n    *Details and Embellishments: (e.g, buttons, zippers, embroidery)\\n    *Shape: (e.g., boxy, fitted, flared) \\n    *Length: (e.g., cropped, hip-length, tunic)\\n    *Collar Style: (e.g., crew neck, V-neck, polo, button-down)\\n    *Sleeve Style: (e.g., short, long, three-quarter, sleeveless, puffed)\\n    *Patterns: (e.g., stripes, floral, geometric, not applicable)\\n    *Patterns placement: (e.g., lower back, left sholder, right chest, not applicable) \\n    *Fluidity of fabric:\\n    *Fabric weight: (Light, medium, or heavy)\\n    *Pocket Presence:(Yes,No)\\n    *Pocket placement:(e.g., lower back, left sholder, right chest, not applicable)\\n    *Pocket size:(small, medium, big, not applicable)\\n    *Breathability: (Low, Medium, High)\\n    *Occasion Suitability: (Casual, formal, business casual, etc)\\n    *Lapel: (Notch, Peak, Shawl Satin, Slim, Wide, Contrasting, etc)\\n\\n\\n    Use information from the image and the description.\\n    IGNORE BACKGROUND\\n    ONLY ANSWER THE FORMAT  \\n    DONT USE THE BRAND NAME IN ANY DESCRIPTION  \\n    IN EACH DESCRIPTION - CHARACTERISTIC SHOULD BE ITS OWN DESCRIPTION\\n    YOU CAN USE MULTIPLE DESCRIPTIONS IN A SINGLE ATTRIBUTE  \\n    DONT USE MULTICOLOR OR Multicolor, NAME THE SPECIFIC COLORS  \\n    COLORS SHOULD INCLUDE PRINT AND CLOTHE COLORS WITHOUT ANY DESCRIPTION OF THE PRINT ONLY MAIN COLORS\\n   \\n    \\n    '),\n",
       " (12,\n",
       "  11,\n",
       "  '\\n        image_link \\n\\n        Description: 10    Ispirato allo spirito estivo e ai beach club d...\\nName: Descript, dtype: object \\n\\n        \\n        \\n\\n    The images are of the same clothing peace, use them to fill the following format to list attributes of the clothing peace in image, separate them with comma:  \\n\\n    *Type:  \\n    *Fit: (Slim fit, regular fit, oversized, tight, loose, etc)\\n    *Sleeve style: (Short sleeve, long sleeve, sleeveless, cap sleeve, etc)     \\n    *Neckline: (Crew neck, V-neck, scoop neck, etc)   \\n    *Material: (Cotton, linen, silk, polyester, etc)\\n    *Formality: (Casual, Business Casual, Formal, etc)\\n    *Seasson:   \\n    *Colors:  (percentage of each color in the clothing peace) \\n    *Texture: (Smooth, Rough, Ribbed, Velvety, etc)\\n    *Transparency: (Opaque, Semi-transparent, Transparent, etc)\\n    *Details and Embellishments: (e.g, buttons, zippers, embroidery)\\n    *Shape: (e.g., boxy, fitted, flared) \\n    *Length: (e.g., cropped, hip-length, tunic)\\n    *Collar Style: (e.g., crew neck, V-neck, polo, button-down)\\n    *Sleeve Style: (e.g., short, long, three-quarter, sleeveless, puffed)\\n    *Patterns: (e.g., stripes, floral, geometric, not applicable)\\n    *Patterns placement: (e.g., lower back, left sholder, right chest, not applicable) \\n    *Fluidity of fabric:\\n    *Fabric weight: (Light, medium, or heavy)\\n    *Pocket Presence:(Yes,No)\\n    *Pocket placement:(e.g., lower back, left sholder, right chest, not applicable)\\n    *Pocket size:(small, medium, big, not applicable)\\n    *Breathability: (Low, Medium, High)\\n    *Occasion Suitability: (Casual, formal, business casual, etc)\\n    *Lapel: (Notch, Peak, Shawl Satin, Slim, Wide, Contrasting, etc)\\n\\n\\n    Use information from the image and the description.\\n    IGNORE BACKGROUND\\n    ONLY ANSWER THE FORMAT  \\n    DONT USE THE BRAND NAME IN ANY DESCRIPTION  \\n    IN EACH DESCRIPTION - CHARACTERISTIC SHOULD BE ITS OWN DESCRIPTION\\n    YOU CAN USE MULTIPLE DESCRIPTIONS IN A SINGLE ATTRIBUTE  \\n    DONT USE MULTICOLOR OR Multicolor, NAME THE SPECIFIC COLORS  \\n    COLORS SHOULD INCLUDE PRINT AND CLOTHE COLORS WITHOUT ANY DESCRIPTION OF THE PRINT ONLY MAIN COLORS\\n   \\n    \\n    '),\n",
       " (13,\n",
       "  12,\n",
       "  '\\n        image_link \\n\\n        Description: 11    Ispirato allo spirito estivo e ai beach club d...\\nName: Descript, dtype: object \\n\\n        \\n        \\n\\n    The images are of the same clothing peace, use them to fill the following format to list attributes of the clothing peace in image, separate them with comma:  \\n\\n    *Type:  \\n    *Fit: (Slim fit, regular fit, oversized, tight, loose, etc)\\n    *Sleeve style: (Short sleeve, long sleeve, sleeveless, cap sleeve, etc)     \\n    *Neckline: (Crew neck, V-neck, scoop neck, etc)   \\n    *Material: (Cotton, linen, silk, polyester, etc)\\n    *Formality: (Casual, Business Casual, Formal, etc)\\n    *Seasson:   \\n    *Colors:  (percentage of each color in the clothing peace) \\n    *Texture: (Smooth, Rough, Ribbed, Velvety, etc)\\n    *Transparency: (Opaque, Semi-transparent, Transparent, etc)\\n    *Details and Embellishments: (e.g, buttons, zippers, embroidery)\\n    *Shape: (e.g., boxy, fitted, flared) \\n    *Length: (e.g., cropped, hip-length, tunic)\\n    *Collar Style: (e.g., crew neck, V-neck, polo, button-down)\\n    *Sleeve Style: (e.g., short, long, three-quarter, sleeveless, puffed)\\n    *Patterns: (e.g., stripes, floral, geometric, not applicable)\\n    *Patterns placement: (e.g., lower back, left sholder, right chest, not applicable) \\n    *Fluidity of fabric:\\n    *Fabric weight: (Light, medium, or heavy)\\n    *Pocket Presence:(Yes,No)\\n    *Pocket placement:(e.g., lower back, left sholder, right chest, not applicable)\\n    *Pocket size:(small, medium, big, not applicable)\\n    *Breathability: (Low, Medium, High)\\n    *Occasion Suitability: (Casual, formal, business casual, etc)\\n    *Lapel: (Notch, Peak, Shawl Satin, Slim, Wide, Contrasting, etc)\\n\\n\\n    Use information from the image and the description.\\n    IGNORE BACKGROUND\\n    ONLY ANSWER THE FORMAT  \\n    DONT USE THE BRAND NAME IN ANY DESCRIPTION  \\n    IN EACH DESCRIPTION - CHARACTERISTIC SHOULD BE ITS OWN DESCRIPTION\\n    YOU CAN USE MULTIPLE DESCRIPTIONS IN A SINGLE ATTRIBUTE  \\n    DONT USE MULTICOLOR OR Multicolor, NAME THE SPECIFIC COLORS  \\n    COLORS SHOULD INCLUDE PRINT AND CLOTHE COLORS WITHOUT ANY DESCRIPTION OF THE PRINT ONLY MAIN COLORS\\n   \\n    \\n    '),\n",
       " (14,\n",
       "  13,\n",
       "  '\\n        image_link \\n\\n        Description: 12    Ispirato allo spirito estivo e ai beach club d...\\nName: Descript, dtype: object \\n\\n        \\n        \\n\\n    The images are of the same clothing peace, use them to fill the following format to list attributes of the clothing peace in image, separate them with comma:  \\n\\n    *Type:  \\n    *Fit: (Slim fit, regular fit, oversized, tight, loose, etc)\\n    *Sleeve style: (Short sleeve, long sleeve, sleeveless, cap sleeve, etc)     \\n    *Neckline: (Crew neck, V-neck, scoop neck, etc)   \\n    *Material: (Cotton, linen, silk, polyester, etc)\\n    *Formality: (Casual, Business Casual, Formal, etc)\\n    *Seasson:   \\n    *Colors:  (percentage of each color in the clothing peace) \\n    *Texture: (Smooth, Rough, Ribbed, Velvety, etc)\\n    *Transparency: (Opaque, Semi-transparent, Transparent, etc)\\n    *Details and Embellishments: (e.g, buttons, zippers, embroidery)\\n    *Shape: (e.g., boxy, fitted, flared) \\n    *Length: (e.g., cropped, hip-length, tunic)\\n    *Collar Style: (e.g., crew neck, V-neck, polo, button-down)\\n    *Sleeve Style: (e.g., short, long, three-quarter, sleeveless, puffed)\\n    *Patterns: (e.g., stripes, floral, geometric, not applicable)\\n    *Patterns placement: (e.g., lower back, left sholder, right chest, not applicable) \\n    *Fluidity of fabric:\\n    *Fabric weight: (Light, medium, or heavy)\\n    *Pocket Presence:(Yes,No)\\n    *Pocket placement:(e.g., lower back, left sholder, right chest, not applicable)\\n    *Pocket size:(small, medium, big, not applicable)\\n    *Breathability: (Low, Medium, High)\\n    *Occasion Suitability: (Casual, formal, business casual, etc)\\n    *Lapel: (Notch, Peak, Shawl Satin, Slim, Wide, Contrasting, etc)\\n\\n\\n    Use information from the image and the description.\\n    IGNORE BACKGROUND\\n    ONLY ANSWER THE FORMAT  \\n    DONT USE THE BRAND NAME IN ANY DESCRIPTION  \\n    IN EACH DESCRIPTION - CHARACTERISTIC SHOULD BE ITS OWN DESCRIPTION\\n    YOU CAN USE MULTIPLE DESCRIPTIONS IN A SINGLE ATTRIBUTE  \\n    DONT USE MULTICOLOR OR Multicolor, NAME THE SPECIFIC COLORS  \\n    COLORS SHOULD INCLUDE PRINT AND CLOTHE COLORS WITHOUT ANY DESCRIPTION OF THE PRINT ONLY MAIN COLORS\\n   \\n    \\n    '),\n",
       " (15,\n",
       "  14,\n",
       "  '\\n        image_link \\n\\n        Description: 13     Il modello è alto 177cm/5\\'10\" e indossa la ta...\\nName: Descript, dtype: object \\n\\n        \\n        \\n\\n    The images are of the same clothing peace, use them to fill the following format to list attributes of the clothing peace in image, separate them with comma:  \\n\\n    *Type:  \\n    *Fit: (Slim fit, regular fit, oversized, tight, loose, etc)\\n    *Sleeve style: (Short sleeve, long sleeve, sleeveless, cap sleeve, etc)     \\n    *Neckline: (Crew neck, V-neck, scoop neck, etc)   \\n    *Material: (Cotton, linen, silk, polyester, etc)\\n    *Formality: (Casual, Business Casual, Formal, etc)\\n    *Seasson:   \\n    *Colors:  (percentage of each color in the clothing peace) \\n    *Texture: (Smooth, Rough, Ribbed, Velvety, etc)\\n    *Transparency: (Opaque, Semi-transparent, Transparent, etc)\\n    *Details and Embellishments: (e.g, buttons, zippers, embroidery)\\n    *Shape: (e.g., boxy, fitted, flared) \\n    *Length: (e.g., cropped, hip-length, tunic)\\n    *Collar Style: (e.g., crew neck, V-neck, polo, button-down)\\n    *Sleeve Style: (e.g., short, long, three-quarter, sleeveless, puffed)\\n    *Patterns: (e.g., stripes, floral, geometric, not applicable)\\n    *Patterns placement: (e.g., lower back, left sholder, right chest, not applicable) \\n    *Fluidity of fabric:\\n    *Fabric weight: (Light, medium, or heavy)\\n    *Pocket Presence:(Yes,No)\\n    *Pocket placement:(e.g., lower back, left sholder, right chest, not applicable)\\n    *Pocket size:(small, medium, big, not applicable)\\n    *Breathability: (Low, Medium, High)\\n    *Occasion Suitability: (Casual, formal, business casual, etc)\\n    *Lapel: (Notch, Peak, Shawl Satin, Slim, Wide, Contrasting, etc)\\n\\n\\n    Use information from the image and the description.\\n    IGNORE BACKGROUND\\n    ONLY ANSWER THE FORMAT  \\n    DONT USE THE BRAND NAME IN ANY DESCRIPTION  \\n    IN EACH DESCRIPTION - CHARACTERISTIC SHOULD BE ITS OWN DESCRIPTION\\n    YOU CAN USE MULTIPLE DESCRIPTIONS IN A SINGLE ATTRIBUTE  \\n    DONT USE MULTICOLOR OR Multicolor, NAME THE SPECIFIC COLORS  \\n    COLORS SHOULD INCLUDE PRINT AND CLOTHE COLORS WITHOUT ANY DESCRIPTION OF THE PRINT ONLY MAIN COLORS\\n   \\n    \\n    '),\n",
       " (16,\n",
       "  15,\n",
       "  '\\n        image_link \\n\\n        Description: 14     Il modello è alto 177cm/5\\'10\" e indossa la ta...\\nName: Descript, dtype: object \\n\\n        \\n        \\n\\n    The images are of the same clothing peace, use them to fill the following format to list attributes of the clothing peace in image, separate them with comma:  \\n\\n    *Type:  \\n    *Fit: (Slim fit, regular fit, oversized, tight, loose, etc)\\n    *Sleeve style: (Short sleeve, long sleeve, sleeveless, cap sleeve, etc)     \\n    *Neckline: (Crew neck, V-neck, scoop neck, etc)   \\n    *Material: (Cotton, linen, silk, polyester, etc)\\n    *Formality: (Casual, Business Casual, Formal, etc)\\n    *Seasson:   \\n    *Colors:  (percentage of each color in the clothing peace) \\n    *Texture: (Smooth, Rough, Ribbed, Velvety, etc)\\n    *Transparency: (Opaque, Semi-transparent, Transparent, etc)\\n    *Details and Embellishments: (e.g, buttons, zippers, embroidery)\\n    *Shape: (e.g., boxy, fitted, flared) \\n    *Length: (e.g., cropped, hip-length, tunic)\\n    *Collar Style: (e.g., crew neck, V-neck, polo, button-down)\\n    *Sleeve Style: (e.g., short, long, three-quarter, sleeveless, puffed)\\n    *Patterns: (e.g., stripes, floral, geometric, not applicable)\\n    *Patterns placement: (e.g., lower back, left sholder, right chest, not applicable) \\n    *Fluidity of fabric:\\n    *Fabric weight: (Light, medium, or heavy)\\n    *Pocket Presence:(Yes,No)\\n    *Pocket placement:(e.g., lower back, left sholder, right chest, not applicable)\\n    *Pocket size:(small, medium, big, not applicable)\\n    *Breathability: (Low, Medium, High)\\n    *Occasion Suitability: (Casual, formal, business casual, etc)\\n    *Lapel: (Notch, Peak, Shawl Satin, Slim, Wide, Contrasting, etc)\\n\\n\\n    Use information from the image and the description.\\n    IGNORE BACKGROUND\\n    ONLY ANSWER THE FORMAT  \\n    DONT USE THE BRAND NAME IN ANY DESCRIPTION  \\n    IN EACH DESCRIPTION - CHARACTERISTIC SHOULD BE ITS OWN DESCRIPTION\\n    YOU CAN USE MULTIPLE DESCRIPTIONS IN A SINGLE ATTRIBUTE  \\n    DONT USE MULTICOLOR OR Multicolor, NAME THE SPECIFIC COLORS  \\n    COLORS SHOULD INCLUDE PRINT AND CLOTHE COLORS WITHOUT ANY DESCRIPTION OF THE PRINT ONLY MAIN COLORS\\n   \\n    \\n    '),\n",
       " (17,\n",
       "  16,\n",
       "  '\\n        image_link \\n\\n        Description: 15     Il modello è alto 177cm/5\\'10\" e indossa la ta...\\nName: Descript, dtype: object \\n\\n        \\n        \\n\\n    The images are of the same clothing peace, use them to fill the following format to list attributes of the clothing peace in image, separate them with comma:  \\n\\n    *Type:  \\n    *Fit: (Slim fit, regular fit, oversized, tight, loose, etc)\\n    *Sleeve style: (Short sleeve, long sleeve, sleeveless, cap sleeve, etc)     \\n    *Neckline: (Crew neck, V-neck, scoop neck, etc)   \\n    *Material: (Cotton, linen, silk, polyester, etc)\\n    *Formality: (Casual, Business Casual, Formal, etc)\\n    *Seasson:   \\n    *Colors:  (percentage of each color in the clothing peace) \\n    *Texture: (Smooth, Rough, Ribbed, Velvety, etc)\\n    *Transparency: (Opaque, Semi-transparent, Transparent, etc)\\n    *Details and Embellishments: (e.g, buttons, zippers, embroidery)\\n    *Shape: (e.g., boxy, fitted, flared) \\n    *Length: (e.g., cropped, hip-length, tunic)\\n    *Collar Style: (e.g., crew neck, V-neck, polo, button-down)\\n    *Sleeve Style: (e.g., short, long, three-quarter, sleeveless, puffed)\\n    *Patterns: (e.g., stripes, floral, geometric, not applicable)\\n    *Patterns placement: (e.g., lower back, left sholder, right chest, not applicable) \\n    *Fluidity of fabric:\\n    *Fabric weight: (Light, medium, or heavy)\\n    *Pocket Presence:(Yes,No)\\n    *Pocket placement:(e.g., lower back, left sholder, right chest, not applicable)\\n    *Pocket size:(small, medium, big, not applicable)\\n    *Breathability: (Low, Medium, High)\\n    *Occasion Suitability: (Casual, formal, business casual, etc)\\n    *Lapel: (Notch, Peak, Shawl Satin, Slim, Wide, Contrasting, etc)\\n\\n\\n    Use information from the image and the description.\\n    IGNORE BACKGROUND\\n    ONLY ANSWER THE FORMAT  \\n    DONT USE THE BRAND NAME IN ANY DESCRIPTION  \\n    IN EACH DESCRIPTION - CHARACTERISTIC SHOULD BE ITS OWN DESCRIPTION\\n    YOU CAN USE MULTIPLE DESCRIPTIONS IN A SINGLE ATTRIBUTE  \\n    DONT USE MULTICOLOR OR Multicolor, NAME THE SPECIFIC COLORS  \\n    COLORS SHOULD INCLUDE PRINT AND CLOTHE COLORS WITHOUT ANY DESCRIPTION OF THE PRINT ONLY MAIN COLORS\\n   \\n    \\n    '),\n",
       " (18,\n",
       "  17,\n",
       "  '\\n        image_link \\n\\n        Description: 16     Il modello è alto 177cm/5\\'10\" e indossa la ta...\\nName: Descript, dtype: object \\n\\n        \\n        \\n\\n    The images are of the same clothing peace, use them to fill the following format to list attributes of the clothing peace in image, separate them with comma:  \\n\\n    *Type:  \\n    *Fit: (Slim fit, regular fit, oversized, tight, loose, etc)\\n    *Sleeve style: (Short sleeve, long sleeve, sleeveless, cap sleeve, etc)     \\n    *Neckline: (Crew neck, V-neck, scoop neck, etc)   \\n    *Material: (Cotton, linen, silk, polyester, etc)\\n    *Formality: (Casual, Business Casual, Formal, etc)\\n    *Seasson:   \\n    *Colors:  (percentage of each color in the clothing peace) \\n    *Texture: (Smooth, Rough, Ribbed, Velvety, etc)\\n    *Transparency: (Opaque, Semi-transparent, Transparent, etc)\\n    *Details and Embellishments: (e.g, buttons, zippers, embroidery)\\n    *Shape: (e.g., boxy, fitted, flared) \\n    *Length: (e.g., cropped, hip-length, tunic)\\n    *Collar Style: (e.g., crew neck, V-neck, polo, button-down)\\n    *Sleeve Style: (e.g., short, long, three-quarter, sleeveless, puffed)\\n    *Patterns: (e.g., stripes, floral, geometric, not applicable)\\n    *Patterns placement: (e.g., lower back, left sholder, right chest, not applicable) \\n    *Fluidity of fabric:\\n    *Fabric weight: (Light, medium, or heavy)\\n    *Pocket Presence:(Yes,No)\\n    *Pocket placement:(e.g., lower back, left sholder, right chest, not applicable)\\n    *Pocket size:(small, medium, big, not applicable)\\n    *Breathability: (Low, Medium, High)\\n    *Occasion Suitability: (Casual, formal, business casual, etc)\\n    *Lapel: (Notch, Peak, Shawl Satin, Slim, Wide, Contrasting, etc)\\n\\n\\n    Use information from the image and the description.\\n    IGNORE BACKGROUND\\n    ONLY ANSWER THE FORMAT  \\n    DONT USE THE BRAND NAME IN ANY DESCRIPTION  \\n    IN EACH DESCRIPTION - CHARACTERISTIC SHOULD BE ITS OWN DESCRIPTION\\n    YOU CAN USE MULTIPLE DESCRIPTIONS IN A SINGLE ATTRIBUTE  \\n    DONT USE MULTICOLOR OR Multicolor, NAME THE SPECIFIC COLORS  \\n    COLORS SHOULD INCLUDE PRINT AND CLOTHE COLORS WITHOUT ANY DESCRIPTION OF THE PRINT ONLY MAIN COLORS\\n   \\n    \\n    '),\n",
       " (19,\n",
       "  18,\n",
       "  '\\n        image_link \\n\\n        Description: 17     Il modello è alto 177cm/5\\'10\" e indossa la ta...\\nName: Descript, dtype: object \\n\\n        \\n        \\n\\n    The images are of the same clothing peace, use them to fill the following format to list attributes of the clothing peace in image, separate them with comma:  \\n\\n    *Type:  \\n    *Fit: (Slim fit, regular fit, oversized, tight, loose, etc)\\n    *Sleeve style: (Short sleeve, long sleeve, sleeveless, cap sleeve, etc)     \\n    *Neckline: (Crew neck, V-neck, scoop neck, etc)   \\n    *Material: (Cotton, linen, silk, polyester, etc)\\n    *Formality: (Casual, Business Casual, Formal, etc)\\n    *Seasson:   \\n    *Colors:  (percentage of each color in the clothing peace) \\n    *Texture: (Smooth, Rough, Ribbed, Velvety, etc)\\n    *Transparency: (Opaque, Semi-transparent, Transparent, etc)\\n    *Details and Embellishments: (e.g, buttons, zippers, embroidery)\\n    *Shape: (e.g., boxy, fitted, flared) \\n    *Length: (e.g., cropped, hip-length, tunic)\\n    *Collar Style: (e.g., crew neck, V-neck, polo, button-down)\\n    *Sleeve Style: (e.g., short, long, three-quarter, sleeveless, puffed)\\n    *Patterns: (e.g., stripes, floral, geometric, not applicable)\\n    *Patterns placement: (e.g., lower back, left sholder, right chest, not applicable) \\n    *Fluidity of fabric:\\n    *Fabric weight: (Light, medium, or heavy)\\n    *Pocket Presence:(Yes,No)\\n    *Pocket placement:(e.g., lower back, left sholder, right chest, not applicable)\\n    *Pocket size:(small, medium, big, not applicable)\\n    *Breathability: (Low, Medium, High)\\n    *Occasion Suitability: (Casual, formal, business casual, etc)\\n    *Lapel: (Notch, Peak, Shawl Satin, Slim, Wide, Contrasting, etc)\\n\\n\\n    Use information from the image and the description.\\n    IGNORE BACKGROUND\\n    ONLY ANSWER THE FORMAT  \\n    DONT USE THE BRAND NAME IN ANY DESCRIPTION  \\n    IN EACH DESCRIPTION - CHARACTERISTIC SHOULD BE ITS OWN DESCRIPTION\\n    YOU CAN USE MULTIPLE DESCRIPTIONS IN A SINGLE ATTRIBUTE  \\n    DONT USE MULTICOLOR OR Multicolor, NAME THE SPECIFIC COLORS  \\n    COLORS SHOULD INCLUDE PRINT AND CLOTHE COLORS WITHOUT ANY DESCRIPTION OF THE PRINT ONLY MAIN COLORS\\n   \\n    \\n    '),\n",
       " (20,\n",
       "  19,\n",
       "  '\\n        image_link \\n\\n        Description: 18     Il modello è alto 177cm/5\\'10\" e indossa la ta...\\nName: Descript, dtype: object \\n\\n        \\n        \\n\\n    The images are of the same clothing peace, use them to fill the following format to list attributes of the clothing peace in image, separate them with comma:  \\n\\n    *Type:  \\n    *Fit: (Slim fit, regular fit, oversized, tight, loose, etc)\\n    *Sleeve style: (Short sleeve, long sleeve, sleeveless, cap sleeve, etc)     \\n    *Neckline: (Crew neck, V-neck, scoop neck, etc)   \\n    *Material: (Cotton, linen, silk, polyester, etc)\\n    *Formality: (Casual, Business Casual, Formal, etc)\\n    *Seasson:   \\n    *Colors:  (percentage of each color in the clothing peace) \\n    *Texture: (Smooth, Rough, Ribbed, Velvety, etc)\\n    *Transparency: (Opaque, Semi-transparent, Transparent, etc)\\n    *Details and Embellishments: (e.g, buttons, zippers, embroidery)\\n    *Shape: (e.g., boxy, fitted, flared) \\n    *Length: (e.g., cropped, hip-length, tunic)\\n    *Collar Style: (e.g., crew neck, V-neck, polo, button-down)\\n    *Sleeve Style: (e.g., short, long, three-quarter, sleeveless, puffed)\\n    *Patterns: (e.g., stripes, floral, geometric, not applicable)\\n    *Patterns placement: (e.g., lower back, left sholder, right chest, not applicable) \\n    *Fluidity of fabric:\\n    *Fabric weight: (Light, medium, or heavy)\\n    *Pocket Presence:(Yes,No)\\n    *Pocket placement:(e.g., lower back, left sholder, right chest, not applicable)\\n    *Pocket size:(small, medium, big, not applicable)\\n    *Breathability: (Low, Medium, High)\\n    *Occasion Suitability: (Casual, formal, business casual, etc)\\n    *Lapel: (Notch, Peak, Shawl Satin, Slim, Wide, Contrasting, etc)\\n\\n\\n    Use information from the image and the description.\\n    IGNORE BACKGROUND\\n    ONLY ANSWER THE FORMAT  \\n    DONT USE THE BRAND NAME IN ANY DESCRIPTION  \\n    IN EACH DESCRIPTION - CHARACTERISTIC SHOULD BE ITS OWN DESCRIPTION\\n    YOU CAN USE MULTIPLE DESCRIPTIONS IN A SINGLE ATTRIBUTE  \\n    DONT USE MULTICOLOR OR Multicolor, NAME THE SPECIFIC COLORS  \\n    COLORS SHOULD INCLUDE PRINT AND CLOTHE COLORS WITHOUT ANY DESCRIPTION OF THE PRINT ONLY MAIN COLORS\\n   \\n    \\n    '),\n",
       " (21,\n",
       "  20,\n",
       "  '\\n        image_link \\n\\n        Description: 19     Il modello è alto 177cm/5\\'10\" e indossa la ta...\\nName: Descript, dtype: object \\n\\n        \\n        \\n\\n    The images are of the same clothing peace, use them to fill the following format to list attributes of the clothing peace in image, separate them with comma:  \\n\\n    *Type:  \\n    *Fit: (Slim fit, regular fit, oversized, tight, loose, etc)\\n    *Sleeve style: (Short sleeve, long sleeve, sleeveless, cap sleeve, etc)     \\n    *Neckline: (Crew neck, V-neck, scoop neck, etc)   \\n    *Material: (Cotton, linen, silk, polyester, etc)\\n    *Formality: (Casual, Business Casual, Formal, etc)\\n    *Seasson:   \\n    *Colors:  (percentage of each color in the clothing peace) \\n    *Texture: (Smooth, Rough, Ribbed, Velvety, etc)\\n    *Transparency: (Opaque, Semi-transparent, Transparent, etc)\\n    *Details and Embellishments: (e.g, buttons, zippers, embroidery)\\n    *Shape: (e.g., boxy, fitted, flared) \\n    *Length: (e.g., cropped, hip-length, tunic)\\n    *Collar Style: (e.g., crew neck, V-neck, polo, button-down)\\n    *Sleeve Style: (e.g., short, long, three-quarter, sleeveless, puffed)\\n    *Patterns: (e.g., stripes, floral, geometric, not applicable)\\n    *Patterns placement: (e.g., lower back, left sholder, right chest, not applicable) \\n    *Fluidity of fabric:\\n    *Fabric weight: (Light, medium, or heavy)\\n    *Pocket Presence:(Yes,No)\\n    *Pocket placement:(e.g., lower back, left sholder, right chest, not applicable)\\n    *Pocket size:(small, medium, big, not applicable)\\n    *Breathability: (Low, Medium, High)\\n    *Occasion Suitability: (Casual, formal, business casual, etc)\\n    *Lapel: (Notch, Peak, Shawl Satin, Slim, Wide, Contrasting, etc)\\n\\n\\n    Use information from the image and the description.\\n    IGNORE BACKGROUND\\n    ONLY ANSWER THE FORMAT  \\n    DONT USE THE BRAND NAME IN ANY DESCRIPTION  \\n    IN EACH DESCRIPTION - CHARACTERISTIC SHOULD BE ITS OWN DESCRIPTION\\n    YOU CAN USE MULTIPLE DESCRIPTIONS IN A SINGLE ATTRIBUTE  \\n    DONT USE MULTICOLOR OR Multicolor, NAME THE SPECIFIC COLORS  \\n    COLORS SHOULD INCLUDE PRINT AND CLOTHE COLORS WITHOUT ANY DESCRIPTION OF THE PRINT ONLY MAIN COLORS\\n   \\n    \\n    '),\n",
       " (22,\n",
       "  21,\n",
       "  '\\n        image_link \\n\\n        Description: 20     Il modello è alto 177cm/5\\'10\" e indossa la ta...\\nName: Descript, dtype: object \\n\\n        \\n        \\n\\n    The images are of the same clothing peace, use them to fill the following format to list attributes of the clothing peace in image, separate them with comma:  \\n\\n    *Type:  \\n    *Fit: (Slim fit, regular fit, oversized, tight, loose, etc)\\n    *Sleeve style: (Short sleeve, long sleeve, sleeveless, cap sleeve, etc)     \\n    *Neckline: (Crew neck, V-neck, scoop neck, etc)   \\n    *Material: (Cotton, linen, silk, polyester, etc)\\n    *Formality: (Casual, Business Casual, Formal, etc)\\n    *Seasson:   \\n    *Colors:  (percentage of each color in the clothing peace) \\n    *Texture: (Smooth, Rough, Ribbed, Velvety, etc)\\n    *Transparency: (Opaque, Semi-transparent, Transparent, etc)\\n    *Details and Embellishments: (e.g, buttons, zippers, embroidery)\\n    *Shape: (e.g., boxy, fitted, flared) \\n    *Length: (e.g., cropped, hip-length, tunic)\\n    *Collar Style: (e.g., crew neck, V-neck, polo, button-down)\\n    *Sleeve Style: (e.g., short, long, three-quarter, sleeveless, puffed)\\n    *Patterns: (e.g., stripes, floral, geometric, not applicable)\\n    *Patterns placement: (e.g., lower back, left sholder, right chest, not applicable) \\n    *Fluidity of fabric:\\n    *Fabric weight: (Light, medium, or heavy)\\n    *Pocket Presence:(Yes,No)\\n    *Pocket placement:(e.g., lower back, left sholder, right chest, not applicable)\\n    *Pocket size:(small, medium, big, not applicable)\\n    *Breathability: (Low, Medium, High)\\n    *Occasion Suitability: (Casual, formal, business casual, etc)\\n    *Lapel: (Notch, Peak, Shawl Satin, Slim, Wide, Contrasting, etc)\\n\\n\\n    Use information from the image and the description.\\n    IGNORE BACKGROUND\\n    ONLY ANSWER THE FORMAT  \\n    DONT USE THE BRAND NAME IN ANY DESCRIPTION  \\n    IN EACH DESCRIPTION - CHARACTERISTIC SHOULD BE ITS OWN DESCRIPTION\\n    YOU CAN USE MULTIPLE DESCRIPTIONS IN A SINGLE ATTRIBUTE  \\n    DONT USE MULTICOLOR OR Multicolor, NAME THE SPECIFIC COLORS  \\n    COLORS SHOULD INCLUDE PRINT AND CLOTHE COLORS WITHOUT ANY DESCRIPTION OF THE PRINT ONLY MAIN COLORS\\n   \\n    \\n    '),\n",
       " (23,\n",
       "  22,\n",
       "  '\\n        image_link \\n\\n        Description: 21     Il modello è alto 177cm/5\\'10\" e indossa la ta...\\nName: Descript, dtype: object \\n\\n        \\n        \\n\\n    The images are of the same clothing peace, use them to fill the following format to list attributes of the clothing peace in image, separate them with comma:  \\n\\n    *Type:  \\n    *Fit: (Slim fit, regular fit, oversized, tight, loose, etc)\\n    *Sleeve style: (Short sleeve, long sleeve, sleeveless, cap sleeve, etc)     \\n    *Neckline: (Crew neck, V-neck, scoop neck, etc)   \\n    *Material: (Cotton, linen, silk, polyester, etc)\\n    *Formality: (Casual, Business Casual, Formal, etc)\\n    *Seasson:   \\n    *Colors:  (percentage of each color in the clothing peace) \\n    *Texture: (Smooth, Rough, Ribbed, Velvety, etc)\\n    *Transparency: (Opaque, Semi-transparent, Transparent, etc)\\n    *Details and Embellishments: (e.g, buttons, zippers, embroidery)\\n    *Shape: (e.g., boxy, fitted, flared) \\n    *Length: (e.g., cropped, hip-length, tunic)\\n    *Collar Style: (e.g., crew neck, V-neck, polo, button-down)\\n    *Sleeve Style: (e.g., short, long, three-quarter, sleeveless, puffed)\\n    *Patterns: (e.g., stripes, floral, geometric, not applicable)\\n    *Patterns placement: (e.g., lower back, left sholder, right chest, not applicable) \\n    *Fluidity of fabric:\\n    *Fabric weight: (Light, medium, or heavy)\\n    *Pocket Presence:(Yes,No)\\n    *Pocket placement:(e.g., lower back, left sholder, right chest, not applicable)\\n    *Pocket size:(small, medium, big, not applicable)\\n    *Breathability: (Low, Medium, High)\\n    *Occasion Suitability: (Casual, formal, business casual, etc)\\n    *Lapel: (Notch, Peak, Shawl Satin, Slim, Wide, Contrasting, etc)\\n\\n\\n    Use information from the image and the description.\\n    IGNORE BACKGROUND\\n    ONLY ANSWER THE FORMAT  \\n    DONT USE THE BRAND NAME IN ANY DESCRIPTION  \\n    IN EACH DESCRIPTION - CHARACTERISTIC SHOULD BE ITS OWN DESCRIPTION\\n    YOU CAN USE MULTIPLE DESCRIPTIONS IN A SINGLE ATTRIBUTE  \\n    DONT USE MULTICOLOR OR Multicolor, NAME THE SPECIFIC COLORS  \\n    COLORS SHOULD INCLUDE PRINT AND CLOTHE COLORS WITHOUT ANY DESCRIPTION OF THE PRINT ONLY MAIN COLORS\\n   \\n    \\n    '),\n",
       " (24,\n",
       "  23,\n",
       "  '\\n        image_link \\n\\n        Description: 22     Il modello è alto 177cm/5\\'10\" e indossa la ta...\\nName: Descript, dtype: object \\n\\n        \\n        \\n\\n    The images are of the same clothing peace, use them to fill the following format to list attributes of the clothing peace in image, separate them with comma:  \\n\\n    *Type:  \\n    *Fit: (Slim fit, regular fit, oversized, tight, loose, etc)\\n    *Sleeve style: (Short sleeve, long sleeve, sleeveless, cap sleeve, etc)     \\n    *Neckline: (Crew neck, V-neck, scoop neck, etc)   \\n    *Material: (Cotton, linen, silk, polyester, etc)\\n    *Formality: (Casual, Business Casual, Formal, etc)\\n    *Seasson:   \\n    *Colors:  (percentage of each color in the clothing peace) \\n    *Texture: (Smooth, Rough, Ribbed, Velvety, etc)\\n    *Transparency: (Opaque, Semi-transparent, Transparent, etc)\\n    *Details and Embellishments: (e.g, buttons, zippers, embroidery)\\n    *Shape: (e.g., boxy, fitted, flared) \\n    *Length: (e.g., cropped, hip-length, tunic)\\n    *Collar Style: (e.g., crew neck, V-neck, polo, button-down)\\n    *Sleeve Style: (e.g., short, long, three-quarter, sleeveless, puffed)\\n    *Patterns: (e.g., stripes, floral, geometric, not applicable)\\n    *Patterns placement: (e.g., lower back, left sholder, right chest, not applicable) \\n    *Fluidity of fabric:\\n    *Fabric weight: (Light, medium, or heavy)\\n    *Pocket Presence:(Yes,No)\\n    *Pocket placement:(e.g., lower back, left sholder, right chest, not applicable)\\n    *Pocket size:(small, medium, big, not applicable)\\n    *Breathability: (Low, Medium, High)\\n    *Occasion Suitability: (Casual, formal, business casual, etc)\\n    *Lapel: (Notch, Peak, Shawl Satin, Slim, Wide, Contrasting, etc)\\n\\n\\n    Use information from the image and the description.\\n    IGNORE BACKGROUND\\n    ONLY ANSWER THE FORMAT  \\n    DONT USE THE BRAND NAME IN ANY DESCRIPTION  \\n    IN EACH DESCRIPTION - CHARACTERISTIC SHOULD BE ITS OWN DESCRIPTION\\n    YOU CAN USE MULTIPLE DESCRIPTIONS IN A SINGLE ATTRIBUTE  \\n    DONT USE MULTICOLOR OR Multicolor, NAME THE SPECIFIC COLORS  \\n    COLORS SHOULD INCLUDE PRINT AND CLOTHE COLORS WITHOUT ANY DESCRIPTION OF THE PRINT ONLY MAIN COLORS\\n   \\n    \\n    '),\n",
       " (25,\n",
       "  24,\n",
       "  '\\n        image_link \\n\\n        Description: 23     Il modello è alto 177cm/5\\'10\" e indossa la ta...\\nName: Descript, dtype: object \\n\\n        \\n        \\n\\n    The images are of the same clothing peace, use them to fill the following format to list attributes of the clothing peace in image, separate them with comma:  \\n\\n    *Type:  \\n    *Fit: (Slim fit, regular fit, oversized, tight, loose, etc)\\n    *Sleeve style: (Short sleeve, long sleeve, sleeveless, cap sleeve, etc)     \\n    *Neckline: (Crew neck, V-neck, scoop neck, etc)   \\n    *Material: (Cotton, linen, silk, polyester, etc)\\n    *Formality: (Casual, Business Casual, Formal, etc)\\n    *Seasson:   \\n    *Colors:  (percentage of each color in the clothing peace) \\n    *Texture: (Smooth, Rough, Ribbed, Velvety, etc)\\n    *Transparency: (Opaque, Semi-transparent, Transparent, etc)\\n    *Details and Embellishments: (e.g, buttons, zippers, embroidery)\\n    *Shape: (e.g., boxy, fitted, flared) \\n    *Length: (e.g., cropped, hip-length, tunic)\\n    *Collar Style: (e.g., crew neck, V-neck, polo, button-down)\\n    *Sleeve Style: (e.g., short, long, three-quarter, sleeveless, puffed)\\n    *Patterns: (e.g., stripes, floral, geometric, not applicable)\\n    *Patterns placement: (e.g., lower back, left sholder, right chest, not applicable) \\n    *Fluidity of fabric:\\n    *Fabric weight: (Light, medium, or heavy)\\n    *Pocket Presence:(Yes,No)\\n    *Pocket placement:(e.g., lower back, left sholder, right chest, not applicable)\\n    *Pocket size:(small, medium, big, not applicable)\\n    *Breathability: (Low, Medium, High)\\n    *Occasion Suitability: (Casual, formal, business casual, etc)\\n    *Lapel: (Notch, Peak, Shawl Satin, Slim, Wide, Contrasting, etc)\\n\\n\\n    Use information from the image and the description.\\n    IGNORE BACKGROUND\\n    ONLY ANSWER THE FORMAT  \\n    DONT USE THE BRAND NAME IN ANY DESCRIPTION  \\n    IN EACH DESCRIPTION - CHARACTERISTIC SHOULD BE ITS OWN DESCRIPTION\\n    YOU CAN USE MULTIPLE DESCRIPTIONS IN A SINGLE ATTRIBUTE  \\n    DONT USE MULTICOLOR OR Multicolor, NAME THE SPECIFIC COLORS  \\n    COLORS SHOULD INCLUDE PRINT AND CLOTHE COLORS WITHOUT ANY DESCRIPTION OF THE PRINT ONLY MAIN COLORS\\n   \\n    \\n    '),\n",
       " (26,\n",
       "  25,\n",
       "  '\\n        image_link \\n\\n        Description: 24     Il modello è alto 177cm/5\\'10\" e indossa la ta...\\nName: Descript, dtype: object \\n\\n        \\n        \\n\\n    The images are of the same clothing peace, use them to fill the following format to list attributes of the clothing peace in image, separate them with comma:  \\n\\n    *Type:  \\n    *Fit: (Slim fit, regular fit, oversized, tight, loose, etc)\\n    *Sleeve style: (Short sleeve, long sleeve, sleeveless, cap sleeve, etc)     \\n    *Neckline: (Crew neck, V-neck, scoop neck, etc)   \\n    *Material: (Cotton, linen, silk, polyester, etc)\\n    *Formality: (Casual, Business Casual, Formal, etc)\\n    *Seasson:   \\n    *Colors:  (percentage of each color in the clothing peace) \\n    *Texture: (Smooth, Rough, Ribbed, Velvety, etc)\\n    *Transparency: (Opaque, Semi-transparent, Transparent, etc)\\n    *Details and Embellishments: (e.g, buttons, zippers, embroidery)\\n    *Shape: (e.g., boxy, fitted, flared) \\n    *Length: (e.g., cropped, hip-length, tunic)\\n    *Collar Style: (e.g., crew neck, V-neck, polo, button-down)\\n    *Sleeve Style: (e.g., short, long, three-quarter, sleeveless, puffed)\\n    *Patterns: (e.g., stripes, floral, geometric, not applicable)\\n    *Patterns placement: (e.g., lower back, left sholder, right chest, not applicable) \\n    *Fluidity of fabric:\\n    *Fabric weight: (Light, medium, or heavy)\\n    *Pocket Presence:(Yes,No)\\n    *Pocket placement:(e.g., lower back, left sholder, right chest, not applicable)\\n    *Pocket size:(small, medium, big, not applicable)\\n    *Breathability: (Low, Medium, High)\\n    *Occasion Suitability: (Casual, formal, business casual, etc)\\n    *Lapel: (Notch, Peak, Shawl Satin, Slim, Wide, Contrasting, etc)\\n\\n\\n    Use information from the image and the description.\\n    IGNORE BACKGROUND\\n    ONLY ANSWER THE FORMAT  \\n    DONT USE THE BRAND NAME IN ANY DESCRIPTION  \\n    IN EACH DESCRIPTION - CHARACTERISTIC SHOULD BE ITS OWN DESCRIPTION\\n    YOU CAN USE MULTIPLE DESCRIPTIONS IN A SINGLE ATTRIBUTE  \\n    DONT USE MULTICOLOR OR Multicolor, NAME THE SPECIFIC COLORS  \\n    COLORS SHOULD INCLUDE PRINT AND CLOTHE COLORS WITHOUT ANY DESCRIPTION OF THE PRINT ONLY MAIN COLORS\\n   \\n    \\n    '),\n",
       " (27,\n",
       "  26,\n",
       "  '\\n        image_link \\n\\n        Description: 25     Il modello è alto 177cm/5\\'10\" e indossa la ta...\\nName: Descript, dtype: object \\n\\n        \\n        \\n\\n    The images are of the same clothing peace, use them to fill the following format to list attributes of the clothing peace in image, separate them with comma:  \\n\\n    *Type:  \\n    *Fit: (Slim fit, regular fit, oversized, tight, loose, etc)\\n    *Sleeve style: (Short sleeve, long sleeve, sleeveless, cap sleeve, etc)     \\n    *Neckline: (Crew neck, V-neck, scoop neck, etc)   \\n    *Material: (Cotton, linen, silk, polyester, etc)\\n    *Formality: (Casual, Business Casual, Formal, etc)\\n    *Seasson:   \\n    *Colors:  (percentage of each color in the clothing peace) \\n    *Texture: (Smooth, Rough, Ribbed, Velvety, etc)\\n    *Transparency: (Opaque, Semi-transparent, Transparent, etc)\\n    *Details and Embellishments: (e.g, buttons, zippers, embroidery)\\n    *Shape: (e.g., boxy, fitted, flared) \\n    *Length: (e.g., cropped, hip-length, tunic)\\n    *Collar Style: (e.g., crew neck, V-neck, polo, button-down)\\n    *Sleeve Style: (e.g., short, long, three-quarter, sleeveless, puffed)\\n    *Patterns: (e.g., stripes, floral, geometric, not applicable)\\n    *Patterns placement: (e.g., lower back, left sholder, right chest, not applicable) \\n    *Fluidity of fabric:\\n    *Fabric weight: (Light, medium, or heavy)\\n    *Pocket Presence:(Yes,No)\\n    *Pocket placement:(e.g., lower back, left sholder, right chest, not applicable)\\n    *Pocket size:(small, medium, big, not applicable)\\n    *Breathability: (Low, Medium, High)\\n    *Occasion Suitability: (Casual, formal, business casual, etc)\\n    *Lapel: (Notch, Peak, Shawl Satin, Slim, Wide, Contrasting, etc)\\n\\n\\n    Use information from the image and the description.\\n    IGNORE BACKGROUND\\n    ONLY ANSWER THE FORMAT  \\n    DONT USE THE BRAND NAME IN ANY DESCRIPTION  \\n    IN EACH DESCRIPTION - CHARACTERISTIC SHOULD BE ITS OWN DESCRIPTION\\n    YOU CAN USE MULTIPLE DESCRIPTIONS IN A SINGLE ATTRIBUTE  \\n    DONT USE MULTICOLOR OR Multicolor, NAME THE SPECIFIC COLORS  \\n    COLORS SHOULD INCLUDE PRINT AND CLOTHE COLORS WITHOUT ANY DESCRIPTION OF THE PRINT ONLY MAIN COLORS\\n   \\n    \\n    '),\n",
       " (28,\n",
       "  27,\n",
       "  '\\n        image_link \\n\\n        Description: 26     Il modello è alto 176cm/5\\'9\" e indossa la tag...\\nName: Descript, dtype: object \\n\\n        \\n        \\n\\n    The images are of the same clothing peace, use them to fill the following format to list attributes of the clothing peace in image, separate them with comma:  \\n\\n    *Type:  \\n    *Fit: (Slim fit, regular fit, oversized, tight, loose, etc)\\n    *Sleeve style: (Short sleeve, long sleeve, sleeveless, cap sleeve, etc)     \\n    *Neckline: (Crew neck, V-neck, scoop neck, etc)   \\n    *Material: (Cotton, linen, silk, polyester, etc)\\n    *Formality: (Casual, Business Casual, Formal, etc)\\n    *Seasson:   \\n    *Colors:  (percentage of each color in the clothing peace) \\n    *Texture: (Smooth, Rough, Ribbed, Velvety, etc)\\n    *Transparency: (Opaque, Semi-transparent, Transparent, etc)\\n    *Details and Embellishments: (e.g, buttons, zippers, embroidery)\\n    *Shape: (e.g., boxy, fitted, flared) \\n    *Length: (e.g., cropped, hip-length, tunic)\\n    *Collar Style: (e.g., crew neck, V-neck, polo, button-down)\\n    *Sleeve Style: (e.g., short, long, three-quarter, sleeveless, puffed)\\n    *Patterns: (e.g., stripes, floral, geometric, not applicable)\\n    *Patterns placement: (e.g., lower back, left sholder, right chest, not applicable) \\n    *Fluidity of fabric:\\n    *Fabric weight: (Light, medium, or heavy)\\n    *Pocket Presence:(Yes,No)\\n    *Pocket placement:(e.g., lower back, left sholder, right chest, not applicable)\\n    *Pocket size:(small, medium, big, not applicable)\\n    *Breathability: (Low, Medium, High)\\n    *Occasion Suitability: (Casual, formal, business casual, etc)\\n    *Lapel: (Notch, Peak, Shawl Satin, Slim, Wide, Contrasting, etc)\\n\\n\\n    Use information from the image and the description.\\n    IGNORE BACKGROUND\\n    ONLY ANSWER THE FORMAT  \\n    DONT USE THE BRAND NAME IN ANY DESCRIPTION  \\n    IN EACH DESCRIPTION - CHARACTERISTIC SHOULD BE ITS OWN DESCRIPTION\\n    YOU CAN USE MULTIPLE DESCRIPTIONS IN A SINGLE ATTRIBUTE  \\n    DONT USE MULTICOLOR OR Multicolor, NAME THE SPECIFIC COLORS  \\n    COLORS SHOULD INCLUDE PRINT AND CLOTHE COLORS WITHOUT ANY DESCRIPTION OF THE PRINT ONLY MAIN COLORS\\n   \\n    \\n    '),\n",
       " (29,\n",
       "  28,\n",
       "  '\\n        image_link \\n\\n        Description: 27     Il modello è alto 176cm/5\\'9\" e indossa la tag...\\nName: Descript, dtype: object \\n\\n        \\n        \\n\\n    The images are of the same clothing peace, use them to fill the following format to list attributes of the clothing peace in image, separate them with comma:  \\n\\n    *Type:  \\n    *Fit: (Slim fit, regular fit, oversized, tight, loose, etc)\\n    *Sleeve style: (Short sleeve, long sleeve, sleeveless, cap sleeve, etc)     \\n    *Neckline: (Crew neck, V-neck, scoop neck, etc)   \\n    *Material: (Cotton, linen, silk, polyester, etc)\\n    *Formality: (Casual, Business Casual, Formal, etc)\\n    *Seasson:   \\n    *Colors:  (percentage of each color in the clothing peace) \\n    *Texture: (Smooth, Rough, Ribbed, Velvety, etc)\\n    *Transparency: (Opaque, Semi-transparent, Transparent, etc)\\n    *Details and Embellishments: (e.g, buttons, zippers, embroidery)\\n    *Shape: (e.g., boxy, fitted, flared) \\n    *Length: (e.g., cropped, hip-length, tunic)\\n    *Collar Style: (e.g., crew neck, V-neck, polo, button-down)\\n    *Sleeve Style: (e.g., short, long, three-quarter, sleeveless, puffed)\\n    *Patterns: (e.g., stripes, floral, geometric, not applicable)\\n    *Patterns placement: (e.g., lower back, left sholder, right chest, not applicable) \\n    *Fluidity of fabric:\\n    *Fabric weight: (Light, medium, or heavy)\\n    *Pocket Presence:(Yes,No)\\n    *Pocket placement:(e.g., lower back, left sholder, right chest, not applicable)\\n    *Pocket size:(small, medium, big, not applicable)\\n    *Breathability: (Low, Medium, High)\\n    *Occasion Suitability: (Casual, formal, business casual, etc)\\n    *Lapel: (Notch, Peak, Shawl Satin, Slim, Wide, Contrasting, etc)\\n\\n\\n    Use information from the image and the description.\\n    IGNORE BACKGROUND\\n    ONLY ANSWER THE FORMAT  \\n    DONT USE THE BRAND NAME IN ANY DESCRIPTION  \\n    IN EACH DESCRIPTION - CHARACTERISTIC SHOULD BE ITS OWN DESCRIPTION\\n    YOU CAN USE MULTIPLE DESCRIPTIONS IN A SINGLE ATTRIBUTE  \\n    DONT USE MULTICOLOR OR Multicolor, NAME THE SPECIFIC COLORS  \\n    COLORS SHOULD INCLUDE PRINT AND CLOTHE COLORS WITHOUT ANY DESCRIPTION OF THE PRINT ONLY MAIN COLORS\\n   \\n    \\n    '),\n",
       " (30,\n",
       "  29,\n",
       "  '\\n        image_link \\n\\n        Description: 28     Il modello è alto 175cm/5\\'9\" e indossa la tag...\\nName: Descript, dtype: object \\n\\n        \\n        \\n\\n    The images are of the same clothing peace, use them to fill the following format to list attributes of the clothing peace in image, separate them with comma:  \\n\\n    *Type:  \\n    *Fit: (Slim fit, regular fit, oversized, tight, loose, etc)\\n    *Sleeve style: (Short sleeve, long sleeve, sleeveless, cap sleeve, etc)     \\n    *Neckline: (Crew neck, V-neck, scoop neck, etc)   \\n    *Material: (Cotton, linen, silk, polyester, etc)\\n    *Formality: (Casual, Business Casual, Formal, etc)\\n    *Seasson:   \\n    *Colors:  (percentage of each color in the clothing peace) \\n    *Texture: (Smooth, Rough, Ribbed, Velvety, etc)\\n    *Transparency: (Opaque, Semi-transparent, Transparent, etc)\\n    *Details and Embellishments: (e.g, buttons, zippers, embroidery)\\n    *Shape: (e.g., boxy, fitted, flared) \\n    *Length: (e.g., cropped, hip-length, tunic)\\n    *Collar Style: (e.g., crew neck, V-neck, polo, button-down)\\n    *Sleeve Style: (e.g., short, long, three-quarter, sleeveless, puffed)\\n    *Patterns: (e.g., stripes, floral, geometric, not applicable)\\n    *Patterns placement: (e.g., lower back, left sholder, right chest, not applicable) \\n    *Fluidity of fabric:\\n    *Fabric weight: (Light, medium, or heavy)\\n    *Pocket Presence:(Yes,No)\\n    *Pocket placement:(e.g., lower back, left sholder, right chest, not applicable)\\n    *Pocket size:(small, medium, big, not applicable)\\n    *Breathability: (Low, Medium, High)\\n    *Occasion Suitability: (Casual, formal, business casual, etc)\\n    *Lapel: (Notch, Peak, Shawl Satin, Slim, Wide, Contrasting, etc)\\n\\n\\n    Use information from the image and the description.\\n    IGNORE BACKGROUND\\n    ONLY ANSWER THE FORMAT  \\n    DONT USE THE BRAND NAME IN ANY DESCRIPTION  \\n    IN EACH DESCRIPTION - CHARACTERISTIC SHOULD BE ITS OWN DESCRIPTION\\n    YOU CAN USE MULTIPLE DESCRIPTIONS IN A SINGLE ATTRIBUTE  \\n    DONT USE MULTICOLOR OR Multicolor, NAME THE SPECIFIC COLORS  \\n    COLORS SHOULD INCLUDE PRINT AND CLOTHE COLORS WITHOUT ANY DESCRIPTION OF THE PRINT ONLY MAIN COLORS\\n   \\n    \\n    '),\n",
       " (31,\n",
       "  30,\n",
       "  '\\n        image_link \\n\\n        Description: 29     Il modello è alto 180cm/5\\'11\" e indossa la ta...\\nName: Descript, dtype: object \\n\\n        \\n        \\n\\n    The images are of the same clothing peace, use them to fill the following format to list attributes of the clothing peace in image, separate them with comma:  \\n\\n    *Type:  \\n    *Fit: (Slim fit, regular fit, oversized, tight, loose, etc)\\n    *Sleeve style: (Short sleeve, long sleeve, sleeveless, cap sleeve, etc)     \\n    *Neckline: (Crew neck, V-neck, scoop neck, etc)   \\n    *Material: (Cotton, linen, silk, polyester, etc)\\n    *Formality: (Casual, Business Casual, Formal, etc)\\n    *Seasson:   \\n    *Colors:  (percentage of each color in the clothing peace) \\n    *Texture: (Smooth, Rough, Ribbed, Velvety, etc)\\n    *Transparency: (Opaque, Semi-transparent, Transparent, etc)\\n    *Details and Embellishments: (e.g, buttons, zippers, embroidery)\\n    *Shape: (e.g., boxy, fitted, flared) \\n    *Length: (e.g., cropped, hip-length, tunic)\\n    *Collar Style: (e.g., crew neck, V-neck, polo, button-down)\\n    *Sleeve Style: (e.g., short, long, three-quarter, sleeveless, puffed)\\n    *Patterns: (e.g., stripes, floral, geometric, not applicable)\\n    *Patterns placement: (e.g., lower back, left sholder, right chest, not applicable) \\n    *Fluidity of fabric:\\n    *Fabric weight: (Light, medium, or heavy)\\n    *Pocket Presence:(Yes,No)\\n    *Pocket placement:(e.g., lower back, left sholder, right chest, not applicable)\\n    *Pocket size:(small, medium, big, not applicable)\\n    *Breathability: (Low, Medium, High)\\n    *Occasion Suitability: (Casual, formal, business casual, etc)\\n    *Lapel: (Notch, Peak, Shawl Satin, Slim, Wide, Contrasting, etc)\\n\\n\\n    Use information from the image and the description.\\n    IGNORE BACKGROUND\\n    ONLY ANSWER THE FORMAT  \\n    DONT USE THE BRAND NAME IN ANY DESCRIPTION  \\n    IN EACH DESCRIPTION - CHARACTERISTIC SHOULD BE ITS OWN DESCRIPTION\\n    YOU CAN USE MULTIPLE DESCRIPTIONS IN A SINGLE ATTRIBUTE  \\n    DONT USE MULTICOLOR OR Multicolor, NAME THE SPECIFIC COLORS  \\n    COLORS SHOULD INCLUDE PRINT AND CLOTHE COLORS WITHOUT ANY DESCRIPTION OF THE PRINT ONLY MAIN COLORS\\n   \\n    \\n    '),\n",
       " (32,\n",
       "  31,\n",
       "  '\\n        image_link \\n\\n        Description: 30     Il modello è alto 175cm/5\\'9\" e indossa la tag...\\nName: Descript, dtype: object \\n\\n        \\n        \\n\\n    The images are of the same clothing peace, use them to fill the following format to list attributes of the clothing peace in image, separate them with comma:  \\n\\n    *Type:  \\n    *Fit: (Slim fit, regular fit, oversized, tight, loose, etc)\\n    *Sleeve style: (Short sleeve, long sleeve, sleeveless, cap sleeve, etc)     \\n    *Neckline: (Crew neck, V-neck, scoop neck, etc)   \\n    *Material: (Cotton, linen, silk, polyester, etc)\\n    *Formality: (Casual, Business Casual, Formal, etc)\\n    *Seasson:   \\n    *Colors:  (percentage of each color in the clothing peace) \\n    *Texture: (Smooth, Rough, Ribbed, Velvety, etc)\\n    *Transparency: (Opaque, Semi-transparent, Transparent, etc)\\n    *Details and Embellishments: (e.g, buttons, zippers, embroidery)\\n    *Shape: (e.g., boxy, fitted, flared) \\n    *Length: (e.g., cropped, hip-length, tunic)\\n    *Collar Style: (e.g., crew neck, V-neck, polo, button-down)\\n    *Sleeve Style: (e.g., short, long, three-quarter, sleeveless, puffed)\\n    *Patterns: (e.g., stripes, floral, geometric, not applicable)\\n    *Patterns placement: (e.g., lower back, left sholder, right chest, not applicable) \\n    *Fluidity of fabric:\\n    *Fabric weight: (Light, medium, or heavy)\\n    *Pocket Presence:(Yes,No)\\n    *Pocket placement:(e.g., lower back, left sholder, right chest, not applicable)\\n    *Pocket size:(small, medium, big, not applicable)\\n    *Breathability: (Low, Medium, High)\\n    *Occasion Suitability: (Casual, formal, business casual, etc)\\n    *Lapel: (Notch, Peak, Shawl Satin, Slim, Wide, Contrasting, etc)\\n\\n\\n    Use information from the image and the description.\\n    IGNORE BACKGROUND\\n    ONLY ANSWER THE FORMAT  \\n    DONT USE THE BRAND NAME IN ANY DESCRIPTION  \\n    IN EACH DESCRIPTION - CHARACTERISTIC SHOULD BE ITS OWN DESCRIPTION\\n    YOU CAN USE MULTIPLE DESCRIPTIONS IN A SINGLE ATTRIBUTE  \\n    DONT USE MULTICOLOR OR Multicolor, NAME THE SPECIFIC COLORS  \\n    COLORS SHOULD INCLUDE PRINT AND CLOTHE COLORS WITHOUT ANY DESCRIPTION OF THE PRINT ONLY MAIN COLORS\\n   \\n    \\n    '),\n",
       " (33,\n",
       "  32,\n",
       "  '\\n        image_link \\n\\n        Description: 31     Dietro: Lunghezza: 79.5 cm (Taglia M), Spalla...\\nName: Descript, dtype: object \\n\\n        \\n        \\n\\n    The images are of the same clothing peace, use them to fill the following format to list attributes of the clothing peace in image, separate them with comma:  \\n\\n    *Type:  \\n    *Fit: (Slim fit, regular fit, oversized, tight, loose, etc)\\n    *Sleeve style: (Short sleeve, long sleeve, sleeveless, cap sleeve, etc)     \\n    *Neckline: (Crew neck, V-neck, scoop neck, etc)   \\n    *Material: (Cotton, linen, silk, polyester, etc)\\n    *Formality: (Casual, Business Casual, Formal, etc)\\n    *Seasson:   \\n    *Colors:  (percentage of each color in the clothing peace) \\n    *Texture: (Smooth, Rough, Ribbed, Velvety, etc)\\n    *Transparency: (Opaque, Semi-transparent, Transparent, etc)\\n    *Details and Embellishments: (e.g, buttons, zippers, embroidery)\\n    *Shape: (e.g., boxy, fitted, flared) \\n    *Length: (e.g., cropped, hip-length, tunic)\\n    *Collar Style: (e.g., crew neck, V-neck, polo, button-down)\\n    *Sleeve Style: (e.g., short, long, three-quarter, sleeveless, puffed)\\n    *Patterns: (e.g., stripes, floral, geometric, not applicable)\\n    *Patterns placement: (e.g., lower back, left sholder, right chest, not applicable) \\n    *Fluidity of fabric:\\n    *Fabric weight: (Light, medium, or heavy)\\n    *Pocket Presence:(Yes,No)\\n    *Pocket placement:(e.g., lower back, left sholder, right chest, not applicable)\\n    *Pocket size:(small, medium, big, not applicable)\\n    *Breathability: (Low, Medium, High)\\n    *Occasion Suitability: (Casual, formal, business casual, etc)\\n    *Lapel: (Notch, Peak, Shawl Satin, Slim, Wide, Contrasting, etc)\\n\\n\\n    Use information from the image and the description.\\n    IGNORE BACKGROUND\\n    ONLY ANSWER THE FORMAT  \\n    DONT USE THE BRAND NAME IN ANY DESCRIPTION  \\n    IN EACH DESCRIPTION - CHARACTERISTIC SHOULD BE ITS OWN DESCRIPTION\\n    YOU CAN USE MULTIPLE DESCRIPTIONS IN A SINGLE ATTRIBUTE  \\n    DONT USE MULTICOLOR OR Multicolor, NAME THE SPECIFIC COLORS  \\n    COLORS SHOULD INCLUDE PRINT AND CLOTHE COLORS WITHOUT ANY DESCRIPTION OF THE PRINT ONLY MAIN COLORS\\n   \\n    \\n    '),\n",
       " (34,\n",
       "  33,\n",
       "  '\\n        image_link \\n\\n        Description: 32     Lunghezza normale A maniche corte Regular fit...\\nName: Descript, dtype: object \\n\\n        \\n        \\n\\n    The images are of the same clothing peace, use them to fill the following format to list attributes of the clothing peace in image, separate them with comma:  \\n\\n    *Type:  \\n    *Fit: (Slim fit, regular fit, oversized, tight, loose, etc)\\n    *Sleeve style: (Short sleeve, long sleeve, sleeveless, cap sleeve, etc)     \\n    *Neckline: (Crew neck, V-neck, scoop neck, etc)   \\n    *Material: (Cotton, linen, silk, polyester, etc)\\n    *Formality: (Casual, Business Casual, Formal, etc)\\n    *Seasson:   \\n    *Colors:  (percentage of each color in the clothing peace) \\n    *Texture: (Smooth, Rough, Ribbed, Velvety, etc)\\n    *Transparency: (Opaque, Semi-transparent, Transparent, etc)\\n    *Details and Embellishments: (e.g, buttons, zippers, embroidery)\\n    *Shape: (e.g., boxy, fitted, flared) \\n    *Length: (e.g., cropped, hip-length, tunic)\\n    *Collar Style: (e.g., crew neck, V-neck, polo, button-down)\\n    *Sleeve Style: (e.g., short, long, three-quarter, sleeveless, puffed)\\n    *Patterns: (e.g., stripes, floral, geometric, not applicable)\\n    *Patterns placement: (e.g., lower back, left sholder, right chest, not applicable) \\n    *Fluidity of fabric:\\n    *Fabric weight: (Light, medium, or heavy)\\n    *Pocket Presence:(Yes,No)\\n    *Pocket placement:(e.g., lower back, left sholder, right chest, not applicable)\\n    *Pocket size:(small, medium, big, not applicable)\\n    *Breathability: (Low, Medium, High)\\n    *Occasion Suitability: (Casual, formal, business casual, etc)\\n    *Lapel: (Notch, Peak, Shawl Satin, Slim, Wide, Contrasting, etc)\\n\\n\\n    Use information from the image and the description.\\n    IGNORE BACKGROUND\\n    ONLY ANSWER THE FORMAT  \\n    DONT USE THE BRAND NAME IN ANY DESCRIPTION  \\n    IN EACH DESCRIPTION - CHARACTERISTIC SHOULD BE ITS OWN DESCRIPTION\\n    YOU CAN USE MULTIPLE DESCRIPTIONS IN A SINGLE ATTRIBUTE  \\n    DONT USE MULTICOLOR OR Multicolor, NAME THE SPECIFIC COLORS  \\n    COLORS SHOULD INCLUDE PRINT AND CLOTHE COLORS WITHOUT ANY DESCRIPTION OF THE PRINT ONLY MAIN COLORS\\n   \\n    \\n    '),\n",
       " (35,\n",
       "  34,\n",
       "  '\\n        image_link \\n\\n        Description: 33     Lunghezza normale A maniche corte Regular fit...\\nName: Descript, dtype: object \\n\\n        \\n        \\n\\n    The images are of the same clothing peace, use them to fill the following format to list attributes of the clothing peace in image, separate them with comma:  \\n\\n    *Type:  \\n    *Fit: (Slim fit, regular fit, oversized, tight, loose, etc)\\n    *Sleeve style: (Short sleeve, long sleeve, sleeveless, cap sleeve, etc)     \\n    *Neckline: (Crew neck, V-neck, scoop neck, etc)   \\n    *Material: (Cotton, linen, silk, polyester, etc)\\n    *Formality: (Casual, Business Casual, Formal, etc)\\n    *Seasson:   \\n    *Colors:  (percentage of each color in the clothing peace) \\n    *Texture: (Smooth, Rough, Ribbed, Velvety, etc)\\n    *Transparency: (Opaque, Semi-transparent, Transparent, etc)\\n    *Details and Embellishments: (e.g, buttons, zippers, embroidery)\\n    *Shape: (e.g., boxy, fitted, flared) \\n    *Length: (e.g., cropped, hip-length, tunic)\\n    *Collar Style: (e.g., crew neck, V-neck, polo, button-down)\\n    *Sleeve Style: (e.g., short, long, three-quarter, sleeveless, puffed)\\n    *Patterns: (e.g., stripes, floral, geometric, not applicable)\\n    *Patterns placement: (e.g., lower back, left sholder, right chest, not applicable) \\n    *Fluidity of fabric:\\n    *Fabric weight: (Light, medium, or heavy)\\n    *Pocket Presence:(Yes,No)\\n    *Pocket placement:(e.g., lower back, left sholder, right chest, not applicable)\\n    *Pocket size:(small, medium, big, not applicable)\\n    *Breathability: (Low, Medium, High)\\n    *Occasion Suitability: (Casual, formal, business casual, etc)\\n    *Lapel: (Notch, Peak, Shawl Satin, Slim, Wide, Contrasting, etc)\\n\\n\\n    Use information from the image and the description.\\n    IGNORE BACKGROUND\\n    ONLY ANSWER THE FORMAT  \\n    DONT USE THE BRAND NAME IN ANY DESCRIPTION  \\n    IN EACH DESCRIPTION - CHARACTERISTIC SHOULD BE ITS OWN DESCRIPTION\\n    YOU CAN USE MULTIPLE DESCRIPTIONS IN A SINGLE ATTRIBUTE  \\n    DONT USE MULTICOLOR OR Multicolor, NAME THE SPECIFIC COLORS  \\n    COLORS SHOULD INCLUDE PRINT AND CLOTHE COLORS WITHOUT ANY DESCRIPTION OF THE PRINT ONLY MAIN COLORS\\n   \\n    \\n    '),\n",
       " (36,\n",
       "  35,\n",
       "  '\\n        image_link \\n\\n        Description: 34     Il modello è alto 178cm/5\\'10\" e indossa la ta...\\nName: Descript, dtype: object \\n\\n        \\n        \\n\\n    The images are of the same clothing peace, use them to fill the following format to list attributes of the clothing peace in image, separate them with comma:  \\n\\n    *Type:  \\n    *Fit: (Slim fit, regular fit, oversized, tight, loose, etc)\\n    *Sleeve style: (Short sleeve, long sleeve, sleeveless, cap sleeve, etc)     \\n    *Neckline: (Crew neck, V-neck, scoop neck, etc)   \\n    *Material: (Cotton, linen, silk, polyester, etc)\\n    *Formality: (Casual, Business Casual, Formal, etc)\\n    *Seasson:   \\n    *Colors:  (percentage of each color in the clothing peace) \\n    *Texture: (Smooth, Rough, Ribbed, Velvety, etc)\\n    *Transparency: (Opaque, Semi-transparent, Transparent, etc)\\n    *Details and Embellishments: (e.g, buttons, zippers, embroidery)\\n    *Shape: (e.g., boxy, fitted, flared) \\n    *Length: (e.g., cropped, hip-length, tunic)\\n    *Collar Style: (e.g., crew neck, V-neck, polo, button-down)\\n    *Sleeve Style: (e.g., short, long, three-quarter, sleeveless, puffed)\\n    *Patterns: (e.g., stripes, floral, geometric, not applicable)\\n    *Patterns placement: (e.g., lower back, left sholder, right chest, not applicable) \\n    *Fluidity of fabric:\\n    *Fabric weight: (Light, medium, or heavy)\\n    *Pocket Presence:(Yes,No)\\n    *Pocket placement:(e.g., lower back, left sholder, right chest, not applicable)\\n    *Pocket size:(small, medium, big, not applicable)\\n    *Breathability: (Low, Medium, High)\\n    *Occasion Suitability: (Casual, formal, business casual, etc)\\n    *Lapel: (Notch, Peak, Shawl Satin, Slim, Wide, Contrasting, etc)\\n\\n\\n    Use information from the image and the description.\\n    IGNORE BACKGROUND\\n    ONLY ANSWER THE FORMAT  \\n    DONT USE THE BRAND NAME IN ANY DESCRIPTION  \\n    IN EACH DESCRIPTION - CHARACTERISTIC SHOULD BE ITS OWN DESCRIPTION\\n    YOU CAN USE MULTIPLE DESCRIPTIONS IN A SINGLE ATTRIBUTE  \\n    DONT USE MULTICOLOR OR Multicolor, NAME THE SPECIFIC COLORS  \\n    COLORS SHOULD INCLUDE PRINT AND CLOTHE COLORS WITHOUT ANY DESCRIPTION OF THE PRINT ONLY MAIN COLORS\\n   \\n    \\n    '),\n",
       " (37,\n",
       "  36,\n",
       "  '\\n        image_link \\n\\n        Description: 35     Il modello è alto 178cm/5\\'10\" e indossa la ta...\\nName: Descript, dtype: object \\n\\n        \\n        \\n\\n    The images are of the same clothing peace, use them to fill the following format to list attributes of the clothing peace in image, separate them with comma:  \\n\\n    *Type:  \\n    *Fit: (Slim fit, regular fit, oversized, tight, loose, etc)\\n    *Sleeve style: (Short sleeve, long sleeve, sleeveless, cap sleeve, etc)     \\n    *Neckline: (Crew neck, V-neck, scoop neck, etc)   \\n    *Material: (Cotton, linen, silk, polyester, etc)\\n    *Formality: (Casual, Business Casual, Formal, etc)\\n    *Seasson:   \\n    *Colors:  (percentage of each color in the clothing peace) \\n    *Texture: (Smooth, Rough, Ribbed, Velvety, etc)\\n    *Transparency: (Opaque, Semi-transparent, Transparent, etc)\\n    *Details and Embellishments: (e.g, buttons, zippers, embroidery)\\n    *Shape: (e.g., boxy, fitted, flared) \\n    *Length: (e.g., cropped, hip-length, tunic)\\n    *Collar Style: (e.g., crew neck, V-neck, polo, button-down)\\n    *Sleeve Style: (e.g., short, long, three-quarter, sleeveless, puffed)\\n    *Patterns: (e.g., stripes, floral, geometric, not applicable)\\n    *Patterns placement: (e.g., lower back, left sholder, right chest, not applicable) \\n    *Fluidity of fabric:\\n    *Fabric weight: (Light, medium, or heavy)\\n    *Pocket Presence:(Yes,No)\\n    *Pocket placement:(e.g., lower back, left sholder, right chest, not applicable)\\n    *Pocket size:(small, medium, big, not applicable)\\n    *Breathability: (Low, Medium, High)\\n    *Occasion Suitability: (Casual, formal, business casual, etc)\\n    *Lapel: (Notch, Peak, Shawl Satin, Slim, Wide, Contrasting, etc)\\n\\n\\n    Use information from the image and the description.\\n    IGNORE BACKGROUND\\n    ONLY ANSWER THE FORMAT  \\n    DONT USE THE BRAND NAME IN ANY DESCRIPTION  \\n    IN EACH DESCRIPTION - CHARACTERISTIC SHOULD BE ITS OWN DESCRIPTION\\n    YOU CAN USE MULTIPLE DESCRIPTIONS IN A SINGLE ATTRIBUTE  \\n    DONT USE MULTICOLOR OR Multicolor, NAME THE SPECIFIC COLORS  \\n    COLORS SHOULD INCLUDE PRINT AND CLOTHE COLORS WITHOUT ANY DESCRIPTION OF THE PRINT ONLY MAIN COLORS\\n   \\n    \\n    '),\n",
       " (38,\n",
       "  37,\n",
       "  '\\n        image_link \\n\\n        Description: 36     Il modello è alto 178cm/5\\'10\" e indossa la ta...\\nName: Descript, dtype: object \\n\\n        \\n        \\n\\n    The images are of the same clothing peace, use them to fill the following format to list attributes of the clothing peace in image, separate them with comma:  \\n\\n    *Type:  \\n    *Fit: (Slim fit, regular fit, oversized, tight, loose, etc)\\n    *Sleeve style: (Short sleeve, long sleeve, sleeveless, cap sleeve, etc)     \\n    *Neckline: (Crew neck, V-neck, scoop neck, etc)   \\n    *Material: (Cotton, linen, silk, polyester, etc)\\n    *Formality: (Casual, Business Casual, Formal, etc)\\n    *Seasson:   \\n    *Colors:  (percentage of each color in the clothing peace) \\n    *Texture: (Smooth, Rough, Ribbed, Velvety, etc)\\n    *Transparency: (Opaque, Semi-transparent, Transparent, etc)\\n    *Details and Embellishments: (e.g, buttons, zippers, embroidery)\\n    *Shape: (e.g., boxy, fitted, flared) \\n    *Length: (e.g., cropped, hip-length, tunic)\\n    *Collar Style: (e.g., crew neck, V-neck, polo, button-down)\\n    *Sleeve Style: (e.g., short, long, three-quarter, sleeveless, puffed)\\n    *Patterns: (e.g., stripes, floral, geometric, not applicable)\\n    *Patterns placement: (e.g., lower back, left sholder, right chest, not applicable) \\n    *Fluidity of fabric:\\n    *Fabric weight: (Light, medium, or heavy)\\n    *Pocket Presence:(Yes,No)\\n    *Pocket placement:(e.g., lower back, left sholder, right chest, not applicable)\\n    *Pocket size:(small, medium, big, not applicable)\\n    *Breathability: (Low, Medium, High)\\n    *Occasion Suitability: (Casual, formal, business casual, etc)\\n    *Lapel: (Notch, Peak, Shawl Satin, Slim, Wide, Contrasting, etc)\\n\\n\\n    Use information from the image and the description.\\n    IGNORE BACKGROUND\\n    ONLY ANSWER THE FORMAT  \\n    DONT USE THE BRAND NAME IN ANY DESCRIPTION  \\n    IN EACH DESCRIPTION - CHARACTERISTIC SHOULD BE ITS OWN DESCRIPTION\\n    YOU CAN USE MULTIPLE DESCRIPTIONS IN A SINGLE ATTRIBUTE  \\n    DONT USE MULTICOLOR OR Multicolor, NAME THE SPECIFIC COLORS  \\n    COLORS SHOULD INCLUDE PRINT AND CLOTHE COLORS WITHOUT ANY DESCRIPTION OF THE PRINT ONLY MAIN COLORS\\n   \\n    \\n    '),\n",
       " (39,\n",
       "  38,\n",
       "  '\\n        image_link \\n\\n        Description: 37    100% lino. Modello diritto. Collo di camicia. ...\\nName: Descript, dtype: object \\n\\n        \\n        \\n\\n    The images are of the same clothing peace, use them to fill the following format to list attributes of the clothing peace in image, separate them with comma:  \\n\\n    *Type:  \\n    *Fit: (Slim fit, regular fit, oversized, tight, loose, etc)\\n    *Sleeve style: (Short sleeve, long sleeve, sleeveless, cap sleeve, etc)     \\n    *Neckline: (Crew neck, V-neck, scoop neck, etc)   \\n    *Material: (Cotton, linen, silk, polyester, etc)\\n    *Formality: (Casual, Business Casual, Formal, etc)\\n    *Seasson:   \\n    *Colors:  (percentage of each color in the clothing peace) \\n    *Texture: (Smooth, Rough, Ribbed, Velvety, etc)\\n    *Transparency: (Opaque, Semi-transparent, Transparent, etc)\\n    *Details and Embellishments: (e.g, buttons, zippers, embroidery)\\n    *Shape: (e.g., boxy, fitted, flared) \\n    *Length: (e.g., cropped, hip-length, tunic)\\n    *Collar Style: (e.g., crew neck, V-neck, polo, button-down)\\n    *Sleeve Style: (e.g., short, long, three-quarter, sleeveless, puffed)\\n    *Patterns: (e.g., stripes, floral, geometric, not applicable)\\n    *Patterns placement: (e.g., lower back, left sholder, right chest, not applicable) \\n    *Fluidity of fabric:\\n    *Fabric weight: (Light, medium, or heavy)\\n    *Pocket Presence:(Yes,No)\\n    *Pocket placement:(e.g., lower back, left sholder, right chest, not applicable)\\n    *Pocket size:(small, medium, big, not applicable)\\n    *Breathability: (Low, Medium, High)\\n    *Occasion Suitability: (Casual, formal, business casual, etc)\\n    *Lapel: (Notch, Peak, Shawl Satin, Slim, Wide, Contrasting, etc)\\n\\n\\n    Use information from the image and the description.\\n    IGNORE BACKGROUND\\n    ONLY ANSWER THE FORMAT  \\n    DONT USE THE BRAND NAME IN ANY DESCRIPTION  \\n    IN EACH DESCRIPTION - CHARACTERISTIC SHOULD BE ITS OWN DESCRIPTION\\n    YOU CAN USE MULTIPLE DESCRIPTIONS IN A SINGLE ATTRIBUTE  \\n    DONT USE MULTICOLOR OR Multicolor, NAME THE SPECIFIC COLORS  \\n    COLORS SHOULD INCLUDE PRINT AND CLOTHE COLORS WITHOUT ANY DESCRIPTION OF THE PRINT ONLY MAIN COLORS\\n   \\n    \\n    '),\n",
       " (40,\n",
       "  39,\n",
       "  '\\n        image_link \\n\\n        Description: 38    100% cotone. Modello diritto. Collo a V con re...\\nName: Descript, dtype: object \\n\\n        \\n        \\n\\n    The images are of the same clothing peace, use them to fill the following format to list attributes of the clothing peace in image, separate them with comma:  \\n\\n    *Type:  \\n    *Fit: (Slim fit, regular fit, oversized, tight, loose, etc)\\n    *Sleeve style: (Short sleeve, long sleeve, sleeveless, cap sleeve, etc)     \\n    *Neckline: (Crew neck, V-neck, scoop neck, etc)   \\n    *Material: (Cotton, linen, silk, polyester, etc)\\n    *Formality: (Casual, Business Casual, Formal, etc)\\n    *Seasson:   \\n    *Colors:  (percentage of each color in the clothing peace) \\n    *Texture: (Smooth, Rough, Ribbed, Velvety, etc)\\n    *Transparency: (Opaque, Semi-transparent, Transparent, etc)\\n    *Details and Embellishments: (e.g, buttons, zippers, embroidery)\\n    *Shape: (e.g., boxy, fitted, flared) \\n    *Length: (e.g., cropped, hip-length, tunic)\\n    *Collar Style: (e.g., crew neck, V-neck, polo, button-down)\\n    *Sleeve Style: (e.g., short, long, three-quarter, sleeveless, puffed)\\n    *Patterns: (e.g., stripes, floral, geometric, not applicable)\\n    *Patterns placement: (e.g., lower back, left sholder, right chest, not applicable) \\n    *Fluidity of fabric:\\n    *Fabric weight: (Light, medium, or heavy)\\n    *Pocket Presence:(Yes,No)\\n    *Pocket placement:(e.g., lower back, left sholder, right chest, not applicable)\\n    *Pocket size:(small, medium, big, not applicable)\\n    *Breathability: (Low, Medium, High)\\n    *Occasion Suitability: (Casual, formal, business casual, etc)\\n    *Lapel: (Notch, Peak, Shawl Satin, Slim, Wide, Contrasting, etc)\\n\\n\\n    Use information from the image and the description.\\n    IGNORE BACKGROUND\\n    ONLY ANSWER THE FORMAT  \\n    DONT USE THE BRAND NAME IN ANY DESCRIPTION  \\n    IN EACH DESCRIPTION - CHARACTERISTIC SHOULD BE ITS OWN DESCRIPTION\\n    YOU CAN USE MULTIPLE DESCRIPTIONS IN A SINGLE ATTRIBUTE  \\n    DONT USE MULTICOLOR OR Multicolor, NAME THE SPECIFIC COLORS  \\n    COLORS SHOULD INCLUDE PRINT AND CLOTHE COLORS WITHOUT ANY DESCRIPTION OF THE PRINT ONLY MAIN COLORS\\n   \\n    \\n    '),\n",
       " (41,\n",
       "  40,\n",
       "  '\\n        image_link \\n\\n        Description: 39    100% lyocell. Modello diritto. Collo di camici...\\nName: Descript, dtype: object \\n\\n        \\n        \\n\\n    The images are of the same clothing peace, use them to fill the following format to list attributes of the clothing peace in image, separate them with comma:  \\n\\n    *Type:  \\n    *Fit: (Slim fit, regular fit, oversized, tight, loose, etc)\\n    *Sleeve style: (Short sleeve, long sleeve, sleeveless, cap sleeve, etc)     \\n    *Neckline: (Crew neck, V-neck, scoop neck, etc)   \\n    *Material: (Cotton, linen, silk, polyester, etc)\\n    *Formality: (Casual, Business Casual, Formal, etc)\\n    *Seasson:   \\n    *Colors:  (percentage of each color in the clothing peace) \\n    *Texture: (Smooth, Rough, Ribbed, Velvety, etc)\\n    *Transparency: (Opaque, Semi-transparent, Transparent, etc)\\n    *Details and Embellishments: (e.g, buttons, zippers, embroidery)\\n    *Shape: (e.g., boxy, fitted, flared) \\n    *Length: (e.g., cropped, hip-length, tunic)\\n    *Collar Style: (e.g., crew neck, V-neck, polo, button-down)\\n    *Sleeve Style: (e.g., short, long, three-quarter, sleeveless, puffed)\\n    *Patterns: (e.g., stripes, floral, geometric, not applicable)\\n    *Patterns placement: (e.g., lower back, left sholder, right chest, not applicable) \\n    *Fluidity of fabric:\\n    *Fabric weight: (Light, medium, or heavy)\\n    *Pocket Presence:(Yes,No)\\n    *Pocket placement:(e.g., lower back, left sholder, right chest, not applicable)\\n    *Pocket size:(small, medium, big, not applicable)\\n    *Breathability: (Low, Medium, High)\\n    *Occasion Suitability: (Casual, formal, business casual, etc)\\n    *Lapel: (Notch, Peak, Shawl Satin, Slim, Wide, Contrasting, etc)\\n\\n\\n    Use information from the image and the description.\\n    IGNORE BACKGROUND\\n    ONLY ANSWER THE FORMAT  \\n    DONT USE THE BRAND NAME IN ANY DESCRIPTION  \\n    IN EACH DESCRIPTION - CHARACTERISTIC SHOULD BE ITS OWN DESCRIPTION\\n    YOU CAN USE MULTIPLE DESCRIPTIONS IN A SINGLE ATTRIBUTE  \\n    DONT USE MULTICOLOR OR Multicolor, NAME THE SPECIFIC COLORS  \\n    COLORS SHOULD INCLUDE PRINT AND CLOTHE COLORS WITHOUT ANY DESCRIPTION OF THE PRINT ONLY MAIN COLORS\\n   \\n    \\n    '),\n",
       " (42,\n",
       "  41,\n",
       "  '\\n        image_link \\n\\n        Description: 40    Tessuto misto ramia e cotone. Modello diritto....\\nName: Descript, dtype: object \\n\\n        \\n        \\n\\n    The images are of the same clothing peace, use them to fill the following format to list attributes of the clothing peace in image, separate them with comma:  \\n\\n    *Type:  \\n    *Fit: (Slim fit, regular fit, oversized, tight, loose, etc)\\n    *Sleeve style: (Short sleeve, long sleeve, sleeveless, cap sleeve, etc)     \\n    *Neckline: (Crew neck, V-neck, scoop neck, etc)   \\n    *Material: (Cotton, linen, silk, polyester, etc)\\n    *Formality: (Casual, Business Casual, Formal, etc)\\n    *Seasson:   \\n    *Colors:  (percentage of each color in the clothing peace) \\n    *Texture: (Smooth, Rough, Ribbed, Velvety, etc)\\n    *Transparency: (Opaque, Semi-transparent, Transparent, etc)\\n    *Details and Embellishments: (e.g, buttons, zippers, embroidery)\\n    *Shape: (e.g., boxy, fitted, flared) \\n    *Length: (e.g., cropped, hip-length, tunic)\\n    *Collar Style: (e.g., crew neck, V-neck, polo, button-down)\\n    *Sleeve Style: (e.g., short, long, three-quarter, sleeveless, puffed)\\n    *Patterns: (e.g., stripes, floral, geometric, not applicable)\\n    *Patterns placement: (e.g., lower back, left sholder, right chest, not applicable) \\n    *Fluidity of fabric:\\n    *Fabric weight: (Light, medium, or heavy)\\n    *Pocket Presence:(Yes,No)\\n    *Pocket placement:(e.g., lower back, left sholder, right chest, not applicable)\\n    *Pocket size:(small, medium, big, not applicable)\\n    *Breathability: (Low, Medium, High)\\n    *Occasion Suitability: (Casual, formal, business casual, etc)\\n    *Lapel: (Notch, Peak, Shawl Satin, Slim, Wide, Contrasting, etc)\\n\\n\\n    Use information from the image and the description.\\n    IGNORE BACKGROUND\\n    ONLY ANSWER THE FORMAT  \\n    DONT USE THE BRAND NAME IN ANY DESCRIPTION  \\n    IN EACH DESCRIPTION - CHARACTERISTIC SHOULD BE ITS OWN DESCRIPTION\\n    YOU CAN USE MULTIPLE DESCRIPTIONS IN A SINGLE ATTRIBUTE  \\n    DONT USE MULTICOLOR OR Multicolor, NAME THE SPECIFIC COLORS  \\n    COLORS SHOULD INCLUDE PRINT AND CLOTHE COLORS WITHOUT ANY DESCRIPTION OF THE PRINT ONLY MAIN COLORS\\n   \\n    \\n    '),\n",
       " (43,\n",
       "  42,\n",
       "  '\\n        image_link \\n\\n        Description: 41    Tessuto in lyocell. Modello diritto. Collo di ...\\nName: Descript, dtype: object \\n\\n        \\n        \\n\\n    The images are of the same clothing peace, use them to fill the following format to list attributes of the clothing peace in image, separate them with comma:  \\n\\n    *Type:  \\n    *Fit: (Slim fit, regular fit, oversized, tight, loose, etc)\\n    *Sleeve style: (Short sleeve, long sleeve, sleeveless, cap sleeve, etc)     \\n    *Neckline: (Crew neck, V-neck, scoop neck, etc)   \\n    *Material: (Cotton, linen, silk, polyester, etc)\\n    *Formality: (Casual, Business Casual, Formal, etc)\\n    *Seasson:   \\n    *Colors:  (percentage of each color in the clothing peace) \\n    *Texture: (Smooth, Rough, Ribbed, Velvety, etc)\\n    *Transparency: (Opaque, Semi-transparent, Transparent, etc)\\n    *Details and Embellishments: (e.g, buttons, zippers, embroidery)\\n    *Shape: (e.g., boxy, fitted, flared) \\n    *Length: (e.g., cropped, hip-length, tunic)\\n    *Collar Style: (e.g., crew neck, V-neck, polo, button-down)\\n    *Sleeve Style: (e.g., short, long, three-quarter, sleeveless, puffed)\\n    *Patterns: (e.g., stripes, floral, geometric, not applicable)\\n    *Patterns placement: (e.g., lower back, left sholder, right chest, not applicable) \\n    *Fluidity of fabric:\\n    *Fabric weight: (Light, medium, or heavy)\\n    *Pocket Presence:(Yes,No)\\n    *Pocket placement:(e.g., lower back, left sholder, right chest, not applicable)\\n    *Pocket size:(small, medium, big, not applicable)\\n    *Breathability: (Low, Medium, High)\\n    *Occasion Suitability: (Casual, formal, business casual, etc)\\n    *Lapel: (Notch, Peak, Shawl Satin, Slim, Wide, Contrasting, etc)\\n\\n\\n    Use information from the image and the description.\\n    IGNORE BACKGROUND\\n    ONLY ANSWER THE FORMAT  \\n    DONT USE THE BRAND NAME IN ANY DESCRIPTION  \\n    IN EACH DESCRIPTION - CHARACTERISTIC SHOULD BE ITS OWN DESCRIPTION\\n    YOU CAN USE MULTIPLE DESCRIPTIONS IN A SINGLE ATTRIBUTE  \\n    DONT USE MULTICOLOR OR Multicolor, NAME THE SPECIFIC COLORS  \\n    COLORS SHOULD INCLUDE PRINT AND CLOTHE COLORS WITHOUT ANY DESCRIPTION OF THE PRINT ONLY MAIN COLORS\\n   \\n    \\n    '),\n",
       " (44,\n",
       "  43,\n",
       "  '\\n        image_link \\n\\n        Description: 42    Tessuto in lyocell. Modello diritto. Collo di ...\\nName: Descript, dtype: object \\n\\n        \\n        \\n\\n    The images are of the same clothing peace, use them to fill the following format to list attributes of the clothing peace in image, separate them with comma:  \\n\\n    *Type:  \\n    *Fit: (Slim fit, regular fit, oversized, tight, loose, etc)\\n    *Sleeve style: (Short sleeve, long sleeve, sleeveless, cap sleeve, etc)     \\n    *Neckline: (Crew neck, V-neck, scoop neck, etc)   \\n    *Material: (Cotton, linen, silk, polyester, etc)\\n    *Formality: (Casual, Business Casual, Formal, etc)\\n    *Seasson:   \\n    *Colors:  (percentage of each color in the clothing peace) \\n    *Texture: (Smooth, Rough, Ribbed, Velvety, etc)\\n    *Transparency: (Opaque, Semi-transparent, Transparent, etc)\\n    *Details and Embellishments: (e.g, buttons, zippers, embroidery)\\n    *Shape: (e.g., boxy, fitted, flared) \\n    *Length: (e.g., cropped, hip-length, tunic)\\n    *Collar Style: (e.g., crew neck, V-neck, polo, button-down)\\n    *Sleeve Style: (e.g., short, long, three-quarter, sleeveless, puffed)\\n    *Patterns: (e.g., stripes, floral, geometric, not applicable)\\n    *Patterns placement: (e.g., lower back, left sholder, right chest, not applicable) \\n    *Fluidity of fabric:\\n    *Fabric weight: (Light, medium, or heavy)\\n    *Pocket Presence:(Yes,No)\\n    *Pocket placement:(e.g., lower back, left sholder, right chest, not applicable)\\n    *Pocket size:(small, medium, big, not applicable)\\n    *Breathability: (Low, Medium, High)\\n    *Occasion Suitability: (Casual, formal, business casual, etc)\\n    *Lapel: (Notch, Peak, Shawl Satin, Slim, Wide, Contrasting, etc)\\n\\n\\n    Use information from the image and the description.\\n    IGNORE BACKGROUND\\n    ONLY ANSWER THE FORMAT  \\n    DONT USE THE BRAND NAME IN ANY DESCRIPTION  \\n    IN EACH DESCRIPTION - CHARACTERISTIC SHOULD BE ITS OWN DESCRIPTION\\n    YOU CAN USE MULTIPLE DESCRIPTIONS IN A SINGLE ATTRIBUTE  \\n    DONT USE MULTICOLOR OR Multicolor, NAME THE SPECIFIC COLORS  \\n    COLORS SHOULD INCLUDE PRINT AND CLOTHE COLORS WITHOUT ANY DESCRIPTION OF THE PRINT ONLY MAIN COLORS\\n   \\n    \\n    '),\n",
       " (45,\n",
       "  44,\n",
       "  '\\n        image_link \\n\\n        Description: 43    Tessuto fluido. Effetto stropicciato. Modello ...\\nName: Descript, dtype: object \\n\\n        \\n        \\n\\n    The images are of the same clothing peace, use them to fill the following format to list attributes of the clothing peace in image, separate them with comma:  \\n\\n    *Type:  \\n    *Fit: (Slim fit, regular fit, oversized, tight, loose, etc)\\n    *Sleeve style: (Short sleeve, long sleeve, sleeveless, cap sleeve, etc)     \\n    *Neckline: (Crew neck, V-neck, scoop neck, etc)   \\n    *Material: (Cotton, linen, silk, polyester, etc)\\n    *Formality: (Casual, Business Casual, Formal, etc)\\n    *Seasson:   \\n    *Colors:  (percentage of each color in the clothing peace) \\n    *Texture: (Smooth, Rough, Ribbed, Velvety, etc)\\n    *Transparency: (Opaque, Semi-transparent, Transparent, etc)\\n    *Details and Embellishments: (e.g, buttons, zippers, embroidery)\\n    *Shape: (e.g., boxy, fitted, flared) \\n    *Length: (e.g., cropped, hip-length, tunic)\\n    *Collar Style: (e.g., crew neck, V-neck, polo, button-down)\\n    *Sleeve Style: (e.g., short, long, three-quarter, sleeveless, puffed)\\n    *Patterns: (e.g., stripes, floral, geometric, not applicable)\\n    *Patterns placement: (e.g., lower back, left sholder, right chest, not applicable) \\n    *Fluidity of fabric:\\n    *Fabric weight: (Light, medium, or heavy)\\n    *Pocket Presence:(Yes,No)\\n    *Pocket placement:(e.g., lower back, left sholder, right chest, not applicable)\\n    *Pocket size:(small, medium, big, not applicable)\\n    *Breathability: (Low, Medium, High)\\n    *Occasion Suitability: (Casual, formal, business casual, etc)\\n    *Lapel: (Notch, Peak, Shawl Satin, Slim, Wide, Contrasting, etc)\\n\\n\\n    Use information from the image and the description.\\n    IGNORE BACKGROUND\\n    ONLY ANSWER THE FORMAT  \\n    DONT USE THE BRAND NAME IN ANY DESCRIPTION  \\n    IN EACH DESCRIPTION - CHARACTERISTIC SHOULD BE ITS OWN DESCRIPTION\\n    YOU CAN USE MULTIPLE DESCRIPTIONS IN A SINGLE ATTRIBUTE  \\n    DONT USE MULTICOLOR OR Multicolor, NAME THE SPECIFIC COLORS  \\n    COLORS SHOULD INCLUDE PRINT AND CLOTHE COLORS WITHOUT ANY DESCRIPTION OF THE PRINT ONLY MAIN COLORS\\n   \\n    \\n    '),\n",
       " (46,\n",
       "  45,\n",
       "  '\\n        image_link \\n\\n        Description: 44    Tessuto 100% cotone. Modello lungo. Modello ov...\\nName: Descript, dtype: object \\n\\n        \\n        \\n\\n    The images are of the same clothing peace, use them to fill the following format to list attributes of the clothing peace in image, separate them with comma:  \\n\\n    *Type:  \\n    *Fit: (Slim fit, regular fit, oversized, tight, loose, etc)\\n    *Sleeve style: (Short sleeve, long sleeve, sleeveless, cap sleeve, etc)     \\n    *Neckline: (Crew neck, V-neck, scoop neck, etc)   \\n    *Material: (Cotton, linen, silk, polyester, etc)\\n    *Formality: (Casual, Business Casual, Formal, etc)\\n    *Seasson:   \\n    *Colors:  (percentage of each color in the clothing peace) \\n    *Texture: (Smooth, Rough, Ribbed, Velvety, etc)\\n    *Transparency: (Opaque, Semi-transparent, Transparent, etc)\\n    *Details and Embellishments: (e.g, buttons, zippers, embroidery)\\n    *Shape: (e.g., boxy, fitted, flared) \\n    *Length: (e.g., cropped, hip-length, tunic)\\n    *Collar Style: (e.g., crew neck, V-neck, polo, button-down)\\n    *Sleeve Style: (e.g., short, long, three-quarter, sleeveless, puffed)\\n    *Patterns: (e.g., stripes, floral, geometric, not applicable)\\n    *Patterns placement: (e.g., lower back, left sholder, right chest, not applicable) \\n    *Fluidity of fabric:\\n    *Fabric weight: (Light, medium, or heavy)\\n    *Pocket Presence:(Yes,No)\\n    *Pocket placement:(e.g., lower back, left sholder, right chest, not applicable)\\n    *Pocket size:(small, medium, big, not applicable)\\n    *Breathability: (Low, Medium, High)\\n    *Occasion Suitability: (Casual, formal, business casual, etc)\\n    *Lapel: (Notch, Peak, Shawl Satin, Slim, Wide, Contrasting, etc)\\n\\n\\n    Use information from the image and the description.\\n    IGNORE BACKGROUND\\n    ONLY ANSWER THE FORMAT  \\n    DONT USE THE BRAND NAME IN ANY DESCRIPTION  \\n    IN EACH DESCRIPTION - CHARACTERISTIC SHOULD BE ITS OWN DESCRIPTION\\n    YOU CAN USE MULTIPLE DESCRIPTIONS IN A SINGLE ATTRIBUTE  \\n    DONT USE MULTICOLOR OR Multicolor, NAME THE SPECIFIC COLORS  \\n    COLORS SHOULD INCLUDE PRINT AND CLOTHE COLORS WITHOUT ANY DESCRIPTION OF THE PRINT ONLY MAIN COLORS\\n   \\n    \\n    '),\n",
       " (47,\n",
       "  46,\n",
       "  '\\n        image_link \\n\\n        Description: 45    Tessuto misto cotone. Modello diritto. Collo d...\\nName: Descript, dtype: object \\n\\n        \\n        \\n\\n    The images are of the same clothing peace, use them to fill the following format to list attributes of the clothing peace in image, separate them with comma:  \\n\\n    *Type:  \\n    *Fit: (Slim fit, regular fit, oversized, tight, loose, etc)\\n    *Sleeve style: (Short sleeve, long sleeve, sleeveless, cap sleeve, etc)     \\n    *Neckline: (Crew neck, V-neck, scoop neck, etc)   \\n    *Material: (Cotton, linen, silk, polyester, etc)\\n    *Formality: (Casual, Business Casual, Formal, etc)\\n    *Seasson:   \\n    *Colors:  (percentage of each color in the clothing peace) \\n    *Texture: (Smooth, Rough, Ribbed, Velvety, etc)\\n    *Transparency: (Opaque, Semi-transparent, Transparent, etc)\\n    *Details and Embellishments: (e.g, buttons, zippers, embroidery)\\n    *Shape: (e.g., boxy, fitted, flared) \\n    *Length: (e.g., cropped, hip-length, tunic)\\n    *Collar Style: (e.g., crew neck, V-neck, polo, button-down)\\n    *Sleeve Style: (e.g., short, long, three-quarter, sleeveless, puffed)\\n    *Patterns: (e.g., stripes, floral, geometric, not applicable)\\n    *Patterns placement: (e.g., lower back, left sholder, right chest, not applicable) \\n    *Fluidity of fabric:\\n    *Fabric weight: (Light, medium, or heavy)\\n    *Pocket Presence:(Yes,No)\\n    *Pocket placement:(e.g., lower back, left sholder, right chest, not applicable)\\n    *Pocket size:(small, medium, big, not applicable)\\n    *Breathability: (Low, Medium, High)\\n    *Occasion Suitability: (Casual, formal, business casual, etc)\\n    *Lapel: (Notch, Peak, Shawl Satin, Slim, Wide, Contrasting, etc)\\n\\n\\n    Use information from the image and the description.\\n    IGNORE BACKGROUND\\n    ONLY ANSWER THE FORMAT  \\n    DONT USE THE BRAND NAME IN ANY DESCRIPTION  \\n    IN EACH DESCRIPTION - CHARACTERISTIC SHOULD BE ITS OWN DESCRIPTION\\n    YOU CAN USE MULTIPLE DESCRIPTIONS IN A SINGLE ATTRIBUTE  \\n    DONT USE MULTICOLOR OR Multicolor, NAME THE SPECIFIC COLORS  \\n    COLORS SHOULD INCLUDE PRINT AND CLOTHE COLORS WITHOUT ANY DESCRIPTION OF THE PRINT ONLY MAIN COLORS\\n   \\n    \\n    '),\n",
       " (48,\n",
       "  47,\n",
       "  '\\n        image_link \\n\\n        Description: 46    Tessuto fluido. Tessuto di tulle. Tessuto sati...\\nName: Descript, dtype: object \\n\\n        \\n        \\n\\n    The images are of the same clothing peace, use them to fill the following format to list attributes of the clothing peace in image, separate them with comma:  \\n\\n    *Type:  \\n    *Fit: (Slim fit, regular fit, oversized, tight, loose, etc)\\n    *Sleeve style: (Short sleeve, long sleeve, sleeveless, cap sleeve, etc)     \\n    *Neckline: (Crew neck, V-neck, scoop neck, etc)   \\n    *Material: (Cotton, linen, silk, polyester, etc)\\n    *Formality: (Casual, Business Casual, Formal, etc)\\n    *Seasson:   \\n    *Colors:  (percentage of each color in the clothing peace) \\n    *Texture: (Smooth, Rough, Ribbed, Velvety, etc)\\n    *Transparency: (Opaque, Semi-transparent, Transparent, etc)\\n    *Details and Embellishments: (e.g, buttons, zippers, embroidery)\\n    *Shape: (e.g., boxy, fitted, flared) \\n    *Length: (e.g., cropped, hip-length, tunic)\\n    *Collar Style: (e.g., crew neck, V-neck, polo, button-down)\\n    *Sleeve Style: (e.g., short, long, three-quarter, sleeveless, puffed)\\n    *Patterns: (e.g., stripes, floral, geometric, not applicable)\\n    *Patterns placement: (e.g., lower back, left sholder, right chest, not applicable) \\n    *Fluidity of fabric:\\n    *Fabric weight: (Light, medium, or heavy)\\n    *Pocket Presence:(Yes,No)\\n    *Pocket placement:(e.g., lower back, left sholder, right chest, not applicable)\\n    *Pocket size:(small, medium, big, not applicable)\\n    *Breathability: (Low, Medium, High)\\n    *Occasion Suitability: (Casual, formal, business casual, etc)\\n    *Lapel: (Notch, Peak, Shawl Satin, Slim, Wide, Contrasting, etc)\\n\\n\\n    Use information from the image and the description.\\n    IGNORE BACKGROUND\\n    ONLY ANSWER THE FORMAT  \\n    DONT USE THE BRAND NAME IN ANY DESCRIPTION  \\n    IN EACH DESCRIPTION - CHARACTERISTIC SHOULD BE ITS OWN DESCRIPTION\\n    YOU CAN USE MULTIPLE DESCRIPTIONS IN A SINGLE ATTRIBUTE  \\n    DONT USE MULTICOLOR OR Multicolor, NAME THE SPECIFIC COLORS  \\n    COLORS SHOULD INCLUDE PRINT AND CLOTHE COLORS WITHOUT ANY DESCRIPTION OF THE PRINT ONLY MAIN COLORS\\n   \\n    \\n    '),\n",
       " (49,\n",
       "  48,\n",
       "  '\\n        image_link \\n\\n        Description: 47    Tessuto fluido. Tessuto semitrasparente. Model...\\nName: Descript, dtype: object \\n\\n        \\n        \\n\\n    The images are of the same clothing peace, use them to fill the following format to list attributes of the clothing peace in image, separate them with comma:  \\n\\n    *Type:  \\n    *Fit: (Slim fit, regular fit, oversized, tight, loose, etc)\\n    *Sleeve style: (Short sleeve, long sleeve, sleeveless, cap sleeve, etc)     \\n    *Neckline: (Crew neck, V-neck, scoop neck, etc)   \\n    *Material: (Cotton, linen, silk, polyester, etc)\\n    *Formality: (Casual, Business Casual, Formal, etc)\\n    *Seasson:   \\n    *Colors:  (percentage of each color in the clothing peace) \\n    *Texture: (Smooth, Rough, Ribbed, Velvety, etc)\\n    *Transparency: (Opaque, Semi-transparent, Transparent, etc)\\n    *Details and Embellishments: (e.g, buttons, zippers, embroidery)\\n    *Shape: (e.g., boxy, fitted, flared) \\n    *Length: (e.g., cropped, hip-length, tunic)\\n    *Collar Style: (e.g., crew neck, V-neck, polo, button-down)\\n    *Sleeve Style: (e.g., short, long, three-quarter, sleeveless, puffed)\\n    *Patterns: (e.g., stripes, floral, geometric, not applicable)\\n    *Patterns placement: (e.g., lower back, left sholder, right chest, not applicable) \\n    *Fluidity of fabric:\\n    *Fabric weight: (Light, medium, or heavy)\\n    *Pocket Presence:(Yes,No)\\n    *Pocket placement:(e.g., lower back, left sholder, right chest, not applicable)\\n    *Pocket size:(small, medium, big, not applicable)\\n    *Breathability: (Low, Medium, High)\\n    *Occasion Suitability: (Casual, formal, business casual, etc)\\n    *Lapel: (Notch, Peak, Shawl Satin, Slim, Wide, Contrasting, etc)\\n\\n\\n    Use information from the image and the description.\\n    IGNORE BACKGROUND\\n    ONLY ANSWER THE FORMAT  \\n    DONT USE THE BRAND NAME IN ANY DESCRIPTION  \\n    IN EACH DESCRIPTION - CHARACTERISTIC SHOULD BE ITS OWN DESCRIPTION\\n    YOU CAN USE MULTIPLE DESCRIPTIONS IN A SINGLE ATTRIBUTE  \\n    DONT USE MULTICOLOR OR Multicolor, NAME THE SPECIFIC COLORS  \\n    COLORS SHOULD INCLUDE PRINT AND CLOTHE COLORS WITHOUT ANY DESCRIPTION OF THE PRINT ONLY MAIN COLORS\\n   \\n    \\n    '),\n",
       " (50,\n",
       "  49,\n",
       "  '\\n        image_link \\n\\n        Description: 48    Tessuto fluido. Tessuto testurizzato. Finitura...\\nName: Descript, dtype: object \\n\\n        \\n        \\n\\n    The images are of the same clothing peace, use them to fill the following format to list attributes of the clothing peace in image, separate them with comma:  \\n\\n    *Type:  \\n    *Fit: (Slim fit, regular fit, oversized, tight, loose, etc)\\n    *Sleeve style: (Short sleeve, long sleeve, sleeveless, cap sleeve, etc)     \\n    *Neckline: (Crew neck, V-neck, scoop neck, etc)   \\n    *Material: (Cotton, linen, silk, polyester, etc)\\n    *Formality: (Casual, Business Casual, Formal, etc)\\n    *Seasson:   \\n    *Colors:  (percentage of each color in the clothing peace) \\n    *Texture: (Smooth, Rough, Ribbed, Velvety, etc)\\n    *Transparency: (Opaque, Semi-transparent, Transparent, etc)\\n    *Details and Embellishments: (e.g, buttons, zippers, embroidery)\\n    *Shape: (e.g., boxy, fitted, flared) \\n    *Length: (e.g., cropped, hip-length, tunic)\\n    *Collar Style: (e.g., crew neck, V-neck, polo, button-down)\\n    *Sleeve Style: (e.g., short, long, three-quarter, sleeveless, puffed)\\n    *Patterns: (e.g., stripes, floral, geometric, not applicable)\\n    *Patterns placement: (e.g., lower back, left sholder, right chest, not applicable) \\n    *Fluidity of fabric:\\n    *Fabric weight: (Light, medium, or heavy)\\n    *Pocket Presence:(Yes,No)\\n    *Pocket placement:(e.g., lower back, left sholder, right chest, not applicable)\\n    *Pocket size:(small, medium, big, not applicable)\\n    *Breathability: (Low, Medium, High)\\n    *Occasion Suitability: (Casual, formal, business casual, etc)\\n    *Lapel: (Notch, Peak, Shawl Satin, Slim, Wide, Contrasting, etc)\\n\\n\\n    Use information from the image and the description.\\n    IGNORE BACKGROUND\\n    ONLY ANSWER THE FORMAT  \\n    DONT USE THE BRAND NAME IN ANY DESCRIPTION  \\n    IN EACH DESCRIPTION - CHARACTERISTIC SHOULD BE ITS OWN DESCRIPTION\\n    YOU CAN USE MULTIPLE DESCRIPTIONS IN A SINGLE ATTRIBUTE  \\n    DONT USE MULTICOLOR OR Multicolor, NAME THE SPECIFIC COLORS  \\n    COLORS SHOULD INCLUDE PRINT AND CLOTHE COLORS WITHOUT ANY DESCRIPTION OF THE PRINT ONLY MAIN COLORS\\n   \\n    \\n    '),\n",
       " (51,\n",
       "  50,\n",
       "  '\\n        image_link \\n\\n        Description: 49    Tessuto fluido. Modello diritto. Modello stamp...\\nName: Descript, dtype: object \\n\\n        \\n        \\n\\n    The images are of the same clothing peace, use them to fill the following format to list attributes of the clothing peace in image, separate them with comma:  \\n\\n    *Type:  \\n    *Fit: (Slim fit, regular fit, oversized, tight, loose, etc)\\n    *Sleeve style: (Short sleeve, long sleeve, sleeveless, cap sleeve, etc)     \\n    *Neckline: (Crew neck, V-neck, scoop neck, etc)   \\n    *Material: (Cotton, linen, silk, polyester, etc)\\n    *Formality: (Casual, Business Casual, Formal, etc)\\n    *Seasson:   \\n    *Colors:  (percentage of each color in the clothing peace) \\n    *Texture: (Smooth, Rough, Ribbed, Velvety, etc)\\n    *Transparency: (Opaque, Semi-transparent, Transparent, etc)\\n    *Details and Embellishments: (e.g, buttons, zippers, embroidery)\\n    *Shape: (e.g., boxy, fitted, flared) \\n    *Length: (e.g., cropped, hip-length, tunic)\\n    *Collar Style: (e.g., crew neck, V-neck, polo, button-down)\\n    *Sleeve Style: (e.g., short, long, three-quarter, sleeveless, puffed)\\n    *Patterns: (e.g., stripes, floral, geometric, not applicable)\\n    *Patterns placement: (e.g., lower back, left sholder, right chest, not applicable) \\n    *Fluidity of fabric:\\n    *Fabric weight: (Light, medium, or heavy)\\n    *Pocket Presence:(Yes,No)\\n    *Pocket placement:(e.g., lower back, left sholder, right chest, not applicable)\\n    *Pocket size:(small, medium, big, not applicable)\\n    *Breathability: (Low, Medium, High)\\n    *Occasion Suitability: (Casual, formal, business casual, etc)\\n    *Lapel: (Notch, Peak, Shawl Satin, Slim, Wide, Contrasting, etc)\\n\\n\\n    Use information from the image and the description.\\n    IGNORE BACKGROUND\\n    ONLY ANSWER THE FORMAT  \\n    DONT USE THE BRAND NAME IN ANY DESCRIPTION  \\n    IN EACH DESCRIPTION - CHARACTERISTIC SHOULD BE ITS OWN DESCRIPTION\\n    YOU CAN USE MULTIPLE DESCRIPTIONS IN A SINGLE ATTRIBUTE  \\n    DONT USE MULTICOLOR OR Multicolor, NAME THE SPECIFIC COLORS  \\n    COLORS SHOULD INCLUDE PRINT AND CLOTHE COLORS WITHOUT ANY DESCRIPTION OF THE PRINT ONLY MAIN COLORS\\n   \\n    \\n    '),\n",
       " (52,\n",
       "  51,\n",
       "  '\\n        image_link \\n\\n        Description: 50    Tessuto fluido. Modello lungo. Disegno plisset...\\nName: Descript, dtype: object \\n\\n        \\n        \\n\\n    The images are of the same clothing peace, use them to fill the following format to list attributes of the clothing peace in image, separate them with comma:  \\n\\n    *Type:  \\n    *Fit: (Slim fit, regular fit, oversized, tight, loose, etc)\\n    *Sleeve style: (Short sleeve, long sleeve, sleeveless, cap sleeve, etc)     \\n    *Neckline: (Crew neck, V-neck, scoop neck, etc)   \\n    *Material: (Cotton, linen, silk, polyester, etc)\\n    *Formality: (Casual, Business Casual, Formal, etc)\\n    *Seasson:   \\n    *Colors:  (percentage of each color in the clothing peace) \\n    *Texture: (Smooth, Rough, Ribbed, Velvety, etc)\\n    *Transparency: (Opaque, Semi-transparent, Transparent, etc)\\n    *Details and Embellishments: (e.g, buttons, zippers, embroidery)\\n    *Shape: (e.g., boxy, fitted, flared) \\n    *Length: (e.g., cropped, hip-length, tunic)\\n    *Collar Style: (e.g., crew neck, V-neck, polo, button-down)\\n    *Sleeve Style: (e.g., short, long, three-quarter, sleeveless, puffed)\\n    *Patterns: (e.g., stripes, floral, geometric, not applicable)\\n    *Patterns placement: (e.g., lower back, left sholder, right chest, not applicable) \\n    *Fluidity of fabric:\\n    *Fabric weight: (Light, medium, or heavy)\\n    *Pocket Presence:(Yes,No)\\n    *Pocket placement:(e.g., lower back, left sholder, right chest, not applicable)\\n    *Pocket size:(small, medium, big, not applicable)\\n    *Breathability: (Low, Medium, High)\\n    *Occasion Suitability: (Casual, formal, business casual, etc)\\n    *Lapel: (Notch, Peak, Shawl Satin, Slim, Wide, Contrasting, etc)\\n\\n\\n    Use information from the image and the description.\\n    IGNORE BACKGROUND\\n    ONLY ANSWER THE FORMAT  \\n    DONT USE THE BRAND NAME IN ANY DESCRIPTION  \\n    IN EACH DESCRIPTION - CHARACTERISTIC SHOULD BE ITS OWN DESCRIPTION\\n    YOU CAN USE MULTIPLE DESCRIPTIONS IN A SINGLE ATTRIBUTE  \\n    DONT USE MULTICOLOR OR Multicolor, NAME THE SPECIFIC COLORS  \\n    COLORS SHOULD INCLUDE PRINT AND CLOTHE COLORS WITHOUT ANY DESCRIPTION OF THE PRINT ONLY MAIN COLORS\\n   \\n    \\n    '),\n",
       " (53,\n",
       "  52,\n",
       "  '\\n        image_link \\n\\n        Description: 51    Tessuto misto cotone. Modello crochet. Modello...\\nName: Descript, dtype: object \\n\\n        \\n        \\n\\n    The images are of the same clothing peace, use them to fill the following format to list attributes of the clothing peace in image, separate them with comma:  \\n\\n    *Type:  \\n    *Fit: (Slim fit, regular fit, oversized, tight, loose, etc)\\n    *Sleeve style: (Short sleeve, long sleeve, sleeveless, cap sleeve, etc)     \\n    *Neckline: (Crew neck, V-neck, scoop neck, etc)   \\n    *Material: (Cotton, linen, silk, polyester, etc)\\n    *Formality: (Casual, Business Casual, Formal, etc)\\n    *Seasson:   \\n    *Colors:  (percentage of each color in the clothing peace) \\n    *Texture: (Smooth, Rough, Ribbed, Velvety, etc)\\n    *Transparency: (Opaque, Semi-transparent, Transparent, etc)\\n    *Details and Embellishments: (e.g, buttons, zippers, embroidery)\\n    *Shape: (e.g., boxy, fitted, flared) \\n    *Length: (e.g., cropped, hip-length, tunic)\\n    *Collar Style: (e.g., crew neck, V-neck, polo, button-down)\\n    *Sleeve Style: (e.g., short, long, three-quarter, sleeveless, puffed)\\n    *Patterns: (e.g., stripes, floral, geometric, not applicable)\\n    *Patterns placement: (e.g., lower back, left sholder, right chest, not applicable) \\n    *Fluidity of fabric:\\n    *Fabric weight: (Light, medium, or heavy)\\n    *Pocket Presence:(Yes,No)\\n    *Pocket placement:(e.g., lower back, left sholder, right chest, not applicable)\\n    *Pocket size:(small, medium, big, not applicable)\\n    *Breathability: (Low, Medium, High)\\n    *Occasion Suitability: (Casual, formal, business casual, etc)\\n    *Lapel: (Notch, Peak, Shawl Satin, Slim, Wide, Contrasting, etc)\\n\\n\\n    Use information from the image and the description.\\n    IGNORE BACKGROUND\\n    ONLY ANSWER THE FORMAT  \\n    DONT USE THE BRAND NAME IN ANY DESCRIPTION  \\n    IN EACH DESCRIPTION - CHARACTERISTIC SHOULD BE ITS OWN DESCRIPTION\\n    YOU CAN USE MULTIPLE DESCRIPTIONS IN A SINGLE ATTRIBUTE  \\n    DONT USE MULTICOLOR OR Multicolor, NAME THE SPECIFIC COLORS  \\n    COLORS SHOULD INCLUDE PRINT AND CLOTHE COLORS WITHOUT ANY DESCRIPTION OF THE PRINT ONLY MAIN COLORS\\n   \\n    \\n    '),\n",
       " (54,\n",
       "  53,\n",
       "  '\\n        image_link \\n\\n        Description: 52    100% cotone. Modello diritto. Collo di camicia...\\nName: Descript, dtype: object \\n\\n        \\n        \\n\\n    The images are of the same clothing peace, use them to fill the following format to list attributes of the clothing peace in image, separate them with comma:  \\n\\n    *Type:  \\n    *Fit: (Slim fit, regular fit, oversized, tight, loose, etc)\\n    *Sleeve style: (Short sleeve, long sleeve, sleeveless, cap sleeve, etc)     \\n    *Neckline: (Crew neck, V-neck, scoop neck, etc)   \\n    *Material: (Cotton, linen, silk, polyester, etc)\\n    *Formality: (Casual, Business Casual, Formal, etc)\\n    *Seasson:   \\n    *Colors:  (percentage of each color in the clothing peace) \\n    *Texture: (Smooth, Rough, Ribbed, Velvety, etc)\\n    *Transparency: (Opaque, Semi-transparent, Transparent, etc)\\n    *Details and Embellishments: (e.g, buttons, zippers, embroidery)\\n    *Shape: (e.g., boxy, fitted, flared) \\n    *Length: (e.g., cropped, hip-length, tunic)\\n    *Collar Style: (e.g., crew neck, V-neck, polo, button-down)\\n    *Sleeve Style: (e.g., short, long, three-quarter, sleeveless, puffed)\\n    *Patterns: (e.g., stripes, floral, geometric, not applicable)\\n    *Patterns placement: (e.g., lower back, left sholder, right chest, not applicable) \\n    *Fluidity of fabric:\\n    *Fabric weight: (Light, medium, or heavy)\\n    *Pocket Presence:(Yes,No)\\n    *Pocket placement:(e.g., lower back, left sholder, right chest, not applicable)\\n    *Pocket size:(small, medium, big, not applicable)\\n    *Breathability: (Low, Medium, High)\\n    *Occasion Suitability: (Casual, formal, business casual, etc)\\n    *Lapel: (Notch, Peak, Shawl Satin, Slim, Wide, Contrasting, etc)\\n\\n\\n    Use information from the image and the description.\\n    IGNORE BACKGROUND\\n    ONLY ANSWER THE FORMAT  \\n    DONT USE THE BRAND NAME IN ANY DESCRIPTION  \\n    IN EACH DESCRIPTION - CHARACTERISTIC SHOULD BE ITS OWN DESCRIPTION\\n    YOU CAN USE MULTIPLE DESCRIPTIONS IN A SINGLE ATTRIBUTE  \\n    DONT USE MULTICOLOR OR Multicolor, NAME THE SPECIFIC COLORS  \\n    COLORS SHOULD INCLUDE PRINT AND CLOTHE COLORS WITHOUT ANY DESCRIPTION OF THE PRINT ONLY MAIN COLORS\\n   \\n    \\n    '),\n",
       " (55,\n",
       "  54,\n",
       "  '\\n        image_link \\n\\n        Description: 53    Tessuto 100% cotone. Tessuto semitrasparente. ...\\nName: Descript, dtype: object \\n\\n        \\n        \\n\\n    The images are of the same clothing peace, use them to fill the following format to list attributes of the clothing peace in image, separate them with comma:  \\n\\n    *Type:  \\n    *Fit: (Slim fit, regular fit, oversized, tight, loose, etc)\\n    *Sleeve style: (Short sleeve, long sleeve, sleeveless, cap sleeve, etc)     \\n    *Neckline: (Crew neck, V-neck, scoop neck, etc)   \\n    *Material: (Cotton, linen, silk, polyester, etc)\\n    *Formality: (Casual, Business Casual, Formal, etc)\\n    *Seasson:   \\n    *Colors:  (percentage of each color in the clothing peace) \\n    *Texture: (Smooth, Rough, Ribbed, Velvety, etc)\\n    *Transparency: (Opaque, Semi-transparent, Transparent, etc)\\n    *Details and Embellishments: (e.g, buttons, zippers, embroidery)\\n    *Shape: (e.g., boxy, fitted, flared) \\n    *Length: (e.g., cropped, hip-length, tunic)\\n    *Collar Style: (e.g., crew neck, V-neck, polo, button-down)\\n    *Sleeve Style: (e.g., short, long, three-quarter, sleeveless, puffed)\\n    *Patterns: (e.g., stripes, floral, geometric, not applicable)\\n    *Patterns placement: (e.g., lower back, left sholder, right chest, not applicable) \\n    *Fluidity of fabric:\\n    *Fabric weight: (Light, medium, or heavy)\\n    *Pocket Presence:(Yes,No)\\n    *Pocket placement:(e.g., lower back, left sholder, right chest, not applicable)\\n    *Pocket size:(small, medium, big, not applicable)\\n    *Breathability: (Low, Medium, High)\\n    *Occasion Suitability: (Casual, formal, business casual, etc)\\n    *Lapel: (Notch, Peak, Shawl Satin, Slim, Wide, Contrasting, etc)\\n\\n\\n    Use information from the image and the description.\\n    IGNORE BACKGROUND\\n    ONLY ANSWER THE FORMAT  \\n    DONT USE THE BRAND NAME IN ANY DESCRIPTION  \\n    IN EACH DESCRIPTION - CHARACTERISTIC SHOULD BE ITS OWN DESCRIPTION\\n    YOU CAN USE MULTIPLE DESCRIPTIONS IN A SINGLE ATTRIBUTE  \\n    DONT USE MULTICOLOR OR Multicolor, NAME THE SPECIFIC COLORS  \\n    COLORS SHOULD INCLUDE PRINT AND CLOTHE COLORS WITHOUT ANY DESCRIPTION OF THE PRINT ONLY MAIN COLORS\\n   \\n    \\n    '),\n",
       " (56,\n",
       "  55,\n",
       "  '\\n        image_link \\n\\n        Description: 54    Tessuto fluido. Modello diritto. Disponibile i...\\nName: Descript, dtype: object \\n\\n        \\n        \\n\\n    The images are of the same clothing peace, use them to fill the following format to list attributes of the clothing peace in image, separate them with comma:  \\n\\n    *Type:  \\n    *Fit: (Slim fit, regular fit, oversized, tight, loose, etc)\\n    *Sleeve style: (Short sleeve, long sleeve, sleeveless, cap sleeve, etc)     \\n    *Neckline: (Crew neck, V-neck, scoop neck, etc)   \\n    *Material: (Cotton, linen, silk, polyester, etc)\\n    *Formality: (Casual, Business Casual, Formal, etc)\\n    *Seasson:   \\n    *Colors:  (percentage of each color in the clothing peace) \\n    *Texture: (Smooth, Rough, Ribbed, Velvety, etc)\\n    *Transparency: (Opaque, Semi-transparent, Transparent, etc)\\n    *Details and Embellishments: (e.g, buttons, zippers, embroidery)\\n    *Shape: (e.g., boxy, fitted, flared) \\n    *Length: (e.g., cropped, hip-length, tunic)\\n    *Collar Style: (e.g., crew neck, V-neck, polo, button-down)\\n    *Sleeve Style: (e.g., short, long, three-quarter, sleeveless, puffed)\\n    *Patterns: (e.g., stripes, floral, geometric, not applicable)\\n    *Patterns placement: (e.g., lower back, left sholder, right chest, not applicable) \\n    *Fluidity of fabric:\\n    *Fabric weight: (Light, medium, or heavy)\\n    *Pocket Presence:(Yes,No)\\n    *Pocket placement:(e.g., lower back, left sholder, right chest, not applicable)\\n    *Pocket size:(small, medium, big, not applicable)\\n    *Breathability: (Low, Medium, High)\\n    *Occasion Suitability: (Casual, formal, business casual, etc)\\n    *Lapel: (Notch, Peak, Shawl Satin, Slim, Wide, Contrasting, etc)\\n\\n\\n    Use information from the image and the description.\\n    IGNORE BACKGROUND\\n    ONLY ANSWER THE FORMAT  \\n    DONT USE THE BRAND NAME IN ANY DESCRIPTION  \\n    IN EACH DESCRIPTION - CHARACTERISTIC SHOULD BE ITS OWN DESCRIPTION\\n    YOU CAN USE MULTIPLE DESCRIPTIONS IN A SINGLE ATTRIBUTE  \\n    DONT USE MULTICOLOR OR Multicolor, NAME THE SPECIFIC COLORS  \\n    COLORS SHOULD INCLUDE PRINT AND CLOTHE COLORS WITHOUT ANY DESCRIPTION OF THE PRINT ONLY MAIN COLORS\\n   \\n    \\n    '),\n",
       " (57,\n",
       "  56,\n",
       "  '\\n        image_link \\n\\n        Description: 55    Tessuto 100% cotone. Modello oversize. Modello...\\nName: Descript, dtype: object \\n\\n        \\n        \\n\\n    The images are of the same clothing peace, use them to fill the following format to list attributes of the clothing peace in image, separate them with comma:  \\n\\n    *Type:  \\n    *Fit: (Slim fit, regular fit, oversized, tight, loose, etc)\\n    *Sleeve style: (Short sleeve, long sleeve, sleeveless, cap sleeve, etc)     \\n    *Neckline: (Crew neck, V-neck, scoop neck, etc)   \\n    *Material: (Cotton, linen, silk, polyester, etc)\\n    *Formality: (Casual, Business Casual, Formal, etc)\\n    *Seasson:   \\n    *Colors:  (percentage of each color in the clothing peace) \\n    *Texture: (Smooth, Rough, Ribbed, Velvety, etc)\\n    *Transparency: (Opaque, Semi-transparent, Transparent, etc)\\n    *Details and Embellishments: (e.g, buttons, zippers, embroidery)\\n    *Shape: (e.g., boxy, fitted, flared) \\n    *Length: (e.g., cropped, hip-length, tunic)\\n    *Collar Style: (e.g., crew neck, V-neck, polo, button-down)\\n    *Sleeve Style: (e.g., short, long, three-quarter, sleeveless, puffed)\\n    *Patterns: (e.g., stripes, floral, geometric, not applicable)\\n    *Patterns placement: (e.g., lower back, left sholder, right chest, not applicable) \\n    *Fluidity of fabric:\\n    *Fabric weight: (Light, medium, or heavy)\\n    *Pocket Presence:(Yes,No)\\n    *Pocket placement:(e.g., lower back, left sholder, right chest, not applicable)\\n    *Pocket size:(small, medium, big, not applicable)\\n    *Breathability: (Low, Medium, High)\\n    *Occasion Suitability: (Casual, formal, business casual, etc)\\n    *Lapel: (Notch, Peak, Shawl Satin, Slim, Wide, Contrasting, etc)\\n\\n\\n    Use information from the image and the description.\\n    IGNORE BACKGROUND\\n    ONLY ANSWER THE FORMAT  \\n    DONT USE THE BRAND NAME IN ANY DESCRIPTION  \\n    IN EACH DESCRIPTION - CHARACTERISTIC SHOULD BE ITS OWN DESCRIPTION\\n    YOU CAN USE MULTIPLE DESCRIPTIONS IN A SINGLE ATTRIBUTE  \\n    DONT USE MULTICOLOR OR Multicolor, NAME THE SPECIFIC COLORS  \\n    COLORS SHOULD INCLUDE PRINT AND CLOTHE COLORS WITHOUT ANY DESCRIPTION OF THE PRINT ONLY MAIN COLORS\\n   \\n    \\n    '),\n",
       " (58,\n",
       "  57,\n",
       "  '\\n        image_link \\n\\n        Description: 56    Tessuto fluido. Modello diritto. Collo di cami...\\nName: Descript, dtype: object \\n\\n        \\n        \\n\\n    The images are of the same clothing peace, use them to fill the following format to list attributes of the clothing peace in image, separate them with comma:  \\n\\n    *Type:  \\n    *Fit: (Slim fit, regular fit, oversized, tight, loose, etc)\\n    *Sleeve style: (Short sleeve, long sleeve, sleeveless, cap sleeve, etc)     \\n    *Neckline: (Crew neck, V-neck, scoop neck, etc)   \\n    *Material: (Cotton, linen, silk, polyester, etc)\\n    *Formality: (Casual, Business Casual, Formal, etc)\\n    *Seasson:   \\n    *Colors:  (percentage of each color in the clothing peace) \\n    *Texture: (Smooth, Rough, Ribbed, Velvety, etc)\\n    *Transparency: (Opaque, Semi-transparent, Transparent, etc)\\n    *Details and Embellishments: (e.g, buttons, zippers, embroidery)\\n    *Shape: (e.g., boxy, fitted, flared) \\n    *Length: (e.g., cropped, hip-length, tunic)\\n    *Collar Style: (e.g., crew neck, V-neck, polo, button-down)\\n    *Sleeve Style: (e.g., short, long, three-quarter, sleeveless, puffed)\\n    *Patterns: (e.g., stripes, floral, geometric, not applicable)\\n    *Patterns placement: (e.g., lower back, left sholder, right chest, not applicable) \\n    *Fluidity of fabric:\\n    *Fabric weight: (Light, medium, or heavy)\\n    *Pocket Presence:(Yes,No)\\n    *Pocket placement:(e.g., lower back, left sholder, right chest, not applicable)\\n    *Pocket size:(small, medium, big, not applicable)\\n    *Breathability: (Low, Medium, High)\\n    *Occasion Suitability: (Casual, formal, business casual, etc)\\n    *Lapel: (Notch, Peak, Shawl Satin, Slim, Wide, Contrasting, etc)\\n\\n\\n    Use information from the image and the description.\\n    IGNORE BACKGROUND\\n    ONLY ANSWER THE FORMAT  \\n    DONT USE THE BRAND NAME IN ANY DESCRIPTION  \\n    IN EACH DESCRIPTION - CHARACTERISTIC SHOULD BE ITS OWN DESCRIPTION\\n    YOU CAN USE MULTIPLE DESCRIPTIONS IN A SINGLE ATTRIBUTE  \\n    DONT USE MULTICOLOR OR Multicolor, NAME THE SPECIFIC COLORS  \\n    COLORS SHOULD INCLUDE PRINT AND CLOTHE COLORS WITHOUT ANY DESCRIPTION OF THE PRINT ONLY MAIN COLORS\\n   \\n    \\n    ')]"
      ]
     },
     "execution_count": 77,
     "metadata": {},
     "output_type": "execute_result"
    }
   ],
   "source": [
    "query = f\"SELECT * FROM product_characteristics ;\" #LIMIT 5\n",
    "cursor.execute(query)\n",
    "\n",
    "# Fetch the rows\n",
    "rows = cursor.fetchall()\n",
    "rows"
   ]
  },
  {
   "cell_type": "code",
   "execution_count": 108,
   "metadata": {},
   "outputs": [],
   "source": [
    "cursor.execute(\"DELETE FROM product_characteristics\")"
   ]
  },
  {
   "cell_type": "code",
   "execution_count": 110,
   "metadata": {},
   "outputs": [],
   "source": [
    "conn.commit()"
   ]
  },
  {
   "cell_type": "code",
   "execution_count": 75,
   "metadata": {},
   "outputs": [],
   "source": [
    "SQLf.sql_db_functions.close_connection_db(conn=conn,cursor=cursor)"
   ]
  },
  {
   "cell_type": "code",
   "execution_count": 114,
   "metadata": {},
   "outputs": [
    {
     "data": {
      "text/plain": [
       "7"
      ]
     },
     "execution_count": 114,
     "metadata": {},
     "output_type": "execute_result"
    }
   ],
   "source": [
    "len(df) % 10"
   ]
  }
 ],
 "metadata": {
  "kernelspec": {
   "display_name": "Python 3",
   "language": "python",
   "name": "python3"
  },
  "language_info": {
   "codemirror_mode": {
    "name": "ipython",
    "version": 3
   },
   "file_extension": ".py",
   "mimetype": "text/x-python",
   "name": "python",
   "nbconvert_exporter": "python",
   "pygments_lexer": "ipython3",
   "version": "3.11.8"
  }
 },
 "nbformat": 4,
 "nbformat_minor": 2
}
