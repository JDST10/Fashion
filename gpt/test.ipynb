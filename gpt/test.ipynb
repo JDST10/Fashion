{
 "cells": [
  {
   "cell_type": "code",
   "execution_count": 2,
   "metadata": {},
   "outputs": [],
   "source": [
    "import sys\n",
    "import os\n",
    "\n",
    "# Define the relative path to the package\n",
    "relative_path = '../Scrapping/Testing_Files'\n",
    "\n",
    "# Convert the relative path to an absolute path\n",
    "package_path = os.path.abspath(relative_path)\n",
    "\n",
    "# Add the package path to the system path\n",
    "sys.path.append(package_path)\n",
    "\n",
    "# Now you can import your package\n",
    "import DB_and_Azure"
   ]
  },
  {
   "cell_type": "code",
   "execution_count": null,
   "metadata": {},
   "outputs": [],
   "source": [
    "import requests\n",
    "def get_image_content(image_url):\n",
    "    response = requests.get(image_url)\n",
    "    return response.content"
   ]
  }
 ],
 "metadata": {
  "kernelspec": {
   "display_name": "Python 3",
   "language": "python",
   "name": "python3"
  },
  "language_info": {
   "codemirror_mode": {
    "name": "ipython",
    "version": 3
   },
   "file_extension": ".py",
   "mimetype": "text/x-python",
   "name": "python",
   "nbconvert_exporter": "python",
   "pygments_lexer": "ipython3",
   "version": "3.11.8"
  }
 },
 "nbformat": 4,
 "nbformat_minor": 2
}
