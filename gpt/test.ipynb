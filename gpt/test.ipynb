{
 "cells": [
  {
   "cell_type": "code",
   "execution_count": 1,
   "metadata": {},
   "outputs": [],
   "source": [
    "import sys, os\n",
    "sys.path.append(os.path.join(os.path.dirname('__file__'), '..', 'DB_and_Azure'))\n",
    "import sql_db_functions as SQLf\n"
   ]
  },
  {
   "cell_type": "code",
   "execution_count": 11,
   "metadata": {},
   "outputs": [],
   "source": [
    "conn, cursor = SQLf.sql_db_functions.connect_sql()"
   ]
  },
  {
   "cell_type": "markdown",
   "metadata": {},
   "source": [
    "### get data from server"
   ]
  },
  {
   "cell_type": "code",
   "execution_count": 12,
   "metadata": {},
   "outputs": [],
   "source": [
    "query = f\"SELECT * FROM Products LIMIT 5;\"\n",
    "cursor.execute(query)\n",
    "\n",
    "# Fetch the rows\n",
    "rows = cursor.fetchall()"
   ]
  },
  {
   "cell_type": "code",
   "execution_count": 11,
   "metadata": {},
   "outputs": [],
   "source": [
    "SQLf.sql_db_functions.close_connection_db(conn=conn, cursor=cursor)"
   ]
  },
  {
   "cell_type": "code",
   "execution_count": 25,
   "metadata": {},
   "outputs": [],
   "source": [
    "SQLf.sql_db_functions.close_connection_db(conn=conn,cursor=cursor)"
   ]
  },
  {
   "cell_type": "code",
   "execution_count": 15,
   "metadata": {},
   "outputs": [],
   "source": [
    "import pandas as pd"
   ]
  },
  {
   "cell_type": "code",
   "execution_count": 22,
   "metadata": {},
   "outputs": [
    {
     "data": {
      "text/html": [
       "<div>\n",
       "<style scoped>\n",
       "    .dataframe tbody tr th:only-of-type {\n",
       "        vertical-align: middle;\n",
       "    }\n",
       "\n",
       "    .dataframe tbody tr th {\n",
       "        vertical-align: top;\n",
       "    }\n",
       "\n",
       "    .dataframe thead th {\n",
       "        text-align: right;\n",
       "    }\n",
       "</style>\n",
       "<table border=\"1\" class=\"dataframe\">\n",
       "  <thead>\n",
       "    <tr style=\"text-align: right;\">\n",
       "      <th></th>\n",
       "      <th>Brand_Prod_ID</th>\n",
       "      <th>Brand</th>\n",
       "      <th>Descript</th>\n",
       "      <th>Price</th>\n",
       "      <th>link</th>\n",
       "      <th>Clothing_type</th>\n",
       "    </tr>\n",
       "  </thead>\n",
       "  <tbody>\n",
       "    <tr>\n",
       "      <th>0</th>\n",
       "      <td>1</td>\n",
       "      <td>Gucci</td>\n",
       "      <td>Il monogramma GG è riproposto in versioni e de...</td>\n",
       "      <td>1.5</td>\n",
       "      <td>https://www.gucci.com/it/it/pr/women/ready-to-...</td>\n",
       "      <td>Top e Camicie Donna</td>\n",
       "    </tr>\n",
       "    <tr>\n",
       "      <th>1</th>\n",
       "      <td>2</td>\n",
       "      <td>Gucci</td>\n",
       "      <td>Il monogramma GG è riproposto in versioni e de...</td>\n",
       "      <td>650.0</td>\n",
       "      <td>https://www.gucci.com/it/it/pr/women/ready-to-...</td>\n",
       "      <td>Top e Camicie Donna</td>\n",
       "    </tr>\n",
       "    <tr>\n",
       "      <th>2</th>\n",
       "      <td>3</td>\n",
       "      <td>Gucci</td>\n",
       "      <td>Ispirato allo spirito estivo e ai beach club d...</td>\n",
       "      <td>720.0</td>\n",
       "      <td>https://www.gucci.com/it/it/pr/women/ready-to-...</td>\n",
       "      <td>Top e Camicie Donna</td>\n",
       "    </tr>\n",
       "    <tr>\n",
       "      <th>3</th>\n",
       "      <td>4</td>\n",
       "      <td>Gucci</td>\n",
       "      <td>Ispirato allo spirito estivo e ai beach club d...</td>\n",
       "      <td>1.1</td>\n",
       "      <td>https://www.gucci.com/it/it/pr/women/ready-to-...</td>\n",
       "      <td>Top e Camicie Donna</td>\n",
       "    </tr>\n",
       "    <tr>\n",
       "      <th>4</th>\n",
       "      <td>5</td>\n",
       "      <td>Gucci</td>\n",
       "      <td>Ispirato allo spirito estivo e ai beach club d...</td>\n",
       "      <td>1.1</td>\n",
       "      <td>https://www.gucci.com/it/it/pr/women/ready-to-...</td>\n",
       "      <td>Top e Camicie Donna</td>\n",
       "    </tr>\n",
       "  </tbody>\n",
       "</table>\n",
       "</div>"
      ],
      "text/plain": [
       "   Brand_Prod_ID  Brand                                           Descript  \\\n",
       "0              1  Gucci  Il monogramma GG è riproposto in versioni e de...   \n",
       "1              2  Gucci  Il monogramma GG è riproposto in versioni e de...   \n",
       "2              3  Gucci  Ispirato allo spirito estivo e ai beach club d...   \n",
       "3              4  Gucci  Ispirato allo spirito estivo e ai beach club d...   \n",
       "4              5  Gucci  Ispirato allo spirito estivo e ai beach club d...   \n",
       "\n",
       "   Price                                               link  \\\n",
       "0    1.5  https://www.gucci.com/it/it/pr/women/ready-to-...   \n",
       "1  650.0  https://www.gucci.com/it/it/pr/women/ready-to-...   \n",
       "2  720.0  https://www.gucci.com/it/it/pr/women/ready-to-...   \n",
       "3    1.1  https://www.gucci.com/it/it/pr/women/ready-to-...   \n",
       "4    1.1  https://www.gucci.com/it/it/pr/women/ready-to-...   \n",
       "\n",
       "         Clothing_type  \n",
       "0  Top e Camicie Donna  \n",
       "1  Top e Camicie Donna  \n",
       "2  Top e Camicie Donna  \n",
       "3  Top e Camicie Donna  \n",
       "4  Top e Camicie Donna  "
      ]
     },
     "execution_count": 22,
     "metadata": {},
     "output_type": "execute_result"
    }
   ],
   "source": [
    "df = pd.DataFrame(data=rows, columns=['Brand_Prod_ID','Brand','Descript','Price','link','Clothing_type'])\n",
    "df.head()"
   ]
  },
  {
   "cell_type": "code",
   "execution_count": 24,
   "metadata": {},
   "outputs": [
    {
     "data": {
      "text/plain": [
       "'https://www.gucci.com/it/it/pr/women/ready-to-wear-for-women/tops-and-shirts-for-women/shirts-for-women/gg-oxford-cotton-shirt-with-optical-effect-p-797922ZARGY4903'"
      ]
     },
     "execution_count": 24,
     "metadata": {},
     "output_type": "execute_result"
    }
   ],
   "source": [
    "df.iloc[1].link"
   ]
  },
  {
   "cell_type": "code",
   "execution_count": 15,
   "metadata": {},
   "outputs": [],
   "source": [
    "df['link'] = df['image_link'].apply(lambda x: x if 'https' in x else 'https:' +  x )"
   ]
  },
  {
   "cell_type": "code",
   "execution_count": 16,
   "metadata": {},
   "outputs": [
    {
     "data": {
      "text/html": [
       "<div>\n",
       "<style scoped>\n",
       "    .dataframe tbody tr th:only-of-type {\n",
       "        vertical-align: middle;\n",
       "    }\n",
       "\n",
       "    .dataframe tbody tr th {\n",
       "        vertical-align: top;\n",
       "    }\n",
       "\n",
       "    .dataframe thead th {\n",
       "        text-align: right;\n",
       "    }\n",
       "</style>\n",
       "<table border=\"1\" class=\"dataframe\">\n",
       "  <thead>\n",
       "    <tr style=\"text-align: right;\">\n",
       "      <th></th>\n",
       "      <th>id</th>\n",
       "      <th>Brand_id</th>\n",
       "      <th>image_link</th>\n",
       "      <th>link</th>\n",
       "    </tr>\n",
       "  </thead>\n",
       "  <tbody>\n",
       "    <tr>\n",
       "      <th>0</th>\n",
       "      <td>1</td>\n",
       "      <td>1</td>\n",
       "      <td>//media.gucci.com/style/DarkGray_Center_0_0_98...</td>\n",
       "      <td>https://media.gucci.com/style/DarkGray_Center_...</td>\n",
       "    </tr>\n",
       "    <tr>\n",
       "      <th>1</th>\n",
       "      <td>2</td>\n",
       "      <td>1</td>\n",
       "      <td>//media.gucci.com/style/DarkGray_Center_0_0_98...</td>\n",
       "      <td>https://media.gucci.com/style/DarkGray_Center_...</td>\n",
       "    </tr>\n",
       "    <tr>\n",
       "      <th>2</th>\n",
       "      <td>3</td>\n",
       "      <td>1</td>\n",
       "      <td>//media.gucci.com/style/DarkGray_Center_0_0_98...</td>\n",
       "      <td>https://media.gucci.com/style/DarkGray_Center_...</td>\n",
       "    </tr>\n",
       "    <tr>\n",
       "      <th>3</th>\n",
       "      <td>4</td>\n",
       "      <td>1</td>\n",
       "      <td>//media.gucci.com/style/White_Center_0_0_730x4...</td>\n",
       "      <td>https://media.gucci.com/style/White_Center_0_0...</td>\n",
       "    </tr>\n",
       "    <tr>\n",
       "      <th>4</th>\n",
       "      <td>5</td>\n",
       "      <td>2</td>\n",
       "      <td>//media.gucci.com/style/DarkGray_Center_0_0_98...</td>\n",
       "      <td>https://media.gucci.com/style/DarkGray_Center_...</td>\n",
       "    </tr>\n",
       "  </tbody>\n",
       "</table>\n",
       "</div>"
      ],
      "text/plain": [
       "   id  Brand_id                                         image_link  \\\n",
       "0   1         1  //media.gucci.com/style/DarkGray_Center_0_0_98...   \n",
       "1   2         1  //media.gucci.com/style/DarkGray_Center_0_0_98...   \n",
       "2   3         1  //media.gucci.com/style/DarkGray_Center_0_0_98...   \n",
       "3   4         1  //media.gucci.com/style/White_Center_0_0_730x4...   \n",
       "4   5         2  //media.gucci.com/style/DarkGray_Center_0_0_98...   \n",
       "\n",
       "                                                link  \n",
       "0  https://media.gucci.com/style/DarkGray_Center_...  \n",
       "1  https://media.gucci.com/style/DarkGray_Center_...  \n",
       "2  https://media.gucci.com/style/DarkGray_Center_...  \n",
       "3  https://media.gucci.com/style/White_Center_0_0...  \n",
       "4  https://media.gucci.com/style/DarkGray_Center_...  "
      ]
     },
     "execution_count": 16,
     "metadata": {},
     "output_type": "execute_result"
    }
   ],
   "source": [
    "df.head()"
   ]
  },
  {
   "cell_type": "code",
   "execution_count": 17,
   "metadata": {},
   "outputs": [],
   "source": [
    "url = df['link'][0]"
   ]
  },
  {
   "cell_type": "code",
   "execution_count": 18,
   "metadata": {},
   "outputs": [],
   "source": [
    "from fake_useragent import UserAgent\n",
    "import requests\n",
    "from io import BytesIO"
   ]
  },
  {
   "cell_type": "code",
   "execution_count": 21,
   "metadata": {},
   "outputs": [],
   "source": [
    "def links_to_images(img_link):\n",
    "\n",
    "    ua = UserAgent()\n",
    "    header = {'User-Agent':str(ua.chrome)}\n",
    "\n",
    "    response = requests.get(img_link, headers = header)\n",
    "    img = Image.open(BytesIO(response.content))\n",
    "\n",
    "    # Resize the image to 600\n",
    "    img_resized = img.resize((512, 512))\n",
    "    \n",
    "    return img_resized\n",
    "        "
   ]
  },
  {
   "cell_type": "code",
   "execution_count": 22,
   "metadata": {},
   "outputs": [],
   "source": [
    "img = links_to_images(url)"
   ]
  },
  {
   "cell_type": "code",
   "execution_count": 23,
   "metadata": {},
   "outputs": [],
   "source": [
    "img.show()"
   ]
  }
 ],
 "metadata": {
  "kernelspec": {
   "display_name": "Python 3",
   "language": "python",
   "name": "python3"
  },
  "language_info": {
   "codemirror_mode": {
    "name": "ipython",
    "version": 3
   },
   "file_extension": ".py",
   "mimetype": "text/x-python",
   "name": "python",
   "nbconvert_exporter": "python",
   "pygments_lexer": "ipython3",
   "version": "3.11.8"
  }
 },
 "nbformat": 4,
 "nbformat_minor": 2
}
