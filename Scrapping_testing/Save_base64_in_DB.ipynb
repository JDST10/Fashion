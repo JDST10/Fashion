{
 "cells": [
  {
   "cell_type": "code",
   "execution_count": null,
   "metadata": {},
   "outputs": [],
   "source": [
    "import sys, os\n",
    "sys.path.append(os.path.join(os.path.dirname('__file__'), '..', 'DB_and_Azure'))\n",
    "import sql_db_functions as SQLf"
   ]
  },
  {
   "cell_type": "markdown",
   "metadata": {},
   "source": [
    "### get data from server"
   ]
  },
  {
   "cell_type": "code",
   "execution_count": null,
   "metadata": {},
   "outputs": [],
   "source": [
    "conn, cursor = SQLf.sql_db_functions.connect_sql()"
   ]
  },
  {
   "cell_type": "code",
   "execution_count": null,
   "metadata": {},
   "outputs": [],
   "source": [
    "query = \"SELECT product_characteristics.id, Brand_id , Detail, Summary, Brand FROM product_characteristics INNER JOIN Products ON product_characteristics.Brand_id = Products.Brand_Prod_id ;\"\n",
    "cursor.execute(query)\n",
    "\n",
    "# Fetch the rows\n",
    "rows = cursor.fetchall()\n",
    "rows"
   ]
  },
  {
   "cell_type": "code",
   "execution_count": null,
   "metadata": {},
   "outputs": [],
   "source": [
    "conn, cursor = SQLf.sql_db_functions.connect_sql()"
   ]
  },
  {
   "cell_type": "code",
   "execution_count": null,
   "metadata": {},
   "outputs": [],
   "source": [
    "query = \"SELECT Brand_id, image_link FROM product_img ;\"\n",
    "cursor.execute(query)\n",
    "\n",
    "# Fetch the rows\n",
    "rows_img = cursor.fetchall()\n",
    "#rows_img"
   ]
  },
  {
   "cell_type": "code",
   "execution_count": null,
   "metadata": {},
   "outputs": [],
   "source": [
    "len(rows_img)"
   ]
  },
  {
   "cell_type": "code",
   "execution_count": null,
   "metadata": {},
   "outputs": [],
   "source": [
    "SQLf.sql_db_functions.close_connection_db(conn=conn,cursor=cursor)"
   ]
  },
  {
   "cell_type": "markdown",
   "metadata": {},
   "source": [
    "### organize data"
   ]
  },
  {
   "cell_type": "code",
   "execution_count": null,
   "metadata": {},
   "outputs": [],
   "source": [
    "import pandas as pd"
   ]
  },
  {
   "cell_type": "code",
   "execution_count": null,
   "metadata": {},
   "outputs": [],
   "source": [
    "df = pd.DataFrame(rows ,columns= ['Id','prod_id','descripcion', 'Summary','Brand'])"
   ]
  },
  {
   "cell_type": "code",
   "execution_count": null,
   "metadata": {},
   "outputs": [],
   "source": [
    "df.head()"
   ]
  },
  {
   "cell_type": "code",
   "execution_count": null,
   "metadata": {},
   "outputs": [],
   "source": [
    "df['descripcion'] = df['descripcion'].str.replace('\\n*', ' / ')\n",
    "df['descripcion'] = df['descripcion'].str.replace(r'\\s+', ' ')\n",
    "df['descripcion'] = df['descripcion'].str.replace('*', ' ')\n",
    "\n",
    "df.head(5)"
   ]
  },
  {
   "cell_type": "code",
   "execution_count": null,
   "metadata": {},
   "outputs": [],
   "source": [
    "df['Complete_description'] = df['Summary'] + ' /' + \"Brand: \" + df['Brand'] + \" /\" + df['descripcion']\n",
    "df.head()"
   ]
  },
  {
   "cell_type": "code",
   "execution_count": null,
   "metadata": {},
   "outputs": [],
   "source": [
    "documents = df['Complete_description'].tolist()\n",
    "id = df['Id'].astype('str').tolist()\n",
    "metadata = [{\"source\": id} for id in df['Id'].astype('str').tolist()]"
   ]
  },
  {
   "cell_type": "code",
   "execution_count": null,
   "metadata": {},
   "outputs": [],
   "source": [
    "df_image = pd.DataFrame(rows_img, columns=['prod_id', 'Image'])"
   ]
  },
  {
   "cell_type": "code",
   "execution_count": null,
   "metadata": {},
   "outputs": [],
   "source": [
    "df_image['Image'] = df_image['Image'].apply(lambda x: x if 'https' in x else 'https:' +  x )"
   ]
  },
  {
   "cell_type": "code",
   "execution_count": null,
   "metadata": {},
   "outputs": [],
   "source": [
    "df_image.head()"
   ]
  },
  {
   "cell_type": "code",
   "execution_count": null,
   "metadata": {},
   "outputs": [],
   "source": [
    "del rows, rows_img"
   ]
  },
  {
   "cell_type": "markdown",
   "metadata": {},
   "source": [
    "### Get images "
   ]
  },
  {
   "cell_type": "code",
   "execution_count": null,
   "metadata": {},
   "outputs": [],
   "source": [
    "import pandas as pd\n",
    "import requests\n",
    "from io import BytesIO\n",
    "from PIL import Image\n",
    "import base64\n",
    "from fake_useragent import UserAgent\n",
    "\n",
    "import time"
   ]
  },
  {
   "cell_type": "code",
   "execution_count": null,
   "metadata": {},
   "outputs": [],
   "source": [
    "def img_to_base64(url):\n",
    "    ua = UserAgent()\n",
    "    header = {'User-Agent': str(ua.chrome)}\n",
    "    max_retries = 10\n",
    "    retry_delay = 15  # in seconds\n",
    "\n",
    "    for attempt in range(max_retries + 1):\n",
    "        try:\n",
    "            response = requests.get(url, headers=header, stream=True, timeout=5)\n",
    "            response.raise_for_status()  # Raise an exception for bad status codes\n",
    "            break\n",
    "        except (requests.exceptions.RequestException, ValueError) as e:\n",
    "            if attempt < max_retries:\n",
    "                print(f\"Attempt {attempt+1} failed. Retrying in {retry_delay} seconds...\")\n",
    "                print(url)\n",
    "                time.sleep(retry_delay)\n",
    "            else:\n",
    "                print(f\"All {max_retries} attempts failed. Giving up.\")\n",
    "                return 'Retry'\n",
    "\n",
    "    img = Image.open(BytesIO(response.content))\n",
    "\n",
    "    buffered = BytesIO()\n",
    "    if url.lower().endswith('.png'):\n",
    "        img.save(buffered, format=\"PNG\")\n",
    "        return \"data:image/png;base64, \" + str(base64.b64encode(buffered.getvalue()))[2:-1]\n",
    "    else:\n",
    "        img.save(buffered, format=\"JPEG\")\n",
    "        return \"data:image/jpeg;base64, \" + str(base64.b64encode(buffered.getvalue()))[2:-1]\n",
    "\n"
   ]
  },
  {
   "cell_type": "code",
   "execution_count": null,
   "metadata": {},
   "outputs": [],
   "source": [
    "df_image.sort_index(ascending=True,inplace=True)\n",
    "df_image.reset_index(inplace=True,drop=True)\n",
    "df_image.head()"
   ]
  },
  {
   "cell_type": "code",
   "execution_count": null,
   "metadata": {},
   "outputs": [],
   "source": [
    "data_embedded = []\n",
    "\n",
    "\n",
    "for i in range(0, len(df_image)-1):\n",
    "\n",
    "    current_image = df_image.Image.iloc[i]\n",
    "\n",
    "    v = img_to_base64(current_image)\n",
    "\n",
    "    data_embedded = data_embedded + [v]\n",
    "\n",
    "    if i % 10 == 0: print(i)\n",
    "\n"
   ]
  },
  {
   "cell_type": "code",
   "execution_count": null,
   "metadata": {},
   "outputs": [],
   "source": [
    "data_embedded[200]"
   ]
  },
  {
   "cell_type": "markdown",
   "metadata": {},
   "source": [
    "### Testing embeddings"
   ]
  },
  {
   "cell_type": "code",
   "execution_count": null,
   "metadata": {},
   "outputs": [],
   "source": [
    "df_image['base64'] = data_embedded"
   ]
  },
  {
   "cell_type": "code",
   "execution_count": null,
   "metadata": {},
   "outputs": [],
   "source": [
    "df_image.iloc[0].base64[23:]"
   ]
  },
  {
   "cell_type": "code",
   "execution_count": null,
   "metadata": {},
   "outputs": [],
   "source": [
    "def base64_to_image(base64_string):\n",
    "    # Remove the data URI prefix if present\n",
    "    if \"data:image\" in base64_string:\n",
    "        base64_string = base64_string.split(\",\")[1]\n",
    "\n",
    "    # Decode the Base64 string into bytes\n",
    "    image_bytes = base64.b64decode(base64_string)\n",
    "    return image_bytes"
   ]
  },
  {
   "cell_type": "code",
   "execution_count": null,
   "metadata": {},
   "outputs": [],
   "source": [
    "image_bytes = base64.b64decode(df_image.iloc[0].base64[23:])"
   ]
  },
  {
   "cell_type": "code",
   "execution_count": null,
   "metadata": {},
   "outputs": [],
   "source": [
    "def create_image_from_bytes(image_bytes):\n",
    "    # Create a BytesIO object to handle the image data\n",
    "    image_stream = BytesIO(image_bytes)\n",
    "\n",
    "    # Open the image using Pillow (PIL)\n",
    "    image = Image.open(image_stream)\n",
    "    return image"
   ]
  },
  {
   "cell_type": "code",
   "execution_count": null,
   "metadata": {},
   "outputs": [],
   "source": [
    "df_image.head()"
   ]
  },
  {
   "cell_type": "code",
   "execution_count": null,
   "metadata": {},
   "outputs": [],
   "source": [
    "for i in df_image[df_image['base64'] == 'Retry'].index:\n",
    "    print(i)"
   ]
  },
  {
   "cell_type": "code",
   "execution_count": null,
   "metadata": {},
   "outputs": [],
   "source": [
    "data_embedded = []\n",
    "\n",
    "\n",
    "for i in df_image[df_image['base64'] == 'Retry'].index:\n",
    "\n",
    "    current_image = df_image.Image.iloc[i]\n",
    "\n",
    "    v = img_to_base64(current_image)\n",
    "\n",
    "    data_embedded = data_embedded + [v]\n",
    "\n",
    "    print(i)\n"
   ]
  },
  {
   "cell_type": "code",
   "execution_count": null,
   "metadata": {},
   "outputs": [],
   "source": [
    "df_image.loc[33,'base64'] = data_embedded[0]\n",
    "df_image.loc[38,'base64'] = data_embedded[1]\n",
    "df_image.loc[52,'base64'] = data_embedded[2]"
   ]
  },
  {
   "cell_type": "code",
   "execution_count": null,
   "metadata": {},
   "outputs": [],
   "source": [
    "print(df_image.iloc[33].base64 == data_embedded[0])\n",
    "print(df_image.iloc[38].base64 == data_embedded[1])\n",
    "print(df_image.iloc[52].base64 == data_embedded[2])"
   ]
  },
  {
   "cell_type": "markdown",
   "metadata": {},
   "source": [
    "### Save embeddings in the DB"
   ]
  },
  {
   "cell_type": "code",
   "execution_count": null,
   "metadata": {},
   "outputs": [],
   "source": [
    "df_image.iloc[200:220]"
   ]
  },
  {
   "cell_type": "code",
   "execution_count": null,
   "metadata": {},
   "outputs": [],
   "source": [
    "import psycopg2"
   ]
  },
  {
   "cell_type": "code",
   "execution_count": null,
   "metadata": {},
   "outputs": [],
   "source": [
    "conn, cursor = SQLf.sql_db_functions.connect_sql()"
   ]
  },
  {
   "cell_type": "code",
   "execution_count": null,
   "metadata": {},
   "outputs": [],
   "source": [
    "for index, row in df_image.iterrows():\n",
    "    base64 = row['base64']\n",
    "    \n",
    "    # Update the base64 column in the product_img table\n",
    "    cursor.execute(\"UPDATE product_img SET base64 = %s WHERE id = %s\", (base64, index))"
   ]
  },
  {
   "cell_type": "code",
   "execution_count": null,
   "metadata": {},
   "outputs": [],
   "source": [
    "query = \"SELECT * FROM product_img ;\"\n",
    "cursor.execute(query)\n",
    "\n",
    "# Fetch the rows\n",
    "rows_img = cursor.fetchall()\n",
    "rows_img"
   ]
  },
  {
   "cell_type": "code",
   "execution_count": null,
   "metadata": {},
   "outputs": [],
   "source": [
    "conn.commit()"
   ]
  },
  {
   "cell_type": "code",
   "execution_count": null,
   "metadata": {},
   "outputs": [],
   "source": []
  }
 ],
 "metadata": {
  "kernelspec": {
   "display_name": "Python 3",
   "language": "python",
   "name": "python3"
  },
  "language_info": {
   "codemirror_mode": {
    "name": "ipython",
    "version": 3
   },
   "file_extension": ".py",
   "mimetype": "text/x-python",
   "name": "python",
   "nbconvert_exporter": "python",
   "pygments_lexer": "ipython3",
   "version": "3.11.8"
  }
 },
 "nbformat": 4,
 "nbformat_minor": 2
}
