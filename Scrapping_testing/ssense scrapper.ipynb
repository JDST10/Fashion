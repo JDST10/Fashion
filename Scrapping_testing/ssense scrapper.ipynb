{
  "cells": [
    {
      "cell_type": "code",
      "source": [
        "from bs4 import BeautifulSoup\n",
        "\n",
        "\n",
        "html_content = \"\"\"\n",
        "<html>\n",
        "<head><title>Test Product Page</title></head>\n",
        "<body>\n",
        "    <h1 class=\"pdp-product-title__brand s-text s-text--uppercase\">Alexander Wang</h1>\n",
        "    <h2 class=\"pdp-product-title__name s-text\">Black & Blue Pre-Styled Twinset Shirt</h2>\n",
        "    <span class=\"product-price__price s-text\">€480 EUR</span>\n",
        "    <p class=\"s-text\" id=\"pdpProductDescriptionContainerText\" data-test=\"pdpProductDescriptionContainerText\">Cotton poplin shirt. Rib knit stretch nylon tank top underlay.<br><br>· Layered construction<br>· Spread collar<br>· Single-button closure<br>· Cropped hem<br>· Dropped shoulders<br>· Pleated single-button barrel cuffs<br>· Logo flag at back collar<br>· Box pleat at back yoke<br><br>Supplier color: Black/Blue</p>\n",
        "    <select class=\"s-dropdown\" aria-label=\"size\" id=\"pdpSizeDropdown\" data-test=\"pdpSizeDropdown\">\n",
        "        <option disabled=\"disabled\" value=\"\">SELECT A SIZE</option>\n",
        "        <option value=\"XS_242187F10900600\">XS</option>\n",
        "        <option value=\"S_242187F10900601\">S</option>\n",
        "        <option value=\"M_242187F10900602\">M - Only 4 remaining</option>\n",
        "        <option value=\"L_242187F10900603\">L - Only 2 remaining</option>\n",
        "        <option value=\"XL_242187F10900604\">XL - Only 1 remaining</option>\n",
        "    </select>\n",
        "    <img class=\"product-detail\" src=\"https://img.ssensemedia.com/images/242187F109006_1/alexander-wang-black-and-blue-pre-styled-twinset-shirt.jpg\" alt=\"Product Image 1\">\n",
        "    <img class=\"product-detail\" src=\"https://img.ssensemedia.com/images/242187F109006_2/alexander-wang-black-and-blue-pre-styled-twinset-shirt.jpg\" alt=\"Product Image 2\">\n",
        "    <img class=\"product-detail\" src=\"https://img.ssensemedia.com/images/242187F109006_3/alexander-wang-black-and-blue-pre-styled-twinset-shirt.jpg\" alt=\"Product Image 3\">\n",
        "</body>\n",
        "</html>\n",
        "\"\"\"\n",
        "\n",
        "soup = BeautifulSoup(html_content, 'html.parser')\n",
        "\n",
        "# Extract product details with checks\n",
        "product_details = {\n",
        "    'brand': soup.find('h1', class_='pdp-product-title__brand s-text s-text--uppercase').text.strip() if soup.find('h1', class_='pdp-product-title__brand s-text s-text--uppercase') else 'N/A',\n",
        "    'name': soup.find('h2', class_='pdp-product-title__name s-text').text.strip() if soup.find('h2', class_='pdp-product-title__name s-text') else 'N/A',\n",
        "    'price': soup.find('span', class_='product-price__price s-text').text.strip() if soup.find('span', class_='product-price__price s-text') else 'N/A',\n",
        "    'description': soup.find('p', class_='s-text', id='pdpProductDescriptionContainerText').text.strip() if soup.find('p', class_='s-text', id='pdpProductDescriptionContainerText') else 'N/A',\n",
        "    'sizes': [option.text.strip() for option in soup.find_all('option') if option.get('disabled') is None],\n",
        "    'images': [img['src'] for img in soup.find_all('img', class_='product-detail')]\n",
        "}\n",
        "\n",
        "print(product_details)"
      ],
      "metadata": {
        "id": "1nOKfuv-LB5g",
        "outputId": "adfaf11f-e4a0-41f6-fe76-8f2228121656",
        "colab": {
          "base_uri": "https://localhost:8080/"
        }
      },
      "execution_count": 2,
      "outputs": [
        {
          "output_type": "stream",
          "name": "stdout",
          "text": [
            "{'brand': 'Alexander Wang', 'name': 'Black & Blue Pre-Styled Twinset Shirt', 'price': '€480 EUR', 'description': 'Cotton poplin shirt. Rib knit stretch nylon tank top underlay.· Layered construction· Spread collar· Single-button closure· Cropped hem· Dropped shoulders· Pleated single-button barrel cuffs· Logo flag at back collar· Box pleat at back yokeSupplier color: Black/Blue', 'sizes': ['XS', 'S', 'M - Only 4 remaining', 'L - Only 2 remaining', 'XL - Only 1 remaining'], 'images': ['https://img.ssensemedia.com/images/242187F109006_1/alexander-wang-black-and-blue-pre-styled-twinset-shirt.jpg', 'https://img.ssensemedia.com/images/242187F109006_2/alexander-wang-black-and-blue-pre-styled-twinset-shirt.jpg', 'https://img.ssensemedia.com/images/242187F109006_3/alexander-wang-black-and-blue-pre-styled-twinset-shirt.jpg']}\n"
          ]
        }
      ]
    },
    {
      "cell_type": "code",
      "source": [
        "from bs4 import BeautifulSoup\n",
        "import requests\n",
        "\n",
        "# URL of the product page\n",
        "url = \"https://www.ssense.com/en-it/women/product/alexander-wang/black-and-blue-pre-styled-twinset-shirt/15941271\"\n",
        "\n",
        "# Fetch the content of the page\n",
        "response = requests.get(url)\n",
        "html_content = response.content\n",
        "\n",
        "# Parse the HTML content\n",
        "soup = BeautifulSoup(html_content, 'html.parser')\n",
        "\n",
        "# Extract product details with checks\n",
        "product_details = {\n",
        "    'brand': soup.find('h1', class_='pdp-product-title__brand s-text s-text--uppercase').text.strip() if soup.find('h1', class_='pdp-product-title__brand s-text s-text--uppercase') else 'N/A',\n",
        "    'name': soup.find('h2', class_='pdp-product-title__name s-text').text.strip() if soup.find('h2', class_='pdp-product-title__name s-text') else 'N/A',\n",
        "    'price': soup.find('span', class_='product-price__price s-text').text.strip() if soup.find('span', class_='product-price__price s-text') else 'N/A',\n",
        "    'description': soup.find('p', class_='s-text', id='pdpProductDescriptionContainerText').text.strip() if soup.find('p', class_='s-text', id='pdpProductDescriptionContainerText') else 'N/A',\n",
        "    'sizes': [option.text.strip() for option in soup.find_all('option') if option.get('disabled') is None],\n",
        "    'images': [img['src'] for img in soup.find_all('img', class_='product-detail')]\n",
        "}\n",
        "\n",
        "print(product_details)"
      ],
      "metadata": {
        "id": "nyfBFJq1LOyR"
      },
      "execution_count": null,
      "outputs": []
    }
  ],
  "metadata": {
    "colab": {
      "name": "Welcome to Colaboratory",
      "toc_visible": true,
      "provenance": []
    },
    "kernelspec": {
      "display_name": "Python 3",
      "name": "python3"
    }
  },
  "nbformat": 4,
  "nbformat_minor": 0
}